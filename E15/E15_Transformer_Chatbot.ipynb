{
 "cells": [
  {
   "cell_type": "markdown",
   "id": "official-commitment",
   "metadata": {},
   "source": [
    "# Exploration 15\n",
    "## 트랜스포머 모델로 챗봇 만들기 🎯\n",
    "\n",
    "### Table of contents\n",
    "1. [데이터 수집]()\n",
    "2. [데이터 전처리]()\n",
    "3. [SubwordTextEncoder]()\n",
    "4. [Transfomer components]()\n",
    "\t\n",
    "    - Positional Encoding\n",
    "\t- Scaled_dot_product_attention\n",
    "\t- MultiHeadAttention\n",
    "\t- Masks\n",
    "\t- Encoder\n",
    "\t- Decoder\n",
    "\t- Transformer\n",
    "    \n",
    "\n",
    "5. [모델링]()\n",
    "6. [개선을 위한 전처리 수정]()\n",
    "7. [하이퍼파리미터 튜닝]()\n",
    "8. [회고]()"
   ]
  },
  {
   "cell_type": "markdown",
   "id": "rapid-treaty",
   "metadata": {},
   "source": [
    "## 1. 데이터 수집"
   ]
  },
  {
   "cell_type": "code",
   "execution_count": 449,
   "id": "terminal-henry",
   "metadata": {},
   "outputs": [],
   "source": [
    "import tensorflow as tf\n",
    "import tensorflow_datasets as tfds\n",
    "import os\n",
    "import re\n",
    "import numpy as np\n",
    "import pandas as pd\n",
    "import matplotlib.pyplot as plt"
   ]
  },
  {
   "cell_type": "code",
   "execution_count": 450,
   "id": "split-antenna",
   "metadata": {},
   "outputs": [],
   "source": [
    "data_dir = os.getenv(\"HOME\") + '/aiffel/transformer_chatbot/data/ChatbotData .csv'\n",
    "chatbotdata = pd.read_csv(data_dir)"
   ]
  },
  {
   "cell_type": "code",
   "execution_count": 451,
   "id": "apparent-assessment",
   "metadata": {},
   "outputs": [
    {
     "data": {
      "text/html": [
       "<div>\n",
       "<style scoped>\n",
       "    .dataframe tbody tr th:only-of-type {\n",
       "        vertical-align: middle;\n",
       "    }\n",
       "\n",
       "    .dataframe tbody tr th {\n",
       "        vertical-align: top;\n",
       "    }\n",
       "\n",
       "    .dataframe thead th {\n",
       "        text-align: right;\n",
       "    }\n",
       "</style>\n",
       "<table border=\"1\" class=\"dataframe\">\n",
       "  <thead>\n",
       "    <tr style=\"text-align: right;\">\n",
       "      <th></th>\n",
       "      <th>Q</th>\n",
       "      <th>A</th>\n",
       "      <th>label</th>\n",
       "    </tr>\n",
       "  </thead>\n",
       "  <tbody>\n",
       "    <tr>\n",
       "      <th>0</th>\n",
       "      <td>12시 땡!</td>\n",
       "      <td>하루가 또 가네요.</td>\n",
       "      <td>0</td>\n",
       "    </tr>\n",
       "    <tr>\n",
       "      <th>1</th>\n",
       "      <td>1지망 학교 떨어졌어</td>\n",
       "      <td>위로해 드립니다.</td>\n",
       "      <td>0</td>\n",
       "    </tr>\n",
       "    <tr>\n",
       "      <th>2</th>\n",
       "      <td>3박4일 놀러가고 싶다</td>\n",
       "      <td>여행은 언제나 좋죠.</td>\n",
       "      <td>0</td>\n",
       "    </tr>\n",
       "    <tr>\n",
       "      <th>3</th>\n",
       "      <td>3박4일 정도 놀러가고 싶다</td>\n",
       "      <td>여행은 언제나 좋죠.</td>\n",
       "      <td>0</td>\n",
       "    </tr>\n",
       "    <tr>\n",
       "      <th>4</th>\n",
       "      <td>PPL 심하네</td>\n",
       "      <td>눈살이 찌푸려지죠.</td>\n",
       "      <td>0</td>\n",
       "    </tr>\n",
       "  </tbody>\n",
       "</table>\n",
       "</div>"
      ],
      "text/plain": [
       "                 Q            A  label\n",
       "0           12시 땡!   하루가 또 가네요.      0\n",
       "1      1지망 학교 떨어졌어    위로해 드립니다.      0\n",
       "2     3박4일 놀러가고 싶다  여행은 언제나 좋죠.      0\n",
       "3  3박4일 정도 놀러가고 싶다  여행은 언제나 좋죠.      0\n",
       "4          PPL 심하네   눈살이 찌푸려지죠.      0"
      ]
     },
     "execution_count": 451,
     "metadata": {},
     "output_type": "execute_result"
    }
   ],
   "source": [
    "chatbotdata.head()"
   ]
  },
  {
   "cell_type": "code",
   "execution_count": 452,
   "id": "tribal-poland",
   "metadata": {},
   "outputs": [
    {
     "data": {
      "text/html": [
       "<div>\n",
       "<style scoped>\n",
       "    .dataframe tbody tr th:only-of-type {\n",
       "        vertical-align: middle;\n",
       "    }\n",
       "\n",
       "    .dataframe tbody tr th {\n",
       "        vertical-align: top;\n",
       "    }\n",
       "\n",
       "    .dataframe thead th {\n",
       "        text-align: right;\n",
       "    }\n",
       "</style>\n",
       "<table border=\"1\" class=\"dataframe\">\n",
       "  <thead>\n",
       "    <tr style=\"text-align: right;\">\n",
       "      <th></th>\n",
       "      <th>Q</th>\n",
       "      <th>A</th>\n",
       "      <th>label</th>\n",
       "    </tr>\n",
       "  </thead>\n",
       "  <tbody>\n",
       "    <tr>\n",
       "      <th>5911</th>\n",
       "      <td>너무 가슴이 아프네</td>\n",
       "      <td>무슨 마음인지 알겠어서 더 마음이 아프네요.</td>\n",
       "      <td>1</td>\n",
       "    </tr>\n",
       "    <tr>\n",
       "      <th>5912</th>\n",
       "      <td>너무 괴롭네.</td>\n",
       "      <td>무슨 마음인지 알겠어서 더 마음이 아프네요.</td>\n",
       "      <td>1</td>\n",
       "    </tr>\n",
       "    <tr>\n",
       "      <th>5913</th>\n",
       "      <td>너무 끔직한 5월의 연휴도</td>\n",
       "      <td>다 지나갈 거예요.</td>\n",
       "      <td>1</td>\n",
       "    </tr>\n",
       "    <tr>\n",
       "      <th>5914</th>\n",
       "      <td>너무 너무 억울하다.</td>\n",
       "      <td>억울함이 풀리길 바랄게요.</td>\n",
       "      <td>1</td>\n",
       "    </tr>\n",
       "    <tr>\n",
       "      <th>5915</th>\n",
       "      <td>너무 늦은 깨달음</td>\n",
       "      <td>너무 늦지 않았을 거예요.</td>\n",
       "      <td>1</td>\n",
       "    </tr>\n",
       "  </tbody>\n",
       "</table>\n",
       "</div>"
      ],
      "text/plain": [
       "                   Q                         A  label\n",
       "5911      너무 가슴이 아프네  무슨 마음인지 알겠어서 더 마음이 아프네요.      1\n",
       "5912         너무 괴롭네.  무슨 마음인지 알겠어서 더 마음이 아프네요.      1\n",
       "5913  너무 끔직한 5월의 연휴도                다 지나갈 거예요.      1\n",
       "5914     너무 너무 억울하다.            억울함이 풀리길 바랄게요.      1\n",
       "5915       너무 늦은 깨달음            너무 늦지 않았을 거예요.      1"
      ]
     },
     "execution_count": 452,
     "metadata": {},
     "output_type": "execute_result"
    }
   ],
   "source": [
    "mid = len(chatbotdata) // 2\n",
    "chatbotdata.iloc[mid:mid+5]"
   ]
  },
  {
   "cell_type": "code",
   "execution_count": 453,
   "id": "flush-anime",
   "metadata": {
    "scrolled": true
   },
   "outputs": [
    {
     "data": {
      "text/html": [
       "<div>\n",
       "<style scoped>\n",
       "    .dataframe tbody tr th:only-of-type {\n",
       "        vertical-align: middle;\n",
       "    }\n",
       "\n",
       "    .dataframe tbody tr th {\n",
       "        vertical-align: top;\n",
       "    }\n",
       "\n",
       "    .dataframe thead th {\n",
       "        text-align: right;\n",
       "    }\n",
       "</style>\n",
       "<table border=\"1\" class=\"dataframe\">\n",
       "  <thead>\n",
       "    <tr style=\"text-align: right;\">\n",
       "      <th></th>\n",
       "      <th>Q</th>\n",
       "      <th>A</th>\n",
       "      <th>label</th>\n",
       "    </tr>\n",
       "  </thead>\n",
       "  <tbody>\n",
       "    <tr>\n",
       "      <th>11818</th>\n",
       "      <td>훔쳐보는 것도 눈치 보임.</td>\n",
       "      <td>티가 나니까 눈치가 보이는 거죠!</td>\n",
       "      <td>2</td>\n",
       "    </tr>\n",
       "    <tr>\n",
       "      <th>11819</th>\n",
       "      <td>훔쳐보는 것도 눈치 보임.</td>\n",
       "      <td>훔쳐보는 거 티나나봐요.</td>\n",
       "      <td>2</td>\n",
       "    </tr>\n",
       "    <tr>\n",
       "      <th>11820</th>\n",
       "      <td>흑기사 해주는 짝남.</td>\n",
       "      <td>설렜겠어요.</td>\n",
       "      <td>2</td>\n",
       "    </tr>\n",
       "    <tr>\n",
       "      <th>11821</th>\n",
       "      <td>힘든 연애 좋은 연애라는게 무슨 차이일까?</td>\n",
       "      <td>잘 헤어질 수 있는 사이 여부인 거 같아요.</td>\n",
       "      <td>2</td>\n",
       "    </tr>\n",
       "    <tr>\n",
       "      <th>11822</th>\n",
       "      <td>힘들어서 결혼할까봐</td>\n",
       "      <td>도피성 결혼은 하지 않길 바라요.</td>\n",
       "      <td>2</td>\n",
       "    </tr>\n",
       "  </tbody>\n",
       "</table>\n",
       "</div>"
      ],
      "text/plain": [
       "                             Q                         A  label\n",
       "11818           훔쳐보는 것도 눈치 보임.        티가 나니까 눈치가 보이는 거죠!      2\n",
       "11819           훔쳐보는 것도 눈치 보임.             훔쳐보는 거 티나나봐요.      2\n",
       "11820              흑기사 해주는 짝남.                    설렜겠어요.      2\n",
       "11821  힘든 연애 좋은 연애라는게 무슨 차이일까?  잘 헤어질 수 있는 사이 여부인 거 같아요.      2\n",
       "11822               힘들어서 결혼할까봐        도피성 결혼은 하지 않길 바라요.      2"
      ]
     },
     "execution_count": 453,
     "metadata": {},
     "output_type": "execute_result"
    }
   ],
   "source": [
    "chatbotdata.tail()"
   ]
  },
  {
   "cell_type": "markdown",
   "id": "royal-complex",
   "metadata": {},
   "source": [
    "## 2. 데이터 전처리\n",
    "\n",
    "구두점을 띄워주고 중복되는 공백을 하나의 공백으로 바꿔주는 최소한의 전처리를 진행해보자"
   ]
  },
  {
   "cell_type": "code",
   "execution_count": 454,
   "id": "narrative-arbitration",
   "metadata": {},
   "outputs": [],
   "source": [
    "def preprocess_sentence(sentence):\n",
    "    sentence = re.sub(r\"([?.!,])\", r\" \\1 \", sentence)\n",
    "    sentence = sentence.strip()\n",
    "    \n",
    "    return sentence"
   ]
  },
  {
   "cell_type": "code",
   "execution_count": 455,
   "id": "suspected-steps",
   "metadata": {},
   "outputs": [],
   "source": [
    "def load_conversations():\n",
    "    \n",
    "    questions = chatbotdata['Q'].apply(preprocess_sentence)\n",
    "    answers = chatbotdata['A'].apply(preprocess_sentence)\n",
    "    \n",
    "    return questions.to_numpy(), answers.to_numpy()"
   ]
  },
  {
   "cell_type": "code",
   "execution_count": 456,
   "id": "veterinary-academy",
   "metadata": {},
   "outputs": [
    {
     "name": "stdout",
     "output_type": "stream",
     "text": [
      "전체 질문 샘플 수: 11823\n",
      "전체 답변 샘플 수: 11823\n"
     ]
    }
   ],
   "source": [
    "questions, answers = load_conversations()\n",
    "print(f\"전체 질문 샘플 수: {len(questions)}\")\n",
    "print(f\"전체 답변 샘플 수: {len(answers)}\")"
   ]
  },
  {
   "cell_type": "code",
   "execution_count": 457,
   "id": "finished-appraisal",
   "metadata": {},
   "outputs": [
    {
     "name": "stdout",
     "output_type": "stream",
     "text": [
      "전처리 후의 125번째 질문 샘플: 게임 같이 하자고 할까 ?\n",
      "전처리 후의 125번째 답변 샘플: 안 될 것도 없죠 .\n",
      "==================================================\n",
      "전처리 후의 11554번째 질문 샘플: 짝녀한테 의미 없는 선톡 해도 될까요 ?\n",
      "전처리 후의 11554번째 답변 샘플: 선톡을 해야 대화도 이어나가니까요 .\n",
      "==================================================\n",
      "전처리 후의 6152번째 질문 샘플: 또 다시 낮술\n",
      "전처리 후의 6152번째 답변 샘플: 낮술 조금만 하세요 .\n",
      "==================================================\n",
      "전처리 후의 1169번째 질문 샘플: 담배 끊는 거 어려워\n",
      "전처리 후의 1169번째 답변 샘플: 자신을 이겨야해요 .\n",
      "==================================================\n",
      "전처리 후의 7263번째 질문 샘플: 외로워서\n",
      "전처리 후의 7263번째 답변 샘플: 많이 힘든가봅니다 .\n",
      "==================================================\n"
     ]
    }
   ],
   "source": [
    "rng = np.random.default_rng()\n",
    "\n",
    "\n",
    "for _ in range(5):\n",
    "    idx = rng.integers(len(answers))\n",
    "    print(f'전처리 후의 {idx}번째 질문 샘플: {questions[idx]}')\n",
    "    print(f'전처리 후의 {idx}번째 답변 샘플: {answers[idx]}')\n",
    "    print('=' * 50)"
   ]
  },
  {
   "cell_type": "markdown",
   "id": "unexpected-pottery",
   "metadata": {},
   "source": [
    "## 3. SubwordTextEncoder 사용하기"
   ]
  },
  {
   "cell_type": "code",
   "execution_count": 458,
   "id": "large-colorado",
   "metadata": {},
   "outputs": [],
   "source": [
    "import tensorflow_datasets as tfds\n",
    "\n",
    "tokenizer = tfds.deprecated.text.SubwordTextEncoder.build_from_corpus(questions + answers, \n",
    "                                                                      target_vocab_size=2**13)"
   ]
  },
  {
   "cell_type": "code",
   "execution_count": 459,
   "id": "buried-centre",
   "metadata": {},
   "outputs": [],
   "source": [
    "START_TOKEN, END_TOKEN = [tokenizer.vocab_size], [tokenizer.vocab_size+1]"
   ]
  },
  {
   "cell_type": "code",
   "execution_count": 460,
   "id": "surprised-preparation",
   "metadata": {},
   "outputs": [
    {
     "name": "stdout",
     "output_type": "stream",
     "text": [
      "START_TOKEN의 번호 : [8369]\n",
      "END_TOKEN의 번호 : [8370]\n"
     ]
    }
   ],
   "source": [
    "print('START_TOKEN의 번호 :' ,[tokenizer.vocab_size])\n",
    "print('END_TOKEN의 번호 :' ,[tokenizer.vocab_size + 1])"
   ]
  },
  {
   "cell_type": "code",
   "execution_count": 461,
   "id": "critical-scott",
   "metadata": {},
   "outputs": [
    {
     "name": "stdout",
     "output_type": "stream",
     "text": [
      "8371\n"
     ]
    }
   ],
   "source": [
    "# 시작 토큰과 종료 토큰을 고려하여 +2를 하여 단어장의 크기를 산정한다.\n",
    "VOCAB_SIZE = tokenizer.vocab_size + 2\n",
    "print(VOCAB_SIZE)"
   ]
  },
  {
   "cell_type": "code",
   "execution_count": 462,
   "id": "opponent-advertising",
   "metadata": {},
   "outputs": [
    {
     "name": "stdout",
     "output_type": "stream",
     "text": [
      "전처리 후의 10509번째 질문 샘플: [6758, 1105, 525, 116, 3395, 174, 2331, 2]\n",
      "전처리 후의 10509번째 답변 샘플: [7364, 98, 7464, 2473, 1082, 93, 1]\n",
      "==================================================\n",
      "전처리 후의 7348번째 질문 샘플: [79, 229, 179, 2087, 4987, 1361]\n",
      "전처리 후의 7348번째 답변 샘플: [143, 294, 13, 2510, 1]\n",
      "==================================================\n",
      "전처리 후의 4004번째 질문 샘플: [6409, 2745, 2]\n",
      "전처리 후의 4004번째 답변 샘플: [311, 96, 783, 5, 30, 3, 1]\n",
      "==================================================\n",
      "전처리 후의 7308번째 질문 샘플: [2536, 6619, 534, 214, 1]\n",
      "전처리 후의 7308번째 답변 샘플: [485, 4810, 575, 4074, 27, 230, 137, 17, 21, 1]\n",
      "==================================================\n",
      "전처리 후의 4557번째 질문 샘플: [4837, 8145, 20, 159]\n",
      "전처리 후의 4557번째 답변 샘플: [768, 1938, 4836, 8145, 5, 30, 3, 1]\n",
      "==================================================\n"
     ]
    }
   ],
   "source": [
    "rng = np.random.default_rng()\n",
    "\n",
    "\n",
    "for _ in range(5):\n",
    "    idx = rng.integers(len(answers))\n",
    "    print(f'전처리 후의 {idx}번째 질문 샘플: {tokenizer.encode(questions[idx])}')\n",
    "    print(f'전처리 후의 {idx}번째 답변 샘플: {tokenizer.encode(answers[idx])}')\n",
    "    print('=' * 50)"
   ]
  },
  {
   "cell_type": "code",
   "execution_count": 463,
   "id": "changing-logan",
   "metadata": {},
   "outputs": [],
   "source": [
    "q_len = [len(s.split()) for s in questions]\n",
    "a_len = [len(s.split()) for s in answers]"
   ]
  },
  {
   "cell_type": "code",
   "execution_count": 464,
   "id": "forbidden-pontiac",
   "metadata": {},
   "outputs": [
    {
     "data": {
      "text/plain": [
       "Text(0.5, 1.0, 'Answers')"
      ]
     },
     "execution_count": 464,
     "metadata": {},
     "output_type": "execute_result"
    },
    {
     "data": {
      "image/png": "[encoded data removed]",
      "text/plain": [
       "<Figure size 432x288 with 2 Axes>"
      ]
     },
     "metadata": {
      "needs_background": "light"
     },
     "output_type": "display_data"
    },
    {
     "data": {
      "image/png": "[encoded data removed]",
      "text/plain": [
       "<Figure size 432x288 with 1 Axes>"
      ]
     },
     "metadata": {
      "needs_background": "light"
     },
     "output_type": "display_data"
    },
    {
     "data": {
      "image/png": "[encoded data removed]",
      "text/plain": [
       "<Figure size 432x288 with 1 Axes>"
      ]
     },
     "metadata": {
      "needs_background": "light"
     },
     "output_type": "display_data"
    }
   ],
   "source": [
    "fig, axes = plt.subplots(nrows=1, ncols=2)\n",
    "axs = axes.ravel()\n",
    "\n",
    "axs[0].boxplot(q_len)\n",
    "axs[0].set_title(\"Length of questions.\")\n",
    "\n",
    "axs[1].boxplot(a_len)\n",
    "axs[1].set_title(\"Length of answers.\")\n",
    "\n",
    "fig.tight_layout()\n",
    "\n",
    "fig2, ax2 = plt.subplots()\n",
    "ax2.hist(q_len, bins=40)\n",
    "ax2.set_xlabel(\"Length of samples\")\n",
    "ax2.set_ylabel(\"Number of samples\")\n",
    "ax2.set_title(\"Questions\")\n",
    "\n",
    "fig3, ax3 = plt.subplots()\n",
    "ax3.hist(a_len, bins=40)\n",
    "ax3.set_xlabel(\"Length of samples\")\n",
    "ax3.set_ylabel(\"Number of samples\")\n",
    "ax3.set_title(\"Answers\")"
   ]
  },
  {
   "cell_type": "code",
   "execution_count": 465,
   "id": "democratic-anderson",
   "metadata": {},
   "outputs": [
    {
     "name": "stdout",
     "output_type": "stream",
     "text": [
      "95% of q_len is :7.0\n",
      "95% of a_len is :8.0\n"
     ]
    }
   ],
   "source": [
    "print(f\"95% of q_len is :{np.percentile(q_len, 95)}\")\n",
    "print(f\"95% of a_len is :{np.percentile(a_len, 95)}\")"
   ]
  },
  {
   "cell_type": "markdown",
   "id": "daily-promise",
   "metadata": {},
   "source": [
    "데이터셋의 크기가 크지 않으므로 최대길이를 예제와 같이 40으로 정해 모든 단어를 포함하는 방향으로 진행한다."
   ]
  },
  {
   "cell_type": "code",
   "execution_count": 466,
   "id": "apparent-cornwall",
   "metadata": {},
   "outputs": [],
   "source": [
    "def below_threshold_len(max_len, nested_list):\n",
    "    cnt = 0\n",
    "    for s in nested_list:\n",
    "        if(len(s.split()) <= max_len):\n",
    "            cnt = cnt+1\n",
    "            \n",
    "    print(f\"전체 샘플 중 길이가 {max_len} 이하인 샘플의 비율: {cnt/len(nested_list):.2%}\")"
   ]
  },
  {
   "cell_type": "code",
   "execution_count": 467,
   "id": "controversial-pastor",
   "metadata": {},
   "outputs": [
    {
     "name": "stdout",
     "output_type": "stream",
     "text": [
      "Questions\n",
      ">>>\n",
      "전체 샘플 중 길이가 40 이하인 샘플의 비율: 100.00%\n",
      "Answers\n",
      ">>>\n",
      "전체 샘플 중 길이가 40 이하인 샘플의 비율: 100.00%\n"
     ]
    }
   ],
   "source": [
    "print(\"Questions\\n>>>\")\n",
    "below_threshold_len(40, questions)\n",
    "print(\"Answers\\n>>>\")\n",
    "below_threshold_len(40, answers)"
   ]
  },
  {
   "cell_type": "code",
   "execution_count": 468,
   "id": "spanish-dylan",
   "metadata": {},
   "outputs": [
    {
     "name": "stdout",
     "output_type": "stream",
     "text": [
      "40\n"
     ]
    }
   ],
   "source": [
    "MAX_LENGTH = 40\n",
    "print(MAX_LENGTH)"
   ]
  },
  {
   "cell_type": "code",
   "execution_count": 469,
   "id": "unlikely-couple",
   "metadata": {},
   "outputs": [],
   "source": [
    "def tokenize_and_filter(inputs, outputs):\n",
    "    tokenized_inputs, tokenized_outputs = [], []\n",
    "    \n",
    "    for (sentence1, sentence2) in zip(inputs, outputs):\n",
    "        sentence1 = START_TOKEN + tokenizer.encode(sentence1) + END_TOKEN\n",
    "        sentence2 = START_TOKEN + tokenizer.encode(sentence2) + END_TOKEN\n",
    "        \n",
    "        if len(sentence1) <= MAX_LENGTH and len(sentence2) <= MAX_LENGTH:\n",
    "            tokenized_inputs.append(sentence1)\n",
    "            tokenized_outputs.append(sentence2)\n",
    "    \n",
    "    tokenized_inputs = tf.keras.preprocessing.sequence.pad_sequences(\n",
    "        tokenized_inputs, maxlen=MAX_LENGTH, padding='post')\n",
    "    \n",
    "    tokenized_outputs = tf.keras.preprocessing.sequence.pad_sequences(\n",
    "        tokenized_outputs, maxlen=MAX_LENGTH, padding='post')\n",
    "    \n",
    "    return tokenized_inputs, tokenized_outputs"
   ]
  },
  {
   "cell_type": "code",
   "execution_count": 470,
   "id": "alternate-heavy",
   "metadata": {},
   "outputs": [
    {
     "name": "stdout",
     "output_type": "stream",
     "text": [
      "단어장의 크기 : 8371\n",
      "필터링 후의 질문 샘플 개수: 11823\n",
      "필터링 후의 답변 샘플 개수: 11823\n"
     ]
    }
   ],
   "source": [
    "questions, answers = tokenize_and_filter(questions, answers)\n",
    "print('단어장의 크기 :',(VOCAB_SIZE))\n",
    "print('필터링 후의 질문 샘플 개수: {}'.format(len(questions)))\n",
    "print('필터링 후의 답변 샘플 개수: {}'.format(len(answers)))"
   ]
  },
  {
   "cell_type": "code",
   "execution_count": 471,
   "id": "filled-surname",
   "metadata": {},
   "outputs": [],
   "source": [
    "BATCH_SIZE = 64\n",
    "BUFFER_SIZE = 20000\n",
    "\n",
    "dataset = tf.data.Dataset.from_tensor_slices((\n",
    "    {\n",
    "        'inputs': questions,\n",
    "        'dec_inputs': answers[:, :-1]\n",
    "    },\n",
    "    {\n",
    "        'outputs': answers[:, 1:]\n",
    "    }\n",
    "))\n",
    "\n",
    "dataset = dataset.cache()\n",
    "dataset = dataset.shuffle(BUFFER_SIZE)\n",
    "dataset = dataset.batch(BATCH_SIZE)\n",
    "dataset = dataset.prefetch(tf.data.experimental.AUTOTUNE)"
   ]
  },
  {
   "cell_type": "markdown",
   "id": "unnecessary-gross",
   "metadata": {},
   "source": [
    "[BUFFER_SIZE in shuffle](https://helloyjam.github.io/tensorflow/buffer-size-in-shuffle/)"
   ]
  },
  {
   "cell_type": "markdown",
   "id": "cosmetic-energy",
   "metadata": {},
   "source": [
    "## 4. 모델링"
   ]
  },
  {
   "cell_type": "markdown",
   "id": "optimum-toolbox",
   "metadata": {},
   "source": [
    "### Postional Encoding"
   ]
  },
  {
   "cell_type": "code",
   "execution_count": 472,
   "id": "noted-province",
   "metadata": {},
   "outputs": [],
   "source": [
    "class PositionalEncoding(tf.keras.layers.Layer):\n",
    "    \n",
    "    def __init__(self, position, d_model):\n",
    "        super(PositionalEncoding, self).__init__()\n",
    "        self.pos_encoding = self.positional_encoding(position, d_model)\n",
    "    \n",
    "    def get_angles(self, position, i, d_model):\n",
    "        angles = 1 / tf.pow(10000, (2 * (i // 2)) / tf.cast(d_model, tf.float32))\n",
    "        return position * angles\n",
    "    \n",
    "    def positional_encoding(self, position, d_model):\n",
    "        \n",
    "        angle_rads = self.get_angles(\n",
    "            position=tf.range(position, dtype=tf.float32)[:, tf.newaxis],\n",
    "            i=tf.range(d_model, dtype=tf.float32)[tf.newaxis, :],\n",
    "            d_model=d_model)\n",
    "        \n",
    "        sines = tf.math.sin(angle_rads[:, 0::2])\n",
    "        cosines = tf.math.cos(angle_rads[:, 1::2])\n",
    "        \n",
    "        pos_encoding = tf.stack([sines, cosines], axis=0)\n",
    "        pos_encoding = tf.transpose(pos_encoding, [1, 2, 0])\n",
    "        pos_encoding = tf.reshape(pos_encoding, [position, d_model])\n",
    "        \n",
    "        pos_encoding = pos_encoding[tf.newaxis, ...]\n",
    "        return tf.cast(pos_encoding, tf.float32)\n",
    "    \n",
    "    def call(self, inputs):\n",
    "        return inputs + self.pos_encoding[:, :tf.shape(inputs)[1], :]\n",
    "    \n",
    "    "
   ]
  },
  {
   "cell_type": "markdown",
   "id": "marine-duplicate",
   "metadata": {},
   "source": [
    "### Scaled_dot_product_attention"
   ]
  },
  {
   "cell_type": "code",
   "execution_count": 473,
   "id": "surprised-accent",
   "metadata": {},
   "outputs": [],
   "source": [
    "def scaled_dot_product_attention(query, key, value, mask):\n",
    "    matmul_qk = tf.matmul(query, key, transpose_b = True)\n",
    "    \n",
    "    depth = tf.cast(tf.shape(key)[-1], tf.float32)\n",
    "    logits = matmul_qk / tf.math.sqrt(depth)\n",
    "    \n",
    "    if mask is not None:\n",
    "        logits += (mask * -1e9)\n",
    "    \n",
    "    attention_weights = tf.nn.softmax(logits, axis=-1)\n",
    "    \n",
    "    output = tf.matmul(attention_weights, value)\n",
    "    return output"
   ]
  },
  {
   "cell_type": "markdown",
   "id": "latter-parts",
   "metadata": {},
   "source": [
    "### MultiHeadAttention"
   ]
  },
  {
   "cell_type": "code",
   "execution_count": 474,
   "id": "listed-subscription",
   "metadata": {},
   "outputs": [],
   "source": [
    "class MultiHeadAttention(tf.keras.layers.Layer):\n",
    "    \n",
    "    def __init__(self, d_model, num_heads, name=\"multi_head_attention\"):\n",
    "        super(MultiHeadAttention, self).__init__(name=name)\n",
    "        self.num_heads = num_heads\n",
    "        self.d_model = d_model\n",
    "        \n",
    "        assert d_model % self.num_heads == 0\n",
    "        \n",
    "        self.depth = d_model // self.num_heads\n",
    "        \n",
    "        self.query_dense = tf.keras.layers.Dense(units=d_model)\n",
    "        self.key_dense = tf.keras.layers.Dense(units=d_model)\n",
    "        self.value_dense = tf.keras.layers.Dense(units=d_model)\n",
    "        \n",
    "        self.dense = tf.keras.layers.Dense(units=d_model)\n",
    "        \n",
    "    def split_heads(self, inputs, batch_size):\n",
    "        inputs = tf.reshape(\n",
    "            inputs, shape=(batch_size, -1, self.num_heads, self.depth))\n",
    "        \n",
    "        return tf.transpose(inputs, perm=[0, 2, 1, 3])\n",
    "    \n",
    "    def call(self, inputs):\n",
    "        query, key, value, mask = inputs['query'], inputs['key'], inputs['value'], inputs['mask']\n",
    "        \n",
    "        batch_size = tf.shape(query)[0]\n",
    "        \n",
    "        query = self.query_dense(query)\n",
    "        key = self.key_dense(key)\n",
    "        value = self.value_dense(value)\n",
    "        \n",
    "        query = self.split_heads(query, batch_size)\n",
    "        key = self.split_heads(key, batch_size)\n",
    "        value = self.split_heads(value, batch_size)\n",
    "        \n",
    "        scaled_attention = scaled_dot_product_attention(query, key, value, mask)\n",
    "        \n",
    "        scaled_attention = tf.transpose(scaled_attention, perm=[0, 2, 1, 3])\n",
    "        \n",
    "        concat_attention = tf.reshape(scaled_attention,\n",
    "                                      (batch_size, -1, self.d_model))\n",
    "        \n",
    "        outputs = self.dense(concat_attention)\n",
    "        \n",
    "        return outputs"
   ]
  },
  {
   "cell_type": "markdown",
   "id": "understood-vault",
   "metadata": {},
   "source": [
    "### Masks"
   ]
  },
  {
   "cell_type": "code",
   "execution_count": 475,
   "id": "funded-creator",
   "metadata": {},
   "outputs": [],
   "source": [
    "def create_padding_mask(x):\n",
    "    mask = tf.cast(tf.math.equal(x, 0), tf.float32)\n",
    "    return mask[:, tf.newaxis, tf.newaxis, :]\n"
   ]
  },
  {
   "cell_type": "code",
   "execution_count": 476,
   "id": "boolean-insured",
   "metadata": {},
   "outputs": [],
   "source": [
    "def create_look_ahead_mask(x):\n",
    "    seq_len = tf.shape(x)[1]\n",
    "    look_ahead_mask = 1 - tf.linalg.band_part(tf.ones((seq_len, seq_len)), -1, 0)\n",
    "    padding_mask = create_padding_mask(x)\n",
    "    return tf.maximum(look_ahead_mask, padding_mask)"
   ]
  },
  {
   "cell_type": "markdown",
   "id": "operating-decrease",
   "metadata": {},
   "source": [
    "### Encoder"
   ]
  },
  {
   "cell_type": "code",
   "execution_count": 477,
   "id": "cutting-short",
   "metadata": {},
   "outputs": [],
   "source": [
    "def encoder_layer(units, d_model, num_heads, dropout, name=\"encoder_layer\"):\n",
    "    inputs = tf.keras.Input(shape=(None, d_model), name=\"inputs\")\n",
    "    \n",
    "    padding_mask = tf.keras.Input(shape=(1, 1, None), name=\"padding_mask\")\n",
    "    \n",
    "    attention = MultiHeadAttention(\n",
    "        d_model, num_heads, name=\"attention\")({\n",
    "            'query': inputs,\n",
    "            'key': inputs,\n",
    "            'value': inputs,\n",
    "            'mask': padding_mask\n",
    "        })\n",
    "    \n",
    "    attention = tf.keras.layers.Dropout(rate=dropout)(attention)\n",
    "    attention = tf.keras.layers.LayerNormalization(\n",
    "        epsilon=1e-6)(inputs+attention)\n",
    "    \n",
    "    outputs = tf.keras.layers.Dense(units=units, activation='relu')(attention)\n",
    "    outputs = tf.keras.layers.Dense(units=d_model)(outputs)\n",
    "    \n",
    "    outputs = tf.keras.layers.Dropout(rate=dropout)(outputs)\n",
    "    outputs = tf.keras.layers.LayerNormalization(\n",
    "        epsilon=1e-6)(attention + outputs)\n",
    "    \n",
    "    return tf.keras.Model(\n",
    "        inputs=[inputs, padding_mask], outputs=outputs, name=name)\n",
    "\n"
   ]
  },
  {
   "cell_type": "code",
   "execution_count": 478,
   "id": "correct-tunnel",
   "metadata": {},
   "outputs": [],
   "source": [
    "def encoder(vocab_size,\n",
    "            num_layers,\n",
    "            units,\n",
    "            d_model,\n",
    "            num_heads,\n",
    "            dropout,\n",
    "            name=\"encoder\"):\n",
    "    inputs = tf.keras.Input(shape=(None,), name=\"inputs\")\n",
    "    \n",
    "    padding_mask = tf.keras.Input(shape=(1, 1, None), name=\"padding_mask\")\n",
    "    \n",
    "    embeddings = tf.keras.layers.Embedding(vocab_size, d_model)(inputs)\n",
    "    embeddings *= tf.math.sqrt(tf.cast(d_model, tf.float32))\n",
    "    \n",
    "    embedding = PositionalEncoding(vocab_size, d_model)(embeddings)\n",
    "    \n",
    "    outputs = tf.keras.layers.Dropout(rate=dropout)(embeddings)\n",
    "    \n",
    "    for i in range(num_layers):\n",
    "        outputs = encoder_layer(\n",
    "            units=units,\n",
    "            d_model=d_model,\n",
    "            num_heads=num_heads,\n",
    "            dropout=dropout,\n",
    "            name=\"encoder_layer_{}\".format(i),\n",
    "        )([outputs, padding_mask])\n",
    "        \n",
    "    return tf.keras.Model(\n",
    "        inputs=[inputs, padding_mask], outputs=outputs, name=name)\n"
   ]
  },
  {
   "cell_type": "markdown",
   "id": "latin-cuisine",
   "metadata": {},
   "source": [
    "### Decoder"
   ]
  },
  {
   "cell_type": "code",
   "execution_count": 479,
   "id": "material-grass",
   "metadata": {},
   "outputs": [],
   "source": [
    "def decoder_layer(units, d_model, num_heads, dropout, name=\"decoder_layer\"):\n",
    "    inputs = tf.keras.Input(shape=(None, d_model), name=\"inputs\")\n",
    "    enc_outputs = tf.keras.Input(shape=(None, d_model))\n",
    "    look_ahead_mask = tf.keras.Input(\n",
    "        shape=(1, None, None), name=\"look_ahead_mask\")\n",
    "    padding_mask = tf.keras.Input(shape=(1, 1, None), name=\"padding_mask\")\n",
    "    \n",
    "    attention1 = MultiHeadAttention(\n",
    "        d_model, num_heads, name=\"attention_1\")(inputs={\n",
    "            'query': inputs,\n",
    "            'key': inputs,\n",
    "            'value': inputs,\n",
    "            'mask': look_ahead_mask\n",
    "    })\n",
    "    \n",
    "    attention1 = tf.keras.layers.LayerNormalization(\n",
    "        epsilon=1e-6)(attention1 + inputs)\n",
    "    \n",
    "    attention2 = MultiHeadAttention(\n",
    "        d_model, num_heads, name=\"attention2\")(inputs={\n",
    "            'query': attention1,\n",
    "            'key': enc_outputs,\n",
    "            'value': enc_outputs,\n",
    "            'mask': padding_mask\n",
    "    })\n",
    "    \n",
    "    attention2 = tf.keras.layers.Dropout(rate=dropout)(attention2)\n",
    "    attention2 = tf.keras.layers.LayerNormalization(\n",
    "        epsilon=1e-6)(attention2 + attention1)\n",
    "    \n",
    "    outputs = tf.keras.layers.Dense(units=units, activation='relu')(attention2)\n",
    "    outputs = tf.keras.layers.Dense(units=d_model)(outputs)\n",
    "    \n",
    "    outputs = tf.keras.layers.Dropout(rate=dropout)(outputs)\n",
    "    outputs = tf.keras.layers.LayerNormalization(\n",
    "        epsilon=1e-6)(outputs + attention2)\n",
    "    \n",
    "    return tf.keras.Model(\n",
    "        inputs=[inputs, enc_outputs, look_ahead_mask, padding_mask],\n",
    "        outputs=outputs,\n",
    "        name=name)"
   ]
  },
  {
   "cell_type": "code",
   "execution_count": 480,
   "id": "declared-columbia",
   "metadata": {},
   "outputs": [],
   "source": [
    "def decoder(vocab_size,\n",
    "            num_layers,\n",
    "            units,\n",
    "            d_model,\n",
    "            num_heads,\n",
    "            dropout,\n",
    "            name='decoder'):\n",
    "    inputs = tf.keras.Input(shape=(None,), name='inputs')\n",
    "    enc_outputs = tf.keras.Input(shape=(None, d_model), name='encoder_outputs')\n",
    "    look_ahead_mask = tf.keras.Input(\n",
    "        shape=(1, None, None), name='look_ahead_mask')\n",
    "    \n",
    "    padding_mask = tf.keras.Input(shape=(1, 1, None), name='padding_mask')\n",
    "    \n",
    "    embeddings = tf.keras.layers.Embedding(vocab_size, d_model)(inputs)\n",
    "    embeddings *= tf.math.sqrt(tf.cast(d_model, tf.float32))\n",
    "    \n",
    "    embeddings = PositionalEncoding(vocab_size, d_model)(embeddings)\n",
    "    \n",
    "    outputs = tf.keras.layers.Dropout(rate=dropout)(embeddings)\n",
    "    \n",
    "    for i in range(num_layers):\n",
    "        outputs = decoder_layer(\n",
    "            units=units,\n",
    "            d_model=d_model,\n",
    "            num_heads=num_heads,\n",
    "            dropout=dropout,\n",
    "            name='decoder_layer_{}'.format(i),\n",
    "        )(inputs=[outputs, enc_outputs, look_ahead_mask, padding_mask])\n",
    "        \n",
    "    return tf.keras.Model(\n",
    "        inputs=[inputs, enc_outputs, look_ahead_mask, padding_mask],\n",
    "        outputs=outputs,\n",
    "        name=name)"
   ]
  },
  {
   "cell_type": "markdown",
   "id": "continued-passing",
   "metadata": {},
   "source": [
    "### Transformer"
   ]
  },
  {
   "cell_type": "code",
   "execution_count": 481,
   "id": "muslim-asthma",
   "metadata": {},
   "outputs": [],
   "source": [
    "def transformer(vocab_size,\n",
    "                num_layers,\n",
    "                units,\n",
    "                d_model,\n",
    "                num_heads,\n",
    "                dropout,\n",
    "                name=\"transformer\"):\n",
    "    inputs = tf.keras.Input(shape=(None,), name=\"inputs\")\n",
    "    dec_inputs = tf.keras.Input(shape=(None,), name=\"dec_inputs\")\n",
    "    \n",
    "    enc_padding_mask = tf.keras.layers.Lambda(\n",
    "        create_padding_mask, output_shape=(1, 1, None),\n",
    "        name='enc_padding_mask')(inputs)\n",
    "    \n",
    "    look_ahead_mask = tf.keras.layers.Lambda(\n",
    "        create_look_ahead_mask,\n",
    "        output_shape=(1, None, None),\n",
    "        name='look_ahead_mask')(dec_inputs)\n",
    "    \n",
    "    dec_padding_mask = tf.keras.layers.Lambda(\n",
    "        create_padding_mask, output_shape=(1, 1, None),\n",
    "        name='dec_padding_mask')(inputs)\n",
    "    \n",
    "    enc_outputs = encoder(\n",
    "        vocab_size=vocab_size,\n",
    "        num_layers=num_layers,\n",
    "        units=units,\n",
    "        d_model=d_model,\n",
    "        num_heads=num_heads,\n",
    "        dropout=dropout,\n",
    "    )(inputs=[inputs, enc_padding_mask])\n",
    "    \n",
    "    dec_outputs = decoder(\n",
    "        vocab_size=vocab_size,\n",
    "        num_layers=num_layers,\n",
    "        units=units,\n",
    "        d_model=d_model,\n",
    "        num_heads=num_heads,\n",
    "        dropout=dropout,\n",
    "    )(inputs=[dec_inputs, enc_outputs, look_ahead_mask, dec_padding_mask])\n",
    "    \n",
    "    outputs = tf.keras.layers.Dense(units=vocab_size, name=\"outputs\")(dec_outputs)\n",
    "    \n",
    "    return tf.keras.Model(inputs=[inputs, dec_inputs], outputs=outputs, name=name)"
   ]
  },
  {
   "cell_type": "markdown",
   "id": "green-twelve",
   "metadata": {},
   "source": [
    "## 5. 모델링"
   ]
  },
  {
   "cell_type": "code",
   "execution_count": 482,
   "id": "compatible-tampa",
   "metadata": {},
   "outputs": [
    {
     "name": "stdout",
     "output_type": "stream",
     "text": [
      "Model: \"transformer\"\n",
      "__________________________________________________________________________________________________\n",
      "Layer (type)                    Output Shape         Param #     Connected to                     \n",
      "==================================================================================================\n",
      "inputs (InputLayer)             [(None, None)]       0                                            \n",
      "__________________________________________________________________________________________________\n",
      "dec_inputs (InputLayer)         [(None, None)]       0                                            \n",
      "__________________________________________________________________________________________________\n",
      "enc_padding_mask (Lambda)       (None, 1, 1, None)   0           inputs[0][0]                     \n",
      "__________________________________________________________________________________________________\n",
      "encoder (Functional)            (None, None, 256)    3197184     inputs[0][0]                     \n",
      "                                                                 enc_padding_mask[0][0]           \n",
      "__________________________________________________________________________________________________\n",
      "look_ahead_mask (Lambda)        (None, 1, None, None 0           dec_inputs[0][0]                 \n",
      "__________________________________________________________________________________________________\n",
      "dec_padding_mask (Lambda)       (None, 1, 1, None)   0           inputs[0][0]                     \n",
      "__________________________________________________________________________________________________\n",
      "decoder (Functional)            (None, None, 256)    3724544     dec_inputs[0][0]                 \n",
      "                                                                 encoder[0][0]                    \n",
      "                                                                 look_ahead_mask[0][0]            \n",
      "                                                                 dec_padding_mask[0][0]           \n",
      "__________________________________________________________________________________________________\n",
      "outputs (Dense)                 (None, None, 8371)   2151347     decoder[0][0]                    \n",
      "==================================================================================================\n",
      "Total params: 9,073,075\n",
      "Trainable params: 9,073,075\n",
      "Non-trainable params: 0\n",
      "__________________________________________________________________________________________________\n"
     ]
    }
   ],
   "source": [
    "tf.keras.backend.clear_session()\n",
    "\n",
    "\n",
    "NUM_LAYERS = 2\n",
    "D_MODEL = 256\n",
    "NUM_HEADS = 8\n",
    "UNITS = 512\n",
    "DROPOUT = 0.1\n",
    "\n",
    "model = transformer(\n",
    "    vocab_size=VOCAB_SIZE,\n",
    "    num_layers=NUM_LAYERS,\n",
    "    units=UNITS,\n",
    "    d_model=D_MODEL,\n",
    "    num_heads=NUM_HEADS,\n",
    "    dropout=DROPOUT)\n",
    "\n",
    "model.summary()"
   ]
  },
  {
   "cell_type": "code",
   "execution_count": 483,
   "id": "corresponding-applicant",
   "metadata": {},
   "outputs": [],
   "source": [
    "def loss_function(y_true, y_pred):\n",
    "    y_true = tf.reshape(y_true, shape=(-1, MAX_LENGTH - 1))\n",
    "    \n",
    "    loss = tf.keras.losses.SparseCategoricalCrossentropy(\n",
    "        from_logits=True, reduction='none')(y_true, y_pred)\n",
    "    \n",
    "    mask = tf.cast(tf.not_equal(y_true, 0), tf.float32)\n",
    "    loss = tf.multiply(loss, mask)\n",
    "    \n",
    "    return tf.reduce_mean(loss)"
   ]
  },
  {
   "cell_type": "code",
   "execution_count": 484,
   "id": "measured-ballet",
   "metadata": {},
   "outputs": [],
   "source": [
    "class CustomSchedule(tf.keras.optimizers.schedules.LearningRateSchedule):\n",
    "    \n",
    "    def __init__(self, d_model, warmup_steps=4000):\n",
    "        super(CustomSchedule, self).__init__()\n",
    "        \n",
    "        self.d_model = d_model\n",
    "        self.d_model = tf.cast(self.d_model, tf.float32)\n",
    "        \n",
    "        self.warmup_steps = warmup_steps\n",
    "        \n",
    "    def __call__(self, step):\n",
    "        arg1 = tf.math.rsqrt(step)\n",
    "        arg2 = step * (self.warmup_steps**-1.5)\n",
    "        \n",
    "        return tf.math.rsqrt(self.d_model) * tf.math.minimum(arg1, arg2)"
   ]
  },
  {
   "cell_type": "code",
   "execution_count": 485,
   "id": "municipal-fleece",
   "metadata": {},
   "outputs": [],
   "source": [
    "learning_rate = CustomSchedule(D_MODEL)\n",
    "\n",
    "optimizer = tf.keras.optimizers.Adam(\n",
    "    learning_rate, beta_1=0.9, beta_2=0.98, epsilon=1e-9)\n",
    "\n",
    "def accuracy(y_true, y_pred):\n",
    "    y_true = tf.reshape(y_true, shape=(-1, MAX_LENGTH-1))\n",
    "    return tf.keras.metrics.sparse_categorical_accuracy(y_true, y_pred)"
   ]
  },
  {
   "cell_type": "code",
   "execution_count": 486,
   "id": "resistant-conjunction",
   "metadata": {},
   "outputs": [],
   "source": [
    "model.compile(optimizer=optimizer, loss=loss_function, metrics=[accuracy])"
   ]
  },
  {
   "cell_type": "code",
   "execution_count": 487,
   "id": "upper-spyware",
   "metadata": {},
   "outputs": [
    {
     "name": "stdout",
     "output_type": "stream",
     "text": [
      "Epoch 1/50\n",
      "185/185 [==============================] - 32s 141ms/step - loss: 1.5416 - accuracy: 0.0113\n",
      "Epoch 2/50\n",
      "185/185 [==============================] - 26s 138ms/step - loss: 1.2531 - accuracy: 0.0471\n",
      "Epoch 3/50\n",
      "185/185 [==============================] - 27s 147ms/step - loss: 1.0301 - accuracy: 0.0501\n",
      "Epoch 4/50\n",
      "185/185 [==============================] - 26s 142ms/step - loss: 0.9396 - accuracy: 0.0534\n",
      "Epoch 5/50\n",
      "185/185 [==============================] - 26s 143ms/step - loss: 0.8789 - accuracy: 0.0570\n",
      "Epoch 6/50\n",
      "185/185 [==============================] - 26s 142ms/step - loss: 0.8225 - accuracy: 0.0612\n",
      "Epoch 7/50\n",
      "185/185 [==============================] - 26s 142ms/step - loss: 0.7430 - accuracy: 0.0670\n",
      "Epoch 8/50\n",
      "185/185 [==============================] - 25s 137ms/step - loss: 0.6657 - accuracy: 0.0763\n",
      "Epoch 9/50\n",
      "185/185 [==============================] - 26s 139ms/step - loss: 0.5702 - accuracy: 0.0863\n",
      "Epoch 10/50\n",
      "185/185 [==============================] - 26s 140ms/step - loss: 0.4777 - accuracy: 0.0977\n",
      "Epoch 11/50\n",
      "185/185 [==============================] - 26s 141ms/step - loss: 0.3894 - accuracy: 0.1112\n",
      "Epoch 12/50\n",
      "185/185 [==============================] - 25s 137ms/step - loss: 0.2965 - accuracy: 0.1245\n",
      "Epoch 13/50\n",
      "185/185 [==============================] - 27s 145ms/step - loss: 0.2186 - accuracy: 0.1377\n",
      "Epoch 14/50\n",
      "185/185 [==============================] - 27s 145ms/step - loss: 0.1535 - accuracy: 0.1487\n",
      "Epoch 15/50\n",
      "185/185 [==============================] - 26s 143ms/step - loss: 0.1025 - accuracy: 0.1582\n",
      "Epoch 16/50\n",
      "185/185 [==============================] - 26s 142ms/step - loss: 0.0707 - accuracy: 0.1630\n",
      "Epoch 17/50\n",
      "185/185 [==============================] - 26s 141ms/step - loss: 0.0490 - accuracy: 0.1668\n",
      "Epoch 18/50\n",
      "185/185 [==============================] - 26s 138ms/step - loss: 0.0393 - accuracy: 0.1668\n",
      "Epoch 19/50\n",
      "185/185 [==============================] - 27s 145ms/step - loss: 0.0337 - accuracy: 0.1674\n",
      "Epoch 20/50\n",
      "185/185 [==============================] - 27s 144ms/step - loss: 0.0331 - accuracy: 0.1688\n",
      "Epoch 21/50\n",
      "185/185 [==============================] - 27s 144ms/step - loss: 0.0320 - accuracy: 0.1689\n",
      "Epoch 22/50\n",
      "185/185 [==============================] - 27s 145ms/step - loss: 0.0307 - accuracy: 0.1676\n",
      "Epoch 23/50\n",
      "185/185 [==============================] - 27s 144ms/step - loss: 0.0288 - accuracy: 0.1675\n",
      "Epoch 24/50\n",
      "185/185 [==============================] - 26s 142ms/step - loss: 0.0246 - accuracy: 0.1698\n",
      "Epoch 25/50\n",
      "185/185 [==============================] - 26s 141ms/step - loss: 0.0212 - accuracy: 0.1707\n",
      "Epoch 26/50\n",
      "185/185 [==============================] - 27s 147ms/step - loss: 0.0186 - accuracy: 0.1697\n",
      "Epoch 27/50\n",
      "185/185 [==============================] - 27s 144ms/step - loss: 0.0170 - accuracy: 0.1717\n",
      "Epoch 28/50\n",
      "185/185 [==============================] - 27s 148ms/step - loss: 0.0157 - accuracy: 0.1710\n",
      "Epoch 29/50\n",
      "185/185 [==============================] - 27s 145ms/step - loss: 0.0130 - accuracy: 0.1715\n",
      "Epoch 30/50\n",
      "185/185 [==============================] - 27s 145ms/step - loss: 0.0132 - accuracy: 0.1728\n",
      "Epoch 31/50\n",
      "185/185 [==============================] - 27s 145ms/step - loss: 0.0116 - accuracy: 0.1731\n",
      "Epoch 32/50\n",
      "185/185 [==============================] - 27s 148ms/step - loss: 0.0103 - accuracy: 0.1735\n",
      "Epoch 33/50\n",
      "185/185 [==============================] - 27s 147ms/step - loss: 0.0105 - accuracy: 0.1731\n",
      "Epoch 34/50\n",
      "185/185 [==============================] - 27s 145ms/step - loss: 0.0094 - accuracy: 0.1724\n",
      "Epoch 35/50\n",
      "185/185 [==============================] - 27s 148ms/step - loss: 0.0083 - accuracy: 0.1737\n",
      "Epoch 36/50\n",
      "185/185 [==============================] - 27s 148ms/step - loss: 0.0082 - accuracy: 0.1732\n",
      "Epoch 37/50\n",
      "185/185 [==============================] - 27s 145ms/step - loss: 0.0082 - accuracy: 0.1735\n",
      "Epoch 38/50\n",
      "185/185 [==============================] - 27s 148ms/step - loss: 0.0073 - accuracy: 0.1739\n",
      "Epoch 39/50\n",
      "185/185 [==============================] - 27s 145ms/step - loss: 0.0069 - accuracy: 0.1737\n",
      "Epoch 40/50\n",
      "185/185 [==============================] - 26s 142ms/step - loss: 0.0065 - accuracy: 0.1746\n",
      "Epoch 41/50\n",
      "185/185 [==============================] - 27s 146ms/step - loss: 0.0062 - accuracy: 0.1748\n",
      "Epoch 42/50\n",
      "185/185 [==============================] - 28s 151ms/step - loss: 0.0058 - accuracy: 0.1741\n",
      "Epoch 43/50\n",
      "185/185 [==============================] - 28s 149ms/step - loss: 0.0055 - accuracy: 0.1741\n",
      "Epoch 44/50\n",
      "185/185 [==============================] - 27s 148ms/step - loss: 0.0055 - accuracy: 0.1742\n",
      "Epoch 45/50\n",
      "185/185 [==============================] - 27s 145ms/step - loss: 0.0053 - accuracy: 0.1745\n",
      "Epoch 46/50\n",
      "185/185 [==============================] - 26s 139ms/step - loss: 0.0048 - accuracy: 0.1749\n"
     ]
    },
    {
     "data": {
      "text/plain": [
       "<tensorflow.python.keras.callbacks.History at 0x7fbf553d76d0>"
      ]
     },
     "execution_count": 487,
     "metadata": {},
     "output_type": "execute_result"
    }
   ],
   "source": [
    "EPOCHS = 50\n",
    "callback = tf.keras.callbacks.EarlyStopping(monitor='loss')\n",
    "model.fit(dataset, epochs=EPOCHS, verbose=1, callbacks=[callback])"
   ]
  },
  {
   "cell_type": "code",
   "execution_count": 504,
   "id": "periodic-lodging",
   "metadata": {},
   "outputs": [],
   "source": [
    "def decoder_inference(sentence):\n",
    "    sentence = preprocess_sentence(sentence)\n",
    "\n",
    "  # 입력된 문장을 정수 인코딩 후, 시작 토큰과 종료 토큰을 앞뒤로 추가.\n",
    "  # ex) Where have you been? → [[8331   86   30    5 1059    7 8332]]\n",
    "    sentence = tf.expand_dims(\n",
    "      START_TOKEN + tokenizer.encode(sentence) + END_TOKEN, axis=0)\n",
    "\n",
    "  # 디코더의 현재까지의 예측한 출력 시퀀스가 지속적으로 저장되는 변수.\n",
    "  # 처음에는 예측한 내용이 없음으로 시작 토큰만 별도 저장. ex) 8331\n",
    "    output_sequence = tf.expand_dims(START_TOKEN, 0)\n",
    "\n",
    "  # 디코더의 인퍼런스 단계\n",
    "    for i in range(MAX_LENGTH):\n",
    "        predictions = model(inputs=[sentence, output_sequence], training=False)\n",
    "        predictions = predictions[:, -1:, :]\n",
    "\n",
    "        predicted_id = tf.cast(tf.argmax(predictions, axis=-1), tf.int32)\n",
    "\n",
    "    # 만약 현재 예측한 단어가 종료 토큰이라면 for문을 종료\n",
    "        if tf.equal(predicted_id, END_TOKEN[0]):\n",
    "            break\n",
    "\n",
    "    # 예측한 단어들은 지속적으로 output_sequence에 추가됩니다.\n",
    "\n",
    "        output_sequence = tf.concat([output_sequence, predicted_id], axis=-1)\n",
    "\n",
    "    return tf.squeeze(output_sequence, axis=0)\n"
   ]
  },
  {
   "cell_type": "code",
   "execution_count": 505,
   "id": "impressed-lodging",
   "metadata": {},
   "outputs": [],
   "source": [
    "def sentence_generation(sentence):\n",
    "  # 입력 문장에 대해서 디코더를 동작 시켜 예측된 정수 시퀀스를 리턴받습니다.\n",
    "    prediction = decoder_inference(sentence)\n",
    "\n",
    "    # 정수 시퀀스를 다시 텍스트 시퀀스로 변환합니다.\n",
    "    predicted_sentence = tokenizer.decode(\n",
    "      [i for i in prediction if i < tokenizer.vocab_size])\n",
    "\n",
    "    print('입력 : {}'.format(sentence))\n",
    "    print('출력 : {}'.format(predicted_sentence))\n",
    "\n",
    "    return predicted_sentence"
   ]
  },
  {
   "cell_type": "code",
   "execution_count": 506,
   "id": "herbal-lounge",
   "metadata": {},
   "outputs": [
    {
     "name": "stdout",
     "output_type": "stream",
     "text": [
      "입력 : 출근길 너무 힘들어\n",
      "출력 : 회사 근처로 이사를 가보세요 .\n"
     ]
    },
    {
     "data": {
      "text/plain": [
       "'회사 근처로 이사를 가보세요 .'"
      ]
     },
     "execution_count": 506,
     "metadata": {},
     "output_type": "execute_result"
    }
   ],
   "source": [
    "sentence_generation('출근길 너무 힘들어')"
   ]
  },
  {
   "cell_type": "code",
   "execution_count": 507,
   "id": "affiliated-transmission",
   "metadata": {},
   "outputs": [
    {
     "name": "stdout",
     "output_type": "stream",
     "text": [
      "입력 : 안녕, 넌 이름이 뭐니?\n",
      "출력 : 저는 위로봇입니다 .\n"
     ]
    },
    {
     "data": {
      "text/plain": [
       "'저는 위로봇입니다 .'"
      ]
     },
     "execution_count": 507,
     "metadata": {},
     "output_type": "execute_result"
    }
   ],
   "source": [
    "sentence_generation('안녕, 넌 이름이 뭐니?')"
   ]
  },
  {
   "cell_type": "code",
   "execution_count": 508,
   "id": "loaded-thing",
   "metadata": {},
   "outputs": [
    {
     "name": "stdout",
     "output_type": "stream",
     "text": [
      "입력 : 오늘 날씨는 어때?\n",
      "출력 : 친구들과 같이 놀러가세요 .\n"
     ]
    },
    {
     "data": {
      "text/plain": [
       "'친구들과 같이 놀러가세요 .'"
      ]
     },
     "execution_count": 508,
     "metadata": {},
     "output_type": "execute_result"
    }
   ],
   "source": [
    "sentence_generation('오늘 날씨는 어때?')"
   ]
  },
  {
   "cell_type": "code",
   "execution_count": 510,
   "id": "liquid-zimbabwe",
   "metadata": {},
   "outputs": [
    {
     "name": "stdout",
     "output_type": "stream",
     "text": [
      "입력 : 오늘 날씨는 어떠니?\n",
      "출력 : 저랑 이야기 해요 .\n"
     ]
    },
    {
     "data": {
      "text/plain": [
       "'저랑 이야기 해요 .'"
      ]
     },
     "execution_count": 510,
     "metadata": {},
     "output_type": "execute_result"
    }
   ],
   "source": [
    "sentence_generation('오늘 날씨는 어떠니?')"
   ]
  },
  {
   "cell_type": "code",
   "execution_count": 511,
   "id": "continent-navigation",
   "metadata": {},
   "outputs": [
    {
     "name": "stdout",
     "output_type": "stream",
     "text": [
      "입력 : 오늘 날씨는 어땡?\n",
      "출력 : 정말 기분 좋으시겠어요 .\n"
     ]
    },
    {
     "data": {
      "text/plain": [
       "'정말 기분 좋으시겠어요 .'"
      ]
     },
     "execution_count": 511,
     "metadata": {},
     "output_type": "execute_result"
    }
   ],
   "source": [
    "sentence_generation('오늘 날씨는 어땡?')"
   ]
  },
  {
   "cell_type": "code",
   "execution_count": 513,
   "id": "affiliated-venice",
   "metadata": {},
   "outputs": [
    {
     "name": "stdout",
     "output_type": "stream",
     "text": [
      "입력 : 오늘 날씨는 어때??\n",
      "출력 : 저랑 같이 놀아요 .\n"
     ]
    },
    {
     "data": {
      "text/plain": [
       "'저랑 같이 놀아요 .'"
      ]
     },
     "execution_count": 513,
     "metadata": {},
     "output_type": "execute_result"
    }
   ],
   "source": [
    "sentence_generation('오늘 날씨는 어때??')"
   ]
  },
  {
   "cell_type": "code",
   "execution_count": 515,
   "id": "freelance-disorder",
   "metadata": {},
   "outputs": [
    {
     "name": "stdout",
     "output_type": "stream",
     "text": [
      "입력 : 오늘 날씨는 어때ㅋㅋㅋㅋㅋ\n",
      "출력 : 이젠 기억을 놔주는 건 어떨까요 .\n"
     ]
    },
    {
     "data": {
      "text/plain": [
       "'이젠 기억을 놔주는 건 어떨까요 .'"
      ]
     },
     "execution_count": 515,
     "metadata": {},
     "output_type": "execute_result"
    }
   ],
   "source": [
    "sentence_generation('오늘 날씨는 어때ㅋㅋㅋㅋㅋ')"
   ]
  },
  {
   "cell_type": "code",
   "execution_count": 517,
   "id": "experimental-reproduction",
   "metadata": {},
   "outputs": [
    {
     "name": "stdout",
     "output_type": "stream",
     "text": [
      "입력 : ㅋ\n",
      "출력 : 새로운 사람으로 잊혀질 거예요 .\n"
     ]
    },
    {
     "data": {
      "text/plain": [
       "'새로운 사람으로 잊혀질 거예요 .'"
      ]
     },
     "execution_count": 517,
     "metadata": {},
     "output_type": "execute_result"
    }
   ],
   "source": [
    "sentence_generation('ㅋ')"
   ]
  },
  {
   "cell_type": "code",
   "execution_count": 516,
   "id": "entire-stack",
   "metadata": {},
   "outputs": [
    {
     "name": "stdout",
     "output_type": "stream",
     "text": [
      "입력 : ㅋㅋ\n",
      "출력 : 좋은 사람이랑 결혼할 수 있을 거예요 .\n"
     ]
    },
    {
     "data": {
      "text/plain": [
       "'좋은 사람이랑 결혼할 수 있을 거예요 .'"
      ]
     },
     "execution_count": 516,
     "metadata": {},
     "output_type": "execute_result"
    }
   ],
   "source": [
    "sentence_generation('ㅋㅋ')"
   ]
  },
  {
   "cell_type": "code",
   "execution_count": 518,
   "id": "sized-bride",
   "metadata": {},
   "outputs": [
    {
     "name": "stdout",
     "output_type": "stream",
     "text": [
      "입력 : ㅋㅋㅋ\n",
      "출력 : 좋은 소식길 바라요 .\n"
     ]
    },
    {
     "data": {
      "text/plain": [
       "'좋은 소식길 바라요 .'"
      ]
     },
     "execution_count": 518,
     "metadata": {},
     "output_type": "execute_result"
    }
   ],
   "source": [
    "sentence_generation('ㅋㅋㅋ')"
   ]
  },
  {
   "cell_type": "code",
   "execution_count": 550,
   "id": "interesting-webster",
   "metadata": {},
   "outputs": [
    {
     "name": "stdout",
     "output_type": "stream",
     "text": [
      "입력 : 날씨 좋아?\n",
      "출력 : 날씨 어플에 물어보세요 .\n"
     ]
    },
    {
     "data": {
      "text/plain": [
       "'날씨 어플에 물어보세요 .'"
      ]
     },
     "execution_count": 550,
     "metadata": {},
     "output_type": "execute_result"
    }
   ],
   "source": [
    "sentence_generation('날씨 좋아?')"
   ]
  },
  {
   "cell_type": "code",
   "execution_count": 551,
   "id": "continuing-creek",
   "metadata": {
    "scrolled": true
   },
   "outputs": [
    {
     "name": "stdout",
     "output_type": "stream",
     "text": [
      "입력 : 날씨 좋아!\n",
      "출력 : 날씨 어플에 물어보세요 .\n"
     ]
    },
    {
     "data": {
      "text/plain": [
       "'날씨 어플에 물어보세요 .'"
      ]
     },
     "execution_count": 551,
     "metadata": {},
     "output_type": "execute_result"
    }
   ],
   "source": [
    "sentence_generation('날씨 좋아!')"
   ]
  },
  {
   "cell_type": "markdown",
   "id": "reliable-protocol",
   "metadata": {},
   "source": [
    "정확도는 약 18%에서 Earlystopping을 했지만 문장자체는 비교적 자연스럽게 생성하는 것 같습니다. 하지만 같은 의미의 문장이여도 의미 자체를 다르게 받아들이고 부자연스러운 답변을 생성하는 경우도 많네요."
   ]
  },
  {
   "cell_type": "markdown",
   "id": "external-transformation",
   "metadata": {},
   "source": [
    "## 6. 개선을 위한 전처리 수정"
   ]
  },
  {
   "cell_type": "markdown",
   "id": "coral-holiday",
   "metadata": {},
   "source": [
    "### 1. 'ㅋㅋㅋ', 'ㅠㅠㅠ'와 같은 단어들을 'ㅋㅋ', 'ㅠㅠ' 로 바꿔주기."
   ]
  },
  {
   "cell_type": "code",
   "execution_count": 640,
   "id": "banned-pastor",
   "metadata": {},
   "outputs": [],
   "source": [
    "questions = chatbotdata['Q'].to_numpy()\n",
    "answers = chatbotdata['A'].to_numpy()"
   ]
  },
  {
   "cell_type": "code",
   "execution_count": 641,
   "id": "experimental-cemetery",
   "metadata": {},
   "outputs": [
    {
     "data": {
      "text/html": [
       "<div>\n",
       "<style scoped>\n",
       "    .dataframe tbody tr th:only-of-type {\n",
       "        vertical-align: middle;\n",
       "    }\n",
       "\n",
       "    .dataframe tbody tr th {\n",
       "        vertical-align: top;\n",
       "    }\n",
       "\n",
       "    .dataframe thead th {\n",
       "        text-align: right;\n",
       "    }\n",
       "</style>\n",
       "<table border=\"1\" class=\"dataframe\">\n",
       "  <thead>\n",
       "    <tr style=\"text-align: right;\">\n",
       "      <th></th>\n",
       "      <th>Q</th>\n",
       "      <th>A</th>\n",
       "      <th>label</th>\n",
       "    </tr>\n",
       "  </thead>\n",
       "  <tbody>\n",
       "    <tr>\n",
       "      <th>8758</th>\n",
       "      <td>혼자ㅠㅠㅠ</td>\n",
       "      <td>많이 힘들어하지 마요.</td>\n",
       "      <td>1</td>\n",
       "    </tr>\n",
       "  </tbody>\n",
       "</table>\n",
       "</div>"
      ],
      "text/plain": [
       "          Q             A  label\n",
       "8758  혼자ㅠㅠㅠ  많이 힘들어하지 마요.      1"
      ]
     },
     "execution_count": 641,
     "metadata": {},
     "output_type": "execute_result"
    }
   ],
   "source": [
    "chatbotdata.loc[chatbotdata['Q'].str.contains('ㅠㅠㅠ')]"
   ]
  },
  {
   "cell_type": "code",
   "execution_count": 642,
   "id": "thirty-president",
   "metadata": {},
   "outputs": [
    {
     "name": "stdout",
     "output_type": "stream",
     "text": [
      "혼자ㅠㅠ\n",
      "혼자ㅠㅠ\n",
      "뭐야ㅋㅋ\n",
      "뭐야ㅋㅋ\n"
     ]
    }
   ],
   "source": [
    "sentence = '혼자ㅠㅠㅠㅠㅠㅠㅠㅠㅠㅠㅠㅠ'\n",
    "sentence = re.sub(\"(.)\\\\1{1,}\", r\"\\1\\1\", sentence)\n",
    "print(sentence)\n",
    "\n",
    "sentence = '혼자ㅠㅠ'\n",
    "sentence = re.sub(\"(.)\\\\1{1,}\", r\"\\1\\1\", sentence)\n",
    "print(sentence)\n",
    "\n",
    "sentence = '뭐야ㅋㅋㅋㅋㅋㅋㅋㅋㅋ'\n",
    "sentence = re.sub(\"(.)\\\\1{1,}\", r\"\\1\\1\", sentence)\n",
    "print(sentence)\n",
    "\n",
    "sentence = '뭐야ㅋㅋㅋㅋ'\n",
    "sentence = re.sub(\"(.)\\\\1{1,}\", r\"\\1\\1\", sentence)\n",
    "print(sentence)"
   ]
  },
  {
   "cell_type": "markdown",
   "id": "dried-barrier",
   "metadata": {},
   "source": [
    "추가적으로 느낌표와 물음표 등은 \"!!\", \"??\"가 각각 \"!\", \"?\"와 같은 의미를 가진다고 생각할 수 있습니다.\n",
    "(\"..\" 와 \".\" 는 조금 의미가 다르다고 생각해 전처리 과정에 포함시키지 않았습니다.)"
   ]
  },
  {
   "cell_type": "code",
   "execution_count": 643,
   "id": "sudden-clause",
   "metadata": {},
   "outputs": [
    {
     "name": "stdout",
     "output_type": "stream",
     "text": [
      "뭐야?!\n"
     ]
    }
   ],
   "source": [
    "sentence = '뭐야????!!!!!!!!!'\n",
    "sentence = re.sub(\"(!)\\\\1{1,}\", r\"\\1\", sentence)\n",
    "sentence = re.sub(\"(\\?)\\\\1{1,}\", r\"\\1\", sentence)\n",
    "print(sentence)"
   ]
  },
  {
   "cell_type": "markdown",
   "id": "ranking-speaking",
   "metadata": {},
   "source": [
    "### 2. 특수문자 제거"
   ]
  },
  {
   "cell_type": "code",
   "execution_count": 644,
   "id": "super-budget",
   "metadata": {},
   "outputs": [
    {
     "name": "stdout",
     "output_type": "stream",
     "text": [
      " 저를 만들어 준 사람을 부모님 , 저랑 이야기해 주는 사람을 친구로 생각하고 있어요 \n"
     ]
    }
   ],
   "source": [
    "sentence = '\"저를 만들어 준 사람을 부모님, 저랑 이야기해 주는 사람을 친구로 생각하고 있어요\"'\n",
    "sentence = re.sub(r\"([?.!,])\", r\" \\1 \", sentence)\n",
    "sentence = re.sub(r\"[^가-힣0-9?.!,]+\", \" \", sentence)\n",
    "sentence = re.sub(r'[\" \"]+', \" \", sentence)\n",
    "print(sentence)"
   ]
  },
  {
   "cell_type": "markdown",
   "id": "collectible-breeding",
   "metadata": {},
   "source": [
    "위 두 전처리를 전처리 함수에 추가해보겠습니다."
   ]
  },
  {
   "cell_type": "code",
   "execution_count": 645,
   "id": "danish-advocacy",
   "metadata": {},
   "outputs": [
    {
     "name": "stdout",
     "output_type": "stream",
     "text": [
      "\"저를 만들어 준 사람을 부모님 ,  저랑 이야기해 주는 사람을 친구로 생각하고 있어요 . ㅋㅋㅋㅋㅋ\"\n",
      " 저를 만들어 준 사람을 부모님 , 저랑 이야기해 주는 사람을 친구로 생각하고 있어요 . ㅋㅋㅋㅋㅋ \n",
      " 저를 만들어 준 사람을 부모님 , 저랑 이야기해 주는 사람을 친구로 생각하고 있어요 . ㅋㅋㅋㅋㅋ \n",
      " 저를 만들어 준 사람을 부모님 , 저랑 이야기해 주는 사람을 친구로 생각하고 있어요 . ㅋㅋ \n",
      "저를 만들어 준 사람을 부모님 , 저랑 이야기해 주는 사람을 친구로 생각하고 있어요 . ㅋㅋ\n"
     ]
    }
   ],
   "source": [
    "sentence = '\"저를 만들어 준 사람을 부모님, 저랑 이야기해 주는 사람을 친구로 생각하고 있어요.ㅋㅋㅋㅋㅋ\"'\n",
    "sentence = re.sub(r\"([?.!,])\", r\" \\1 \", sentence)\n",
    "print(sentence)\n",
    "sentence = re.sub(r\"[^ㄱ-ㅎ가-힣0-9?.!,]+\", \" \", sentence)\n",
    "print(sentence)\n",
    "sentence = re.sub(r'[\" \"]+', \" \", sentence)\n",
    "print(sentence)\n",
    "sentence = re.sub(\"(.)\\\\1{1,}\", r\"\\1\\1\", sentence)\n",
    "print(sentence)\n",
    "sentence = sentence.strip()\n",
    "print(sentence)"
   ]
  },
  {
   "cell_type": "code",
   "execution_count": 646,
   "id": "associate-metro",
   "metadata": {},
   "outputs": [
    {
     "name": "stdout",
     "output_type": "stream",
     "text": [
      "\"이게 무슨일이야??!??!\"\n",
      "\"이게 무슨일이야?!?!\"\n",
      "\"이게 무슨일이야 ?  !  ?  ! \"\n",
      " 이게 무슨일이야 ? ! ? ! \n",
      " 이게 무슨일이야 ? ! ? ! \n",
      " 이게 무슨일이야 ? ! ? ! \n",
      "이게 무슨일이야 ? ! ? !\n"
     ]
    }
   ],
   "source": [
    "sentence = '\"이게 무슨일이야??!??!!!\"'\n",
    "sentence = re.sub(\"(!)\\\\1{1,}\", r\"\\1\", sentence)\n",
    "print(sentence)\n",
    "sentence = re.sub(\"(\\?)\\\\1{1,}\", r\"\\1\", sentence)\n",
    "print(sentence)\n",
    "sentence = re.sub(r\"([?.!,])\", r\" \\1 \", sentence)\n",
    "print(sentence)\n",
    "sentence = re.sub(r\"[^ㄱ-ㅎ가-힣0-9?.!,]+\", \" \", sentence)\n",
    "print(sentence)\n",
    "sentence = re.sub(r'[\" \"]+', \" \", sentence)\n",
    "print(sentence)\n",
    "sentence = re.sub(\"(.)\\\\1{1,}\", r\"\\1\\1\", sentence)\n",
    "print(sentence)\n",
    "sentence = sentence.strip()\n",
    "print(sentence)"
   ]
  },
  {
   "cell_type": "code",
   "execution_count": 647,
   "id": "charming-primary",
   "metadata": {},
   "outputs": [],
   "source": [
    "def preprocess_sentence(sentence):\n",
    "    sentence = re.sub(\"(!)\\\\1{1,}\", r\"\\1\", sentence) ## 연속 느낌표 제거\n",
    "    sentence = re.sub(\"(\\?)\\\\1{1,}\", r\"\\1\", sentence) ## 연속 물음표 제거\n",
    "    sentence = re.sub(r\"([?.!,])\", r\" \\1 \", sentence) ## 구둣점 분리\n",
    "    sentence = re.sub(r\"[^가-힣0-9?.!,]+\", \" \", sentence)\n",
    "    sentence = re.sub(\"(.)\\\\1{1,}\", r\"\\1\\1\", sentence) ## 반복되는 ㅋㅋㅋ => ㅋㅋ\n",
    "    sentence = sentence.strip()\n",
    "    \n",
    "    return sentence"
   ]
  },
  {
   "cell_type": "code",
   "execution_count": 648,
   "id": "completed-dealer",
   "metadata": {},
   "outputs": [],
   "source": [
    "def load_conversations():\n",
    "    \n",
    "    questions = chatbotdata['Q'].apply(preprocess_sentence)\n",
    "    answers = chatbotdata['A'].apply(preprocess_sentence)\n",
    "    \n",
    "    return questions.to_numpy(), answers.to_numpy()"
   ]
  },
  {
   "cell_type": "code",
   "execution_count": 649,
   "id": "inclusive-potential",
   "metadata": {},
   "outputs": [
    {
     "name": "stdout",
     "output_type": "stream",
     "text": [
      "전체 질문 샘플 수: 11823\n",
      "전체 답변 샘플 수: 11823\n"
     ]
    }
   ],
   "source": [
    "questions, answers = load_conversations()\n",
    "print(f\"전체 질문 샘플 수: {len(questions)}\")\n",
    "print(f\"전체 답변 샘플 수: {len(answers)}\")"
   ]
  },
  {
   "cell_type": "code",
   "execution_count": 650,
   "id": "focal-coordinator",
   "metadata": {
    "scrolled": true
   },
   "outputs": [
    {
     "name": "stdout",
     "output_type": "stream",
     "text": [
      "전처리 후의 1523번째 질문 샘플: 말 잘하는 법\n",
      "전처리 후의 1523번째 답변 샘플: 책을 많이 읽어보세요 .\n",
      "==================================================\n",
      "전처리 후의 11532번째 질문 샘플: 짝녀랑 연락이 끊겼는데 더 연락하고 싶어 .\n",
      "전처리 후의 11532번째 답변 샘플: 연락할 핑계를 찾아보세요 .\n",
      "==================================================\n",
      "전처리 후의 4328번째 질문 샘플: 진짜 별 사람이 다 있어\n",
      "전처리 후의 4328번째 답변 샘플: 정말 특이한 사람 많죠 .\n",
      "==================================================\n",
      "전처리 후의 2180번째 질문 샘플: 불안해\n",
      "전처리 후의 2180번째 답변 샘플: 두려워하지 않아도 돼요 .\n",
      "==================================================\n",
      "전처리 후의 9761번째 질문 샘플: 몰래 동거하고 있어\n",
      "전처리 후의 9761번째 답변 샘플: 허락을 맡고 당당하게 하는 게 좋을 것 같아요 .\n",
      "==================================================\n"
     ]
    }
   ],
   "source": [
    "rng = np.random.default_rng()\n",
    "\n",
    "\n",
    "for _ in range(5):\n",
    "    idx = rng.integers(len(answers))\n",
    "    print(f'전처리 후의 {idx}번째 질문 샘플: {questions[idx]}')\n",
    "    print(f'전처리 후의 {idx}번째 답변 샘플: {answers[idx]}')\n",
    "    print('=' * 50)"
   ]
  },
  {
   "cell_type": "markdown",
   "id": "sapphire-starter",
   "metadata": {},
   "source": [
    "## SubwordTextEncoder 사용하기"
   ]
  },
  {
   "cell_type": "code",
   "execution_count": 651,
   "id": "accompanied-brooks",
   "metadata": {},
   "outputs": [],
   "source": [
    "import tensorflow_datasets as tfds\n",
    "\n",
    "tokenizer = tfds.deprecated.text.SubwordTextEncoder.build_from_corpus(questions + answers, \n",
    "                                                                      target_vocab_size=2**13)"
   ]
  },
  {
   "cell_type": "code",
   "execution_count": 652,
   "id": "southern-organic",
   "metadata": {},
   "outputs": [],
   "source": [
    "START_TOKEN, END_TOKEN = [tokenizer.vocab_size], [tokenizer.vocab_size+1]"
   ]
  },
  {
   "cell_type": "code",
   "execution_count": 653,
   "id": "elect-fisher",
   "metadata": {},
   "outputs": [
    {
     "name": "stdout",
     "output_type": "stream",
     "text": [
      "START_TOKEN의 번호 : [8348]\n",
      "END_TOKEN의 번호 : [8349]\n"
     ]
    }
   ],
   "source": [
    "print('START_TOKEN의 번호 :' ,[tokenizer.vocab_size])\n",
    "print('END_TOKEN의 번호 :' ,[tokenizer.vocab_size + 1])"
   ]
  },
  {
   "cell_type": "code",
   "execution_count": 654,
   "id": "boolean-willow",
   "metadata": {},
   "outputs": [
    {
     "name": "stdout",
     "output_type": "stream",
     "text": [
      "8350\n"
     ]
    }
   ],
   "source": [
    "# 시작 토큰과 종료 토큰을 고려하여 +2를 하여 단어장의 크기를 산정합니다.\n",
    "VOCAB_SIZE = tokenizer.vocab_size + 2\n",
    "print(VOCAB_SIZE)"
   ]
  },
  {
   "cell_type": "code",
   "execution_count": 655,
   "id": "moral-passport",
   "metadata": {},
   "outputs": [
    {
     "name": "stdout",
     "output_type": "stream",
     "text": [
      "전처리 후의 5869번째 질문 샘플: [50, 3664, 977, 687, 1]\n",
      "전처리 후의 5869번째 답변 샘플: [831, 22, 1420, 1]\n",
      "==================================================\n",
      "전처리 후의 3583번째 질문 샘플: [4065, 1233, 428, 6148, 4871, 786]\n",
      "전처리 후의 3583번째 답변 샘플: [1413, 13, 3954, 1]\n",
      "==================================================\n",
      "전처리 후의 6944번째 질문 샘플: [58, 205, 43, 5775]\n",
      "전처리 후의 6944번째 답변 샘플: [4488, 3439, 1]\n",
      "==================================================\n",
      "전처리 후의 3600번째 질문 샘플: [765, 2305, 312, 9, 59]\n",
      "전처리 후의 3600번째 답변 샘플: [466, 912, 131, 7436, 1]\n",
      "==================================================\n",
      "전처리 후의 4754번째 질문 샘플: [1774, 3033]\n",
      "전처리 후의 4754번째 답변 샘플: [678, 387, 1]\n",
      "==================================================\n"
     ]
    }
   ],
   "source": [
    "rng = np.random.default_rng()\n",
    "\n",
    "\n",
    "for _ in range(5):\n",
    "    idx = rng.integers(len(answers))\n",
    "    print(f'전처리 후의 {idx}번째 질문 샘플: {tokenizer.encode(questions[idx])}')\n",
    "    print(f'전처리 후의 {idx}번째 답변 샘플: {tokenizer.encode(answers[idx])}')\n",
    "    print('=' * 50)"
   ]
  },
  {
   "cell_type": "code",
   "execution_count": 656,
   "id": "early-scratch",
   "metadata": {},
   "outputs": [],
   "source": [
    "q_len = [len(s.split()) for s in questions]\n",
    "a_len = [len(s.split()) for s in answers]"
   ]
  },
  {
   "cell_type": "code",
   "execution_count": 657,
   "id": "knowing-sudan",
   "metadata": {},
   "outputs": [
    {
     "data": {
      "text/plain": [
       "Text(0.5, 1.0, 'Answers')"
      ]
     },
     "execution_count": 657,
     "metadata": {},
     "output_type": "execute_result"
    },
    {
     "data": {
      "image/png": "[encoded data removed]",
      "text/plain": [
       "<Figure size 432x288 with 2 Axes>"
      ]
     },
     "metadata": {
      "needs_background": "light"
     },
     "output_type": "display_data"
    },
    {
     "data": {
      "image/png": "[encoded data removed]",
      "text/plain": [
       "<Figure size 432x288 with 1 Axes>"
      ]
     },
     "metadata": {
      "needs_background": "light"
     },
     "output_type": "display_data"
    },
    {
     "data": {
      "image/png": "[encoded data removed]",
      "text/plain": [
       "<Figure size 432x288 with 1 Axes>"
      ]
     },
     "metadata": {
      "needs_background": "light"
     },
     "output_type": "display_data"
    }
   ],
   "source": [
    "fig, axes = plt.subplots(nrows=1, ncols=2)\n",
    "axs = axes.ravel()\n",
    "\n",
    "axs[0].boxplot(q_len)\n",
    "axs[0].set_title(\"Length of questions.\")\n",
    "\n",
    "axs[1].boxplot(a_len)\n",
    "axs[1].set_title(\"Length of answers.\")\n",
    "\n",
    "fig.tight_layout()\n",
    "\n",
    "fig2, ax2 = plt.subplots()\n",
    "ax2.hist(q_len, bins=40)\n",
    "ax2.set_xlabel(\"Length of samples\")\n",
    "ax2.set_ylabel(\"Number of samples\")\n",
    "ax2.set_title(\"Questions\")\n",
    "\n",
    "fig3, ax3 = plt.subplots()\n",
    "ax3.hist(a_len, bins=40)\n",
    "ax3.set_xlabel(\"Length of samples\")\n",
    "ax3.set_ylabel(\"Number of samples\")\n",
    "ax3.set_title(\"Answers\")"
   ]
  },
  {
   "cell_type": "code",
   "execution_count": 658,
   "id": "floating-castle",
   "metadata": {},
   "outputs": [
    {
     "name": "stdout",
     "output_type": "stream",
     "text": [
      "95% of q_len is :7.0\n",
      "95% of a_len is :8.0\n"
     ]
    }
   ],
   "source": [
    "print(f\"95% of q_len is :{np.percentile(q_len, 95)}\")\n",
    "print(f\"95% of a_len is :{np.percentile(a_len, 95)}\")"
   ]
  },
  {
   "cell_type": "markdown",
   "id": "lined-delta",
   "metadata": {},
   "source": [
    "데이터셋의 크기가 크지 않으므로 최대길이를 예제와 같이 25으로 정해 모든 단어를 포함하는 방향으로 진행해보겠습니다."
   ]
  },
  {
   "cell_type": "code",
   "execution_count": 659,
   "id": "offensive-bundle",
   "metadata": {},
   "outputs": [],
   "source": [
    "def below_threshold_len(max_len, nested_list):\n",
    "    cnt = 0\n",
    "    for s in nested_list:\n",
    "        if(len(s.split()) <= max_len):\n",
    "            cnt = cnt+1\n",
    "            \n",
    "    print(f\"전체 샘플 중 길이가 {max_len} 이하인 샘플의 비율: {cnt/len(nested_list):.2%}\")"
   ]
  },
  {
   "cell_type": "code",
   "execution_count": 660,
   "id": "empty-physiology",
   "metadata": {},
   "outputs": [
    {
     "name": "stdout",
     "output_type": "stream",
     "text": [
      "Questions\n",
      ">>>\n",
      "전체 샘플 중 길이가 25 이하인 샘플의 비율: 100.00%\n",
      "Answers\n",
      ">>>\n",
      "전체 샘플 중 길이가 25 이하인 샘플의 비율: 100.00%\n"
     ]
    }
   ],
   "source": [
    "print(\"Questions\\n>>>\")\n",
    "below_threshold_len(25, questions)\n",
    "print(\"Answers\\n>>>\")\n",
    "below_threshold_len(25, answers)"
   ]
  },
  {
   "cell_type": "code",
   "execution_count": 661,
   "id": "abroad-coach",
   "metadata": {},
   "outputs": [
    {
     "name": "stdout",
     "output_type": "stream",
     "text": [
      "25\n"
     ]
    }
   ],
   "source": [
    "MAX_LENGTH = 25\n",
    "print(MAX_LENGTH)"
   ]
  },
  {
   "cell_type": "code",
   "execution_count": 662,
   "id": "complicated-cycling",
   "metadata": {},
   "outputs": [],
   "source": [
    "def tokenize_and_filter(inputs, outputs):\n",
    "    tokenized_inputs, tokenized_outputs = [], []\n",
    "    \n",
    "    for (sentence1, sentence2) in zip(inputs, outputs):\n",
    "        sentence1 = START_TOKEN + tokenizer.encode(sentence1) + END_TOKEN\n",
    "        sentence2 = START_TOKEN + tokenizer.encode(sentence2) + END_TOKEN\n",
    "        \n",
    "        if len(sentence1) <= MAX_LENGTH and len(sentence2) <= MAX_LENGTH:\n",
    "            tokenized_inputs.append(sentence1)\n",
    "            tokenized_outputs.append(sentence2)\n",
    "    \n",
    "    tokenized_inputs = tf.keras.preprocessing.sequence.pad_sequences(\n",
    "        tokenized_inputs, maxlen=MAX_LENGTH, padding='post')\n",
    "    \n",
    "    tokenized_outputs = tf.keras.preprocessing.sequence.pad_sequences(\n",
    "        tokenized_outputs, maxlen=MAX_LENGTH, padding='post')\n",
    "    \n",
    "    return tokenized_inputs, tokenized_outputs"
   ]
  },
  {
   "cell_type": "code",
   "execution_count": 663,
   "id": "solar-adobe",
   "metadata": {},
   "outputs": [
    {
     "name": "stdout",
     "output_type": "stream",
     "text": [
      "단어장의 크기 : 8350\n",
      "필터링 후의 질문 샘플 개수: 11817\n",
      "필터링 후의 답변 샘플 개수: 11817\n"
     ]
    }
   ],
   "source": [
    "questions, answers = tokenize_and_filter(questions, answers)\n",
    "print('단어장의 크기 :',(VOCAB_SIZE))\n",
    "print('필터링 후의 질문 샘플 개수: {}'.format(len(questions)))\n",
    "print('필터링 후의 답변 샘플 개수: {}'.format(len(answers)))"
   ]
  },
  {
   "cell_type": "code",
   "execution_count": 664,
   "id": "offshore-identity",
   "metadata": {},
   "outputs": [],
   "source": [
    "BATCH_SIZE = 64\n",
    "BUFFER_SIZE = 20000\n",
    "\n",
    "dataset = tf.data.Dataset.from_tensor_slices((\n",
    "    {\n",
    "        'inputs': questions,\n",
    "        'dec_inputs': answers[:, :-1]\n",
    "    },\n",
    "    {\n",
    "        'outputs': answers[:, 1:]\n",
    "    }\n",
    "))\n",
    "\n",
    "dataset = dataset.cache()\n",
    "dataset = dataset.shuffle(BUFFER_SIZE)\n",
    "dataset = dataset.batch(BATCH_SIZE)\n",
    "dataset = dataset.prefetch(tf.data.experimental.AUTOTUNE)"
   ]
  },
  {
   "cell_type": "markdown",
   "id": "applicable-organic",
   "metadata": {},
   "source": [
    "### 모델링"
   ]
  },
  {
   "cell_type": "code",
   "execution_count": 665,
   "id": "presidential-seven",
   "metadata": {
    "scrolled": true
   },
   "outputs": [
    {
     "name": "stdout",
     "output_type": "stream",
     "text": [
      "Model: \"transformer\"\n",
      "__________________________________________________________________________________________________\n",
      "Layer (type)                    Output Shape         Param #     Connected to                     \n",
      "==================================================================================================\n",
      "inputs (InputLayer)             [(None, None)]       0                                            \n",
      "__________________________________________________________________________________________________\n",
      "dec_inputs (InputLayer)         [(None, None)]       0                                            \n",
      "__________________________________________________________________________________________________\n",
      "enc_padding_mask (Lambda)       (None, 1, 1, None)   0           inputs[0][0]                     \n",
      "__________________________________________________________________________________________________\n",
      "encoder (Functional)            (None, None, 256)    3191808     inputs[0][0]                     \n",
      "                                                                 enc_padding_mask[0][0]           \n",
      "__________________________________________________________________________________________________\n",
      "look_ahead_mask (Lambda)        (None, 1, None, None 0           dec_inputs[0][0]                 \n",
      "__________________________________________________________________________________________________\n",
      "dec_padding_mask (Lambda)       (None, 1, 1, None)   0           inputs[0][0]                     \n",
      "__________________________________________________________________________________________________\n",
      "decoder (Functional)            (None, None, 256)    3719168     dec_inputs[0][0]                 \n",
      "                                                                 encoder[0][0]                    \n",
      "                                                                 look_ahead_mask[0][0]            \n",
      "                                                                 dec_padding_mask[0][0]           \n",
      "__________________________________________________________________________________________________\n",
      "outputs (Dense)                 (None, None, 8350)   2145950     decoder[0][0]                    \n",
      "==================================================================================================\n",
      "Total params: 9,056,926\n",
      "Trainable params: 9,056,926\n",
      "Non-trainable params: 0\n",
      "__________________________________________________________________________________________________\n"
     ]
    }
   ],
   "source": [
    "tf.keras.backend.clear_session()\n",
    "\n",
    "\n",
    "NUM_LAYERS = 2\n",
    "D_MODEL = 256\n",
    "NUM_HEADS = 8\n",
    "UNITS = 512\n",
    "DROPOUT = 0.1\n",
    "\n",
    "model = transformer(\n",
    "    vocab_size=VOCAB_SIZE,\n",
    "    num_layers=NUM_LAYERS,\n",
    "    units=UNITS,\n",
    "    d_model=D_MODEL,\n",
    "    num_heads=NUM_HEADS,\n",
    "    dropout=DROPOUT)\n",
    "\n",
    "model.summary()"
   ]
  },
  {
   "cell_type": "code",
   "execution_count": 666,
   "id": "mechanical-solomon",
   "metadata": {},
   "outputs": [],
   "source": [
    "def loss_function(y_true, y_pred):\n",
    "    y_true = tf.reshape(y_true, shape=(-1, MAX_LENGTH - 1))\n",
    "    \n",
    "    loss = tf.keras.losses.SparseCategoricalCrossentropy(\n",
    "        from_logits=True, reduction='none')(y_true, y_pred)\n",
    "    \n",
    "    mask = tf.cast(tf.not_equal(y_true, 0), tf.float32)\n",
    "    loss = tf.multiply(loss, mask)\n",
    "    \n",
    "    return tf.reduce_mean(loss)"
   ]
  },
  {
   "cell_type": "code",
   "execution_count": 667,
   "id": "younger-salvation",
   "metadata": {},
   "outputs": [],
   "source": [
    "class CustomSchedule(tf.keras.optimizers.schedules.LearningRateSchedule):\n",
    "    \n",
    "    def __init__(self, d_model, warmup_steps=4000):\n",
    "        super(CustomSchedule, self).__init__()\n",
    "        \n",
    "        self.d_model = d_model\n",
    "        self.d_model = tf.cast(self.d_model, tf.float32)\n",
    "        \n",
    "        self.warmup_steps = warmup_steps\n",
    "        \n",
    "    def __call__(self, step):\n",
    "        arg1 = tf.math.rsqrt(step)\n",
    "        arg2 = step * (self.warmup_steps**-1.5)\n",
    "        \n",
    "        return tf.math.rsqrt(self.d_model) * tf.math.minimum(arg1, arg2)"
   ]
  },
  {
   "cell_type": "code",
   "execution_count": 668,
   "id": "delayed-camera",
   "metadata": {},
   "outputs": [],
   "source": [
    "learning_rate = CustomSchedule(D_MODEL)\n",
    "\n",
    "optimizer = tf.keras.optimizers.Adam(\n",
    "    learning_rate, beta_1=0.9, beta_2=0.98, epsilon=1e-9)\n",
    "\n",
    "def accuracy(y_true, y_pred):\n",
    "    y_true = tf.reshape(y_true, shape=(-1, MAX_LENGTH-1))\n",
    "    return tf.keras.metrics.sparse_categorical_accuracy(y_true, y_pred)"
   ]
  },
  {
   "cell_type": "code",
   "execution_count": 669,
   "id": "martial-mirror",
   "metadata": {},
   "outputs": [],
   "source": [
    "model.compile(optimizer=optimizer, loss=loss_function, metrics=[accuracy])"
   ]
  },
  {
   "cell_type": "code",
   "execution_count": 670,
   "id": "massive-canyon",
   "metadata": {},
   "outputs": [
    {
     "name": "stdout",
     "output_type": "stream",
     "text": [
      "Epoch 1/50\n",
      "185/185 [==============================] - 24s 100ms/step - loss: 2.4919 - accuracy: 0.0203\n",
      "Epoch 2/50\n",
      "185/185 [==============================] - 19s 102ms/step - loss: 2.0264 - accuracy: 0.0799\n",
      "Epoch 3/50\n",
      "185/185 [==============================] - 19s 103ms/step - loss: 1.6745 - accuracy: 0.0815\n",
      "Epoch 4/50\n",
      "185/185 [==============================] - 19s 104ms/step - loss: 1.5262 - accuracy: 0.0875\n",
      "Epoch 5/50\n",
      "185/185 [==============================] - 19s 103ms/step - loss: 1.4305 - accuracy: 0.0924\n",
      "Epoch 6/50\n",
      "185/185 [==============================] - 19s 104ms/step - loss: 1.3278 - accuracy: 0.0989\n",
      "Epoch 7/50\n",
      "185/185 [==============================] - 19s 103ms/step - loss: 1.2127 - accuracy: 0.1080\n",
      "Epoch 8/50\n",
      "185/185 [==============================] - 19s 103ms/step - loss: 1.0895 - accuracy: 0.1220\n",
      "Epoch 9/50\n",
      "185/185 [==============================] - 19s 105ms/step - loss: 0.9416 - accuracy: 0.1394\n",
      "Epoch 10/50\n",
      "185/185 [==============================] - 19s 104ms/step - loss: 0.7798 - accuracy: 0.1585\n",
      "Epoch 11/50\n",
      "185/185 [==============================] - 19s 104ms/step - loss: 0.6340 - accuracy: 0.1808\n",
      "Epoch 12/50\n",
      "185/185 [==============================] - 19s 105ms/step - loss: 0.4837 - accuracy: 0.2044\n",
      "Epoch 13/50\n",
      "185/185 [==============================] - 19s 105ms/step - loss: 0.3579 - accuracy: 0.2237\n",
      "Epoch 14/50\n",
      "185/185 [==============================] - 19s 103ms/step - loss: 0.2466 - accuracy: 0.2413\n",
      "Epoch 15/50\n",
      "185/185 [==============================] - 19s 105ms/step - loss: 0.1642 - accuracy: 0.2556\n",
      "Epoch 16/50\n",
      "185/185 [==============================] - 19s 102ms/step - loss: 0.1092 - accuracy: 0.2655\n",
      "Epoch 17/50\n",
      "185/185 [==============================] - 19s 105ms/step - loss: 0.0771 - accuracy: 0.2715\n",
      "Epoch 18/50\n",
      "185/185 [==============================] - 19s 105ms/step - loss: 0.0623 - accuracy: 0.2721\n",
      "Epoch 19/50\n",
      "185/185 [==============================] - 19s 105ms/step - loss: 0.0564 - accuracy: 0.2723\n",
      "Epoch 20/50\n",
      "185/185 [==============================] - 19s 105ms/step - loss: 0.0511 - accuracy: 0.2716\n",
      "Epoch 21/50\n",
      "185/185 [==============================] - 19s 105ms/step - loss: 0.0498 - accuracy: 0.2723\n",
      "Epoch 22/50\n",
      "185/185 [==============================] - 19s 104ms/step - loss: 0.0488 - accuracy: 0.2717\n",
      "Epoch 23/50\n",
      "185/185 [==============================] - 19s 105ms/step - loss: 0.0460 - accuracy: 0.2724\n",
      "Epoch 24/50\n",
      "185/185 [==============================] - 19s 105ms/step - loss: 0.0398 - accuracy: 0.2761\n",
      "Epoch 25/50\n",
      "185/185 [==============================] - 20s 105ms/step - loss: 0.0343 - accuracy: 0.2770\n",
      "Epoch 26/50\n",
      "185/185 [==============================] - 20s 105ms/step - loss: 0.0300 - accuracy: 0.2794\n",
      "Epoch 27/50\n",
      "185/185 [==============================] - 19s 105ms/step - loss: 0.0256 - accuracy: 0.2773\n",
      "Epoch 28/50\n",
      "185/185 [==============================] - 19s 104ms/step - loss: 0.0254 - accuracy: 0.2784\n",
      "Epoch 29/50\n",
      "185/185 [==============================] - 20s 106ms/step - loss: 0.0219 - accuracy: 0.2803\n",
      "Epoch 30/50\n",
      "185/185 [==============================] - 19s 105ms/step - loss: 0.0203 - accuracy: 0.2780\n",
      "Epoch 31/50\n",
      "185/185 [==============================] - 20s 106ms/step - loss: 0.0189 - accuracy: 0.2791\n",
      "Epoch 32/50\n",
      "185/185 [==============================] - 19s 105ms/step - loss: 0.0178 - accuracy: 0.2808\n",
      "Epoch 33/50\n",
      "185/185 [==============================] - 19s 105ms/step - loss: 0.0154 - accuracy: 0.2807\n",
      "Epoch 34/50\n",
      "185/185 [==============================] - 19s 105ms/step - loss: 0.0153 - accuracy: 0.2808\n",
      "Epoch 35/50\n",
      "185/185 [==============================] - 19s 105ms/step - loss: 0.0142 - accuracy: 0.2808\n",
      "Epoch 36/50\n",
      "185/185 [==============================] - 19s 105ms/step - loss: 0.0129 - accuracy: 0.2807\n",
      "Epoch 37/50\n",
      "185/185 [==============================] - 20s 106ms/step - loss: 0.0114 - accuracy: 0.2812\n",
      "Epoch 38/50\n",
      "185/185 [==============================] - 19s 105ms/step - loss: 0.0114 - accuracy: 0.2815\n",
      "Epoch 39/50\n",
      "185/185 [==============================] - 19s 105ms/step - loss: 0.0115 - accuracy: 0.2815\n",
      "Epoch 40/50\n",
      "185/185 [==============================] - 19s 105ms/step - loss: 0.0102 - accuracy: 0.2817\n",
      "Epoch 41/50\n",
      "185/185 [==============================] - 19s 105ms/step - loss: 0.0102 - accuracy: 0.2831\n",
      "Epoch 42/50\n",
      "185/185 [==============================] - 19s 105ms/step - loss: 0.0092 - accuracy: 0.2825\n",
      "Epoch 43/50\n",
      "185/185 [==============================] - 19s 105ms/step - loss: 0.0091 - accuracy: 0.2812\n",
      "Epoch 44/50\n",
      "185/185 [==============================] - 19s 104ms/step - loss: 0.0088 - accuracy: 0.2821\n",
      "Epoch 45/50\n",
      "185/185 [==============================] - 19s 105ms/step - loss: 0.0077 - accuracy: 0.2825\n",
      "Epoch 46/50\n",
      "185/185 [==============================] - 20s 105ms/step - loss: 0.0072 - accuracy: 0.2836\n",
      "Epoch 47/50\n",
      "185/185 [==============================] - 19s 105ms/step - loss: 0.0082 - accuracy: 0.2837\n"
     ]
    },
    {
     "data": {
      "text/plain": [
       "<tensorflow.python.keras.callbacks.History at 0x7fbf4ea0b810>"
      ]
     },
     "execution_count": 670,
     "metadata": {},
     "output_type": "execute_result"
    }
   ],
   "source": [
    "EPOCHS = 50\n",
    "callback = tf.keras.callbacks.EarlyStopping(monitor='loss')\n",
    "model.fit(dataset, epochs=EPOCHS, verbose=1, callbacks=[callback])"
   ]
  },
  {
   "cell_type": "code",
   "execution_count": 671,
   "id": "approximate-living",
   "metadata": {},
   "outputs": [],
   "source": [
    "def decoder_inference(sentence):\n",
    "    sentence = preprocess_sentence(sentence)\n",
    "\n",
    "  # 입력된 문장을 정수 인코딩 후, 시작 토큰과 종료 토큰을 앞뒤로 추가.\n",
    "  # ex) Where have you been? → [[8331   86   30    5 1059    7 8332]]\n",
    "    sentence = tf.expand_dims(\n",
    "      START_TOKEN + tokenizer.encode(sentence) + END_TOKEN, axis=0)\n",
    "\n",
    "  # 디코더의 현재까지의 예측한 출력 시퀀스가 지속적으로 저장되는 변수.\n",
    "  # 처음에는 예측한 내용이 없음으로 시작 토큰만 별도 저장. ex) 8331\n",
    "    output_sequence = tf.expand_dims(START_TOKEN, 0)\n",
    "\n",
    "  # 디코더의 인퍼런스 단계\n",
    "    for i in range(MAX_LENGTH):\n",
    "        predictions = model(inputs=[sentence, output_sequence], training=False)\n",
    "        predictions = predictions[:, -1:, :]\n",
    "\n",
    "        predicted_id = tf.cast(tf.argmax(predictions, axis=-1), tf.int32)\n",
    "\n",
    "    # 만약 현재 예측한 단어가 종료 토큰이라면 for문을 종료\n",
    "        if tf.equal(predicted_id, END_TOKEN[0]):\n",
    "            break\n",
    "\n",
    "    # 예측한 단어들은 지속적으로 output_sequence에 추가됩니다.\n",
    "\n",
    "        output_sequence = tf.concat([output_sequence, predicted_id], axis=-1)\n",
    "\n",
    "    return tf.squeeze(output_sequence, axis=0)\n"
   ]
  },
  {
   "cell_type": "code",
   "execution_count": 672,
   "id": "proprietary-conspiracy",
   "metadata": {},
   "outputs": [],
   "source": [
    "def sentence_generation(sentence):\n",
    "  # 입력 문장에 대해서 디코더를 동작 시켜 예측된 정수 시퀀스를 리턴받습니다.\n",
    "    prediction = decoder_inference(sentence)\n",
    "\n",
    "    # 정수 시퀀스를 다시 텍스트 시퀀스로 변환합니다.\n",
    "    predicted_sentence = tokenizer.decode(\n",
    "      [i for i in prediction if i < tokenizer.vocab_size])\n",
    "\n",
    "    print('입력 : {}'.format(sentence))\n",
    "    print('출력 : {}'.format(predicted_sentence))\n",
    "\n",
    "    return predicted_sentence"
   ]
  },
  {
   "cell_type": "code",
   "execution_count": 673,
   "id": "voluntary-architect",
   "metadata": {},
   "outputs": [
    {
     "name": "stdout",
     "output_type": "stream",
     "text": [
      "입력 : 출근길 너무 힘들어\n",
      "출력 : 회사 근처로 이사를 가보세요 .\n"
     ]
    },
    {
     "data": {
      "text/plain": [
       "'회사 근처로 이사를 가보세요 .'"
      ]
     },
     "execution_count": 673,
     "metadata": {},
     "output_type": "execute_result"
    }
   ],
   "source": [
    "sentence_generation('출근길 너무 힘들어')"
   ]
  },
  {
   "cell_type": "code",
   "execution_count": 674,
   "id": "adjustable-geneva",
   "metadata": {},
   "outputs": [
    {
     "name": "stdout",
     "output_type": "stream",
     "text": [
      "입력 : 안녕, 넌 이름이 뭐니?\n",
      "출력 : 안녕하세요 .\n"
     ]
    },
    {
     "data": {
      "text/plain": [
       "'안녕하세요 .'"
      ]
     },
     "execution_count": 674,
     "metadata": {},
     "output_type": "execute_result"
    }
   ],
   "source": [
    "sentence_generation('안녕, 넌 이름이 뭐니?')"
   ]
  },
  {
   "cell_type": "code",
   "execution_count": 675,
   "id": "thirty-enterprise",
   "metadata": {},
   "outputs": [
    {
     "name": "stdout",
     "output_type": "stream",
     "text": [
      "입력 : 오늘 날씨는 어때?\n",
      "출력 : 오늘은 예능이요 .\n"
     ]
    },
    {
     "data": {
      "text/plain": [
       "'오늘은 예능이요 .'"
      ]
     },
     "execution_count": 675,
     "metadata": {},
     "output_type": "execute_result"
    }
   ],
   "source": [
    "sentence_generation('오늘 날씨는 어때?')"
   ]
  },
  {
   "cell_type": "code",
   "execution_count": 676,
   "id": "meaningful-example",
   "metadata": {},
   "outputs": [
    {
     "name": "stdout",
     "output_type": "stream",
     "text": [
      "입력 : 오늘 날씨는 어때??\n",
      "출력 : 오늘은 예능이요 .\n"
     ]
    },
    {
     "data": {
      "text/plain": [
       "'오늘은 예능이요 .'"
      ]
     },
     "execution_count": 676,
     "metadata": {},
     "output_type": "execute_result"
    }
   ],
   "source": [
    "sentence_generation('오늘 날씨는 어때??')"
   ]
  },
  {
   "cell_type": "code",
   "execution_count": 677,
   "id": "wrong-riding",
   "metadata": {},
   "outputs": [
    {
     "name": "stdout",
     "output_type": "stream",
     "text": [
      "입력 : 오늘 날씨는 어떠니?\n",
      "출력 : 당신만 아픈 것도 , 당신만 겪은 것도 아니에요 .\n"
     ]
    },
    {
     "data": {
      "text/plain": [
       "'당신만 아픈 것도 , 당신만 겪은 것도 아니에요 .'"
      ]
     },
     "execution_count": 677,
     "metadata": {},
     "output_type": "execute_result"
    }
   ],
   "source": [
    "sentence_generation('오늘 날씨는 어떠니?')"
   ]
  },
  {
   "cell_type": "code",
   "execution_count": 678,
   "id": "gross-timing",
   "metadata": {},
   "outputs": [
    {
     "name": "stdout",
     "output_type": "stream",
     "text": [
      "입력 : 오늘 날씨는 어땡?\n",
      "출력 : 오늘은 예능이요 .\n"
     ]
    },
    {
     "data": {
      "text/plain": [
       "'오늘은 예능이요 .'"
      ]
     },
     "execution_count": 678,
     "metadata": {},
     "output_type": "execute_result"
    }
   ],
   "source": [
    "sentence_generation('오늘 날씨는 어땡?')"
   ]
  },
  {
   "cell_type": "code",
   "execution_count": 679,
   "id": "functioning-lambda",
   "metadata": {},
   "outputs": [
    {
     "name": "stdout",
     "output_type": "stream",
     "text": [
      "입력 : 오늘 날씨는 어때ㅋㅋㅋㅋㅋ\n",
      "출력 : 오늘은 예능이요 .\n"
     ]
    },
    {
     "data": {
      "text/plain": [
       "'오늘은 예능이요 .'"
      ]
     },
     "execution_count": 679,
     "metadata": {},
     "output_type": "execute_result"
    }
   ],
   "source": [
    "sentence_generation('오늘 날씨는 어때ㅋㅋㅋㅋㅋ')"
   ]
  },
  {
   "cell_type": "code",
   "execution_count": 680,
   "id": "potential-sigma",
   "metadata": {},
   "outputs": [
    {
     "name": "stdout",
     "output_type": "stream",
     "text": [
      "입력 : ㅋ\n",
      "출력 : 지금은 힘들겠지만 조금만 더 견뎌봐요 .\n"
     ]
    },
    {
     "data": {
      "text/plain": [
       "'지금은 힘들겠지만 조금만 더 견뎌봐요 .'"
      ]
     },
     "execution_count": 680,
     "metadata": {},
     "output_type": "execute_result"
    }
   ],
   "source": [
    "sentence_generation('ㅋ')"
   ]
  },
  {
   "cell_type": "code",
   "execution_count": 681,
   "id": "twenty-portal",
   "metadata": {},
   "outputs": [
    {
     "name": "stdout",
     "output_type": "stream",
     "text": [
      "입력 : ㅋㅋ\n",
      "출력 : 지금은 힘들겠지만 조금만 더 견뎌봐요 .\n"
     ]
    },
    {
     "data": {
      "text/plain": [
       "'지금은 힘들겠지만 조금만 더 견뎌봐요 .'"
      ]
     },
     "execution_count": 681,
     "metadata": {},
     "output_type": "execute_result"
    }
   ],
   "source": [
    "sentence_generation('ㅋㅋ')"
   ]
  },
  {
   "cell_type": "code",
   "execution_count": 682,
   "id": "expired-fever",
   "metadata": {},
   "outputs": [
    {
     "name": "stdout",
     "output_type": "stream",
     "text": [
      "입력 : ㅋㅋㅋ\n",
      "출력 : 지금은 힘들겠지만 조금만 더 견뎌봐요 .\n"
     ]
    },
    {
     "data": {
      "text/plain": [
       "'지금은 힘들겠지만 조금만 더 견뎌봐요 .'"
      ]
     },
     "execution_count": 682,
     "metadata": {},
     "output_type": "execute_result"
    }
   ],
   "source": [
    "sentence_generation('ㅋㅋㅋ')"
   ]
  },
  {
   "cell_type": "code",
   "execution_count": 691,
   "id": "advised-michigan",
   "metadata": {},
   "outputs": [
    {
     "name": "stdout",
     "output_type": "stream",
     "text": [
      "입력 : 날씨 좋아?\n",
      "출력 : 날씨 어플에 물어보세요 .\n"
     ]
    },
    {
     "data": {
      "text/plain": [
       "'날씨 어플에 물어보세요 .'"
      ]
     },
     "execution_count": 691,
     "metadata": {},
     "output_type": "execute_result"
    }
   ],
   "source": [
    "sentence_generation('날씨 좋아?')"
   ]
  },
  {
   "cell_type": "code",
   "execution_count": 692,
   "id": "welsh-chess",
   "metadata": {
    "scrolled": false
   },
   "outputs": [
    {
     "name": "stdout",
     "output_type": "stream",
     "text": [
      "입력 : 날씨 좋아!\n",
      "출력 : 하늘을 보고 웃어보세요 .\n"
     ]
    },
    {
     "data": {
      "text/plain": [
       "'하늘을 보고 웃어보세요 .'"
      ]
     },
     "execution_count": 692,
     "metadata": {},
     "output_type": "execute_result"
    }
   ],
   "source": [
    "sentence_generation('날씨 좋아!')"
   ]
  },
  {
   "cell_type": "markdown",
   "id": "configured-orbit",
   "metadata": {},
   "source": [
    "'오늘 날씨는 어때?' 와 '오늘 날씨는 어때ㅋㅋㅋㅋㅋ' 가 같은 답변을 만들어낸 것을 보면 전처리가 효과가 있었다고 생각할 수 있을 것도 같습니다. 'ㅋ'와 'ㅋㅋ', 'ㅋㅋㅋ' 모두 다 같은 답변을 이끌어내고 있기도 합니다.\n",
    "\n",
    "'날씨 좋아?'와 '날씨 좋아!'도 어느정도 구분을 하고 답변을 만들어내고 있는 것 같습니다. 날씨가 어떠냐는 질문에 '오늘은 예능이요.'라고 맞지 않는 대답을 하는 경우도 아직 있습니다."
   ]
  },
  {
   "cell_type": "markdown",
   "id": "average-petersburg",
   "metadata": {},
   "source": [
    "## 7. 하이퍼파라미터 수정"
   ]
  },
  {
   "cell_type": "code",
   "execution_count": 693,
   "id": "selective-bronze",
   "metadata": {},
   "outputs": [],
   "source": [
    "questions = chatbotdata['Q'].to_numpy()\n",
    "answers = chatbotdata['A'].to_numpy()"
   ]
  },
  {
   "cell_type": "code",
   "execution_count": 694,
   "id": "brazilian-inventory",
   "metadata": {},
   "outputs": [],
   "source": [
    "def preprocess_sentence(sentence):\n",
    "    sentence = re.sub(\"(!)\\\\1{1,}\", r\"\\1\", sentence) ## 연속 느낌표 제거\n",
    "    sentence = re.sub(\"(\\?)\\\\1{1,}\", r\"\\1\", sentence) ## 연속 물음표 제거\n",
    "    sentence = re.sub(r\"([?.!,])\", r\" \\1 \", sentence) ## 구둣점 분리\n",
    "    sentence = re.sub(r\"[^가-힣0-9?.!,]+\", \" \", sentence)\n",
    "    sentence = re.sub(\"(.)\\\\1{1,}\", r\"\\1\\1\", sentence) ## 반복되는 ㅋㅋㅋ => ㅋㅋ\n",
    "    sentence = sentence.strip()\n",
    "    \n",
    "    return sentence"
   ]
  },
  {
   "cell_type": "code",
   "execution_count": 695,
   "id": "expired-withdrawal",
   "metadata": {},
   "outputs": [],
   "source": [
    "def load_conversations():\n",
    "    \n",
    "    questions = chatbotdata['Q'].apply(preprocess_sentence)\n",
    "    answers = chatbotdata['A'].apply(preprocess_sentence)\n",
    "    \n",
    "    return questions.to_numpy(), answers.to_numpy()"
   ]
  },
  {
   "cell_type": "code",
   "execution_count": 696,
   "id": "naked-taylor",
   "metadata": {},
   "outputs": [
    {
     "name": "stdout",
     "output_type": "stream",
     "text": [
      "전체 질문 샘플 수: 11823\n",
      "전체 답변 샘플 수: 11823\n"
     ]
    }
   ],
   "source": [
    "questions, answers = load_conversations()\n",
    "print(f\"전체 질문 샘플 수: {len(questions)}\")\n",
    "print(f\"전체 답변 샘플 수: {len(answers)}\")"
   ]
  },
  {
   "cell_type": "code",
   "execution_count": 697,
   "id": "divine-scanning",
   "metadata": {
    "scrolled": true
   },
   "outputs": [
    {
     "name": "stdout",
     "output_type": "stream",
     "text": [
      "전처리 후의 4027번째 질문 샘플: 재테크 하는 방법 알려줘\n",
      "전처리 후의 4027번째 답변 샘플: 우선 관련 서적을 읽어보세요 .\n",
      "==================================================\n",
      "전처리 후의 6442번째 질문 샘플: 받아들이기가 많이 힘드네\n",
      "전처리 후의 6442번째 답변 샘플: 이해하기 힘드니까요 .\n",
      "==================================================\n",
      "전처리 후의 7320번째 질문 샘플: 으휴 집에 들어가기가 싫네\n",
      "전처리 후의 7320번째 답변 샘플: 집에 들어가 뜨거운 물로 샤워하고 나면 쌓였던 생각들이 사라질지도 몰라요 .\n",
      "==================================================\n",
      "전처리 후의 10377번째 질문 샘플: 썸이 좋아\n",
      "전처리 후의 10377번째 답변 샘플: 사귈락말락 할 때가 좋지요 .\n",
      "==================================================\n",
      "전처리 후의 2233번째 질문 샘플: 비행기표가 왜이렇게 비싸\n",
      "전처리 후의 2233번째 답변 샘플: 일찍 구매하면 좀 더 저렴하게 살 수 있어요 .\n",
      "==================================================\n"
     ]
    }
   ],
   "source": [
    "rng = np.random.default_rng()\n",
    "\n",
    "\n",
    "for _ in range(5):\n",
    "    idx = rng.integers(len(answers))\n",
    "    print(f'전처리 후의 {idx}번째 질문 샘플: {questions[idx]}')\n",
    "    print(f'전처리 후의 {idx}번째 답변 샘플: {answers[idx]}')\n",
    "    print('=' * 50)"
   ]
  },
  {
   "cell_type": "code",
   "execution_count": 698,
   "id": "suited-fashion",
   "metadata": {},
   "outputs": [],
   "source": [
    "import tensorflow_datasets as tfds\n",
    "\n",
    "tokenizer = tfds.deprecated.text.SubwordTextEncoder.build_from_corpus(questions + answers, \n",
    "                                                                      target_vocab_size=2**13)"
   ]
  },
  {
   "cell_type": "code",
   "execution_count": 699,
   "id": "educational-quest",
   "metadata": {},
   "outputs": [],
   "source": [
    "START_TOKEN, END_TOKEN = [tokenizer.vocab_size], [tokenizer.vocab_size+1]"
   ]
  },
  {
   "cell_type": "code",
   "execution_count": 700,
   "id": "willing-cleveland",
   "metadata": {},
   "outputs": [
    {
     "name": "stdout",
     "output_type": "stream",
     "text": [
      "START_TOKEN의 번호 : [8348]\n",
      "END_TOKEN의 번호 : [8349]\n"
     ]
    }
   ],
   "source": [
    "print('START_TOKEN의 번호 :' ,[tokenizer.vocab_size])\n",
    "print('END_TOKEN의 번호 :' ,[tokenizer.vocab_size + 1])"
   ]
  },
  {
   "cell_type": "code",
   "execution_count": 701,
   "id": "trying-association",
   "metadata": {},
   "outputs": [
    {
     "name": "stdout",
     "output_type": "stream",
     "text": [
      "8350\n"
     ]
    }
   ],
   "source": [
    "# 시작 토큰과 종료 토큰을 고려하여 +2를 하여 단어장의 크기를 산정합니다.\n",
    "VOCAB_SIZE = tokenizer.vocab_size + 2\n",
    "print(VOCAB_SIZE)"
   ]
  },
  {
   "cell_type": "code",
   "execution_count": 702,
   "id": "split-graphics",
   "metadata": {},
   "outputs": [
    {
     "name": "stdout",
     "output_type": "stream",
     "text": [
      "전처리 후의 3349번째 질문 샘플: [464, 729, 14, 20, 5337]\n",
      "전처리 후의 3349번째 답변 샘플: [267, 854, 23, 5212, 94, 3846, 1219, 5327, 1]\n",
      "==================================================\n",
      "전처리 후의 323번째 질문 샘플: [1456, 8124, 55, 1742, 162]\n",
      "전처리 후의 323번째 답변 샘플: [22, 4628, 30, 3, 1]\n",
      "==================================================\n",
      "전처리 후의 4918번째 질문 샘플: [3853, 5771, 132]\n",
      "전처리 후의 4918번째 답변 샘플: [2433, 23, 138, 4646, 5, 30, 3, 35]\n",
      "==================================================\n",
      "전처리 후의 9172번째 질문 샘플: [592, 10, 394, 3643, 49, 1]\n",
      "전처리 후의 9172번째 답변 샘플: [1007, 3102, 140, 1]\n",
      "==================================================\n",
      "전처리 후의 11257번째 질문 샘플: [998, 7993, 67, 778, 58, 93, 2]\n",
      "전처리 후의 11257번째 답변 샘플: [8141, 802, 27, 3739, 66, 1296, 1203, 7047, 8124, 3739, 66, 26, 1]\n",
      "==================================================\n"
     ]
    }
   ],
   "source": [
    "rng = np.random.default_rng()\n",
    "\n",
    "\n",
    "for _ in range(5):\n",
    "    idx = rng.integers(len(answers))\n",
    "    print(f'전처리 후의 {idx}번째 질문 샘플: {tokenizer.encode(questions[idx])}')\n",
    "    print(f'전처리 후의 {idx}번째 답변 샘플: {tokenizer.encode(answers[idx])}')\n",
    "    print('=' * 50)"
   ]
  },
  {
   "cell_type": "code",
   "execution_count": 703,
   "id": "living-citizenship",
   "metadata": {},
   "outputs": [],
   "source": [
    "q_len = [len(s.split()) for s in questions]\n",
    "a_len = [len(s.split()) for s in answers]"
   ]
  },
  {
   "cell_type": "code",
   "execution_count": 704,
   "id": "monthly-registration",
   "metadata": {},
   "outputs": [
    {
     "data": {
      "text/plain": [
       "Text(0.5, 1.0, 'Answers')"
      ]
     },
     "execution_count": 704,
     "metadata": {},
     "output_type": "execute_result"
    },
    {
     "data": {
      "image/png": "[encoded data removed]",
      "text/plain": [
       "<Figure size 432x288 with 2 Axes>"
      ]
     },
     "metadata": {
      "needs_background": "light"
     },
     "output_type": "display_data"
    },
    {
     "data": {
      "image/png": "[encoded data removed]",
      "text/plain": [
       "<Figure size 432x288 with 1 Axes>"
      ]
     },
     "metadata": {
      "needs_background": "light"
     },
     "output_type": "display_data"
    },
    {
     "data": {
      "image/png": "[encoded data removed]",
      "text/plain": [
       "<Figure size 432x288 with 1 Axes>"
      ]
     },
     "metadata": {
      "needs_background": "light"
     },
     "output_type": "display_data"
    }
   ],
   "source": [
    "fig, axes = plt.subplots(nrows=1, ncols=2)\n",
    "axs = axes.ravel()\n",
    "\n",
    "axs[0].boxplot(q_len)\n",
    "axs[0].set_title(\"Length of questions.\")\n",
    "\n",
    "axs[1].boxplot(a_len)\n",
    "axs[1].set_title(\"Length of answers.\")\n",
    "\n",
    "fig.tight_layout()\n",
    "\n",
    "fig2, ax2 = plt.subplots()\n",
    "ax2.hist(q_len, bins=40)\n",
    "ax2.set_xlabel(\"Length of samples\")\n",
    "ax2.set_ylabel(\"Number of samples\")\n",
    "ax2.set_title(\"Questions\")\n",
    "\n",
    "fig3, ax3 = plt.subplots()\n",
    "ax3.hist(a_len, bins=40)\n",
    "ax3.set_xlabel(\"Length of samples\")\n",
    "ax3.set_ylabel(\"Number of samples\")\n",
    "ax3.set_title(\"Answers\")"
   ]
  },
  {
   "cell_type": "code",
   "execution_count": 705,
   "id": "hundred-recipient",
   "metadata": {},
   "outputs": [
    {
     "name": "stdout",
     "output_type": "stream",
     "text": [
      "95% of q_len is :7.0\n",
      "95% of a_len is :8.0\n"
     ]
    }
   ],
   "source": [
    "print(f\"95% of q_len is :{np.percentile(q_len, 95)}\")\n",
    "print(f\"95% of a_len is :{np.percentile(a_len, 95)}\")"
   ]
  },
  {
   "cell_type": "markdown",
   "id": "stable-joyce",
   "metadata": {},
   "source": [
    "데이터셋의 크기가 크지 않으므로 최대길이를 예제와 같이 25으로 정해 모든 단어를 포함하는 방향으로 진행해보겠습니다."
   ]
  },
  {
   "cell_type": "code",
   "execution_count": 706,
   "id": "false-cancer",
   "metadata": {},
   "outputs": [],
   "source": [
    "def below_threshold_len(max_len, nested_list):\n",
    "    cnt = 0\n",
    "    for s in nested_list:\n",
    "        if(len(s.split()) <= max_len):\n",
    "            cnt = cnt+1\n",
    "            \n",
    "    print(f\"전체 샘플 중 길이가 {max_len} 이하인 샘플의 비율: {cnt/len(nested_list):.2%}\")"
   ]
  },
  {
   "cell_type": "code",
   "execution_count": 707,
   "id": "literary-frederick",
   "metadata": {},
   "outputs": [
    {
     "name": "stdout",
     "output_type": "stream",
     "text": [
      "Questions\n",
      ">>>\n",
      "전체 샘플 중 길이가 25 이하인 샘플의 비율: 100.00%\n",
      "Answers\n",
      ">>>\n",
      "전체 샘플 중 길이가 25 이하인 샘플의 비율: 100.00%\n"
     ]
    }
   ],
   "source": [
    "print(\"Questions\\n>>>\")\n",
    "below_threshold_len(25, questions)\n",
    "print(\"Answers\\n>>>\")\n",
    "below_threshold_len(25, answers)"
   ]
  },
  {
   "cell_type": "code",
   "execution_count": 708,
   "id": "designed-cambodia",
   "metadata": {},
   "outputs": [
    {
     "name": "stdout",
     "output_type": "stream",
     "text": [
      "25\n"
     ]
    }
   ],
   "source": [
    "MAX_LENGTH = 25\n",
    "print(MAX_LENGTH)"
   ]
  },
  {
   "cell_type": "code",
   "execution_count": 709,
   "id": "bronze-tackle",
   "metadata": {},
   "outputs": [],
   "source": [
    "def tokenize_and_filter(inputs, outputs):\n",
    "    tokenized_inputs, tokenized_outputs = [], []\n",
    "    \n",
    "    for (sentence1, sentence2) in zip(inputs, outputs):\n",
    "        sentence1 = START_TOKEN + tokenizer.encode(sentence1) + END_TOKEN\n",
    "        sentence2 = START_TOKEN + tokenizer.encode(sentence2) + END_TOKEN\n",
    "        \n",
    "        if len(sentence1) <= MAX_LENGTH and len(sentence2) <= MAX_LENGTH:\n",
    "            tokenized_inputs.append(sentence1)\n",
    "            tokenized_outputs.append(sentence2)\n",
    "    \n",
    "    tokenized_inputs = tf.keras.preprocessing.sequence.pad_sequences(\n",
    "        tokenized_inputs, maxlen=MAX_LENGTH, padding='post')\n",
    "    \n",
    "    tokenized_outputs = tf.keras.preprocessing.sequence.pad_sequences(\n",
    "        tokenized_outputs, maxlen=MAX_LENGTH, padding='post')\n",
    "    \n",
    "    return tokenized_inputs, tokenized_outputs"
   ]
  },
  {
   "cell_type": "code",
   "execution_count": 710,
   "id": "special-process",
   "metadata": {},
   "outputs": [
    {
     "name": "stdout",
     "output_type": "stream",
     "text": [
      "단어장의 크기 : 8350\n",
      "필터링 후의 질문 샘플 개수: 11817\n",
      "필터링 후의 답변 샘플 개수: 11817\n"
     ]
    }
   ],
   "source": [
    "questions, answers = tokenize_and_filter(questions, answers)\n",
    "print('단어장의 크기 :',(VOCAB_SIZE))\n",
    "print('필터링 후의 질문 샘플 개수: {}'.format(len(questions)))\n",
    "print('필터링 후의 답변 샘플 개수: {}'.format(len(answers)))"
   ]
  },
  {
   "cell_type": "code",
   "execution_count": 711,
   "id": "afraid-control",
   "metadata": {},
   "outputs": [],
   "source": [
    "BATCH_SIZE = 64\n",
    "BUFFER_SIZE = 20000\n",
    "\n",
    "dataset = tf.data.Dataset.from_tensor_slices((\n",
    "    {\n",
    "        'inputs': questions,\n",
    "        'dec_inputs': answers[:, :-1]\n",
    "    },\n",
    "    {\n",
    "        'outputs': answers[:, 1:]\n",
    "    }\n",
    "))\n",
    "\n",
    "dataset = dataset.cache()\n",
    "dataset = dataset.shuffle(BUFFER_SIZE)\n",
    "dataset = dataset.batch(BATCH_SIZE)\n",
    "dataset = dataset.prefetch(tf.data.experimental.AUTOTUNE)"
   ]
  },
  {
   "cell_type": "code",
   "execution_count": 752,
   "id": "expired-lawrence",
   "metadata": {
    "scrolled": true
   },
   "outputs": [
    {
     "name": "stdout",
     "output_type": "stream",
     "text": [
      "Model: \"transformer\"\n",
      "__________________________________________________________________________________________________\n",
      "Layer (type)                    Output Shape         Param #     Connected to                     \n",
      "==================================================================================================\n",
      "inputs (InputLayer)             [(None, None)]       0                                            \n",
      "__________________________________________________________________________________________________\n",
      "dec_inputs (InputLayer)         [(None, None)]       0                                            \n",
      "__________________________________________________________________________________________________\n",
      "enc_padding_mask (Lambda)       (None, 1, 1, None)   0           inputs[0][0]                     \n",
      "__________________________________________________________________________________________________\n",
      "encoder (Functional)            (None, None, 512)    8480768     inputs[0][0]                     \n",
      "                                                                 enc_padding_mask[0][0]           \n",
      "__________________________________________________________________________________________________\n",
      "look_ahead_mask (Lambda)        (None, 1, None, None 0           dec_inputs[0][0]                 \n",
      "__________________________________________________________________________________________________\n",
      "dec_padding_mask (Lambda)       (None, 1, 1, None)   0           inputs[0][0]                     \n",
      "__________________________________________________________________________________________________\n",
      "decoder (Functional)            (None, None, 512)    10584064    dec_inputs[0][0]                 \n",
      "                                                                 encoder[0][0]                    \n",
      "                                                                 look_ahead_mask[0][0]            \n",
      "                                                                 dec_padding_mask[0][0]           \n",
      "__________________________________________________________________________________________________\n",
      "outputs (Dense)                 (None, None, 8350)   4283550     decoder[0][0]                    \n",
      "==================================================================================================\n",
      "Total params: 23,348,382\n",
      "Trainable params: 23,348,382\n",
      "Non-trainable params: 0\n",
      "__________________________________________________________________________________________________\n"
     ]
    }
   ],
   "source": [
    "tf.keras.backend.clear_session()\n",
    "\n",
    "\n",
    "NUM_LAYERS = 2\n",
    "D_MODEL = 512\n",
    "NUM_HEADS = 8\n",
    "UNITS = 1024\n",
    "DROPOUT = 0.1\n",
    "\n",
    "model = transformer(\n",
    "    vocab_size=VOCAB_SIZE,\n",
    "    num_layers=NUM_LAYERS,\n",
    "    units=UNITS,\n",
    "    d_model=D_MODEL,\n",
    "    num_heads=NUM_HEADS,\n",
    "    dropout=DROPOUT)\n",
    "\n",
    "model.summary()"
   ]
  },
  {
   "cell_type": "code",
   "execution_count": 753,
   "id": "precious-dependence",
   "metadata": {},
   "outputs": [],
   "source": [
    "def loss_function(y_true, y_pred):\n",
    "    y_true = tf.reshape(y_true, shape=(-1, MAX_LENGTH - 1))\n",
    "    \n",
    "    loss = tf.keras.losses.SparseCategoricalCrossentropy(\n",
    "        from_logits=True, reduction='none')(y_true, y_pred)\n",
    "    \n",
    "    mask = tf.cast(tf.not_equal(y_true, 0), tf.float32)\n",
    "    loss = tf.multiply(loss, mask)\n",
    "    \n",
    "    return tf.reduce_mean(loss)"
   ]
  },
  {
   "cell_type": "code",
   "execution_count": 754,
   "id": "billion-leave",
   "metadata": {},
   "outputs": [],
   "source": [
    "class CustomSchedule(tf.keras.optimizers.schedules.LearningRateSchedule):\n",
    "    \n",
    "    def __init__(self, d_model, warmup_steps=4000):\n",
    "        super(CustomSchedule, self).__init__()\n",
    "        \n",
    "        self.d_model = d_model\n",
    "        self.d_model = tf.cast(self.d_model, tf.float32)\n",
    "        \n",
    "        self.warmup_steps = warmup_steps\n",
    "        \n",
    "    def __call__(self, step):\n",
    "        arg1 = tf.math.rsqrt(step)\n",
    "        arg2 = step * (self.warmup_steps**-1.5)\n",
    "        \n",
    "        return tf.math.rsqrt(self.d_model) * tf.math.minimum(arg1, arg2)"
   ]
  },
  {
   "cell_type": "code",
   "execution_count": 755,
   "id": "incredible-flour",
   "metadata": {},
   "outputs": [],
   "source": [
    "learning_rate = CustomSchedule(D_MODEL)\n",
    "\n",
    "optimizer = tf.keras.optimizers.Adam(\n",
    "    learning_rate, beta_1=0.9, beta_2=0.98, epsilon=1e-9)\n",
    "\n",
    "def accuracy(y_true, y_pred):\n",
    "    y_true = tf.reshape(y_true, shape=(-1, MAX_LENGTH-1))\n",
    "    return tf.keras.metrics.sparse_categorical_accuracy(y_true, y_pred)"
   ]
  },
  {
   "cell_type": "code",
   "execution_count": 756,
   "id": "sized-cisco",
   "metadata": {},
   "outputs": [],
   "source": [
    "model.compile(optimizer=optimizer, loss=loss_function, metrics=[accuracy])"
   ]
  },
  {
   "cell_type": "code",
   "execution_count": 757,
   "id": "dominant-accountability",
   "metadata": {},
   "outputs": [
    {
     "name": "stdout",
     "output_type": "stream",
     "text": [
      "Epoch 1/50\n",
      "185/185 [==============================] - 36s 160ms/step - loss: 2.3819 - accuracy: 0.0329\n",
      "Epoch 2/50\n",
      "185/185 [==============================] - 29s 159ms/step - loss: 1.7825 - accuracy: 0.0803\n",
      "Epoch 3/50\n",
      "185/185 [==============================] - 29s 159ms/step - loss: 1.5807 - accuracy: 0.0845\n",
      "Epoch 4/50\n",
      "185/185 [==============================] - 30s 160ms/step - loss: 1.4597 - accuracy: 0.0915\n",
      "Epoch 5/50\n",
      "185/185 [==============================] - 29s 158ms/step - loss: 1.3298 - accuracy: 0.0987\n",
      "Epoch 6/50\n",
      "185/185 [==============================] - 29s 159ms/step - loss: 1.2034 - accuracy: 0.1090\n",
      "Epoch 7/50\n",
      "185/185 [==============================] - 30s 160ms/step - loss: 1.0534 - accuracy: 0.1257\n",
      "Epoch 8/50\n",
      "185/185 [==============================] - 29s 158ms/step - loss: 0.8746 - accuracy: 0.1474\n",
      "Epoch 9/50\n",
      "185/185 [==============================] - 29s 159ms/step - loss: 0.7124 - accuracy: 0.1723\n",
      "Epoch 10/50\n",
      "185/185 [==============================] - 29s 155ms/step - loss: 0.5377 - accuracy: 0.1981\n",
      "Epoch 11/50\n",
      "185/185 [==============================] - 29s 158ms/step - loss: 0.3750 - accuracy: 0.2274\n",
      "Epoch 12/50\n",
      "185/185 [==============================] - 29s 159ms/step - loss: 0.2491 - accuracy: 0.2464\n",
      "Epoch 13/50\n",
      "185/185 [==============================] - 30s 160ms/step - loss: 0.1522 - accuracy: 0.2648\n",
      "Epoch 14/50\n",
      "185/185 [==============================] - 30s 160ms/step - loss: 0.0925 - accuracy: 0.2720\n",
      "Epoch 15/50\n",
      "185/185 [==============================] - 29s 158ms/step - loss: 0.0620 - accuracy: 0.2727\n",
      "Epoch 16/50\n",
      "185/185 [==============================] - 30s 161ms/step - loss: 0.0493 - accuracy: 0.2746\n",
      "Epoch 17/50\n",
      "185/185 [==============================] - 29s 157ms/step - loss: 0.0469 - accuracy: 0.2746\n",
      "Epoch 18/50\n",
      "185/185 [==============================] - 30s 162ms/step - loss: 0.0430 - accuracy: 0.2752\n",
      "Epoch 19/50\n",
      "185/185 [==============================] - 29s 157ms/step - loss: 0.0437 - accuracy: 0.2730\n",
      "Epoch 20/50\n",
      "185/185 [==============================] - 29s 156ms/step - loss: 0.0420 - accuracy: 0.2771\n",
      "Epoch 21/50\n",
      "185/185 [==============================] - 29s 159ms/step - loss: 0.0433 - accuracy: 0.2742\n",
      "Epoch 22/50\n",
      "185/185 [==============================] - 29s 159ms/step - loss: 0.0429 - accuracy: 0.2725\n",
      "Epoch 23/50\n",
      "185/185 [==============================] - 30s 160ms/step - loss: 0.0412 - accuracy: 0.2763\n",
      "Epoch 24/50\n",
      "185/185 [==============================] - 30s 165ms/step - loss: 0.0395 - accuracy: 0.2750\n",
      "Epoch 25/50\n",
      "185/185 [==============================] - 30s 161ms/step - loss: 0.0331 - accuracy: 0.2772\n",
      "Epoch 26/50\n",
      "185/185 [==============================] - 29s 159ms/step - loss: 0.0296 - accuracy: 0.2772\n",
      "Epoch 27/50\n",
      "185/185 [==============================] - 29s 158ms/step - loss: 0.0278 - accuracy: 0.2780\n",
      "Epoch 28/50\n",
      "185/185 [==============================] - 31s 166ms/step - loss: 0.0252 - accuracy: 0.2795\n",
      "Epoch 29/50\n",
      "185/185 [==============================] - 30s 161ms/step - loss: 0.0234 - accuracy: 0.2789\n",
      "Epoch 30/50\n",
      "185/185 [==============================] - 30s 160ms/step - loss: 0.0214 - accuracy: 0.2784\n",
      "Epoch 31/50\n",
      "185/185 [==============================] - 29s 159ms/step - loss: 0.0212 - accuracy: 0.2786\n",
      "Epoch 32/50\n",
      "185/185 [==============================] - 30s 160ms/step - loss: 0.0186 - accuracy: 0.2804\n",
      "Epoch 33/50\n",
      "185/185 [==============================] - 30s 161ms/step - loss: 0.0177 - accuracy: 0.2804\n",
      "Epoch 34/50\n",
      "185/185 [==============================] - 29s 159ms/step - loss: 0.0159 - accuracy: 0.2799\n",
      "Epoch 35/50\n",
      "185/185 [==============================] - 30s 160ms/step - loss: 0.0172 - accuracy: 0.2792\n",
      "Epoch 36/50\n",
      "185/185 [==============================] - 30s 160ms/step - loss: 0.0146 - accuracy: 0.2807\n",
      "Epoch 37/50\n",
      "185/185 [==============================] - 29s 158ms/step - loss: 0.0148 - accuracy: 0.2801\n",
      "Epoch 38/50\n",
      "185/185 [==============================] - 30s 160ms/step - loss: 0.0135 - accuracy: 0.2805\n",
      "Epoch 39/50\n",
      "185/185 [==============================] - 30s 164ms/step - loss: 0.0123 - accuracy: 0.2813\n",
      "Epoch 40/50\n",
      "185/185 [==============================] - 30s 161ms/step - loss: 0.0108 - accuracy: 0.2816\n",
      "Epoch 41/50\n",
      "185/185 [==============================] - 30s 162ms/step - loss: 0.0119 - accuracy: 0.2824\n",
      "Epoch 42/50\n",
      "185/185 [==============================] - 30s 163ms/step - loss: 0.0117 - accuracy: 0.2813\n",
      "Epoch 43/50\n",
      "185/185 [==============================] - 30s 161ms/step - loss: 0.0111 - accuracy: 0.2800\n",
      "Epoch 44/50\n",
      "185/185 [==============================] - 30s 160ms/step - loss: 0.0101 - accuracy: 0.2827\n",
      "Epoch 45/50\n",
      "185/185 [==============================] - 30s 164ms/step - loss: 0.0107 - accuracy: 0.2833\n",
      "Epoch 46/50\n",
      "185/185 [==============================] - 30s 162ms/step - loss: 0.0090 - accuracy: 0.2835\n",
      "Epoch 47/50\n",
      "185/185 [==============================] - 29s 159ms/step - loss: 0.0097 - accuracy: 0.2819\n",
      "Epoch 48/50\n",
      "185/185 [==============================] - 30s 164ms/step - loss: 0.0078 - accuracy: 0.2814\n",
      "Epoch 49/50\n",
      "185/185 [==============================] - 30s 161ms/step - loss: 0.0088 - accuracy: 0.2814\n",
      "Epoch 50/50\n",
      "185/185 [==============================] - 30s 162ms/step - loss: 0.0091 - accuracy: 0.2830\n"
     ]
    },
    {
     "data": {
      "text/plain": [
       "<tensorflow.python.keras.callbacks.History at 0x7fbf374ffa90>"
      ]
     },
     "execution_count": 757,
     "metadata": {},
     "output_type": "execute_result"
    }
   ],
   "source": [
    "EPOCHS = 50\n",
    "callback = tf.keras.callbacks.EarlyStopping(monitor='loss', patience=5)\n",
    "model.fit(dataset, epochs=EPOCHS, verbose=1, callbacks=[callback])"
   ]
  },
  {
   "cell_type": "code",
   "execution_count": 758,
   "id": "unknown-reason",
   "metadata": {},
   "outputs": [],
   "source": [
    "def decoder_inference(sentence):\n",
    "    sentence = preprocess_sentence(sentence)\n",
    "\n",
    "  # 입력된 문장을 정수 인코딩 후, 시작 토큰과 종료 토큰을 앞뒤로 추가.\n",
    "  # ex) Where have you been? → [[8331   86   30    5 1059    7 8332]]\n",
    "    sentence = tf.expand_dims(\n",
    "      START_TOKEN + tokenizer.encode(sentence) + END_TOKEN, axis=0)\n",
    "\n",
    "  # 디코더의 현재까지의 예측한 출력 시퀀스가 지속적으로 저장되는 변수.\n",
    "  # 처음에는 예측한 내용이 없음으로 시작 토큰만 별도 저장. ex) 8331\n",
    "    output_sequence = tf.expand_dims(START_TOKEN, 0)\n",
    "\n",
    "  # 디코더의 인퍼런스 단계\n",
    "    for i in range(MAX_LENGTH):\n",
    "        predictions = model(inputs=[sentence, output_sequence], training=False)\n",
    "        predictions = predictions[:, -1:, :]\n",
    "\n",
    "        predicted_id = tf.cast(tf.argmax(predictions, axis=-1), tf.int32)\n",
    "\n",
    "    # 만약 현재 예측한 단어가 종료 토큰이라면 for문을 종료\n",
    "        if tf.equal(predicted_id, END_TOKEN[0]):\n",
    "            break\n",
    "\n",
    "    # 예측한 단어들은 지속적으로 output_sequence에 추가됩니다.\n",
    "\n",
    "        output_sequence = tf.concat([output_sequence, predicted_id], axis=-1)\n",
    "\n",
    "    return tf.squeeze(output_sequence, axis=0)\n"
   ]
  },
  {
   "cell_type": "code",
   "execution_count": 759,
   "id": "backed-making",
   "metadata": {},
   "outputs": [],
   "source": [
    "def sentence_generation(sentence):\n",
    "  # 입력 문장에 대해서 디코더를 동작 시켜 예측된 정수 시퀀스를 리턴받습니다.\n",
    "    prediction = decoder_inference(sentence)\n",
    "\n",
    "    # 정수 시퀀스를 다시 텍스트 시퀀스로 변환합니다.\n",
    "    predicted_sentence = tokenizer.decode(\n",
    "      [i for i in prediction if i < tokenizer.vocab_size])\n",
    " \n",
    "    print('입력 : {}'.format(sentence))\n",
    "    print('출력 : {}'.format(predicted_sentence))\n",
    "\n",
    "    return predicted_sentence"
   ]
  },
  {
   "cell_type": "code",
   "execution_count": 760,
   "id": "homeless-ribbon",
   "metadata": {},
   "outputs": [
    {
     "name": "stdout",
     "output_type": "stream",
     "text": [
      "입력 : 출근길 너무 힘들어\n",
      "출력 : 회사 근처로 이사를 가보세요 .\n"
     ]
    },
    {
     "data": {
      "text/plain": [
       "'회사 근처로 이사를 가보세요 .'"
      ]
     },
     "execution_count": 760,
     "metadata": {},
     "output_type": "execute_result"
    }
   ],
   "source": [
    "sentence_generation('출근길 너무 힘들어')"
   ]
  },
  {
   "cell_type": "code",
   "execution_count": 761,
   "id": "broad-hospital",
   "metadata": {},
   "outputs": [
    {
     "name": "stdout",
     "output_type": "stream",
     "text": [
      "입력 : 안녕, 넌 이름이 뭐니?\n",
      "출력 : 저는 위로봇입니다 .\n"
     ]
    },
    {
     "data": {
      "text/plain": [
       "'저는 위로봇입니다 .'"
      ]
     },
     "execution_count": 761,
     "metadata": {},
     "output_type": "execute_result"
    }
   ],
   "source": [
    "sentence_generation('안녕, 넌 이름이 뭐니?')"
   ]
  },
  {
   "cell_type": "code",
   "execution_count": 762,
   "id": "radical-contract",
   "metadata": {},
   "outputs": [
    {
     "name": "stdout",
     "output_type": "stream",
     "text": [
      "입력 : 오늘 날씨는 어때?\n",
      "출력 : 사랑에 나이는 중요하지 않다고 생각해요 .\n"
     ]
    },
    {
     "data": {
      "text/plain": [
       "'사랑에 나이는 중요하지 않다고 생각해요 .'"
      ]
     },
     "execution_count": 762,
     "metadata": {},
     "output_type": "execute_result"
    }
   ],
   "source": [
    "sentence_generation('오늘 날씨는 어때?')"
   ]
  },
  {
   "cell_type": "code",
   "execution_count": 763,
   "id": "spread-sleeve",
   "metadata": {},
   "outputs": [
    {
     "name": "stdout",
     "output_type": "stream",
     "text": [
      "입력 : 오늘 날씨는 어때??\n",
      "출력 : 사랑에 나이는 중요하지 않다고 생각해요 .\n"
     ]
    },
    {
     "data": {
      "text/plain": [
       "'사랑에 나이는 중요하지 않다고 생각해요 .'"
      ]
     },
     "execution_count": 763,
     "metadata": {},
     "output_type": "execute_result"
    }
   ],
   "source": [
    "sentence_generation('오늘 날씨는 어때??')"
   ]
  },
  {
   "cell_type": "code",
   "execution_count": 764,
   "id": "perceived-pontiac",
   "metadata": {},
   "outputs": [
    {
     "name": "stdout",
     "output_type": "stream",
     "text": [
      "입력 : 오늘 날씨는 어떠니?\n",
      "출력 : 사랑을 말과 행동으로 표현해보세요 .\n"
     ]
    },
    {
     "data": {
      "text/plain": [
       "'사랑을 말과 행동으로 표현해보세요 .'"
      ]
     },
     "execution_count": 764,
     "metadata": {},
     "output_type": "execute_result"
    }
   ],
   "source": [
    "sentence_generation('오늘 날씨는 어떠니?')"
   ]
  },
  {
   "cell_type": "code",
   "execution_count": 765,
   "id": "commercial-recruitment",
   "metadata": {},
   "outputs": [
    {
     "name": "stdout",
     "output_type": "stream",
     "text": [
      "입력 : 오늘 날씨는 어땡?\n",
      "출력 : 친구들과 같이 놀러가세요 .\n"
     ]
    },
    {
     "data": {
      "text/plain": [
       "'친구들과 같이 놀러가세요 .'"
      ]
     },
     "execution_count": 765,
     "metadata": {},
     "output_type": "execute_result"
    }
   ],
   "source": [
    "sentence_generation('오늘 날씨는 어땡?')"
   ]
  },
  {
   "cell_type": "code",
   "execution_count": 766,
   "id": "variable-pioneer",
   "metadata": {},
   "outputs": [
    {
     "name": "stdout",
     "output_type": "stream",
     "text": [
      "입력 : 오늘 날씨는 어때ㅋㅋㅋㅋㅋ\n",
      "출력 : 정말 나쁜 생각 하지 마세요 .\n"
     ]
    },
    {
     "data": {
      "text/plain": [
       "'정말 나쁜 생각 하지 마세요 .'"
      ]
     },
     "execution_count": 766,
     "metadata": {},
     "output_type": "execute_result"
    }
   ],
   "source": [
    "sentence_generation('오늘 날씨는 어때ㅋㅋㅋㅋㅋ')"
   ]
  },
  {
   "cell_type": "code",
   "execution_count": 767,
   "id": "boring-algorithm",
   "metadata": {},
   "outputs": [
    {
     "name": "stdout",
     "output_type": "stream",
     "text": [
      "입력 : ㅋ\n",
      "출력 : 항상 사랑했던 걸 수도 있어요 .\n"
     ]
    },
    {
     "data": {
      "text/plain": [
       "'항상 사랑했던 걸 수도 있어요 .'"
      ]
     },
     "execution_count": 767,
     "metadata": {},
     "output_type": "execute_result"
    }
   ],
   "source": [
    "sentence_generation('ㅋ')"
   ]
  },
  {
   "cell_type": "code",
   "execution_count": 768,
   "id": "sixth-iraqi",
   "metadata": {},
   "outputs": [
    {
     "name": "stdout",
     "output_type": "stream",
     "text": [
      "입력 : ㅋㅋ\n",
      "출력 : 항상 사랑했던 걸 수도 있어요 .\n"
     ]
    },
    {
     "data": {
      "text/plain": [
       "'항상 사랑했던 걸 수도 있어요 .'"
      ]
     },
     "execution_count": 768,
     "metadata": {},
     "output_type": "execute_result"
    }
   ],
   "source": [
    "sentence_generation('ㅋㅋ')"
   ]
  },
  {
   "cell_type": "code",
   "execution_count": 769,
   "id": "independent-recipient",
   "metadata": {},
   "outputs": [
    {
     "name": "stdout",
     "output_type": "stream",
     "text": [
      "입력 : ㅋㅋㅋ\n",
      "출력 : 항상 사랑했던 걸 수도 있어요 .\n"
     ]
    },
    {
     "data": {
      "text/plain": [
       "'항상 사랑했던 걸 수도 있어요 .'"
      ]
     },
     "execution_count": 769,
     "metadata": {},
     "output_type": "execute_result"
    }
   ],
   "source": [
    "sentence_generation('ㅋㅋㅋ')"
   ]
  },
  {
   "cell_type": "code",
   "execution_count": 770,
   "id": "alternate-bridal",
   "metadata": {},
   "outputs": [
    {
     "name": "stdout",
     "output_type": "stream",
     "text": [
      "입력 : 날씨 좋아?\n",
      "출력 : 날씨 어플에 물어보세요 .\n"
     ]
    },
    {
     "data": {
      "text/plain": [
       "'날씨 어플에 물어보세요 .'"
      ]
     },
     "execution_count": 770,
     "metadata": {},
     "output_type": "execute_result"
    }
   ],
   "source": [
    "sentence_generation('날씨 좋아?')"
   ]
  },
  {
   "cell_type": "code",
   "execution_count": 771,
   "id": "surgical-texture",
   "metadata": {
    "scrolled": false
   },
   "outputs": [
    {
     "name": "stdout",
     "output_type": "stream",
     "text": [
      "입력 : 날씨 좋아!\n",
      "출력 : 하늘을 보고 웃어보세요 .\n"
     ]
    },
    {
     "data": {
      "text/plain": [
       "'하늘을 보고 웃어보세요 .'"
      ]
     },
     "execution_count": 771,
     "metadata": {},
     "output_type": "execute_result"
    }
   ],
   "source": [
    "sentence_generation('날씨 좋아!')"
   ]
  },
  {
   "cell_type": "markdown",
   "id": "illegal-child",
   "metadata": {},
   "source": [
    "## 8. 회고\n",
    "\n",
    "1. 전처리가 효과가 있었는 지 문장을 생성할 때 문제점이 개선된 것 같아서 좋았다.\n",
    "2. 하지만 아직 부자연스러운 문장들이 생성될 때가 많고 정확도도 높은 수준이 아니라 더 학습을 오래 시켜야겠다.\n",
    "3. 추가적으로 KoBERT를 이용한 챗봇만들기를 따라서 구현하면서 PyTorch도 익혀야겠습니다.\n",
    "[KoBERT-chatbot](https://github.com/nawnoes/WellnessConversation-LanguageModel)\n",
    "4. Tokenizer로 이전에 사용한 Mecab()등을 사용해 개선되는 지 확인해봐야겠다."
   ]
  }
 ],
 "metadata": {
  "kernelspec": {
   "display_name": "Python 3",
   "language": "python",
   "name": "python3"
  },
  "language_info": {
   "codemirror_mode": {
    "name": "ipython",
    "version": 3
   },
   "file_extension": ".py",
   "mimetype": "text/x-python",
   "name": "python",
   "nbconvert_exporter": "python",
   "pygments_lexer": "ipython3",
   "version": "3.7.9"
  }
 },
 "nbformat": 4,
 "nbformat_minor": 5
}
