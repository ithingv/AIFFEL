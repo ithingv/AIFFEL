{
 "cells": [
  {
   "cell_type": "markdown",
   "id": "geographic-mortgage",
   "metadata": {},
   "source": [
    "# Exploration 7\n",
    "---\n",
    "## Naver Movie Review Sentiment Analysis 😎🎬\n",
    "---\n",
    "\n",
    "\n",
    "1. Problem Definition\n",
    "2. EDA\n",
    "    1. Data Imbalance\n",
    "3. Korean morpheme Analyzers\n",
    "     1. konlpy\n",
    "        - mecab\n",
    "        - kkma\n",
    "        - okt\n",
    "        - komoran\n",
    "        - hannanum\n",
    "     2. kakao api\n",
    "        - khaiii\n",
    "     3. soynlp\n",
    "        - soyspacing\n",
    "4. Data Loader\n",
    "5. Modeling\n",
    "6. Word2Vec\n",
    "7. Result & Summary"
   ]
  },
  {
   "cell_type": "code",
   "execution_count": 1,
   "id": "rapid-carolina",
   "metadata": {},
   "outputs": [
    {
     "data": {
      "text/html": [
       "<div>\n",
       "<style scoped>\n",
       "    .dataframe tbody tr th:only-of-type {\n",
       "        vertical-align: middle;\n",
       "    }\n",
       "\n",
       "    .dataframe tbody tr th {\n",
       "        vertical-align: top;\n",
       "    }\n",
       "\n",
       "    .dataframe thead th {\n",
       "        text-align: right;\n",
       "    }\n",
       "</style>\n",
       "<table border=\"1\" class=\"dataframe\">\n",
       "  <thead>\n",
       "    <tr style=\"text-align: right;\">\n",
       "      <th></th>\n",
       "      <th>id</th>\n",
       "      <th>document</th>\n",
       "      <th>label</th>\n",
       "    </tr>\n",
       "  </thead>\n",
       "  <tbody>\n",
       "    <tr>\n",
       "      <th>0</th>\n",
       "      <td>9976970</td>\n",
       "      <td>아 더빙.. 진짜 짜증나네요 목소리</td>\n",
       "      <td>0</td>\n",
       "    </tr>\n",
       "    <tr>\n",
       "      <th>1</th>\n",
       "      <td>3819312</td>\n",
       "      <td>흠...포스터보고 초딩영화줄....오버연기조차 가볍지 않구나</td>\n",
       "      <td>1</td>\n",
       "    </tr>\n",
       "    <tr>\n",
       "      <th>2</th>\n",
       "      <td>10265843</td>\n",
       "      <td>너무재밓었다그래서보는것을추천한다</td>\n",
       "      <td>0</td>\n",
       "    </tr>\n",
       "    <tr>\n",
       "      <th>3</th>\n",
       "      <td>9045019</td>\n",
       "      <td>교도소 이야기구먼 ..솔직히 재미는 없다..평점 조정</td>\n",
       "      <td>0</td>\n",
       "    </tr>\n",
       "    <tr>\n",
       "      <th>4</th>\n",
       "      <td>6483659</td>\n",
       "      <td>사이몬페그의 익살스런 연기가 돋보였던 영화!스파이더맨에서 늙어보이기만 했던 커스틴 ...</td>\n",
       "      <td>1</td>\n",
       "    </tr>\n",
       "  </tbody>\n",
       "</table>\n",
       "</div>"
      ],
      "text/plain": [
       "         id                                           document  label\n",
       "0   9976970                                아 더빙.. 진짜 짜증나네요 목소리      0\n",
       "1   3819312                  흠...포스터보고 초딩영화줄....오버연기조차 가볍지 않구나      1\n",
       "2  10265843                                  너무재밓었다그래서보는것을추천한다      0\n",
       "3   9045019                      교도소 이야기구먼 ..솔직히 재미는 없다..평점 조정      0\n",
       "4   6483659  사이몬페그의 익살스런 연기가 돋보였던 영화!스파이더맨에서 늙어보이기만 했던 커스틴 ...      1"
      ]
     },
     "execution_count": 1,
     "metadata": {},
     "output_type": "execute_result"
    }
   ],
   "source": [
    "import pandas as pd\n",
    "import warnings\n",
    "warnings.filterwarnings(action='ignore')\n",
    "import urllib.request\n",
    "%matplotlib inline\n",
    "import matplotlib.pyplot as plt\n",
    "import re\n",
    "from konlpy.tag import Okt\n",
    "import tensorflow as tf\n",
    "from tensorflow import keras\n",
    "from tensorflow.keras.preprocessing.text import Tokenizer\n",
    "import numpy as np\n",
    "from tensorflow.keras.preprocessing.sequence import pad_sequences\n",
    "from collections import Counter\n",
    "\n",
    "train_data = pd.read_table('~/aiffel/sentiment_classification/data/ratings_train.txt')\n",
    "test_data = pd.read_table('~/aiffel/sentiment_classification/data/ratings_test.txt')\n",
    "\n",
    "train_data.head()"
   ]
  },
  {
   "cell_type": "code",
   "execution_count": 2,
   "id": "respiratory-fraud",
   "metadata": {},
   "outputs": [
    {
     "name": "stdout",
     "output_type": "stream",
     "text": [
      "(150000, 3) (50000, 3)\n"
     ]
    }
   ],
   "source": [
    "print(train_data.shape, test_data.shape)"
   ]
  },
  {
   "cell_type": "markdown",
   "id": "internal-drove",
   "metadata": {},
   "source": [
    "## EDA\n",
    "    "
   ]
  },
  {
   "cell_type": "markdown",
   "id": "aerial-receptor",
   "metadata": {},
   "source": [
    "\n",
    "train, test 데이터의 label 분포를 확인한다. 만약 분포가 불균형 하다면 오버샘플링을 활용해\n",
    "\n",
    "부족한 데이터를 추가하는 방법을 고려할 수 있다. 이 데이터의 경우 label 분포는 균형을 이루고 있다.\n"
   ]
  },
  {
   "cell_type": "code",
   "execution_count": 3,
   "id": "extra-exercise",
   "metadata": {},
   "outputs": [
    {
     "data": {
      "image/png": "[encoded data removed]",
      "text/plain": [
       "<Figure size 1080x360 with 2 Axes>"
      ]
     },
     "metadata": {
      "needs_background": "light"
     },
     "output_type": "display_data"
    }
   ],
   "source": [
    "import seaborn as sns\n",
    "\n",
    "plt.figure(figsize=(15,5))\n",
    "sns.set_style('whitegrid')\n",
    "\n",
    "data_dict = {\n",
    "    \"Label in Train_data\" : train_data,\n",
    "    \"Label in Test_data\" :  test_data\n",
    "}\n",
    "\n",
    "count=1\n",
    "for title, data in data_dict.items():\n",
    "    if count == 3:\n",
    "        break\n",
    "    plt.subplot(1,2, count)\n",
    "    ax = sns.countplot(x='label', data=data, alpha=0.7)\n",
    "    for p in ax.patches:    \n",
    "        ax.annotate(f'\\n{int(p.get_height())}', (p.get_x()+0.4, p.get_height()), ha='center', va='top', color='white', size=20)\n",
    "    plt.title('{}'.format(title))\n",
    "    plt.xlabel('label')\n",
    "    plt.ylabel('count')\n",
    "    count += 1\n",
    "    \n",
    "plt.show()"
   ]
  },
  {
   "cell_type": "markdown",
   "id": "middle-china",
   "metadata": {},
   "source": [
    "## 한국어 형태소 분석기\n",
    "\n",
    "---\n",
    "\n",
    "이기창님의 저서 '한국어 임베딩'을 참고하여 오픈소스 형태소 분석기 7가지를 사용하여 토큰화, 품사 태깅 결과를 확인하였다.\n",
    "\n",
    "보다 자세한 내용은 링크를 클릭하여 각 형태소분석기가 가진 특징을 확인할 수 있다.\n",
    "\n",
    "konlpy 라이브러리 내 형태소분석기 \n",
    "- [Mecab](https://konlpy-ko.readthedocs.io/ko/v0.4.3/morph/)\n",
    "- [Okt](https://konlpy-ko.readthedocs.io/ko/v0.4.3/morph/)\n",
    "- [Komoran](https://konlpy-ko.readthedocs.io/ko/v0.4.3/morph/)\n",
    "- [Hannanum](https://konlpy-ko.readthedocs.io/ko/v0.4.3/morph/)\n",
    "- [KKma](https://konlpy-ko.readthedocs.io/ko/v0.4.3/morph/)\n",
    "\n",
    "---\n",
    "카카오에서 개발한 형태소분석기로 국립언어원이 구축한 세종코퍼스를 이용해 CNN모델을 적용해 학습하였음\n",
    "- [Khaiii](https://github.com/kakao/khaiii)\n",
    "\n",
    "---\n",
    "#### 비지도 학습 기반 형태소 분석\n",
    "위의 지도 학습 방법은 언어 전문가들이 직접 형태소 경계나 품사 정보를 모델에 가르쳐줘서 학습된 모델들이다.\n",
    "이와달리 비지도 학습 기법들은 데이터의 패턴을 모델 스스로 학습하게 함으로써 형태소를 분석하는 방법이다.\n",
    "데이터에 자주 등장하는 단어들을 형태소로 인식한다.\n",
    "\n",
    "- [soynlp](https://github.com/lovit/soynlp) : \n",
    "    - [soyspacing](https://github.com/lovit/soyspacing) : 비지도학습으로 학습된 모델을 이용하여 띄어쓰기 적용\n",
    "    \n",
    "[품사태깅비교표](https://docs.google.com/spreadsheets/d/1OGAjUvalBuX-oZvZ_-9tEfYD2gQe7hTGsgUpiiBSXI8/edit#gid=0)"
   ]
  },
  {
   "cell_type": "code",
   "execution_count": 4,
   "id": "large-international",
   "metadata": {},
   "outputs": [],
   "source": [
    "# 데이터 조작을 위해 사본을 저장\n",
    "train_data_copy = train_data.copy()"
   ]
  },
  {
   "cell_type": "code",
   "execution_count": 5,
   "id": "inner-oakland",
   "metadata": {},
   "outputs": [
    {
     "data": {
      "text/html": [
       "<div>\n",
       "<style scoped>\n",
       "    .dataframe tbody tr th:only-of-type {\n",
       "        vertical-align: middle;\n",
       "    }\n",
       "\n",
       "    .dataframe tbody tr th {\n",
       "        vertical-align: top;\n",
       "    }\n",
       "\n",
       "    .dataframe thead th {\n",
       "        text-align: right;\n",
       "    }\n",
       "</style>\n",
       "<table border=\"1\" class=\"dataframe\">\n",
       "  <thead>\n",
       "    <tr style=\"text-align: right;\">\n",
       "      <th></th>\n",
       "      <th>Original Review</th>\n",
       "      <th>After Tokenization</th>\n",
       "      <th>Pos Tagging</th>\n",
       "    </tr>\n",
       "  </thead>\n",
       "  <tbody>\n",
       "    <tr>\n",
       "      <th>0</th>\n",
       "      <td>아 더빙.. 진짜 짜증나네요 목소리</td>\n",
       "      <td>[아, 더, 빙, ., ., 진짜, 짜증, 나, 네요, 목소리]</td>\n",
       "      <td>[(아, IC), (더, MAG), (빙, MAG), (., SF), (., SY)...</td>\n",
       "    </tr>\n",
       "    <tr>\n",
       "      <th>1</th>\n",
       "      <td>흠...포스터보고 초딩영화줄....오버연기조차 가볍지 않구나</td>\n",
       "      <td>[흠, ., .., 포스터, 보고, 초딩, 영화, 줄, ., ..., 오버, 연기,...</td>\n",
       "      <td>[(흠, IC), (., SF), (.., SY), (포스터, NNP), (보고, ...</td>\n",
       "    </tr>\n",
       "    <tr>\n",
       "      <th>2</th>\n",
       "      <td>너무재밓었다그래서보는것을추천한다</td>\n",
       "      <td>[너무, 재, 밓었다그래서보는것을추천한다]</td>\n",
       "      <td>[(너무, MAG), (재, XPN), (밓었다그래서보는것을추천한다, UNKNOWN)]</td>\n",
       "    </tr>\n",
       "    <tr>\n",
       "      <th>3</th>\n",
       "      <td>교도소 이야기구먼 ..솔직히 재미는 없다..평점 조정</td>\n",
       "      <td>[교도소, 이야기, 구먼, ., ., 솔직히, 재미, 는, 없, 다, ., ., 평...</td>\n",
       "      <td>[(교도소, NNG), (이야기, NNG), (구먼, VCP+EF), (., SF)...</td>\n",
       "    </tr>\n",
       "    <tr>\n",
       "      <th>4</th>\n",
       "      <td>사이몬페그의 익살스런 연기가 돋보였던 영화!스파이더맨에서 늙어보이기만 했던 커스틴 ...</td>\n",
       "      <td>[사이몬페그, 의, 익살, 스런, 연기, 가, 돋보였, 던, 영화, !, 스파이더맨...</td>\n",
       "      <td>[(사이몬페그, NNP), (의, JKG), (익살, NNG), (스런, XSA+E...</td>\n",
       "    </tr>\n",
       "    <tr>\n",
       "      <th>5</th>\n",
       "      <td>막 걸음마 뗀 3세부터 초등학교 1학년생인 8살용영화.ㅋㅋㅋ...별반개도 아까움.</td>\n",
       "      <td>[막, 걸음마, 뗀, 3, 세, 부터, 초등, 학교, 1, 학년, 생, 인, 8, ...</td>\n",
       "      <td>[(막, MAJ), (걸음마, NNG), (뗀, VV+ETM), (3, SN), (...</td>\n",
       "    </tr>\n",
       "    <tr>\n",
       "      <th>6</th>\n",
       "      <td>원작의 긴장감을 제대로 살려내지못했다.</td>\n",
       "      <td>[원작, 의, 긴장감, 을, 제대로, 살려, 내, 지, 못했, 다, .]</td>\n",
       "      <td>[(원작, NNG), (의, JKG), (긴장감, NNG), (을, JKO), (제...</td>\n",
       "    </tr>\n",
       "    <tr>\n",
       "      <th>7</th>\n",
       "      <td>별 반개도 아깝다 욕나온다 이응경 길용우 연기생활이몇년인지..정말 발로해도 그것보단...</td>\n",
       "      <td>[별, 반개, 도, 아깝, 다, 욕, 나온다, 이응경, 길용우, 연기, 생활, 이,...</td>\n",
       "      <td>[(별, MM), (반개, NNG), (도, JX), (아깝, VA), (다, EC...</td>\n",
       "    </tr>\n",
       "    <tr>\n",
       "      <th>8</th>\n",
       "      <td>액션이 없는데도 재미 있는 몇안되는 영화</td>\n",
       "      <td>[액션, 이, 없, 는데, 도, 재미, 있, 는, 몇, 안, 되, 는, 영화]</td>\n",
       "      <td>[(액션, NNG), (이, JKS), (없, VA), (는데, EC), (도, J...</td>\n",
       "    </tr>\n",
       "    <tr>\n",
       "      <th>9</th>\n",
       "      <td>왜케 평점이 낮은건데? 꽤 볼만한데.. 헐리우드식 화려함에만 너무 길들여져 있나?</td>\n",
       "      <td>[왜, 케, 평점, 이, 낮, 은, 건데, ?, 꽤, 볼, 만한데, ., ., 헐리...</td>\n",
       "      <td>[(왜, MAG), (케, XSA+EC), (평점, NNG), (이, JKS), (...</td>\n",
       "    </tr>\n",
       "  </tbody>\n",
       "</table>\n",
       "</div>"
      ],
      "text/plain": [
       "                                     Original Review  \\\n",
       "0                                아 더빙.. 진짜 짜증나네요 목소리   \n",
       "1                  흠...포스터보고 초딩영화줄....오버연기조차 가볍지 않구나   \n",
       "2                                  너무재밓었다그래서보는것을추천한다   \n",
       "3                      교도소 이야기구먼 ..솔직히 재미는 없다..평점 조정   \n",
       "4  사이몬페그의 익살스런 연기가 돋보였던 영화!스파이더맨에서 늙어보이기만 했던 커스틴 ...   \n",
       "5      막 걸음마 뗀 3세부터 초등학교 1학년생인 8살용영화.ㅋㅋㅋ...별반개도 아까움.   \n",
       "6                              원작의 긴장감을 제대로 살려내지못했다.   \n",
       "7  별 반개도 아깝다 욕나온다 이응경 길용우 연기생활이몇년인지..정말 발로해도 그것보단...   \n",
       "8                             액션이 없는데도 재미 있는 몇안되는 영화   \n",
       "9      왜케 평점이 낮은건데? 꽤 볼만한데.. 헐리우드식 화려함에만 너무 길들여져 있나?   \n",
       "\n",
       "                                  After Tokenization  \\\n",
       "0                [아, 더, 빙, ., ., 진짜, 짜증, 나, 네요, 목소리]   \n",
       "1  [흠, ., .., 포스터, 보고, 초딩, 영화, 줄, ., ..., 오버, 연기,...   \n",
       "2                            [너무, 재, 밓었다그래서보는것을추천한다]   \n",
       "3  [교도소, 이야기, 구먼, ., ., 솔직히, 재미, 는, 없, 다, ., ., 평...   \n",
       "4  [사이몬페그, 의, 익살, 스런, 연기, 가, 돋보였, 던, 영화, !, 스파이더맨...   \n",
       "5  [막, 걸음마, 뗀, 3, 세, 부터, 초등, 학교, 1, 학년, 생, 인, 8, ...   \n",
       "6           [원작, 의, 긴장감, 을, 제대로, 살려, 내, 지, 못했, 다, .]   \n",
       "7  [별, 반개, 도, 아깝, 다, 욕, 나온다, 이응경, 길용우, 연기, 생활, 이,...   \n",
       "8        [액션, 이, 없, 는데, 도, 재미, 있, 는, 몇, 안, 되, 는, 영화]   \n",
       "9  [왜, 케, 평점, 이, 낮, 은, 건데, ?, 꽤, 볼, 만한데, ., ., 헐리...   \n",
       "\n",
       "                                         Pos Tagging  \n",
       "0  [(아, IC), (더, MAG), (빙, MAG), (., SF), (., SY)...  \n",
       "1  [(흠, IC), (., SF), (.., SY), (포스터, NNP), (보고, ...  \n",
       "2   [(너무, MAG), (재, XPN), (밓었다그래서보는것을추천한다, UNKNOWN)]  \n",
       "3  [(교도소, NNG), (이야기, NNG), (구먼, VCP+EF), (., SF)...  \n",
       "4  [(사이몬페그, NNP), (의, JKG), (익살, NNG), (스런, XSA+E...  \n",
       "5  [(막, MAJ), (걸음마, NNG), (뗀, VV+ETM), (3, SN), (...  \n",
       "6  [(원작, NNG), (의, JKG), (긴장감, NNG), (을, JKO), (제...  \n",
       "7  [(별, MM), (반개, NNG), (도, JX), (아깝, VA), (다, EC...  \n",
       "8  [(액션, NNG), (이, JKS), (없, VA), (는데, EC), (도, J...  \n",
       "9  [(왜, MAG), (케, XSA+EC), (평점, NNG), (이, JKS), (...  "
      ]
     },
     "execution_count": 5,
     "metadata": {},
     "output_type": "execute_result"
    }
   ],
   "source": [
    "# Mecab 은전한닢 분석기 \n",
    "from konlpy.tag import Mecab\n",
    "mecab_tokenizer = Mecab()\n",
    "\n",
    "mecab_df = pd.DataFrame(columns=['Original Review', 'After Tokenization', 'Pos Tagging'])\n",
    "\n",
    "for review in train_data_copy['document'][:10].values:\n",
    "    mecab_df=mecab_df.append({'Original Review' : review,\n",
    "                              'After Tokenization' : mecab_tokenizer.morphs(review),\n",
    "                              'Pos Tagging' : mecab_tokenizer.pos(review)},\n",
    "                              ignore_index=True)\n",
    "\n",
    "mecab_df"
   ]
  },
  {
   "cell_type": "code",
   "execution_count": 6,
   "id": "attached-workplace",
   "metadata": {},
   "outputs": [
    {
     "data": {
      "text/html": [
       "<div>\n",
       "<style scoped>\n",
       "    .dataframe tbody tr th:only-of-type {\n",
       "        vertical-align: middle;\n",
       "    }\n",
       "\n",
       "    .dataframe tbody tr th {\n",
       "        vertical-align: top;\n",
       "    }\n",
       "\n",
       "    .dataframe thead th {\n",
       "        text-align: right;\n",
       "    }\n",
       "</style>\n",
       "<table border=\"1\" class=\"dataframe\">\n",
       "  <thead>\n",
       "    <tr style=\"text-align: right;\">\n",
       "      <th></th>\n",
       "      <th>Original Review</th>\n",
       "      <th>After Tokenization</th>\n",
       "      <th>Pos Tagging</th>\n",
       "    </tr>\n",
       "  </thead>\n",
       "  <tbody>\n",
       "    <tr>\n",
       "      <th>0</th>\n",
       "      <td>아 더빙.. 진짜 짜증나네요 목소리</td>\n",
       "      <td>[아, 더빙, .., 진짜, 짜증나네요, 목소리]</td>\n",
       "      <td>[(아, Exclamation), (더빙, Noun), (.., Punctuatio...</td>\n",
       "    </tr>\n",
       "    <tr>\n",
       "      <th>1</th>\n",
       "      <td>흠...포스터보고 초딩영화줄....오버연기조차 가볍지 않구나</td>\n",
       "      <td>[흠, ..., 포스터, 보고, 초딩, 영화, 줄, ...., 오버, 연기, 조차,...</td>\n",
       "      <td>[(흠, Noun), (..., Punctuation), (포스터, Noun), (...</td>\n",
       "    </tr>\n",
       "    <tr>\n",
       "      <th>2</th>\n",
       "      <td>너무재밓었다그래서보는것을추천한다</td>\n",
       "      <td>[너, 무재, 밓었, 다그, 래서, 보는것을, 추천, 한, 다]</td>\n",
       "      <td>[(너, Modifier), (무재, Noun), (밓었, Noun), (다그, N...</td>\n",
       "    </tr>\n",
       "    <tr>\n",
       "      <th>3</th>\n",
       "      <td>교도소 이야기구먼 ..솔직히 재미는 없다..평점 조정</td>\n",
       "      <td>[교도소, 이야기, 구먼, .., 솔직히, 재미, 는, 없다, .., 평점, 조정]</td>\n",
       "      <td>[(교도소, Noun), (이야기, Noun), (구먼, Noun), (.., Pu...</td>\n",
       "    </tr>\n",
       "    <tr>\n",
       "      <th>4</th>\n",
       "      <td>사이몬페그의 익살스런 연기가 돋보였던 영화!스파이더맨에서 늙어보이기만 했던 커스틴 ...</td>\n",
       "      <td>[사이, 몬페, 그, 의, 익살스런, 연기, 가, 돋보였던, 영화, !, 스파이더맨...</td>\n",
       "      <td>[(사이, Modifier), (몬페, Noun), (그, Determiner), ...</td>\n",
       "    </tr>\n",
       "    <tr>\n",
       "      <th>5</th>\n",
       "      <td>막 걸음마 뗀 3세부터 초등학교 1학년생인 8살용영화.ㅋㅋㅋ...별반개도 아까움.</td>\n",
       "      <td>[막, 걸음, 마, 뗀, 3, 세, 부터, 초등학교, 1, 학년, 생인, 8, 살용...</td>\n",
       "      <td>[(막, Noun), (걸음, Noun), (마, Noun), (뗀, Verb), ...</td>\n",
       "    </tr>\n",
       "    <tr>\n",
       "      <th>6</th>\n",
       "      <td>원작의 긴장감을 제대로 살려내지못했다.</td>\n",
       "      <td>[원작, 의, 긴장감, 을, 제대로, 살려내지못, 했다, .]</td>\n",
       "      <td>[(원작, Noun), (의, Josa), (긴장감, Noun), (을, Josa)...</td>\n",
       "    </tr>\n",
       "    <tr>\n",
       "      <th>7</th>\n",
       "      <td>별 반개도 아깝다 욕나온다 이응경 길용우 연기생활이몇년인지..정말 발로해도 그것보단...</td>\n",
       "      <td>[별, 반개, 도, 아깝다, 욕, 나온다, 이응경, 길용우, 연, 기, 생활, 이,...</td>\n",
       "      <td>[(별, Noun), (반개, Noun), (도, Josa), (아깝다, Adjec...</td>\n",
       "    </tr>\n",
       "    <tr>\n",
       "      <th>8</th>\n",
       "      <td>액션이 없는데도 재미 있는 몇안되는 영화</td>\n",
       "      <td>[액션, 이, 없는데도, 재미, 있는, 몇, 안되는, 영화]</td>\n",
       "      <td>[(액션, Noun), (이, Josa), (없는데도, Adjective), (재미...</td>\n",
       "    </tr>\n",
       "    <tr>\n",
       "      <th>9</th>\n",
       "      <td>왜케 평점이 낮은건데? 꽤 볼만한데.. 헐리우드식 화려함에만 너무 길들여져 있나?</td>\n",
       "      <td>[왜케, 평점, 이, 낮은건데, ?, 꽤, 볼, 만, 한, 데, .., 헐리우드, ...</td>\n",
       "      <td>[(왜케, Noun), (평점, Noun), (이, Josa), (낮은건데, Adj...</td>\n",
       "    </tr>\n",
       "  </tbody>\n",
       "</table>\n",
       "</div>"
      ],
      "text/plain": [
       "                                     Original Review  \\\n",
       "0                                아 더빙.. 진짜 짜증나네요 목소리   \n",
       "1                  흠...포스터보고 초딩영화줄....오버연기조차 가볍지 않구나   \n",
       "2                                  너무재밓었다그래서보는것을추천한다   \n",
       "3                      교도소 이야기구먼 ..솔직히 재미는 없다..평점 조정   \n",
       "4  사이몬페그의 익살스런 연기가 돋보였던 영화!스파이더맨에서 늙어보이기만 했던 커스틴 ...   \n",
       "5      막 걸음마 뗀 3세부터 초등학교 1학년생인 8살용영화.ㅋㅋㅋ...별반개도 아까움.   \n",
       "6                              원작의 긴장감을 제대로 살려내지못했다.   \n",
       "7  별 반개도 아깝다 욕나온다 이응경 길용우 연기생활이몇년인지..정말 발로해도 그것보단...   \n",
       "8                             액션이 없는데도 재미 있는 몇안되는 영화   \n",
       "9      왜케 평점이 낮은건데? 꽤 볼만한데.. 헐리우드식 화려함에만 너무 길들여져 있나?   \n",
       "\n",
       "                                  After Tokenization  \\\n",
       "0                        [아, 더빙, .., 진짜, 짜증나네요, 목소리]   \n",
       "1  [흠, ..., 포스터, 보고, 초딩, 영화, 줄, ...., 오버, 연기, 조차,...   \n",
       "2                [너, 무재, 밓었, 다그, 래서, 보는것을, 추천, 한, 다]   \n",
       "3     [교도소, 이야기, 구먼, .., 솔직히, 재미, 는, 없다, .., 평점, 조정]   \n",
       "4  [사이, 몬페, 그, 의, 익살스런, 연기, 가, 돋보였던, 영화, !, 스파이더맨...   \n",
       "5  [막, 걸음, 마, 뗀, 3, 세, 부터, 초등학교, 1, 학년, 생인, 8, 살용...   \n",
       "6                 [원작, 의, 긴장감, 을, 제대로, 살려내지못, 했다, .]   \n",
       "7  [별, 반개, 도, 아깝다, 욕, 나온다, 이응경, 길용우, 연, 기, 생활, 이,...   \n",
       "8                  [액션, 이, 없는데도, 재미, 있는, 몇, 안되는, 영화]   \n",
       "9  [왜케, 평점, 이, 낮은건데, ?, 꽤, 볼, 만, 한, 데, .., 헐리우드, ...   \n",
       "\n",
       "                                         Pos Tagging  \n",
       "0  [(아, Exclamation), (더빙, Noun), (.., Punctuatio...  \n",
       "1  [(흠, Noun), (..., Punctuation), (포스터, Noun), (...  \n",
       "2  [(너, Modifier), (무재, Noun), (밓었, Noun), (다그, N...  \n",
       "3  [(교도소, Noun), (이야기, Noun), (구먼, Noun), (.., Pu...  \n",
       "4  [(사이, Modifier), (몬페, Noun), (그, Determiner), ...  \n",
       "5  [(막, Noun), (걸음, Noun), (마, Noun), (뗀, Verb), ...  \n",
       "6  [(원작, Noun), (의, Josa), (긴장감, Noun), (을, Josa)...  \n",
       "7  [(별, Noun), (반개, Noun), (도, Josa), (아깝다, Adjec...  \n",
       "8  [(액션, Noun), (이, Josa), (없는데도, Adjective), (재미...  \n",
       "9  [(왜케, Noun), (평점, Noun), (이, Josa), (낮은건데, Adj...  "
      ]
     },
     "execution_count": 6,
     "metadata": {},
     "output_type": "execute_result"
    }
   ],
   "source": [
    "# Okt 분석기 \n",
    "from konlpy.tag import Okt\n",
    "okt_tokenizer = Okt()\n",
    "\n",
    "okt_df = pd.DataFrame(columns=['Original Review', 'After Tokenization', 'Pos Tagging'])\n",
    "\n",
    "for review in train_data_copy['document'][:10].values:\n",
    "    okt_df=okt_df.append({'Original Review' : review,\n",
    "                              'After Tokenization' : okt_tokenizer.morphs(review),\n",
    "                              'Pos Tagging' : okt_tokenizer.pos(review)},\n",
    "                              ignore_index=True)\n",
    "\n",
    "okt_df"
   ]
  },
  {
   "cell_type": "code",
   "execution_count": 7,
   "id": "comparative-houston",
   "metadata": {},
   "outputs": [
    {
     "data": {
      "text/html": [
       "<div>\n",
       "<style scoped>\n",
       "    .dataframe tbody tr th:only-of-type {\n",
       "        vertical-align: middle;\n",
       "    }\n",
       "\n",
       "    .dataframe tbody tr th {\n",
       "        vertical-align: top;\n",
       "    }\n",
       "\n",
       "    .dataframe thead th {\n",
       "        text-align: right;\n",
       "    }\n",
       "</style>\n",
       "<table border=\"1\" class=\"dataframe\">\n",
       "  <thead>\n",
       "    <tr style=\"text-align: right;\">\n",
       "      <th></th>\n",
       "      <th>Original Review</th>\n",
       "      <th>After Tokenization</th>\n",
       "      <th>Pos Tagging</th>\n",
       "    </tr>\n",
       "  </thead>\n",
       "  <tbody>\n",
       "    <tr>\n",
       "      <th>0</th>\n",
       "      <td>아 더빙.. 진짜 짜증나네요 목소리</td>\n",
       "      <td>[아, 더빙, ., ., 진짜, 짜증, 나, 네요, 목소리]</td>\n",
       "      <td>[(아, IC), (더빙, NNP), (., SF), (., SF), (진짜, MA...</td>\n",
       "    </tr>\n",
       "    <tr>\n",
       "      <th>1</th>\n",
       "      <td>흠...포스터보고 초딩영화줄....오버연기조차 가볍지 않구나</td>\n",
       "      <td>[흠, ..., 포스터, 보고, 초딩, 영화, 줄, ...., 오버, 연기, 조차,...</td>\n",
       "      <td>[(흠, IC), (..., SE), (포스터, NNP), (보고, JKB), (초...</td>\n",
       "    </tr>\n",
       "    <tr>\n",
       "      <th>2</th>\n",
       "      <td>너무재밓었다그래서보는것을추천한다</td>\n",
       "      <td>[너무재밓었다그래서보는것을추천한다]</td>\n",
       "      <td>[(너무재밓었다그래서보는것을추천한다, NA)]</td>\n",
       "    </tr>\n",
       "    <tr>\n",
       "      <th>3</th>\n",
       "      <td>교도소 이야기구먼 ..솔직히 재미는 없다..평점 조정</td>\n",
       "      <td>[교도소, 이야기, 이, 구먼, .., 솔직히, 재미, 는, 없, 다, ., ., ...</td>\n",
       "      <td>[(교도소, NNP), (이야기, NNG), (이, VCP), (구먼, EC), (...</td>\n",
       "    </tr>\n",
       "    <tr>\n",
       "      <th>4</th>\n",
       "      <td>사이몬페그의 익살스런 연기가 돋보였던 영화!스파이더맨에서 늙어보이기만 했던 커스틴 ...</td>\n",
       "      <td>[사이몬페그의, 익살, 스럽, ㄴ, 연기, 가, 돋보이, 었, 던, 영화, !, 스...</td>\n",
       "      <td>[(사이몬페그의, NA), (익살, NNG), (스럽, XSA), (ㄴ, ETM),...</td>\n",
       "    </tr>\n",
       "    <tr>\n",
       "      <th>5</th>\n",
       "      <td>막 걸음마 뗀 3세부터 초등학교 1학년생인 8살용영화.ㅋㅋㅋ...별반개도 아까움.</td>\n",
       "      <td>[막, 걸음마, 떼, ㄴ, 3, 세, 부터, 초등학교, 1, 학년, 생, 이, ㄴ,...</td>\n",
       "      <td>[(막, MAG), (걸음마, NNG), (떼, VV), (ㄴ, ETM), (3, ...</td>\n",
       "    </tr>\n",
       "    <tr>\n",
       "      <th>6</th>\n",
       "      <td>원작의 긴장감을 제대로 살려내지못했다.</td>\n",
       "      <td>[원작, 의, 긴장감, 을, 제대로, 살리, 어, 내, 지, 못하, 았, 다, .]</td>\n",
       "      <td>[(원작, NNP), (의, JKG), (긴장감, NNG), (을, JKO), (제...</td>\n",
       "    </tr>\n",
       "    <tr>\n",
       "      <th>7</th>\n",
       "      <td>별 반개도 아깝다 욕나온다 이응경 길용우 연기생활이몇년인지..정말 발로해도 그것보단...</td>\n",
       "      <td>[별, 반개, 도, 아깝, 다, 욕, 나오, ㄴ다, 이응경, 길용우, 연기, 생활,...</td>\n",
       "      <td>[(별, MM), (반개, NNG), (도, JX), (아깝, VA), (다, EC...</td>\n",
       "    </tr>\n",
       "    <tr>\n",
       "      <th>8</th>\n",
       "      <td>액션이 없는데도 재미 있는 몇안되는 영화</td>\n",
       "      <td>[액션, 이, 없, 는데, 도, 재미, 있, 는, 몇, 안, 되, 는, 영화]</td>\n",
       "      <td>[(액션, NNP), (이, JKS), (없, VA), (는데, EC), (도, J...</td>\n",
       "    </tr>\n",
       "    <tr>\n",
       "      <th>9</th>\n",
       "      <td>왜케 평점이 낮은건데? 꽤 볼만한데.. 헐리우드식 화려함에만 너무 길들여져 있나?</td>\n",
       "      <td>[왜, 하, 게, 평점, 이, 낮, 은, 것, ㄴ데, ?, 꽤, 보, ㄹ, 만, 하...</td>\n",
       "      <td>[(왜, MAG), (하, XSV), (게, EC), (평점, NNG), (이, J...</td>\n",
       "    </tr>\n",
       "  </tbody>\n",
       "</table>\n",
       "</div>"
      ],
      "text/plain": [
       "                                     Original Review  \\\n",
       "0                                아 더빙.. 진짜 짜증나네요 목소리   \n",
       "1                  흠...포스터보고 초딩영화줄....오버연기조차 가볍지 않구나   \n",
       "2                                  너무재밓었다그래서보는것을추천한다   \n",
       "3                      교도소 이야기구먼 ..솔직히 재미는 없다..평점 조정   \n",
       "4  사이몬페그의 익살스런 연기가 돋보였던 영화!스파이더맨에서 늙어보이기만 했던 커스틴 ...   \n",
       "5      막 걸음마 뗀 3세부터 초등학교 1학년생인 8살용영화.ㅋㅋㅋ...별반개도 아까움.   \n",
       "6                              원작의 긴장감을 제대로 살려내지못했다.   \n",
       "7  별 반개도 아깝다 욕나온다 이응경 길용우 연기생활이몇년인지..정말 발로해도 그것보단...   \n",
       "8                             액션이 없는데도 재미 있는 몇안되는 영화   \n",
       "9      왜케 평점이 낮은건데? 꽤 볼만한데.. 헐리우드식 화려함에만 너무 길들여져 있나?   \n",
       "\n",
       "                                  After Tokenization  \\\n",
       "0                  [아, 더빙, ., ., 진짜, 짜증, 나, 네요, 목소리]   \n",
       "1  [흠, ..., 포스터, 보고, 초딩, 영화, 줄, ...., 오버, 연기, 조차,...   \n",
       "2                                [너무재밓었다그래서보는것을추천한다]   \n",
       "3  [교도소, 이야기, 이, 구먼, .., 솔직히, 재미, 는, 없, 다, ., ., ...   \n",
       "4  [사이몬페그의, 익살, 스럽, ㄴ, 연기, 가, 돋보이, 었, 던, 영화, !, 스...   \n",
       "5  [막, 걸음마, 떼, ㄴ, 3, 세, 부터, 초등학교, 1, 학년, 생, 이, ㄴ,...   \n",
       "6     [원작, 의, 긴장감, 을, 제대로, 살리, 어, 내, 지, 못하, 았, 다, .]   \n",
       "7  [별, 반개, 도, 아깝, 다, 욕, 나오, ㄴ다, 이응경, 길용우, 연기, 생활,...   \n",
       "8        [액션, 이, 없, 는데, 도, 재미, 있, 는, 몇, 안, 되, 는, 영화]   \n",
       "9  [왜, 하, 게, 평점, 이, 낮, 은, 것, ㄴ데, ?, 꽤, 보, ㄹ, 만, 하...   \n",
       "\n",
       "                                         Pos Tagging  \n",
       "0  [(아, IC), (더빙, NNP), (., SF), (., SF), (진짜, MA...  \n",
       "1  [(흠, IC), (..., SE), (포스터, NNP), (보고, JKB), (초...  \n",
       "2                          [(너무재밓었다그래서보는것을추천한다, NA)]  \n",
       "3  [(교도소, NNP), (이야기, NNG), (이, VCP), (구먼, EC), (...  \n",
       "4  [(사이몬페그의, NA), (익살, NNG), (스럽, XSA), (ㄴ, ETM),...  \n",
       "5  [(막, MAG), (걸음마, NNG), (떼, VV), (ㄴ, ETM), (3, ...  \n",
       "6  [(원작, NNP), (의, JKG), (긴장감, NNG), (을, JKO), (제...  \n",
       "7  [(별, MM), (반개, NNG), (도, JX), (아깝, VA), (다, EC...  \n",
       "8  [(액션, NNP), (이, JKS), (없, VA), (는데, EC), (도, J...  \n",
       "9  [(왜, MAG), (하, XSV), (게, EC), (평점, NNG), (이, J...  "
      ]
     },
     "execution_count": 7,
     "metadata": {},
     "output_type": "execute_result"
    }
   ],
   "source": [
    "# komoran 분석기 \n",
    "from konlpy.tag import Komoran\n",
    "komoran_tokenizer = Komoran()\n",
    "\n",
    "komoran_df = pd.DataFrame(columns=['Original Review', 'After Tokenization', 'Pos Tagging'])\n",
    "\n",
    "for review in train_data_copy['document'][:10].values:\n",
    "    komoran_df=komoran_df.append({'Original Review' : review,\n",
    "                              'After Tokenization' : komoran_tokenizer.morphs(review),\n",
    "                              'Pos Tagging' : komoran_tokenizer.pos(review)},\n",
    "                              ignore_index=True)\n",
    "komoran_df"
   ]
  },
  {
   "cell_type": "code",
   "execution_count": 8,
   "id": "loved-communication",
   "metadata": {},
   "outputs": [
    {
     "data": {
      "text/html": [
       "<div>\n",
       "<style scoped>\n",
       "    .dataframe tbody tr th:only-of-type {\n",
       "        vertical-align: middle;\n",
       "    }\n",
       "\n",
       "    .dataframe tbody tr th {\n",
       "        vertical-align: top;\n",
       "    }\n",
       "\n",
       "    .dataframe thead th {\n",
       "        text-align: right;\n",
       "    }\n",
       "</style>\n",
       "<table border=\"1\" class=\"dataframe\">\n",
       "  <thead>\n",
       "    <tr style=\"text-align: right;\">\n",
       "      <th></th>\n",
       "      <th>Original Review</th>\n",
       "      <th>After Tokenization</th>\n",
       "      <th>Pos Tagging</th>\n",
       "    </tr>\n",
       "  </thead>\n",
       "  <tbody>\n",
       "    <tr>\n",
       "      <th>0</th>\n",
       "      <td>아 더빙.. 진짜 짜증나네요 목소리</td>\n",
       "      <td>[아, 더빙, ., ., 진짜, 짜증, 나, 네요, 목소리]</td>\n",
       "      <td>[(아, IC), (더빙, NNP), (., SF), (., SF), (진짜, MA...</td>\n",
       "    </tr>\n",
       "    <tr>\n",
       "      <th>1</th>\n",
       "      <td>흠...포스터보고 초딩영화줄....오버연기조차 가볍지 않구나</td>\n",
       "      <td>[흠, ..., 포스터, 보고, 초딩, 영화, 줄, ...., 오버, 연기, 조차,...</td>\n",
       "      <td>[(흠, IC), (..., SE), (포스터, NNP), (보고, JKB), (초...</td>\n",
       "    </tr>\n",
       "    <tr>\n",
       "      <th>2</th>\n",
       "      <td>너무재밓었다그래서보는것을추천한다</td>\n",
       "      <td>[너무재밓었다그래서보는것을추천한다]</td>\n",
       "      <td>[(너무재밓었다그래서보는것을추천한다, NA)]</td>\n",
       "    </tr>\n",
       "    <tr>\n",
       "      <th>3</th>\n",
       "      <td>교도소 이야기구먼 ..솔직히 재미는 없다..평점 조정</td>\n",
       "      <td>[교도소, 이야기, 이, 구먼, .., 솔직히, 재미, 는, 없, 다, ., ., ...</td>\n",
       "      <td>[(교도소, NNP), (이야기, NNG), (이, VCP), (구먼, EC), (...</td>\n",
       "    </tr>\n",
       "    <tr>\n",
       "      <th>4</th>\n",
       "      <td>사이몬페그의 익살스런 연기가 돋보였던 영화!스파이더맨에서 늙어보이기만 했던 커스틴 ...</td>\n",
       "      <td>[사이몬페그의, 익살, 스럽, ㄴ, 연기, 가, 돋보이, 었, 던, 영화, !, 스...</td>\n",
       "      <td>[(사이몬페그의, NA), (익살, NNG), (스럽, XSA), (ㄴ, ETM),...</td>\n",
       "    </tr>\n",
       "    <tr>\n",
       "      <th>5</th>\n",
       "      <td>막 걸음마 뗀 3세부터 초등학교 1학년생인 8살용영화.ㅋㅋㅋ...별반개도 아까움.</td>\n",
       "      <td>[막, 걸음마, 떼, ㄴ, 3, 세, 부터, 초등학교, 1, 학년, 생, 이, ㄴ,...</td>\n",
       "      <td>[(막, MAG), (걸음마, NNG), (떼, VV), (ㄴ, ETM), (3, ...</td>\n",
       "    </tr>\n",
       "    <tr>\n",
       "      <th>6</th>\n",
       "      <td>원작의 긴장감을 제대로 살려내지못했다.</td>\n",
       "      <td>[원작, 의, 긴장감, 을, 제대로, 살리, 어, 내, 지, 못하, 았, 다, .]</td>\n",
       "      <td>[(원작, NNP), (의, JKG), (긴장감, NNG), (을, JKO), (제...</td>\n",
       "    </tr>\n",
       "    <tr>\n",
       "      <th>7</th>\n",
       "      <td>별 반개도 아깝다 욕나온다 이응경 길용우 연기생활이몇년인지..정말 발로해도 그것보단...</td>\n",
       "      <td>[별, 반개, 도, 아깝, 다, 욕, 나오, ㄴ다, 이응경, 길용우, 연기, 생활,...</td>\n",
       "      <td>[(별, MM), (반개, NNG), (도, JX), (아깝, VA), (다, EC...</td>\n",
       "    </tr>\n",
       "    <tr>\n",
       "      <th>8</th>\n",
       "      <td>액션이 없는데도 재미 있는 몇안되는 영화</td>\n",
       "      <td>[액션, 이, 없, 는데, 도, 재미, 있, 는, 몇, 안, 되, 는, 영화]</td>\n",
       "      <td>[(액션, NNP), (이, JKS), (없, VA), (는데, EC), (도, J...</td>\n",
       "    </tr>\n",
       "    <tr>\n",
       "      <th>9</th>\n",
       "      <td>왜케 평점이 낮은건데? 꽤 볼만한데.. 헐리우드식 화려함에만 너무 길들여져 있나?</td>\n",
       "      <td>[왜, 하, 게, 평점, 이, 낮, 은, 것, ㄴ데, ?, 꽤, 보, ㄹ, 만, 하...</td>\n",
       "      <td>[(왜, MAG), (하, XSV), (게, EC), (평점, NNG), (이, J...</td>\n",
       "    </tr>\n",
       "  </tbody>\n",
       "</table>\n",
       "</div>"
      ],
      "text/plain": [
       "                                     Original Review  \\\n",
       "0                                아 더빙.. 진짜 짜증나네요 목소리   \n",
       "1                  흠...포스터보고 초딩영화줄....오버연기조차 가볍지 않구나   \n",
       "2                                  너무재밓었다그래서보는것을추천한다   \n",
       "3                      교도소 이야기구먼 ..솔직히 재미는 없다..평점 조정   \n",
       "4  사이몬페그의 익살스런 연기가 돋보였던 영화!스파이더맨에서 늙어보이기만 했던 커스틴 ...   \n",
       "5      막 걸음마 뗀 3세부터 초등학교 1학년생인 8살용영화.ㅋㅋㅋ...별반개도 아까움.   \n",
       "6                              원작의 긴장감을 제대로 살려내지못했다.   \n",
       "7  별 반개도 아깝다 욕나온다 이응경 길용우 연기생활이몇년인지..정말 발로해도 그것보단...   \n",
       "8                             액션이 없는데도 재미 있는 몇안되는 영화   \n",
       "9      왜케 평점이 낮은건데? 꽤 볼만한데.. 헐리우드식 화려함에만 너무 길들여져 있나?   \n",
       "\n",
       "                                  After Tokenization  \\\n",
       "0                  [아, 더빙, ., ., 진짜, 짜증, 나, 네요, 목소리]   \n",
       "1  [흠, ..., 포스터, 보고, 초딩, 영화, 줄, ...., 오버, 연기, 조차,...   \n",
       "2                                [너무재밓었다그래서보는것을추천한다]   \n",
       "3  [교도소, 이야기, 이, 구먼, .., 솔직히, 재미, 는, 없, 다, ., ., ...   \n",
       "4  [사이몬페그의, 익살, 스럽, ㄴ, 연기, 가, 돋보이, 었, 던, 영화, !, 스...   \n",
       "5  [막, 걸음마, 떼, ㄴ, 3, 세, 부터, 초등학교, 1, 학년, 생, 이, ㄴ,...   \n",
       "6     [원작, 의, 긴장감, 을, 제대로, 살리, 어, 내, 지, 못하, 았, 다, .]   \n",
       "7  [별, 반개, 도, 아깝, 다, 욕, 나오, ㄴ다, 이응경, 길용우, 연기, 생활,...   \n",
       "8        [액션, 이, 없, 는데, 도, 재미, 있, 는, 몇, 안, 되, 는, 영화]   \n",
       "9  [왜, 하, 게, 평점, 이, 낮, 은, 것, ㄴ데, ?, 꽤, 보, ㄹ, 만, 하...   \n",
       "\n",
       "                                         Pos Tagging  \n",
       "0  [(아, IC), (더빙, NNP), (., SF), (., SF), (진짜, MA...  \n",
       "1  [(흠, IC), (..., SE), (포스터, NNP), (보고, JKB), (초...  \n",
       "2                          [(너무재밓었다그래서보는것을추천한다, NA)]  \n",
       "3  [(교도소, NNP), (이야기, NNG), (이, VCP), (구먼, EC), (...  \n",
       "4  [(사이몬페그의, NA), (익살, NNG), (스럽, XSA), (ㄴ, ETM),...  \n",
       "5  [(막, MAG), (걸음마, NNG), (떼, VV), (ㄴ, ETM), (3, ...  \n",
       "6  [(원작, NNP), (의, JKG), (긴장감, NNG), (을, JKO), (제...  \n",
       "7  [(별, MM), (반개, NNG), (도, JX), (아깝, VA), (다, EC...  \n",
       "8  [(액션, NNP), (이, JKS), (없, VA), (는데, EC), (도, J...  \n",
       "9  [(왜, MAG), (하, XSV), (게, EC), (평점, NNG), (이, J...  "
      ]
     },
     "execution_count": 8,
     "metadata": {},
     "output_type": "execute_result"
    }
   ],
   "source": [
    "# komoran 분석기 \n",
    "from konlpy.tag import Komoran\n",
    "komoran_tokenizer = Komoran()\n",
    "\n",
    "komoran_df = pd.DataFrame(columns=['Original Review', 'After Tokenization', 'Pos Tagging'])\n",
    "\n",
    "for review in train_data_copy['document'][:10].values:\n",
    "    komoran_df=komoran_df.append({'Original Review' : review,\n",
    "                              'After Tokenization' : komoran_tokenizer.morphs(review),\n",
    "                              'Pos Tagging' : komoran_tokenizer.pos(review)},\n",
    "                              ignore_index=True)\n",
    "komoran_df"
   ]
  },
  {
   "cell_type": "code",
   "execution_count": 9,
   "id": "linear-symposium",
   "metadata": {},
   "outputs": [
    {
     "data": {
      "text/html": [
       "<div>\n",
       "<style scoped>\n",
       "    .dataframe tbody tr th:only-of-type {\n",
       "        vertical-align: middle;\n",
       "    }\n",
       "\n",
       "    .dataframe tbody tr th {\n",
       "        vertical-align: top;\n",
       "    }\n",
       "\n",
       "    .dataframe thead th {\n",
       "        text-align: right;\n",
       "    }\n",
       "</style>\n",
       "<table border=\"1\" class=\"dataframe\">\n",
       "  <thead>\n",
       "    <tr style=\"text-align: right;\">\n",
       "      <th></th>\n",
       "      <th>Original Review</th>\n",
       "      <th>After Tokenization</th>\n",
       "      <th>Pos Tagging</th>\n",
       "    </tr>\n",
       "  </thead>\n",
       "  <tbody>\n",
       "    <tr>\n",
       "      <th>0</th>\n",
       "      <td>아 더빙.. 진짜 짜증나네요 목소리</td>\n",
       "      <td>[아, 더빙, .., 진짜, 짜증나, 네, 요, 목소리]</td>\n",
       "      <td>[(아, I), (더빙, N), (.., S), (진짜, N), (짜증나, P), ...</td>\n",
       "    </tr>\n",
       "    <tr>\n",
       "      <th>1</th>\n",
       "      <td>흠...포스터보고 초딩영화줄....오버연기조차 가볍지 않구나</td>\n",
       "      <td>[흠, ., .., 포스터보고, 초딩영화줄, ...., 오버연기, 조차, 가볍, 지...</td>\n",
       "      <td>[(흠, N), (., S), (.., S), (포스터보고, N), (초딩영화줄, ...</td>\n",
       "    </tr>\n",
       "    <tr>\n",
       "      <th>2</th>\n",
       "      <td>너무재밓었다그래서보는것을추천한다</td>\n",
       "      <td>[너무재밓었다그래서보는것을추천한다]</td>\n",
       "      <td>[(너무재밓었다그래서보는것을추천한다, N)]</td>\n",
       "    </tr>\n",
       "    <tr>\n",
       "      <th>3</th>\n",
       "      <td>교도소 이야기구먼 ..솔직히 재미는 없다..평점 조정</td>\n",
       "      <td>[교도소, 이야기구먼, .., 솔직히, 재미, 는, 없, 다, .., 평점, 조정]</td>\n",
       "      <td>[(교도소, N), (이야기구먼, N), (.., S), (솔직히, M), (재미,...</td>\n",
       "    </tr>\n",
       "    <tr>\n",
       "      <th>4</th>\n",
       "      <td>사이몬페그의 익살스런 연기가 돋보였던 영화!스파이더맨에서 늙어보이기만 했던 커스틴 ...</td>\n",
       "      <td>[사이몬페그, 의, 익살, 스런, 연기, 가, 돋보이, 었던, 영화, !, 스파이더...</td>\n",
       "      <td>[(사이몬페그, N), (의, J), (익살, N), (스런, J), (연기, N)...</td>\n",
       "    </tr>\n",
       "    <tr>\n",
       "      <th>5</th>\n",
       "      <td>막 걸음마 뗀 3세부터 초등학교 1학년생인 8살용영화.ㅋㅋㅋ...별반개도 아까움.</td>\n",
       "      <td>[막, 걸음마, 떼, ㄴ, 3세, 부터, 초등학교, 1학년생, 이, ㄴ, 8살용영화...</td>\n",
       "      <td>[(막, M), (걸음마, N), (떼, P), (ㄴ, E), (3세, N), (부...</td>\n",
       "    </tr>\n",
       "    <tr>\n",
       "      <th>6</th>\n",
       "      <td>원작의 긴장감을 제대로 살려내지못했다.</td>\n",
       "      <td>[원작, 의, 긴장감, 을, 제대로, 살리, 어, 내, 지, 못하, 었다, .]</td>\n",
       "      <td>[(원작, N), (의, J), (긴장감, N), (을, J), (제대로, M), ...</td>\n",
       "    </tr>\n",
       "    <tr>\n",
       "      <th>7</th>\n",
       "      <td>별 반개도 아깝다 욕나온다 이응경 길용우 연기생활이몇년인지..정말 발로해도 그것보단...</td>\n",
       "      <td>[별, 반개, 도, 아깝, 다, 욕나온다, 이응경, 길용우, 연기생활이몇년, 이, ...</td>\n",
       "      <td>[(별, M), (반개, N), (도, J), (아깝, P), (다, E), (욕나...</td>\n",
       "    </tr>\n",
       "    <tr>\n",
       "      <th>8</th>\n",
       "      <td>액션이 없는데도 재미 있는 몇안되는 영화</td>\n",
       "      <td>[액션, 이, 없, 는데, 도, 재미, 있, 는, 몇안되, 는, 영화]</td>\n",
       "      <td>[(액션, N), (이, J), (없, P), (는데, E), (도, J), (재미...</td>\n",
       "    </tr>\n",
       "    <tr>\n",
       "      <th>9</th>\n",
       "      <td>왜케 평점이 낮은건데? 꽤 볼만한데.. 헐리우드식 화려함에만 너무 길들여져 있나?</td>\n",
       "      <td>[왜케, 평점, 이, 낮, 은, 것, 이, ㄴ데, ?, 꽤, 보, ㄹ, 만, 하, ...</td>\n",
       "      <td>[(왜케, N), (평점, N), (이, J), (낮, P), (은, E), (것,...</td>\n",
       "    </tr>\n",
       "  </tbody>\n",
       "</table>\n",
       "</div>"
      ],
      "text/plain": [
       "                                     Original Review  \\\n",
       "0                                아 더빙.. 진짜 짜증나네요 목소리   \n",
       "1                  흠...포스터보고 초딩영화줄....오버연기조차 가볍지 않구나   \n",
       "2                                  너무재밓었다그래서보는것을추천한다   \n",
       "3                      교도소 이야기구먼 ..솔직히 재미는 없다..평점 조정   \n",
       "4  사이몬페그의 익살스런 연기가 돋보였던 영화!스파이더맨에서 늙어보이기만 했던 커스틴 ...   \n",
       "5      막 걸음마 뗀 3세부터 초등학교 1학년생인 8살용영화.ㅋㅋㅋ...별반개도 아까움.   \n",
       "6                              원작의 긴장감을 제대로 살려내지못했다.   \n",
       "7  별 반개도 아깝다 욕나온다 이응경 길용우 연기생활이몇년인지..정말 발로해도 그것보단...   \n",
       "8                             액션이 없는데도 재미 있는 몇안되는 영화   \n",
       "9      왜케 평점이 낮은건데? 꽤 볼만한데.. 헐리우드식 화려함에만 너무 길들여져 있나?   \n",
       "\n",
       "                                  After Tokenization  \\\n",
       "0                    [아, 더빙, .., 진짜, 짜증나, 네, 요, 목소리]   \n",
       "1  [흠, ., .., 포스터보고, 초딩영화줄, ...., 오버연기, 조차, 가볍, 지...   \n",
       "2                                [너무재밓었다그래서보는것을추천한다]   \n",
       "3     [교도소, 이야기구먼, .., 솔직히, 재미, 는, 없, 다, .., 평점, 조정]   \n",
       "4  [사이몬페그, 의, 익살, 스런, 연기, 가, 돋보이, 었던, 영화, !, 스파이더...   \n",
       "5  [막, 걸음마, 떼, ㄴ, 3세, 부터, 초등학교, 1학년생, 이, ㄴ, 8살용영화...   \n",
       "6       [원작, 의, 긴장감, 을, 제대로, 살리, 어, 내, 지, 못하, 었다, .]   \n",
       "7  [별, 반개, 도, 아깝, 다, 욕나온다, 이응경, 길용우, 연기생활이몇년, 이, ...   \n",
       "8            [액션, 이, 없, 는데, 도, 재미, 있, 는, 몇안되, 는, 영화]   \n",
       "9  [왜케, 평점, 이, 낮, 은, 것, 이, ㄴ데, ?, 꽤, 보, ㄹ, 만, 하, ...   \n",
       "\n",
       "                                         Pos Tagging  \n",
       "0  [(아, I), (더빙, N), (.., S), (진짜, N), (짜증나, P), ...  \n",
       "1  [(흠, N), (., S), (.., S), (포스터보고, N), (초딩영화줄, ...  \n",
       "2                           [(너무재밓었다그래서보는것을추천한다, N)]  \n",
       "3  [(교도소, N), (이야기구먼, N), (.., S), (솔직히, M), (재미,...  \n",
       "4  [(사이몬페그, N), (의, J), (익살, N), (스런, J), (연기, N)...  \n",
       "5  [(막, M), (걸음마, N), (떼, P), (ㄴ, E), (3세, N), (부...  \n",
       "6  [(원작, N), (의, J), (긴장감, N), (을, J), (제대로, M), ...  \n",
       "7  [(별, M), (반개, N), (도, J), (아깝, P), (다, E), (욕나...  \n",
       "8  [(액션, N), (이, J), (없, P), (는데, E), (도, J), (재미...  \n",
       "9  [(왜케, N), (평점, N), (이, J), (낮, P), (은, E), (것,...  "
      ]
     },
     "execution_count": 9,
     "metadata": {},
     "output_type": "execute_result"
    }
   ],
   "source": [
    "# Hannanum 분석기 \n",
    "from konlpy.tag import Hannanum\n",
    "hannanum_tokenizer = Hannanum()\n",
    "\n",
    "hannanum_df = pd.DataFrame(columns=['Original Review', 'After Tokenization', 'Pos Tagging'])\n",
    "\n",
    "for review in train_data_copy['document'][:10].values:\n",
    "    hannanum_df=hannanum_df.append({'Original Review' : review,\n",
    "                              'After Tokenization' : hannanum_tokenizer.morphs(review),\n",
    "                              'Pos Tagging' : hannanum_tokenizer.pos(review)},\n",
    "                              ignore_index=True)\n",
    "hannanum_df"
   ]
  },
  {
   "cell_type": "code",
   "execution_count": 10,
   "id": "nearby-luther",
   "metadata": {},
   "outputs": [
    {
     "data": {
      "text/html": [
       "<div>\n",
       "<style scoped>\n",
       "    .dataframe tbody tr th:only-of-type {\n",
       "        vertical-align: middle;\n",
       "    }\n",
       "\n",
       "    .dataframe tbody tr th {\n",
       "        vertical-align: top;\n",
       "    }\n",
       "\n",
       "    .dataframe thead th {\n",
       "        text-align: right;\n",
       "    }\n",
       "</style>\n",
       "<table border=\"1\" class=\"dataframe\">\n",
       "  <thead>\n",
       "    <tr style=\"text-align: right;\">\n",
       "      <th></th>\n",
       "      <th>Original Review</th>\n",
       "      <th>After Tokenization</th>\n",
       "      <th>Pos Tagging</th>\n",
       "    </tr>\n",
       "  </thead>\n",
       "  <tbody>\n",
       "    <tr>\n",
       "      <th>0</th>\n",
       "      <td>아 더빙.. 진짜 짜증나네요 목소리</td>\n",
       "      <td>[아, 아, 더빙, .., 진짜, 짜증나, 네요, 목소리]</td>\n",
       "      <td>[(아, VV), (아, ECS), (더빙, NNG), (.., SW), (진짜, ...</td>\n",
       "    </tr>\n",
       "    <tr>\n",
       "      <th>1</th>\n",
       "      <td>흠...포스터보고 초딩영화줄....오버연기조차 가볍지 않구나</td>\n",
       "      <td>[흠, ..., 포스터, 보고, 초, 딩, 영화, 줄, ...., 오버, 연기, 조...</td>\n",
       "      <td>[(흠, NNG), (..., SE), (포스터, NNG), (보고, NNG), (...</td>\n",
       "    </tr>\n",
       "    <tr>\n",
       "      <th>2</th>\n",
       "      <td>너무재밓었다그래서보는것을추천한다</td>\n",
       "      <td>[너무, 재, 밓, 어, 었, 다, 그래서, 보, 는, 것, 을, 추천, 하, ㄴ다]</td>\n",
       "      <td>[(너무, MAG), (재, NNG), (밓, UN), (어, VV), (었, EP...</td>\n",
       "    </tr>\n",
       "    <tr>\n",
       "      <th>3</th>\n",
       "      <td>교도소 이야기구먼 ..솔직히 재미는 없다..평점 조정</td>\n",
       "      <td>[교도소, 이야기, 구, 멀, ㄴ, .., 솔직히, 재미, 는, 없, 다, .., ...</td>\n",
       "      <td>[(교도소, NNG), (이야기, NNG), (구, XSN), (멀, VA), (ㄴ...</td>\n",
       "    </tr>\n",
       "    <tr>\n",
       "      <th>4</th>\n",
       "      <td>사이몬페그의 익살스런 연기가 돋보였던 영화!스파이더맨에서 늙어보이기만 했던 커스틴 ...</td>\n",
       "      <td>[사이몬페그, 의, 익살, 스럽, ㄴ, 연기, 가, 돋보이, 었, 더, ㄴ, 영화,...</td>\n",
       "      <td>[(사이몬페그, UN), (의, JKG), (익살, NNG), (스럽, XSA), ...</td>\n",
       "    </tr>\n",
       "    <tr>\n",
       "      <th>5</th>\n",
       "      <td>막 걸음마 뗀 3세부터 초등학교 1학년생인 8살용영화.ㅋㅋㅋ...별반개도 아까움.</td>\n",
       "      <td>[막, 걸음마, 떼, ㄴ, 3, 세, 부터, 초등학교, 1, 학년, 생인, 8, 살...</td>\n",
       "      <td>[(막, MAG), (걸음마, NNG), (떼, VV), (ㄴ, ETD), (3, ...</td>\n",
       "    </tr>\n",
       "    <tr>\n",
       "      <th>6</th>\n",
       "      <td>원작의 긴장감을 제대로 살려내지못했다.</td>\n",
       "      <td>[원작, 의, 긴장감, 을, 제대로, 살리, 어, 내, 지, 못하, 었, 다, .]</td>\n",
       "      <td>[(원작, NNG), (의, JKG), (긴장감, NNG), (을, JKO), (제...</td>\n",
       "    </tr>\n",
       "    <tr>\n",
       "      <th>7</th>\n",
       "      <td>별 반개도 아깝다 욕나온다 이응경 길용우 연기생활이몇년인지..정말 발로해도 그것보단...</td>\n",
       "      <td>[별, 반개, 도, 아깝, 다, 욕, 나오, ㄴ다, 이응, 경, 길, 용, 우, 연...</td>\n",
       "      <td>[(별, NNG), (반개, NNG), (도, JX), (아깝, VA), (다, E...</td>\n",
       "    </tr>\n",
       "    <tr>\n",
       "      <th>8</th>\n",
       "      <td>액션이 없는데도 재미 있는 몇안되는 영화</td>\n",
       "      <td>[액션, 이, 없, 는데, 도, 재미, 있, 는, 몇, 안, 되, 는, 영화]</td>\n",
       "      <td>[(액션, NNG), (이, JKS), (없, VA), (는데, ECD), (도, ...</td>\n",
       "    </tr>\n",
       "    <tr>\n",
       "      <th>9</th>\n",
       "      <td>왜케 평점이 낮은건데? 꽤 볼만한데.. 헐리우드식 화려함에만 너무 길들여져 있나?</td>\n",
       "      <td>[왜케, 평점, 이, 낮, 은, 것, 이, ㄴ데, ?, 꽤, 보, ㄹ, 만하, ㄴ데...</td>\n",
       "      <td>[(왜케, UN), (평점, NNG), (이, JKS), (낮, VA), (은, E...</td>\n",
       "    </tr>\n",
       "  </tbody>\n",
       "</table>\n",
       "</div>"
      ],
      "text/plain": [
       "                                     Original Review  \\\n",
       "0                                아 더빙.. 진짜 짜증나네요 목소리   \n",
       "1                  흠...포스터보고 초딩영화줄....오버연기조차 가볍지 않구나   \n",
       "2                                  너무재밓었다그래서보는것을추천한다   \n",
       "3                      교도소 이야기구먼 ..솔직히 재미는 없다..평점 조정   \n",
       "4  사이몬페그의 익살스런 연기가 돋보였던 영화!스파이더맨에서 늙어보이기만 했던 커스틴 ...   \n",
       "5      막 걸음마 뗀 3세부터 초등학교 1학년생인 8살용영화.ㅋㅋㅋ...별반개도 아까움.   \n",
       "6                              원작의 긴장감을 제대로 살려내지못했다.   \n",
       "7  별 반개도 아깝다 욕나온다 이응경 길용우 연기생활이몇년인지..정말 발로해도 그것보단...   \n",
       "8                             액션이 없는데도 재미 있는 몇안되는 영화   \n",
       "9      왜케 평점이 낮은건데? 꽤 볼만한데.. 헐리우드식 화려함에만 너무 길들여져 있나?   \n",
       "\n",
       "                                  After Tokenization  \\\n",
       "0                   [아, 아, 더빙, .., 진짜, 짜증나, 네요, 목소리]   \n",
       "1  [흠, ..., 포스터, 보고, 초, 딩, 영화, 줄, ...., 오버, 연기, 조...   \n",
       "2    [너무, 재, 밓, 어, 었, 다, 그래서, 보, 는, 것, 을, 추천, 하, ㄴ다]   \n",
       "3  [교도소, 이야기, 구, 멀, ㄴ, .., 솔직히, 재미, 는, 없, 다, .., ...   \n",
       "4  [사이몬페그, 의, 익살, 스럽, ㄴ, 연기, 가, 돋보이, 었, 더, ㄴ, 영화,...   \n",
       "5  [막, 걸음마, 떼, ㄴ, 3, 세, 부터, 초등학교, 1, 학년, 생인, 8, 살...   \n",
       "6     [원작, 의, 긴장감, 을, 제대로, 살리, 어, 내, 지, 못하, 었, 다, .]   \n",
       "7  [별, 반개, 도, 아깝, 다, 욕, 나오, ㄴ다, 이응, 경, 길, 용, 우, 연...   \n",
       "8        [액션, 이, 없, 는데, 도, 재미, 있, 는, 몇, 안, 되, 는, 영화]   \n",
       "9  [왜케, 평점, 이, 낮, 은, 것, 이, ㄴ데, ?, 꽤, 보, ㄹ, 만하, ㄴ데...   \n",
       "\n",
       "                                         Pos Tagging  \n",
       "0  [(아, VV), (아, ECS), (더빙, NNG), (.., SW), (진짜, ...  \n",
       "1  [(흠, NNG), (..., SE), (포스터, NNG), (보고, NNG), (...  \n",
       "2  [(너무, MAG), (재, NNG), (밓, UN), (어, VV), (었, EP...  \n",
       "3  [(교도소, NNG), (이야기, NNG), (구, XSN), (멀, VA), (ㄴ...  \n",
       "4  [(사이몬페그, UN), (의, JKG), (익살, NNG), (스럽, XSA), ...  \n",
       "5  [(막, MAG), (걸음마, NNG), (떼, VV), (ㄴ, ETD), (3, ...  \n",
       "6  [(원작, NNG), (의, JKG), (긴장감, NNG), (을, JKO), (제...  \n",
       "7  [(별, NNG), (반개, NNG), (도, JX), (아깝, VA), (다, E...  \n",
       "8  [(액션, NNG), (이, JKS), (없, VA), (는데, ECD), (도, ...  \n",
       "9  [(왜케, UN), (평점, NNG), (이, JKS), (낮, VA), (은, E...  "
      ]
     },
     "execution_count": 10,
     "metadata": {},
     "output_type": "execute_result"
    }
   ],
   "source": [
    "# KKma 분석기 \n",
    "from konlpy.tag import Kkma\n",
    "kkma_tokenizer = Kkma()\n",
    "\n",
    "kkma_df = pd.DataFrame(columns=['Original Review', 'After Tokenization', 'Pos Tagging'])\n",
    "\n",
    "for review in train_data_copy['document'][:10].values:\n",
    "    kkma_df=kkma_df.append({'Original Review' : review,\n",
    "                              'After Tokenization' : kkma_tokenizer.morphs(review),\n",
    "                              'Pos Tagging' : kkma_tokenizer.pos(review)},\n",
    "                              ignore_index=True)\n",
    "kkma_df"
   ]
  },
  {
   "cell_type": "markdown",
   "id": "auburn-cliff",
   "metadata": {},
   "source": [
    "### KhaiiiApi 설치방법\n",
    "\n",
    "---\n",
    "[github](https://github.com/kakao/khaiii/wiki/%EB%B9%8C%EB%93%9C-%EB%B0%8F-%EC%84%A4%EC%B9%98) / [blog](https://blockchainstudy.tistory.com/57)"
   ]
  },
  {
   "cell_type": "code",
   "execution_count": 11,
   "id": "fluid-provider",
   "metadata": {},
   "outputs": [
    {
     "data": {
      "text/html": [
       "<div>\n",
       "<style scoped>\n",
       "    .dataframe tbody tr th:only-of-type {\n",
       "        vertical-align: middle;\n",
       "    }\n",
       "\n",
       "    .dataframe tbody tr th {\n",
       "        vertical-align: top;\n",
       "    }\n",
       "\n",
       "    .dataframe thead th {\n",
       "        text-align: right;\n",
       "    }\n",
       "</style>\n",
       "<table border=\"1\" class=\"dataframe\">\n",
       "  <thead>\n",
       "    <tr style=\"text-align: right;\">\n",
       "      <th></th>\n",
       "      <th>Original Review</th>\n",
       "      <th>After Tokenization</th>\n",
       "      <th>Pos Tagging</th>\n",
       "    </tr>\n",
       "  </thead>\n",
       "  <tbody>\n",
       "    <tr>\n",
       "      <th>0</th>\n",
       "      <td>아 더빙.. 진짜 짜증나네요 목소리</td>\n",
       "      <td>[아, 더, 빙, .., 진짜, 짜증, 나네, 요, 목소리]</td>\n",
       "      <td>[아/IC, 더/ZV, 빙/MAG, ../SF, 진짜/MAG, 짜증/NNG, 나네/...</td>\n",
       "    </tr>\n",
       "    <tr>\n",
       "      <th>1</th>\n",
       "      <td>흠...포스터보고 초딩영화줄....오버연기조차 가볍지 않구나</td>\n",
       "      <td>[흠, ., .., 포, 스터, 보, 고, 초딩, 영화줄, ...., 오버, 연기,...</td>\n",
       "      <td>[흠/IC, ./SF, ../SE, 포/NNP, 스터/NNG, 보/VV, 고/EC,...</td>\n",
       "    </tr>\n",
       "    <tr>\n",
       "      <th>2</th>\n",
       "      <td>너무재밓었다그래서보는것을추천한다</td>\n",
       "      <td>[너무, 재, 밓, 었, 다, 그래, 서, 보, 는, 것, 을, 추천, 하, ㄴ다]</td>\n",
       "      <td>[너무/MAG, 재/NNG, 밓/SH, 었/EP, 다/EC, 그래/MAJ, 서/EC...</td>\n",
       "    </tr>\n",
       "    <tr>\n",
       "      <th>3</th>\n",
       "      <td>교도소 이야기구먼 ..솔직히 재미는 없다..평점 조정</td>\n",
       "      <td>[교도소, 이야기, 이, 구, 멀, ㄴ, ., ., 솔직히, 재미, 는, 없, 다,...</td>\n",
       "      <td>[교도소/NNG, 이야기/NNG, 이/VCP, 구/EC, 멀/VA, ㄴ/ETM, ....</td>\n",
       "    </tr>\n",
       "    <tr>\n",
       "      <th>4</th>\n",
       "      <td>사이몬페그의 익살스런 연기가 돋보였던 영화!스파이더맨에서 늙어보이기만 했던 커스틴 ...</td>\n",
       "      <td>[사, 이몬페그, 의, 익살, 스럽, ㄴ, 연기, 가, 돋보이, 었, 던, 영화, ...</td>\n",
       "      <td>[사/NNG, 이몬페그/NNP, 의/JKG, 익살/NNG, 스럽/XSA, ㄴ/ETM...</td>\n",
       "    </tr>\n",
       "    <tr>\n",
       "      <th>5</th>\n",
       "      <td>막 걸음마 뗀 3세부터 초등학교 1학년생인 8살용영화.ㅋㅋㅋ...별반개도 아까움.</td>\n",
       "      <td>[막, 걸음마, 떼, ㄴ, 3, 세, 부터, 초등학교, 1, 학년, 생, 이, ㄴ,...</td>\n",
       "      <td>[막/MAG, 걸음마/NNG, 떼/VV, ㄴ/ETM, 3/SN, 세/NNB, 부터/...</td>\n",
       "    </tr>\n",
       "    <tr>\n",
       "      <th>6</th>\n",
       "      <td>원작의 긴장감을 제대로 살려내지못했다.</td>\n",
       "      <td>[원작, 의, 긴장감, 을, 제대로, 살리, 어, 내, 지, 못하, 였, 다, .]</td>\n",
       "      <td>[원작/NNG, 의/JKG, 긴장감/NNG, 을/JKO, 제대로/MAG, 살리/VV...</td>\n",
       "    </tr>\n",
       "    <tr>\n",
       "      <th>7</th>\n",
       "      <td>별 반개도 아깝다 욕나온다 이응경 길용우 연기생활이몇년인지..정말 발로해도 그것보단...</td>\n",
       "      <td>[별, 반개, 도, 아깝, 다, 욕나오, ㄴ다, 이응경, 길용우, 연기, 생활, 이...</td>\n",
       "      <td>[별/MM, 반개/NNG, 도/JX, 아깝/VA, 다/EC, 욕나오/VV, ㄴ다/E...</td>\n",
       "    </tr>\n",
       "    <tr>\n",
       "      <th>8</th>\n",
       "      <td>액션이 없는데도 재미 있는 몇안되는 영화</td>\n",
       "      <td>[액션, 이, 없, 는데, 도, 재미, 있, 는, 몇, 안, 되, 는, 영화]</td>\n",
       "      <td>[액션/NNG, 이/JKS, 없/VA, 는데/EC, 도/JX, 재미/NNG, 있/V...</td>\n",
       "    </tr>\n",
       "    <tr>\n",
       "      <th>9</th>\n",
       "      <td>왜케 평점이 낮은건데? 꽤 볼만한데.. 헐리우드식 화려함에만 너무 길들여져 있나?</td>\n",
       "      <td>[왜, 케, 평점, 이, 낮, 은, 이, 건데, ?, 꽤, 보, ㄹ, 만, 하, ㄴ...</td>\n",
       "      <td>[왜/MAG, 케/NNG, 평점/NNG, 이/JKS, 낮/VA, 은/ETM, 이/V...</td>\n",
       "    </tr>\n",
       "  </tbody>\n",
       "</table>\n",
       "</div>"
      ],
      "text/plain": [
       "                                     Original Review  \\\n",
       "0                                아 더빙.. 진짜 짜증나네요 목소리   \n",
       "1                  흠...포스터보고 초딩영화줄....오버연기조차 가볍지 않구나   \n",
       "2                                  너무재밓었다그래서보는것을추천한다   \n",
       "3                      교도소 이야기구먼 ..솔직히 재미는 없다..평점 조정   \n",
       "4  사이몬페그의 익살스런 연기가 돋보였던 영화!스파이더맨에서 늙어보이기만 했던 커스틴 ...   \n",
       "5      막 걸음마 뗀 3세부터 초등학교 1학년생인 8살용영화.ㅋㅋㅋ...별반개도 아까움.   \n",
       "6                              원작의 긴장감을 제대로 살려내지못했다.   \n",
       "7  별 반개도 아깝다 욕나온다 이응경 길용우 연기생활이몇년인지..정말 발로해도 그것보단...   \n",
       "8                             액션이 없는데도 재미 있는 몇안되는 영화   \n",
       "9      왜케 평점이 낮은건데? 꽤 볼만한데.. 헐리우드식 화려함에만 너무 길들여져 있나?   \n",
       "\n",
       "                                  After Tokenization  \\\n",
       "0                  [아, 더, 빙, .., 진짜, 짜증, 나네, 요, 목소리]   \n",
       "1  [흠, ., .., 포, 스터, 보, 고, 초딩, 영화줄, ...., 오버, 연기,...   \n",
       "2     [너무, 재, 밓, 었, 다, 그래, 서, 보, 는, 것, 을, 추천, 하, ㄴ다]   \n",
       "3  [교도소, 이야기, 이, 구, 멀, ㄴ, ., ., 솔직히, 재미, 는, 없, 다,...   \n",
       "4  [사, 이몬페그, 의, 익살, 스럽, ㄴ, 연기, 가, 돋보이, 었, 던, 영화, ...   \n",
       "5  [막, 걸음마, 떼, ㄴ, 3, 세, 부터, 초등학교, 1, 학년, 생, 이, ㄴ,...   \n",
       "6     [원작, 의, 긴장감, 을, 제대로, 살리, 어, 내, 지, 못하, 였, 다, .]   \n",
       "7  [별, 반개, 도, 아깝, 다, 욕나오, ㄴ다, 이응경, 길용우, 연기, 생활, 이...   \n",
       "8        [액션, 이, 없, 는데, 도, 재미, 있, 는, 몇, 안, 되, 는, 영화]   \n",
       "9  [왜, 케, 평점, 이, 낮, 은, 이, 건데, ?, 꽤, 보, ㄹ, 만, 하, ㄴ...   \n",
       "\n",
       "                                         Pos Tagging  \n",
       "0  [아/IC, 더/ZV, 빙/MAG, ../SF, 진짜/MAG, 짜증/NNG, 나네/...  \n",
       "1  [흠/IC, ./SF, ../SE, 포/NNP, 스터/NNG, 보/VV, 고/EC,...  \n",
       "2  [너무/MAG, 재/NNG, 밓/SH, 었/EP, 다/EC, 그래/MAJ, 서/EC...  \n",
       "3  [교도소/NNG, 이야기/NNG, 이/VCP, 구/EC, 멀/VA, ㄴ/ETM, ....  \n",
       "4  [사/NNG, 이몬페그/NNP, 의/JKG, 익살/NNG, 스럽/XSA, ㄴ/ETM...  \n",
       "5  [막/MAG, 걸음마/NNG, 떼/VV, ㄴ/ETM, 3/SN, 세/NNB, 부터/...  \n",
       "6  [원작/NNG, 의/JKG, 긴장감/NNG, 을/JKO, 제대로/MAG, 살리/VV...  \n",
       "7  [별/MM, 반개/NNG, 도/JX, 아깝/VA, 다/EC, 욕나오/VV, ㄴ다/E...  \n",
       "8  [액션/NNG, 이/JKS, 없/VA, 는데/EC, 도/JX, 재미/NNG, 있/V...  \n",
       "9  [왜/MAG, 케/NNG, 평점/NNG, 이/JKS, 낮/VA, 은/ETM, 이/V...  "
      ]
     },
     "execution_count": 11,
     "metadata": {},
     "output_type": "execute_result"
    }
   ],
   "source": [
    "#KhaiiiApi 형태소분석기\n",
    "from khaiii import KhaiiiApi\n",
    "khaiii_tokenizer = KhaiiiApi()\n",
    "\n",
    "khaiii_df = pd.DataFrame(columns=['Original Review', 'After Tokenization', 'Pos Tagging'])\n",
    "\n",
    "for review in train_data_copy['document'][:10].values:\n",
    "    data = khaiii_tokenizer.analyze(review)\n",
    "    tokens = [] # tokenization\n",
    "    pos = [] # pos tagging\n",
    "    \n",
    "    for word in data:\n",
    "        tokens.extend([str(m).split(\"/\")[0] for m in word.morphs])\n",
    "        pos.extend([str(m) for m in word.morphs])\n",
    "        \n",
    "    khaiii_df=khaiii_df.append({'Original Review' : review,\n",
    "                              'After Tokenization' : tokens,\n",
    "                              'Pos Tagging' : pos},\n",
    "                              ignore_index=True)\n",
    "khaiii_df"
   ]
  },
  {
   "cell_type": "markdown",
   "id": "residential-mounting",
   "metadata": {},
   "source": [
    "### soynlp\n",
    "\n",
    "---\n",
    "soynlp는 비지도 학습 방법으로 모델 학습이 필요하므로 많은 텍스트 데이터를 확보하기 위해 \n",
    "\n",
    "train의 150,000개, test의 50,000개 리뷰를 합한 200,000개 데이터 중에서 결측값, 중복 데이터를 제외한 나머지 데이터를 학습에 적용시킨다."
   ]
  },
  {
   "cell_type": "code",
   "execution_count": 12,
   "id": "experimental-hungary",
   "metadata": {},
   "outputs": [
    {
     "data": {
      "text/html": [
       "<div>\n",
       "<style scoped>\n",
       "    .dataframe tbody tr th:only-of-type {\n",
       "        vertical-align: middle;\n",
       "    }\n",
       "\n",
       "    .dataframe tbody tr th {\n",
       "        vertical-align: top;\n",
       "    }\n",
       "\n",
       "    .dataframe thead th {\n",
       "        text-align: right;\n",
       "    }\n",
       "</style>\n",
       "<table border=\"1\" class=\"dataframe\">\n",
       "  <thead>\n",
       "    <tr style=\"text-align: right;\">\n",
       "      <th></th>\n",
       "      <th>id</th>\n",
       "      <th>document</th>\n",
       "      <th>label</th>\n",
       "    </tr>\n",
       "  </thead>\n",
       "  <tbody>\n",
       "    <tr>\n",
       "      <th>0</th>\n",
       "      <td>9976970</td>\n",
       "      <td>아 더빙.. 진짜 짜증나네요 목소리</td>\n",
       "      <td>0</td>\n",
       "    </tr>\n",
       "    <tr>\n",
       "      <th>1</th>\n",
       "      <td>3819312</td>\n",
       "      <td>흠...포스터보고 초딩영화줄....오버연기조차 가볍지 않구나</td>\n",
       "      <td>1</td>\n",
       "    </tr>\n",
       "    <tr>\n",
       "      <th>2</th>\n",
       "      <td>10265843</td>\n",
       "      <td>너무재밓었다그래서보는것을추천한다</td>\n",
       "      <td>0</td>\n",
       "    </tr>\n",
       "    <tr>\n",
       "      <th>3</th>\n",
       "      <td>9045019</td>\n",
       "      <td>교도소 이야기구먼 ..솔직히 재미는 없다..평점 조정</td>\n",
       "      <td>0</td>\n",
       "    </tr>\n",
       "    <tr>\n",
       "      <th>4</th>\n",
       "      <td>6483659</td>\n",
       "      <td>사이몬페그의 익살스런 연기가 돋보였던 영화!스파이더맨에서 늙어보이기만 했던 커스틴 ...</td>\n",
       "      <td>1</td>\n",
       "    </tr>\n",
       "    <tr>\n",
       "      <th>...</th>\n",
       "      <td>...</td>\n",
       "      <td>...</td>\n",
       "      <td>...</td>\n",
       "    </tr>\n",
       "    <tr>\n",
       "      <th>49995</th>\n",
       "      <td>4608761</td>\n",
       "      <td>오랜만에 평점 로긴했네ㅋㅋ 킹왕짱 쌈뽕한 영화를 만났습니다 강렬하게 육쾌함</td>\n",
       "      <td>1</td>\n",
       "    </tr>\n",
       "    <tr>\n",
       "      <th>49996</th>\n",
       "      <td>5308387</td>\n",
       "      <td>의지 박약들이나 하는거다 탈영은 일단 주인공 김대희 닮았고 이등병 찐따 OOOO</td>\n",
       "      <td>0</td>\n",
       "    </tr>\n",
       "    <tr>\n",
       "      <th>49997</th>\n",
       "      <td>9072549</td>\n",
       "      <td>그림도 좋고 완성도도 높았지만... 보는 내내 불안하게 만든다</td>\n",
       "      <td>0</td>\n",
       "    </tr>\n",
       "    <tr>\n",
       "      <th>49998</th>\n",
       "      <td>5802125</td>\n",
       "      <td>절대 봐서는 안 될 영화.. 재미도 없고 기분만 잡치고.. 한 세트장에서 다 해먹네</td>\n",
       "      <td>0</td>\n",
       "    </tr>\n",
       "    <tr>\n",
       "      <th>49999</th>\n",
       "      <td>6070594</td>\n",
       "      <td>마무리는 또 왜이래</td>\n",
       "      <td>0</td>\n",
       "    </tr>\n",
       "  </tbody>\n",
       "</table>\n",
       "<p>200000 rows × 3 columns</p>\n",
       "</div>"
      ],
      "text/plain": [
       "             id                                           document  label\n",
       "0       9976970                                아 더빙.. 진짜 짜증나네요 목소리      0\n",
       "1       3819312                  흠...포스터보고 초딩영화줄....오버연기조차 가볍지 않구나      1\n",
       "2      10265843                                  너무재밓었다그래서보는것을추천한다      0\n",
       "3       9045019                      교도소 이야기구먼 ..솔직히 재미는 없다..평점 조정      0\n",
       "4       6483659  사이몬페그의 익살스런 연기가 돋보였던 영화!스파이더맨에서 늙어보이기만 했던 커스틴 ...      1\n",
       "...         ...                                                ...    ...\n",
       "49995   4608761          오랜만에 평점 로긴했네ㅋㅋ 킹왕짱 쌈뽕한 영화를 만났습니다 강렬하게 육쾌함      1\n",
       "49996   5308387       의지 박약들이나 하는거다 탈영은 일단 주인공 김대희 닮았고 이등병 찐따 OOOO      0\n",
       "49997   9072549                 그림도 좋고 완성도도 높았지만... 보는 내내 불안하게 만든다      0\n",
       "49998   5802125     절대 봐서는 안 될 영화.. 재미도 없고 기분만 잡치고.. 한 세트장에서 다 해먹네      0\n",
       "49999   6070594                                         마무리는 또 왜이래      0\n",
       "\n",
       "[200000 rows x 3 columns]"
      ]
     },
     "execution_count": 12,
     "metadata": {},
     "output_type": "execute_result"
    }
   ],
   "source": [
    "total_text = pd.concat((train_data, test_data))\n",
    "total_text"
   ]
  },
  {
   "cell_type": "code",
   "execution_count": 13,
   "id": "native-agreement",
   "metadata": {},
   "outputs": [],
   "source": [
    "# 전처리\n",
    "total_text.drop_duplicates(subset=['document'], inplace=True)\n",
    "total_text = total_text.dropna(how = 'any')"
   ]
  },
  {
   "cell_type": "code",
   "execution_count": 14,
   "id": "incredible-slovenia",
   "metadata": {},
   "outputs": [],
   "source": [
    "# 텍스트 데이터를 저장\n",
    "total_text['document'].to_csv(path_or_buf='/aiffel/aiffel/sentiment_classification/data/total_text.txt', index=False, header='document')"
   ]
  },
  {
   "cell_type": "code",
   "execution_count": 15,
   "id": "passing-suite",
   "metadata": {},
   "outputs": [
    {
     "name": "stdout",
     "output_type": "stream",
     "text": [
      "training was done. used memory 2.243 Gbse memory 2.053 Gb\n"
     ]
    }
   ],
   "source": [
    "# soynlp 단어 점수 학습\n",
    "from soynlp.word import WordExtractor\n",
    "\n",
    "model_name = '/aiffel/aiffel/sentiment_classification/data/soyword_train.model'\n",
    "\n",
    "sentences = [sent.strip() for sent in list(total_text.document.values)]\n",
    "\n",
    "word_extractor = WordExtractor(min_frequency=100,\n",
    "    min_cohesion_forward=0.05, \n",
    "    min_right_branching_entropy=0.0\n",
    ")\n",
    "\n",
    "word_extractor.train(sentences)\n",
    "word_extractor.save(model_name)"
   ]
  },
  {
   "cell_type": "code",
   "execution_count": 16,
   "id": "affected-quarter",
   "metadata": {},
   "outputs": [
    {
     "name": "stdout",
     "output_type": "stream",
     "text": [
      "all cohesion probabilities was computed. # words = 6096\n",
      "all branching entropies was computed # words = 122528\n",
      "all accessor variety was computed # words = 122528\n"
     ]
    },
    {
     "data": {
      "text/html": [
       "<div>\n",
       "<style scoped>\n",
       "    .dataframe tbody tr th:only-of-type {\n",
       "        vertical-align: middle;\n",
       "    }\n",
       "\n",
       "    .dataframe tbody tr th {\n",
       "        vertical-align: top;\n",
       "    }\n",
       "\n",
       "    .dataframe thead th {\n",
       "        text-align: right;\n",
       "    }\n",
       "</style>\n",
       "<table border=\"1\" class=\"dataframe\">\n",
       "  <thead>\n",
       "    <tr style=\"text-align: right;\">\n",
       "      <th></th>\n",
       "      <th>Original Review</th>\n",
       "      <th>After Tokenization</th>\n",
       "    </tr>\n",
       "  </thead>\n",
       "  <tbody>\n",
       "    <tr>\n",
       "      <th>0</th>\n",
       "      <td>아 더빙.. 진짜 짜증나네요 목소리</td>\n",
       "      <td>[아, 더빙, .., 진짜, 짜증, 나네요, 목소리]</td>\n",
       "    </tr>\n",
       "    <tr>\n",
       "      <th>1</th>\n",
       "      <td>흠...포스터보고 초딩영화줄....오버연기조차 가볍지 않구나</td>\n",
       "      <td>[흠.., .포스터보고, 초딩, 영화줄....오버연기조차, 가볍, 지, 않구나]</td>\n",
       "    </tr>\n",
       "    <tr>\n",
       "      <th>2</th>\n",
       "      <td>너무재밓었다그래서보는것을추천한다</td>\n",
       "      <td>[너무, 재밓었다그래서보는것을추천한다]</td>\n",
       "    </tr>\n",
       "    <tr>\n",
       "      <th>3</th>\n",
       "      <td>교도소 이야기구먼 ..솔직히 재미는 없다..평점 조정</td>\n",
       "      <td>[교도소, 이야기, 구먼, .., 솔직히, 재미, 는, 없다., .평점, 조정]</td>\n",
       "    </tr>\n",
       "    <tr>\n",
       "      <th>4</th>\n",
       "      <td>사이몬페그의 익살스런 연기가 돋보였던 영화!스파이더맨에서 늙어보이기만 했던 커스틴 ...</td>\n",
       "      <td>[사이, 몬페그의, 익살스런, 연기, 가, 돋보, 였던, 영화, !스파이더맨에서, ...</td>\n",
       "    </tr>\n",
       "    <tr>\n",
       "      <th>5</th>\n",
       "      <td>막 걸음마 뗀 3세부터 초등학교 1학년생인 8살용영화.ㅋㅋㅋ...별반개도 아까움.</td>\n",
       "      <td>[막, 걸음마, 뗀, 3세부터, 초등학교, 1학년생인, 8살용영화.ㅋㅋㅋ...별반개...</td>\n",
       "    </tr>\n",
       "    <tr>\n",
       "      <th>6</th>\n",
       "      <td>원작의 긴장감을 제대로 살려내지못했다.</td>\n",
       "      <td>[원작의, 긴장감, 을, 제대로, 살려, 내지못했다.]</td>\n",
       "    </tr>\n",
       "    <tr>\n",
       "      <th>7</th>\n",
       "      <td>별 반개도 아깝다 욕나온다 이응경 길용우 연기생활이몇년인지..정말 발로해도 그것보단...</td>\n",
       "      <td>[별, 반개도, 아깝다, 욕나, 온다, 이응경, 길용우, 연기, 생활이몇년인지..정...</td>\n",
       "    </tr>\n",
       "    <tr>\n",
       "      <th>8</th>\n",
       "      <td>액션이 없는데도 재미 있는 몇안되는 영화</td>\n",
       "      <td>[액션, 이, 없는, 데도, 재미, 있는, 몇안되는, 영화]</td>\n",
       "    </tr>\n",
       "    <tr>\n",
       "      <th>9</th>\n",
       "      <td>왜케 평점이 낮은건데? 꽤 볼만한데.. 헐리우드식 화려함에만 너무 길들여져 있나?</td>\n",
       "      <td>[왜케, 평점, 이, 낮은, 건데?, 꽤, 볼만한, 데.., 헐리우드, 식, 화려,...</td>\n",
       "    </tr>\n",
       "  </tbody>\n",
       "</table>\n",
       "</div>"
      ],
      "text/plain": [
       "                                     Original Review  \\\n",
       "0                                아 더빙.. 진짜 짜증나네요 목소리   \n",
       "1                  흠...포스터보고 초딩영화줄....오버연기조차 가볍지 않구나   \n",
       "2                                  너무재밓었다그래서보는것을추천한다   \n",
       "3                      교도소 이야기구먼 ..솔직히 재미는 없다..평점 조정   \n",
       "4  사이몬페그의 익살스런 연기가 돋보였던 영화!스파이더맨에서 늙어보이기만 했던 커스틴 ...   \n",
       "5      막 걸음마 뗀 3세부터 초등학교 1학년생인 8살용영화.ㅋㅋㅋ...별반개도 아까움.   \n",
       "6                              원작의 긴장감을 제대로 살려내지못했다.   \n",
       "7  별 반개도 아깝다 욕나온다 이응경 길용우 연기생활이몇년인지..정말 발로해도 그것보단...   \n",
       "8                             액션이 없는데도 재미 있는 몇안되는 영화   \n",
       "9      왜케 평점이 낮은건데? 꽤 볼만한데.. 헐리우드식 화려함에만 너무 길들여져 있나?   \n",
       "\n",
       "                                  After Tokenization  \n",
       "0                      [아, 더빙, .., 진짜, 짜증, 나네요, 목소리]  \n",
       "1       [흠.., .포스터보고, 초딩, 영화줄....오버연기조차, 가볍, 지, 않구나]  \n",
       "2                              [너무, 재밓었다그래서보는것을추천한다]  \n",
       "3       [교도소, 이야기, 구먼, .., 솔직히, 재미, 는, 없다., .평점, 조정]  \n",
       "4  [사이, 몬페그의, 익살스런, 연기, 가, 돋보, 였던, 영화, !스파이더맨에서, ...  \n",
       "5  [막, 걸음마, 뗀, 3세부터, 초등학교, 1학년생인, 8살용영화.ㅋㅋㅋ...별반개...  \n",
       "6                     [원작의, 긴장감, 을, 제대로, 살려, 내지못했다.]  \n",
       "7  [별, 반개도, 아깝다, 욕나, 온다, 이응경, 길용우, 연기, 생활이몇년인지..정...  \n",
       "8                  [액션, 이, 없는, 데도, 재미, 있는, 몇안되는, 영화]  \n",
       "9  [왜케, 평점, 이, 낮은, 건데?, 꽤, 볼만한, 데.., 헐리우드, 식, 화려,...  "
      ]
     },
     "execution_count": 16,
     "metadata": {},
     "output_type": "execute_result"
    }
   ],
   "source": [
    "# soynlp 형태소 분석\n",
    "import math\n",
    "from soynlp.word import WordExtractor\n",
    "from soynlp.tokenizer import LTokenizer\n",
    "\n",
    "word_extractor.load(model_name)\n",
    "scores = word_extractor.word_scores()\n",
    "scores = {\n",
    "    key : (scores[key].cohesion_forward * math.exp(scores[key].right_branching_entropy)) for key in scores.keys()}\n",
    "soynlp_tokenizer = LTokenizer(scores=scores)\n",
    "\n",
    "soynlp_df = pd.DataFrame(columns=['Original Review', 'After Tokenization'])\n",
    "\n",
    "for review in train_data_copy['document'][:10].values:\n",
    "    soynlp_df=soynlp_df.append({'Original Review' : review,\n",
    "                              'After Tokenization' : soynlp_tokenizer.tokenize(review)},\n",
    "                              ignore_index=True)\n",
    "soynlp_df"
   ]
  },
  {
   "cell_type": "markdown",
   "id": "unexpected-xerox",
   "metadata": {},
   "source": [
    "### soyspacing \n",
    "\n",
    "---\n",
    "200,000개의 텍스트 데이터를 학습한 모델로 띄어쓰기를 적용 할 수 있다.\n",
    "\n",
    "corrected_review = spacing_model.correct(review)[0]  # correct() 함수로 띄어쓰기 적용"
   ]
  },
  {
   "cell_type": "code",
   "execution_count": 17,
   "id": "mighty-contamination",
   "metadata": {},
   "outputs": [],
   "source": [
    "# !pip install soyspacing"
   ]
  },
  {
   "cell_type": "code",
   "execution_count": 18,
   "id": "banner-broadcast",
   "metadata": {},
   "outputs": [
    {
     "name": "stdout",
     "output_type": "stream",
     "text": [
      "all tags length = 617463 --> 130180, (num_doc = 194543))"
     ]
    }
   ],
   "source": [
    "from soyspacing.countbase import CountSpace\n",
    "\n",
    "corpus_fname = '/aiffel/aiffel/sentiment_classification/data/total_text.txt'\n",
    "model_name = '/aiffel/aiffel/sentiment_classification/data/space-correct_train.model'\n",
    "\n",
    "spacing_model = CountSpace()\n",
    "spacing_model.train(corpus_fname)\n",
    "spacing_model.save_model(model_name, json_format=False)"
   ]
  },
  {
   "cell_type": "code",
   "execution_count": 19,
   "id": "military-casino",
   "metadata": {},
   "outputs": [
    {
     "data": {
      "text/html": [
       "<div>\n",
       "<style scoped>\n",
       "    .dataframe tbody tr th:only-of-type {\n",
       "        vertical-align: middle;\n",
       "    }\n",
       "\n",
       "    .dataframe tbody tr th {\n",
       "        vertical-align: top;\n",
       "    }\n",
       "\n",
       "    .dataframe thead th {\n",
       "        text-align: right;\n",
       "    }\n",
       "</style>\n",
       "<table border=\"1\" class=\"dataframe\">\n",
       "  <thead>\n",
       "    <tr style=\"text-align: right;\">\n",
       "      <th></th>\n",
       "      <th>Original Review</th>\n",
       "      <th>After Spcing Review</th>\n",
       "      <th>After Tokenization</th>\n",
       "    </tr>\n",
       "  </thead>\n",
       "  <tbody>\n",
       "    <tr>\n",
       "      <th>0</th>\n",
       "      <td>아 더빙.. 진짜 짜증나네요 목소리</td>\n",
       "      <td>아 더빙.. 진짜 짜증나네요 목소리</td>\n",
       "      <td>[아, 더빙, .., 진짜, 짜증, 나네요, 목소리]</td>\n",
       "    </tr>\n",
       "    <tr>\n",
       "      <th>1</th>\n",
       "      <td>흠...포스터보고 초딩영화줄....오버연기조차 가볍지 않구나</td>\n",
       "      <td>흠...포스터보고 초딩영화줄....오버연기조차 가볍지 않구나</td>\n",
       "      <td>[흠.., .포스터보고, 초딩, 영화줄....오버연기조차, 가볍, 지, 않구나]</td>\n",
       "    </tr>\n",
       "    <tr>\n",
       "      <th>2</th>\n",
       "      <td>너무재밓었다그래서보는것을추천한다</td>\n",
       "      <td>너무 재밓었다그래서 보는것을 추천한다</td>\n",
       "      <td>[너무, 재밓었다그래서, 보는, 것을, 추천, 한다]</td>\n",
       "    </tr>\n",
       "    <tr>\n",
       "      <th>3</th>\n",
       "      <td>교도소 이야기구먼 ..솔직히 재미는 없다..평점 조정</td>\n",
       "      <td>교도소 이야기구먼 .. 솔직히 재미는 없다..평점 조정</td>\n",
       "      <td>[교도소, 이야기, 구먼, .., 솔직히, 재미, 는, 없다., .평점, 조정]</td>\n",
       "    </tr>\n",
       "    <tr>\n",
       "      <th>4</th>\n",
       "      <td>사이몬페그의 익살스런 연기가 돋보였던 영화!스파이더맨에서 늙어보이기만 했던 커스틴 ...</td>\n",
       "      <td>사이몬페그의 익살스런 연기가 돋보였던 영화!스파이더맨에서 늙어보이기만 했던 커스틴 ...</td>\n",
       "      <td>[사이, 몬페그의, 익살스런, 연기, 가, 돋보, 였던, 영화, !스파이더맨에서, ...</td>\n",
       "    </tr>\n",
       "    <tr>\n",
       "      <th>5</th>\n",
       "      <td>막 걸음마 뗀 3세부터 초등학교 1학년생인 8살용영화.ㅋㅋㅋ...별반개도 아까움.</td>\n",
       "      <td>막 걸음마 뗀 3세부터 초등학교 1학년생인 8살용영화.ㅋㅋㅋ...별반개도 아까움.</td>\n",
       "      <td>[막, 걸음마, 뗀, 3세부터, 초등학교, 1학년생인, 8살용영화.ㅋㅋㅋ...별반개...</td>\n",
       "    </tr>\n",
       "    <tr>\n",
       "      <th>6</th>\n",
       "      <td>원작의 긴장감을 제대로 살려내지못했다.</td>\n",
       "      <td>원작의 긴장감을 제대로 살려내지 못했다.</td>\n",
       "      <td>[원작의, 긴장감, 을, 제대로, 살려, 내지, 못했다.]</td>\n",
       "    </tr>\n",
       "    <tr>\n",
       "      <th>7</th>\n",
       "      <td>별 반개도 아깝다 욕나온다 이응경 길용우 연기생활이몇년인지..정말 발로해도 그것보단...</td>\n",
       "      <td>별 반개도 아깝다 욕나온다 이응경 길용우 연기생활이몇년인지..정말 발로해도 그것보단...</td>\n",
       "      <td>[별, 반개도, 아깝다, 욕나, 온다, 이응경, 길용우, 연기, 생활이몇년인지..정...</td>\n",
       "    </tr>\n",
       "    <tr>\n",
       "      <th>8</th>\n",
       "      <td>액션이 없는데도 재미 있는 몇안되는 영화</td>\n",
       "      <td>액션이 없는데도 재미 있는 몇안되는 영화</td>\n",
       "      <td>[액션, 이, 없는, 데도, 재미, 있는, 몇안되는, 영화]</td>\n",
       "    </tr>\n",
       "    <tr>\n",
       "      <th>9</th>\n",
       "      <td>왜케 평점이 낮은건데? 꽤 볼만한데.. 헐리우드식 화려함에만 너무 길들여져 있나?</td>\n",
       "      <td>왜케 평점이 낮은건데? 꽤 볼만한데.. 헐리우드식 화려함에만 너무 길들여져 있나?</td>\n",
       "      <td>[왜케, 평점, 이, 낮은, 건데?, 꽤, 볼만한, 데.., 헐리우드, 식, 화려,...</td>\n",
       "    </tr>\n",
       "    <tr>\n",
       "      <th>10</th>\n",
       "      <td>걍인피니트가짱이다.진짜짱이다♥</td>\n",
       "      <td>걍인피니트가짱이다. 진짜 짱이다♥</td>\n",
       "      <td>[걍인피니트가짱이다., 진짜, 짱이, 다♥]</td>\n",
       "    </tr>\n",
       "    <tr>\n",
       "      <th>11</th>\n",
       "      <td>볼때마다 눈물나서 죽겠다90년대의 향수자극!!허진호는 감성절제멜로의 달인이다~</td>\n",
       "      <td>볼때마다 눈물나서 죽겠다90년대의 향수자극!!허진호는 감성절제멜로의 달인이다~</td>\n",
       "      <td>[볼때마다, 눈물, 나서, 죽겠다90년대의, 향수자극!!허진호는, 감성, 절제멜로의...</td>\n",
       "    </tr>\n",
       "    <tr>\n",
       "      <th>12</th>\n",
       "      <td>울면서 손들고 횡단보도 건널때 뛰쳐나올뻔 이범수 연기 드럽게못해</td>\n",
       "      <td>울면서 손들고 횡단보도 건널때 뛰쳐나올뻔 이범수 연기 드럽게 못해</td>\n",
       "      <td>[울면서, 손들고, 횡단보도, 건널때, 뛰쳐나올뻔, 이범수, 연기, 드럽게, 못해]</td>\n",
       "    </tr>\n",
       "    <tr>\n",
       "      <th>13</th>\n",
       "      <td>담백하고 깔끔해서 좋다. 신문기사로만 보다 보면 자꾸 잊어버린다. 그들도 사람이었다...</td>\n",
       "      <td>담백하고 깔끔해서 좋다. 신문기사로만 보다 보면 자꾸 잊어버린다. 그들도 사람이었다...</td>\n",
       "      <td>[담백하고, 깔끔, 해서, 좋다., 신문기사로만, 보다, 보면, 자꾸, 잊어버린다....</td>\n",
       "    </tr>\n",
       "    <tr>\n",
       "      <th>14</th>\n",
       "      <td>취향은 존중한다지만 진짜 내생에 극장에서 본 영화중 가장 노잼 노감동임 스토리도 어...</td>\n",
       "      <td>취향은 존중한다지만 진짜 내생에 극장에서 본 영화중 가장 노잼 노감동임 스토리도 어...</td>\n",
       "      <td>[취향, 은, 존중한다지만, 진짜, 내생에, 극장에서, 본, 영화, 중, 가장, 노...</td>\n",
       "    </tr>\n",
       "  </tbody>\n",
       "</table>\n",
       "</div>"
      ],
      "text/plain": [
       "                                      Original Review  \\\n",
       "0                                 아 더빙.. 진짜 짜증나네요 목소리   \n",
       "1                   흠...포스터보고 초딩영화줄....오버연기조차 가볍지 않구나   \n",
       "2                                   너무재밓었다그래서보는것을추천한다   \n",
       "3                       교도소 이야기구먼 ..솔직히 재미는 없다..평점 조정   \n",
       "4   사이몬페그의 익살스런 연기가 돋보였던 영화!스파이더맨에서 늙어보이기만 했던 커스틴 ...   \n",
       "5       막 걸음마 뗀 3세부터 초등학교 1학년생인 8살용영화.ㅋㅋㅋ...별반개도 아까움.   \n",
       "6                               원작의 긴장감을 제대로 살려내지못했다.   \n",
       "7   별 반개도 아깝다 욕나온다 이응경 길용우 연기생활이몇년인지..정말 발로해도 그것보단...   \n",
       "8                              액션이 없는데도 재미 있는 몇안되는 영화   \n",
       "9       왜케 평점이 낮은건데? 꽤 볼만한데.. 헐리우드식 화려함에만 너무 길들여져 있나?   \n",
       "10                                   걍인피니트가짱이다.진짜짱이다♥   \n",
       "11        볼때마다 눈물나서 죽겠다90년대의 향수자극!!허진호는 감성절제멜로의 달인이다~   \n",
       "12                울면서 손들고 횡단보도 건널때 뛰쳐나올뻔 이범수 연기 드럽게못해   \n",
       "13  담백하고 깔끔해서 좋다. 신문기사로만 보다 보면 자꾸 잊어버린다. 그들도 사람이었다...   \n",
       "14  취향은 존중한다지만 진짜 내생에 극장에서 본 영화중 가장 노잼 노감동임 스토리도 어...   \n",
       "\n",
       "                                  After Spcing Review  \\\n",
       "0                                 아 더빙.. 진짜 짜증나네요 목소리   \n",
       "1                   흠...포스터보고 초딩영화줄....오버연기조차 가볍지 않구나   \n",
       "2                                너무 재밓었다그래서 보는것을 추천한다   \n",
       "3                      교도소 이야기구먼 .. 솔직히 재미는 없다..평점 조정   \n",
       "4   사이몬페그의 익살스런 연기가 돋보였던 영화!스파이더맨에서 늙어보이기만 했던 커스틴 ...   \n",
       "5       막 걸음마 뗀 3세부터 초등학교 1학년생인 8살용영화.ㅋㅋㅋ...별반개도 아까움.   \n",
       "6                              원작의 긴장감을 제대로 살려내지 못했다.   \n",
       "7   별 반개도 아깝다 욕나온다 이응경 길용우 연기생활이몇년인지..정말 발로해도 그것보단...   \n",
       "8                              액션이 없는데도 재미 있는 몇안되는 영화   \n",
       "9       왜케 평점이 낮은건데? 꽤 볼만한데.. 헐리우드식 화려함에만 너무 길들여져 있나?   \n",
       "10                                 걍인피니트가짱이다. 진짜 짱이다♥   \n",
       "11        볼때마다 눈물나서 죽겠다90년대의 향수자극!!허진호는 감성절제멜로의 달인이다~   \n",
       "12               울면서 손들고 횡단보도 건널때 뛰쳐나올뻔 이범수 연기 드럽게 못해   \n",
       "13  담백하고 깔끔해서 좋다. 신문기사로만 보다 보면 자꾸 잊어버린다. 그들도 사람이었다...   \n",
       "14  취향은 존중한다지만 진짜 내생에 극장에서 본 영화중 가장 노잼 노감동임 스토리도 어...   \n",
       "\n",
       "                                   After Tokenization  \n",
       "0                       [아, 더빙, .., 진짜, 짜증, 나네요, 목소리]  \n",
       "1        [흠.., .포스터보고, 초딩, 영화줄....오버연기조차, 가볍, 지, 않구나]  \n",
       "2                       [너무, 재밓었다그래서, 보는, 것을, 추천, 한다]  \n",
       "3        [교도소, 이야기, 구먼, .., 솔직히, 재미, 는, 없다., .평점, 조정]  \n",
       "4   [사이, 몬페그의, 익살스런, 연기, 가, 돋보, 였던, 영화, !스파이더맨에서, ...  \n",
       "5   [막, 걸음마, 뗀, 3세부터, 초등학교, 1학년생인, 8살용영화.ㅋㅋㅋ...별반개...  \n",
       "6                    [원작의, 긴장감, 을, 제대로, 살려, 내지, 못했다.]  \n",
       "7   [별, 반개도, 아깝다, 욕나, 온다, 이응경, 길용우, 연기, 생활이몇년인지..정...  \n",
       "8                   [액션, 이, 없는, 데도, 재미, 있는, 몇안되는, 영화]  \n",
       "9   [왜케, 평점, 이, 낮은, 건데?, 꽤, 볼만한, 데.., 헐리우드, 식, 화려,...  \n",
       "10                           [걍인피니트가짱이다., 진짜, 짱이, 다♥]  \n",
       "11  [볼때마다, 눈물, 나서, 죽겠다90년대의, 향수자극!!허진호는, 감성, 절제멜로의...  \n",
       "12     [울면서, 손들고, 횡단보도, 건널때, 뛰쳐나올뻔, 이범수, 연기, 드럽게, 못해]  \n",
       "13  [담백하고, 깔끔, 해서, 좋다., 신문기사로만, 보다, 보면, 자꾸, 잊어버린다....  \n",
       "14  [취향, 은, 존중한다지만, 진짜, 내생에, 극장에서, 본, 영화, 중, 가장, 노...  "
      ]
     },
     "execution_count": 19,
     "metadata": {},
     "output_type": "execute_result"
    }
   ],
   "source": [
    "spacing_model.load_model(model_name, json_format=False)\n",
    "\n",
    "soynlp_df = pd.DataFrame(columns=['Original Review', 'After Spcing Review', 'After Tokenization'])\n",
    "for review in train_data_copy['document'][:15].values:\n",
    "    corrected_review = spacing_model.correct(review)[0]\n",
    "    soynlp_df=soynlp_df.append({'Original Review' : review,\n",
    "                                'After Spcing Review' : corrected_review,\n",
    "                              'After Tokenization' : soynlp_tokenizer.tokenize(corrected_review)},\n",
    "                              ignore_index=True)\n",
    "soynlp_df"
   ]
  },
  {
   "cell_type": "markdown",
   "id": "patient-interpretation",
   "metadata": {},
   "source": [
    "## DataLoader\n",
    "\n",
    "---\n",
    "\n",
    "- 데이터의 중복 제거\n",
    "- NaN 결측치 제거\n",
    "- 정규표현식을 활용하여 한글, 띄어쓰기만 추출 \n",
    "- 1글자 이상의 텍스트만 사용\n",
    "- 매개변수의 인자로 들어오는 토크나이저 종류에 따라 다른 메소드를 호출할 수 있도록 분리\n",
    "- 불용어(Stopwords) 제거(675개)\n",
    "- word_to_index\n",
    "- index_to_word\n",
    "- X_train, y_train, X_test, y_test 리턴"
   ]
  },
  {
   "cell_type": "code",
   "execution_count": 20,
   "id": "medium-distinction",
   "metadata": {},
   "outputs": [
    {
     "data": {
      "text/html": [
       "<div>\n",
       "<style scoped>\n",
       "    .dataframe tbody tr th:only-of-type {\n",
       "        vertical-align: middle;\n",
       "    }\n",
       "\n",
       "    .dataframe tbody tr th {\n",
       "        vertical-align: top;\n",
       "    }\n",
       "\n",
       "    .dataframe thead th {\n",
       "        text-align: right;\n",
       "    }\n",
       "</style>\n",
       "<table border=\"1\" class=\"dataframe\">\n",
       "  <thead>\n",
       "    <tr style=\"text-align: right;\">\n",
       "      <th></th>\n",
       "      <th>word</th>\n",
       "    </tr>\n",
       "  </thead>\n",
       "  <tbody>\n",
       "    <tr>\n",
       "      <th>0</th>\n",
       "      <td>아</td>\n",
       "    </tr>\n",
       "    <tr>\n",
       "      <th>1</th>\n",
       "      <td>휴</td>\n",
       "    </tr>\n",
       "    <tr>\n",
       "      <th>2</th>\n",
       "      <td>아이구</td>\n",
       "    </tr>\n",
       "    <tr>\n",
       "      <th>3</th>\n",
       "      <td>아이쿠</td>\n",
       "    </tr>\n",
       "    <tr>\n",
       "      <th>4</th>\n",
       "      <td>아이고</td>\n",
       "    </tr>\n",
       "    <tr>\n",
       "      <th>...</th>\n",
       "      <td>...</td>\n",
       "    </tr>\n",
       "    <tr>\n",
       "      <th>670</th>\n",
       "      <td>일곱</td>\n",
       "    </tr>\n",
       "    <tr>\n",
       "      <th>671</th>\n",
       "      <td>여덟</td>\n",
       "    </tr>\n",
       "    <tr>\n",
       "      <th>672</th>\n",
       "      <td>아홉</td>\n",
       "    </tr>\n",
       "    <tr>\n",
       "      <th>673</th>\n",
       "      <td>령</td>\n",
       "    </tr>\n",
       "    <tr>\n",
       "      <th>674</th>\n",
       "      <td>영</td>\n",
       "    </tr>\n",
       "  </tbody>\n",
       "</table>\n",
       "<p>675 rows × 1 columns</p>\n",
       "</div>"
      ],
      "text/plain": [
       "    word\n",
       "0      아\n",
       "1      휴\n",
       "2    아이구\n",
       "3    아이쿠\n",
       "4    아이고\n",
       "..   ...\n",
       "670   일곱\n",
       "671   여덟\n",
       "672   아홉\n",
       "673    령\n",
       "674    영\n",
       "\n",
       "[675 rows x 1 columns]"
      ]
     },
     "execution_count": 20,
     "metadata": {},
     "output_type": "execute_result"
    }
   ],
   "source": [
    "# 불용어\n",
    "# https://www.ranks.nl/stopwords/korean 를 참고\n",
    "\n",
    "stopwords = pd.read_csv('~/aiffel/sentiment_classification/data/stopwords.txt')\n",
    "stopwords"
   ]
  },
  {
   "cell_type": "code",
   "execution_count": 21,
   "id": "informal-subject",
   "metadata": {},
   "outputs": [],
   "source": [
    "stopwords = list(stopwords['word'].values)"
   ]
  },
  {
   "cell_type": "code",
   "execution_count": 22,
   "id": "spatial-longitude",
   "metadata": {},
   "outputs": [],
   "source": [
    "# 정규표현식을 활용하여 한글, 띄어쓰기만 추출 \n",
    "import re\n",
    "\n",
    "def extract_korean_spacing(sentence):\n",
    "    hangul = re.compile('[^ [가-힣]+') # 한글과 띄어쓰기를 제외한 모든 글자 \n",
    "    return hangul.sub('', sentence).strip()"
   ]
  },
  {
   "cell_type": "code",
   "execution_count": 23,
   "id": "mighty-coffee",
   "metadata": {},
   "outputs": [
    {
     "name": "stdout",
     "output_type": "stream",
     "text": [
      "슈슈슈슈 귯\n"
     ]
    }
   ],
   "source": [
    "print(extract_korean_spacing('asdfsdfb dfwea 슈슈슈슈ㅠㄱ 귯'))"
   ]
  },
  {
   "cell_type": "code",
   "execution_count": 24,
   "id": "express-presence",
   "metadata": {},
   "outputs": [],
   "source": [
    "# 코드가 많이 지저분합니다... 정리가 필요해요 ㅠㅠ\n",
    "\n",
    "from tqdm import tqdm\n",
    "\n",
    "def load_data(train_data, test_data, tokenizer, stopwords, spacing_model=None, num_words=10000):\n",
    "    \n",
    "    \"\"\"\n",
    "    train_data    : train_data\n",
    "    test_data     : test_data\n",
    "    tokenizer     : 총 7개의 tokenizer 종류에 따라 형태소 분석기 사용법이 달라지므로 if문으로 케이스에 맞게 분기하였음\n",
    "    stopwords     : stopwords list\n",
    "    spacing_model : soynlp를 사용할 경우 위에서 학습한 spacing_model과 같이 사용가능\n",
    "    num_words     : 총 단어 개수\n",
    "    \"\"\"\n",
    "    \n",
    "    \n",
    "    train_data.drop_duplicates(subset=['document'], inplace=True)\n",
    "    train_data = train_data.dropna(how = 'any') \n",
    "    train_data = train_data[train_data['document'].str.len() > 1] # '', 문자 하나만 있는 경우 삭제\n",
    "    train_data['document'] = train_data['document'].apply(lambda x : extract_korean_spacing(x))\n",
    "    \n",
    "    test_data.drop_duplicates(subset=['document'], inplace=True)\n",
    "    test_data = test_data.dropna(how = 'any') \n",
    "    test_data = test_data[test_data['document'].str.len() > 1] # '', 문자 하나만 있는 경우 삭제\n",
    "    test_data['document'] = test_data['document'].apply(lambda x : extract_korean_spacing(x))\n",
    "    \n",
    "    y_train = list(train_data['label'])\n",
    "    y_test  = list(test_data['label'])\n",
    "    \n",
    "    # konlpy tokenizer\n",
    "    if tokenizer in (mecab_tokenizer, okt_tokenizer, komoran_tokenizer, hannanum_tokenizer, kkma_tokenizer):\n",
    "        X_train = []\n",
    "        print(\"Processing Train data\")\n",
    "        for sentence in tqdm(train_data['document']):\n",
    "            temp_X = tokenizer.morphs(sentence) # 토큰화\n",
    "            temp_X = [word for word in temp_X if not word in stopwords] # 불용어 제거\n",
    "            X_train.append(temp_X)\n",
    "        print(\"done\")\n",
    "\n",
    "        X_test = []\n",
    "        print(\"Processing Test data\")\n",
    "        for sentence in tqdm(test_data['document']):\n",
    "            temp_X = tokenizer.morphs(sentence) # 토큰화\n",
    "            temp_X = [word for word in temp_X if not word in stopwords] # 불용어 제거\n",
    "            X_test.append(temp_X)\n",
    "        print(\"done\")\n",
    "    \n",
    "    # khaiii\n",
    "    elif tokenizer == khaiii_tokenizer:\n",
    "        X_train = []\n",
    "        print(\"Processing Train data\")\n",
    "        idx = 0\n",
    "        for sentence in tqdm(train_data['document']):\n",
    "            try:\n",
    "                data = khaiii_tokenizer.analyze(sentence)\n",
    "                tokens = []      \n",
    "                for word in data:\n",
    "                    tokens.extend([str(m).split(\"/\")[0] for m in word.morphs])\n",
    "\n",
    "                temp_X = tokens\n",
    "                temp_X = [word for word in temp_X if not word in stopwords] # 불용어 제거\n",
    "                X_train.append(temp_X)\n",
    "            except: # khaiiException 발생시 X_train과 length를 맞춰주기 위해 해당 idx에서 pop을 해준다.\n",
    "                y_train.pop(idx)\n",
    "                continue\n",
    "            idx += 1\n",
    "        print(\"done\")\n",
    "\n",
    "        \n",
    "        X_test = []\n",
    "        print(\"Processing Test data\")\n",
    "        for sentence in tqdm(test_data['document']):\n",
    "            idx = 0\n",
    "            try:\n",
    "                data = khaiii_tokenizer.analyze(sentence)\n",
    "                tokens = []      \n",
    "                for word in data:\n",
    "                    tokens.extend([str(m).split(\"/\")[0] for m in word.morphs])\n",
    "\n",
    "                temp_X = tokens\n",
    "                temp_X = [word for word in temp_X if not word in stopwords] # 불용어 제거\n",
    "                X_test.append(temp_X)\n",
    "            except: # khaiiException 발생시 X_train과 length를 맞춰주기 위해 해당 idx에서 pop을 해준다.\n",
    "                y_test.pop(idx)\n",
    "                continue\n",
    "            idx += 1\n",
    "        print(\"done\")\n",
    "\n",
    "    # soynlp\n",
    "    elif tokenizer == soynlp_tokenizer and spacing_model:\n",
    "        X_train = []\n",
    "        print(\"Processing Train data\")\n",
    "        for sentence in tqdm(train_data['document']):\n",
    "            corrected_review = spacing_model.correct(sentence)[0]\n",
    "            temp_X = tokenizer.tokenize(corrected_review) \n",
    "            temp_X = [word for word in temp_X if not word in stopwords] # 불용어 제거\n",
    "            X_train.append(temp_X)\n",
    "        print(\"done\")\n",
    "\n",
    "        X_test = []\n",
    "        print(\"Processing Test data\")\n",
    "        for sentence in tqdm(test_data['document']):\n",
    "            corrected_review = spacing_model.correct(sentence)[0]\n",
    "            temp_X = tokenizer.tokenize(corrected_review) # 토큰화\n",
    "            temp_X = [word for word in temp_X if not word in stopwords] # 불용어 제거\n",
    "            X_test.append(temp_X)\n",
    "        print(\"done\")\n",
    "    \n",
    "    else:\n",
    "        print(\"please insert arguments correctly\")\n",
    "        return\n",
    "    \n",
    "    return X_train, np.array(y_train), X_test, np.array(y_test)"
   ]
  },
  {
   "cell_type": "code",
   "execution_count": 25,
   "id": "voluntary-bullet",
   "metadata": {},
   "outputs": [],
   "source": [
    "def get_word_to_index(train_data):\n",
    "    words = np.concatenate(train_data).tolist()\n",
    "    \n",
    "    word_to_index = {}\n",
    "    word_to_index[\"<PAD>\"] = 0\n",
    "    word_to_index[\"<BOS>\"] = 1\n",
    "    word_to_index[\"<UNK>\"] = 2  # unknown\n",
    "    \n",
    "    idx = 3\n",
    "    for word, _ in Counter(words).most_common(10000-3):\n",
    "        word_to_index[word] = idx\n",
    "        idx += 1\n",
    "    \n",
    "    return word_to_index"
   ]
  },
  {
   "cell_type": "code",
   "execution_count": 26,
   "id": "registered-cosmetic",
   "metadata": {},
   "outputs": [],
   "source": [
    "def get_index_to_word(word_to_index):\n",
    "    index_to_word = {num:word for word, num in word_to_index.items()}\n",
    "    return dict(sorted(index_to_word.items(), key=lambda x: x[0])) # index가 작은 순서대로 정렬"
   ]
  },
  {
   "cell_type": "code",
   "execution_count": 27,
   "id": "quality-driving",
   "metadata": {},
   "outputs": [
    {
     "name": "stderr",
     "output_type": "stream",
     "text": [
      "  0%|          | 0/146081 [00:00<?, ?it/s]"
     ]
    },
    {
     "name": "stdout",
     "output_type": "stream",
     "text": [
      "Processing Train data\n"
     ]
    },
    {
     "name": "stderr",
     "output_type": "stream",
     "text": [
      "100%|██████████| 146081/146081 [00:33<00:00, 4386.31it/s]\n",
      "  1%|          | 463/49097 [00:00<00:10, 4609.79it/s]"
     ]
    },
    {
     "name": "stdout",
     "output_type": "stream",
     "text": [
      "done\n",
      "Processing Test data\n"
     ]
    },
    {
     "name": "stderr",
     "output_type": "stream",
     "text": [
      "100%|██████████| 49097/49097 [00:10<00:00, 4546.12it/s]"
     ]
    },
    {
     "name": "stdout",
     "output_type": "stream",
     "text": [
      "done\n"
     ]
    },
    {
     "name": "stderr",
     "output_type": "stream",
     "text": [
      "\n"
     ]
    }
   ],
   "source": [
    "mecab_X_train, mecab_y_train, mecab_X_test, mecab_y_test= load_data(train_data, test_data, mecab_tokenizer, stopwords, 10000)"
   ]
  },
  {
   "cell_type": "code",
   "execution_count": 28,
   "id": "prompt-israel",
   "metadata": {},
   "outputs": [
    {
     "name": "stderr",
     "output_type": "stream",
     "text": [
      "  0%|          | 0/146081 [00:00<?, ?it/s]"
     ]
    },
    {
     "name": "stdout",
     "output_type": "stream",
     "text": [
      "Processing Train data\n"
     ]
    },
    {
     "name": "stderr",
     "output_type": "stream",
     "text": [
      "100%|██████████| 146081/146081 [02:34<00:00, 944.01it/s] \n",
      "  0%|          | 102/49097 [00:00<00:48, 1018.71it/s]"
     ]
    },
    {
     "name": "stdout",
     "output_type": "stream",
     "text": [
      "done\n",
      "Processing Test data\n"
     ]
    },
    {
     "name": "stderr",
     "output_type": "stream",
     "text": [
      "100%|██████████| 49097/49097 [00:51<00:00, 954.32it/s] "
     ]
    },
    {
     "name": "stdout",
     "output_type": "stream",
     "text": [
      "done\n"
     ]
    },
    {
     "name": "stderr",
     "output_type": "stream",
     "text": [
      "\n"
     ]
    }
   ],
   "source": [
    "khaii_X_train, khaii_y_train, khaii_X_test, khaii_y_test = load_data(train_data, test_data, khaiii_tokenizer, stopwords, 10000)"
   ]
  },
  {
   "cell_type": "code",
   "execution_count": 29,
   "id": "southern-poultry",
   "metadata": {},
   "outputs": [],
   "source": [
    "# mecab\n",
    "mecab_word_to_index = get_word_to_index(mecab_X_train)\n",
    "mecab_index_to_word = get_index_to_word(mecab_word_to_index)\n",
    "\n",
    "# khaii\n",
    "khaii_word_to_index = get_word_to_index(khaii_X_train)\n",
    "khaii_index_to_word = get_index_to_word(khaii_word_to_index)"
   ]
  },
  {
   "cell_type": "code",
   "execution_count": 41,
   "id": "removed-aruba",
   "metadata": {},
   "outputs": [],
   "source": [
    "# 문장 1개를 활용할 딕셔너리와 함께 주면, 단어 인덱스 리스트 벡터로 변환해 주는 함수입니다. \n",
    "# 단, 모든 문장은 <BOS>로 시작하는 것으로 합니다. \n",
    "def get_encoded_sentence(sentence, word_to_index):\n",
    "    return [word_to_index['<BOS>']]+[word_to_index[word] if word in word_to_index else word_to_index['<UNK>'] for word in sentence.split()]\n",
    "\n",
    "# 여러 개의 문장 리스트를 한꺼번에 단어 인덱스 리스트 벡터로 encode해 주는 함수입니다. \n",
    "def get_encoded_sentences(sentences, word_to_index):\n",
    "    return [get_encoded_sentence(sentence, word_to_index) for sentence in sentences]\n",
    "\n",
    "# 숫자 벡터로 encode된 문장을 원래대로 decode하는 함수입니다. \n",
    "def get_decoded_sentence(encoded_sentence, index_to_word):\n",
    "    return ' '.join(index_to_word[index] if index in index_to_word else '<UNK>' for index in encoded_sentence[1:])  #[1:]를 통해 <BOS>를 제외\n",
    "\n",
    "# 여러 개의 숫자 벡터로 encode된 문장을 한꺼번에 원래대로 decode하는 함수입니다. \n",
    "def get_decoded_sentences(encoded_sentences, index_to_word):\n",
    "    return [get_decoded_sentence(encoded_sentence, index_to_word) for encoded_sentence in encoded_sentences]\n"
   ]
  },
  {
   "cell_type": "code",
   "execution_count": 31,
   "id": "later-disaster",
   "metadata": {},
   "outputs": [
    {
     "name": "stdout",
     "output_type": "stream",
     "text": [
      "original sentence :아 더빙.. 진짜 짜증나네요 목소리\n",
      "tokenized sentence by mecab: ['더', '빙', '진짜', '짜증', '네요', '목소리']\n",
      "tokenized sentence by khaii: ['더빙', '진', '짜', '짜증', '나네', '요', '목소리']\n",
      "라벨:  0\n",
      "----------------------------------------------------------------------------------------------------------\n",
      "original sentence :흠...포스터보고 초딩영화줄....오버연기조차 가볍지 않구나\n",
      "tokenized sentence by mecab: ['흠', '포스터', '보고', '초딩', '영화', '줄', '오버', '연기', '가볍', '지', '않', '구나']\n",
      "tokenized sentence by khaii: ['흠포스터', '보', '고', '초딩', '영화줄오버연기', '가볍', '지', '않', '구나']\n",
      "라벨:  1\n",
      "----------------------------------------------------------------------------------------------------------\n",
      "original sentence :너무재밓었다그래서보는것을추천한다\n",
      "tokenized sentence by mecab: ['너무', '재', '밓었다그래서보는것을추천한다']\n",
      "tokenized sentence by khaii: ['너무', '재', '밓', '었', '다', '서', '보', '는', '추천', 'ㄴ다']\n",
      "라벨:  0\n",
      "----------------------------------------------------------------------------------------------------------\n",
      "original sentence :교도소 이야기구먼 ..솔직히 재미는 없다..평점 조정\n",
      "tokenized sentence by mecab: ['교도소', '이야기', '구먼', '솔직히', '재미', '는', '없', '다', '평점', '조정']\n",
      "tokenized sentence by khaii: ['교도소', '이야기구', '먼', '솔직히', '재미', '는', '없', '다', '평점', '조정']\n",
      "라벨:  0\n",
      "----------------------------------------------------------------------------------------------------------\n",
      "original sentence :사이몬페그의 익살스런 연기가 돋보였던 영화!스파이더맨에서 늙어보이기만 했던 커스틴 던스트가 너무나도 이뻐보였다\n",
      "tokenized sentence by mecab: ['사이몬페그', '익살', '스런', '연기', '돋보였', '던', '영화', '스파이더맨', '늙', '보이', '기', '만', '했', '던', '커스틴', '던스트', '너무나', '도', '이뻐', '보였', '다']\n",
      "tokenized sentence by khaii: ['이몬페그', '익살', '스럽', 'ㄴ', '연기', '돋보이', '었', '던', '영화스파이', '더맨', '늙', '보', '기', '만', '였', '던', '커스틴', '던', '스트', '너무나', '도', '이쁘', '보이', '었', '다']\n",
      "라벨:  1\n",
      "----------------------------------------------------------------------------------------------------------\n"
     ]
    }
   ],
   "source": [
    "# Mecab, Khaii Tokenization 결과 확인\n",
    "for i in range(5):\n",
    "    print(\"original sentence :{}\".format(train_data['document'][i]))\n",
    "    print(\"tokenized sentence by mecab: {}\".format(mecab_X_train[i]))\n",
    "    print(\"tokenized sentence by khaii: {}\".format(khaii_X_train[i]))\n",
    "    print('라벨: ', train_data['label'][i])\n",
    "    print('----------------------------------------------------------------------------------------------------------')"
   ]
  },
  {
   "cell_type": "markdown",
   "id": "juvenile-seating",
   "metadata": {},
   "source": [
    "mecab과 khaii중에서 어떤 형태소를 사용해야 하는지 이 결과만 가지고 판단할 수 없지만\n",
    "\n",
    "인공지능 형태소 분류기인 kakao api를 한번 사용하기로 결정 하였다."
   ]
  },
  {
   "cell_type": "code",
   "execution_count": 32,
   "id": "serious-audience",
   "metadata": {},
   "outputs": [
    {
     "name": "stdout",
     "output_type": "stream",
     "text": [
      "145194 145194\n",
      "48748 48748\n"
     ]
    }
   ],
   "source": [
    "X_train, y_train, X_test, y_test, word_to_index = khaii_X_train, khaii_y_train, khaii_X_test, khaii_y_test, khaii_word_to_index\n",
    "\n",
    "print(len(X_train), len(y_train))\n",
    "print(len(X_test), len(y_test))"
   ]
  },
  {
   "cell_type": "code",
   "execution_count": 33,
   "id": "spatial-syria",
   "metadata": {},
   "outputs": [],
   "source": [
    "# 데이터셋 내 문장 길이 분포\n",
    "all_data = X_train + X_test\n",
    "token_length = [int(len(token)) for token in all_data]"
   ]
  },
  {
   "cell_type": "code",
   "execution_count": 34,
   "id": "martial-granny",
   "metadata": {},
   "outputs": [],
   "source": [
    "all_data_series = pd.Series(token_length)"
   ]
  },
  {
   "cell_type": "code",
   "execution_count": 35,
   "id": "extended-finding",
   "metadata": {},
   "outputs": [
    {
     "data": {
      "text/plain": [
       "count    193942.000000\n",
       "mean         13.447190\n",
       "std          11.304095\n",
       "min           0.000000\n",
       "25%           6.000000\n",
       "50%          10.000000\n",
       "75%          16.000000\n",
       "max          80.000000\n",
       "dtype: float64"
      ]
     },
     "execution_count": 35,
     "metadata": {},
     "output_type": "execute_result"
    }
   ],
   "source": [
    "statistics = all_data_series.describe()\n",
    "statistics"
   ]
  },
  {
   "cell_type": "code",
   "execution_count": 36,
   "id": "greenhouse-maple",
   "metadata": {},
   "outputs": [],
   "source": [
    "mean, std = statistics['mean'], statistics['std']"
   ]
  },
  {
   "cell_type": "code",
   "execution_count": 37,
   "id": "apparent-index",
   "metadata": {},
   "outputs": [],
   "source": [
    "# 구간의 90%를 maxlen로 설정\n",
    "# 95% -> 1.96\n",
    "# 99% -> 2.56\n",
    "maxlen = mean + 1.645 * std\n",
    "maxlen = int(maxlen)"
   ]
  },
  {
   "cell_type": "code",
   "execution_count": 38,
   "id": "mexican-recovery",
   "metadata": {},
   "outputs": [
    {
     "name": "stdout",
     "output_type": "stream",
     "text": [
      "32\n"
     ]
    }
   ],
   "source": [
    "# 적절한 최대 문장 길이 지정\n",
    "print(maxlen)"
   ]
  },
  {
   "cell_type": "code",
   "execution_count": 39,
   "id": "interesting-wayne",
   "metadata": {},
   "outputs": [
    {
     "data": {
      "image/png": "[encoded data removed]",
      "text/plain": [
       "<Figure size 720x360 with 1 Axes>"
      ]
     },
     "metadata": {},
     "output_type": "display_data"
    }
   ],
   "source": [
    "# 토큰 길이 분포 시각화\n",
    "plt.figure(figsize=(10,5))\n",
    "sns.set_theme();\n",
    "sns.distplot(all_data_series)\n",
    "plt.xlabel(\"token length\")\n",
    "plt.show()"
   ]
  },
  {
   "cell_type": "code",
   "execution_count": 42,
   "id": "behavioral-beijing",
   "metadata": {},
   "outputs": [
    {
     "name": "stdout",
     "output_type": "stream",
     "text": [
      "(145194, 32)\n"
     ]
    }
   ],
   "source": [
    "# 단어들을 숫자로 변환한다.\n",
    "X_train = encode_sentences(X_train, word_to_index)\n",
    "X_test = encode_sentences(X_test, word_to_index)\n",
    "\n",
    "# keras.preprocessing.sequence.pad_sequences 을 활용한 패딩 추가\n",
    "X_train = keras.preprocessing.sequence.pad_sequences(X_train,\n",
    "                                       value=word_to_index[\"<PAD>\"],\n",
    "                                       padding='post',\n",
    "                                       maxlen=maxlen)\n",
    "\n",
    "X_test = keras.preprocessing.sequence.pad_sequences(X_test,\n",
    "                                       value=word_to_index[\"<PAD>\"],\n",
    "                                       padding='post',\n",
    "                                       maxlen=maxlen)\n",
    "\n",
    "print(X_train.shape)"
   ]
  },
  {
   "cell_type": "markdown",
   "id": "referenced-details",
   "metadata": {},
   "source": [
    "# Modeling\n",
    "\n",
    "Keras의 함수형 API를 이용하여 모델을 구성하였다.\n",
    "\n",
    "네이버 영화리뷰 감성분석 관련 논문을 찾아봤는데 대체로 좋은 성능을 보여주는 네트워크는 \n",
    "\n",
    "CNN, LSTM, BiLSTM, GRU 등을 결합한 네트워크로 보인다.\n",
    "```\n",
    "이번 과제에서는 다음의 layer를 연결하여 네트워크를 구성하였다.\n",
    "\n",
    "Embedding\n",
    "SpatialDropout1D, Dropout\n",
    "GlobalAveragePooling1D, GlobalMaxPooling1D, concatenate\n",
    "Dense,Input,LSTM,Bidirectional,Conv1D,GRU\n",
    "```\n",
    "\n",
    "[Parallel Stacked Bidirectional LSTM 모델을 이용한 한국어 영화리뷰 감성 분석](https://www.kci.go.kr/kciportal/ci/sereArticleSearch/ciSereArtiView.kci?sereArticleSearchBean.artiId=ART002432654)"
   ]
  },
  {
   "cell_type": "code",
   "execution_count": 44,
   "id": "cloudy-patrick",
   "metadata": {},
   "outputs": [
    {
     "name": "stdout",
     "output_type": "stream",
     "text": [
      "WARNING:tensorflow:Layer gru_1 will not use cuDNN kernel since it doesn't meet the cuDNN kernel criteria. It will use generic GPU kernel as fallback when running on GPU\n"
     ]
    },
    {
     "name": "stderr",
     "output_type": "stream",
     "text": [
      "WARNING:tensorflow:Layer gru_1 will not use cuDNN kernel since it doesn't meet the cuDNN kernel criteria. It will use generic GPU kernel as fallback when running on GPU\n"
     ]
    },
    {
     "name": "stdout",
     "output_type": "stream",
     "text": [
      "WARNING:tensorflow:Layer gru_1 will not use cuDNN kernel since it doesn't meet the cuDNN kernel criteria. It will use generic GPU kernel as fallback when running on GPU\n"
     ]
    },
    {
     "name": "stderr",
     "output_type": "stream",
     "text": [
      "WARNING:tensorflow:Layer gru_1 will not use cuDNN kernel since it doesn't meet the cuDNN kernel criteria. It will use generic GPU kernel as fallback when running on GPU\n"
     ]
    },
    {
     "name": "stdout",
     "output_type": "stream",
     "text": [
      "WARNING:tensorflow:Layer gru_1 will not use cuDNN kernel since it doesn't meet the cuDNN kernel criteria. It will use generic GPU kernel as fallback when running on GPU\n"
     ]
    },
    {
     "name": "stderr",
     "output_type": "stream",
     "text": [
      "WARNING:tensorflow:Layer gru_1 will not use cuDNN kernel since it doesn't meet the cuDNN kernel criteria. It will use generic GPU kernel as fallback when running on GPU\n"
     ]
    }
   ],
   "source": [
    "from keras.layers import Dropout,Embedding\n",
    "from keras.layers import GlobalAveragePooling1D, GlobalMaxPooling1D, concatenate, SpatialDropout1D\n",
    "from keras.layers import Dense,Input,LSTM,Bidirectional,Conv1D,GRU\n",
    "from keras.models import Model\n",
    "from keras.optimizers import Adam\n",
    "\n",
    "vocab_size = len(word_to_index)\n",
    "word_vector_dim = 100\n",
    "\n",
    "def build_model(vocab_size, word_vector_dim, maxlen, embeddings_initializer=None):\n",
    "    \n",
    "    inputs = Input(shape=(maxlen, ))\n",
    "    x = Embedding(vocab_size, word_vector_dim, input_shape=(None,))(inputs)\n",
    "    x = SpatialDropout1D(0.2)(x)\n",
    "    x = Bidirectional(GRU(32, return_sequences=True,dropout=0.1,recurrent_dropout=0.1))(x)\n",
    "    x = Conv1D(16, kernel_size = 3)(x)\n",
    "    avg_pool = GlobalAveragePooling1D()(x)\n",
    "    max_pool = GlobalMaxPooling1D()(x)\n",
    "    x = concatenate([avg_pool, max_pool]) \n",
    "    x = Dense(8, activation='relu')(x)\n",
    "    x = Dropout(0.1)(x)\n",
    "    preds = Dense(1, activation=\"sigmoid\")(x)\n",
    "    \n",
    "    return Model(inputs, preds)\n",
    "\n",
    "model = build_model(vocab_size, word_vector_dim, 32)\n",
    "model.compile(loss='binary_crossentropy',optimizer=Adam(lr=0.001),metrics=['accuracy'])"
   ]
  },
  {
   "cell_type": "code",
   "execution_count": 45,
   "id": "novel-sewing",
   "metadata": {},
   "outputs": [
    {
     "name": "stdout",
     "output_type": "stream",
     "text": [
      "Model: \"model\"\n",
      "__________________________________________________________________________________________________\n",
      "Layer (type)                    Output Shape         Param #     Connected to                     \n",
      "==================================================================================================\n",
      "input_2 (InputLayer)            [(None, 32)]         0                                            \n",
      "__________________________________________________________________________________________________\n",
      "embedding_1 (Embedding)         (None, 32, 100)      1000000     input_2[0][0]                    \n",
      "__________________________________________________________________________________________________\n",
      "spatial_dropout1d_1 (SpatialDro (None, 32, 100)      0           embedding_1[0][0]                \n",
      "__________________________________________________________________________________________________\n",
      "bidirectional_1 (Bidirectional) (None, 32, 64)       25728       spatial_dropout1d_1[0][0]        \n",
      "__________________________________________________________________________________________________\n",
      "conv1d_1 (Conv1D)               (None, 30, 16)       3088        bidirectional_1[0][0]            \n",
      "__________________________________________________________________________________________________\n",
      "global_average_pooling1d_1 (Glo (None, 16)           0           conv1d_1[0][0]                   \n",
      "__________________________________________________________________________________________________\n",
      "global_max_pooling1d_1 (GlobalM (None, 16)           0           conv1d_1[0][0]                   \n",
      "__________________________________________________________________________________________________\n",
      "concatenate_1 (Concatenate)     (None, 32)           0           global_average_pooling1d_1[0][0] \n",
      "                                                                 global_max_pooling1d_1[0][0]     \n",
      "__________________________________________________________________________________________________\n",
      "dense_2 (Dense)                 (None, 8)            264         concatenate_1[0][0]              \n",
      "__________________________________________________________________________________________________\n",
      "dropout_1 (Dropout)             (None, 8)            0           dense_2[0][0]                    \n",
      "__________________________________________________________________________________________________\n",
      "dense_3 (Dense)                 (None, 1)            9           dropout_1[0][0]                  \n",
      "==================================================================================================\n",
      "Total params: 1,029,089\n",
      "Trainable params: 1,029,089\n",
      "Non-trainable params: 0\n",
      "__________________________________________________________________________________________________\n"
     ]
    }
   ],
   "source": [
    "model.summary()"
   ]
  },
  {
   "cell_type": "code",
   "execution_count": 46,
   "id": "pressing-emperor",
   "metadata": {},
   "outputs": [
    {
     "name": "stdout",
     "output_type": "stream",
     "text": [
      "X_train shape : {}, y_train shape : {} :  (130674, 32) (130674,)\n",
      "X_val shape : {}, y_val shape : {}  (14520, 32) (14520,)\n",
      "X_test shape : {}, y_test shape: {}  (48748, 32) (48748,)\n"
     ]
    }
   ],
   "source": [
    "from sklearn.model_selection import train_test_split\n",
    "\n",
    "X_train, X_val, y_train, y_val = train_test_split(X_train, y_train, train_size=0.9, random_state=233)\n",
    "\n",
    "print('X_train shape : {}, y_train shape : {} :'.format(X_train.shape, y_train.shape))\n",
    "print('X_val shape : {}, y_val shape : {}'.format(X_val.shape, y_val.shape))\n",
    "print('X_test shape : {}, y_test shape: {}'.format(X_test.shape, y_test.shape))"
   ]
  },
  {
   "cell_type": "code",
   "execution_count": 47,
   "id": "announced-button",
   "metadata": {},
   "outputs": [
    {
     "name": "stdout",
     "output_type": "stream",
     "text": [
      "Epoch 1/4\n",
      "1021/1021 [==============================] - 227s 207ms/step - loss: 0.4808 - accuracy: 0.7569 - val_loss: 0.3723 - val_accuracy: 0.8275\n",
      "Epoch 2/4\n",
      "1021/1021 [==============================] - 207s 203ms/step - loss: 0.3411 - accuracy: 0.8486 - val_loss: 0.3680 - val_accuracy: 0.8277\n",
      "Epoch 3/4\n",
      "1021/1021 [==============================] - 207s 202ms/step - loss: 0.3076 - accuracy: 0.8654 - val_loss: 0.3703 - val_accuracy: 0.8276\n",
      "Epoch 4/4\n",
      "1021/1021 [==============================] - 207s 203ms/step - loss: 0.2811 - accuracy: 0.8776 - val_loss: 0.3775 - val_accuracy: 0.8304\n"
     ]
    },
    {
     "data": {
      "text/plain": [
       "<tensorflow.python.keras.callbacks.History at 0x7fdad8a75c50>"
      ]
     },
     "execution_count": 47,
     "metadata": {},
     "output_type": "execute_result"
    }
   ],
   "source": [
    "batch_size = 128\n",
    "epochs = 4\n",
    "\n",
    "model.fit(X_train, y_train,\n",
    "          batch_size=batch_size,\n",
    "          epochs=epochs,\n",
    "          validation_data=(X_val, y_val),\n",
    "          verbose=1\n",
    ")"
   ]
  },
  {
   "cell_type": "markdown",
   "id": "accomplished-steel",
   "metadata": {},
   "source": [
    "### Loss, Accuracy 그래프 시각화"
   ]
  },
  {
   "cell_type": "code",
   "execution_count": 48,
   "id": "fabulous-storm",
   "metadata": {},
   "outputs": [],
   "source": [
    "history = model.history.history"
   ]
  },
  {
   "cell_type": "code",
   "execution_count": 49,
   "id": "structural-component",
   "metadata": {},
   "outputs": [
    {
     "data": {
      "image/png": "[encoded data removed]",
      "text/plain": [
       "<Figure size 432x288 with 1 Axes>"
      ]
     },
     "metadata": {},
     "output_type": "display_data"
    }
   ],
   "source": [
    "val_loss = history['val_loss']\n",
    "loss = history['loss']\n",
    "epochs = range(1, 5)\n",
    "\n",
    "plt.plot(epochs, val_loss, 'r-', label='Validation_loss')\n",
    "plt.plot(epochs, loss, 'b-', label='Traninig_loss')\n",
    "plt.title(\"Training and Validation Loss\")\n",
    "plt.xlabel(\"Epochs\")\n",
    "plt.ylabel(\"Loss\")\n",
    "plt.legend()\n",
    "plt.show()"
   ]
  },
  {
   "cell_type": "code",
   "execution_count": 50,
   "id": "adjusted-issue",
   "metadata": {},
   "outputs": [
    {
     "data": {
      "image/png": "[encoded data removed]",
      "text/plain": [
       "<Figure size 432x288 with 1 Axes>"
      ]
     },
     "metadata": {},
     "output_type": "display_data"
    }
   ],
   "source": [
    "val_accuracy = history['val_accuracy']\n",
    "accuracy = history['accuracy']\n",
    "epochs = range(1, 5)\n",
    "\n",
    "plt.plot(epochs, val_accuracy, 'r-', label='Validation_Accuracy')\n",
    "plt.plot(epochs, accuracy, 'b-', label='Traninig_Accuracy')\n",
    "plt.title(\"Training and Validation Accuracy\")\n",
    "plt.xlabel(\"Epochs\")\n",
    "plt.ylabel(\"accuracy\")\n",
    "plt.legend()\n",
    "plt.show()"
   ]
  },
  {
   "cell_type": "code",
   "execution_count": 51,
   "id": "funky-brain",
   "metadata": {},
   "outputs": [
    {
     "name": "stdout",
     "output_type": "stream",
     "text": [
      "1524/1524 [==============================] - 26s 17ms/step - loss: 1.5134 - accuracy: 0.4986\n"
     ]
    }
   ],
   "source": [
    "# 결과가 상당히 안좋다...\n",
    "results = model.evaluate(X_test, y_test)"
   ]
  },
  {
   "cell_type": "markdown",
   "id": "complicated-latvia",
   "metadata": {},
   "source": [
    "### 내가 학습한 Embedding layer 레이어 분석"
   ]
  },
  {
   "cell_type": "code",
   "execution_count": null,
   "id": "understood-singer",
   "metadata": {},
   "outputs": [],
   "source": [
    "# model.layers의 가중치가 저장이 안되있는데 에러가 발생해서 확인을 하지 못했다.\n",
    "\n",
    "# 임베딩 레이어 차원 확인\n",
    "embedding_layer = model.layers[0]\n",
    "weights = embedding_layer.get_weights()[0]\n",
    "print(weights.shape)    # shape: (vocab_size, embedding_dim)"
   ]
  },
  {
   "cell_type": "code",
   "execution_count": 53,
   "id": "massive-metadata",
   "metadata": {},
   "outputs": [],
   "source": [
    "import os\n",
    "# 학습한 Embedding 파라미터를 파일에 써서 저장\n",
    "word2vec_file_path = os.getenv('HOME')+'/aiffel/sentiment_classification/data/word2vec.txt'\n",
    "f = open(word2vec_file_path, 'w')\n",
    "f.write('{} {}\\n'.format(vocab_size-4, word_vector_dim))  # 몇개의 벡터를 얼마 사이즈로 기재할지 타이틀을 씁니다.\n",
    "index_to_word = khaii_index_to_word\n",
    "\n",
    "# 단어 개수(특수문자 4개는 제외)만큼의 워드 벡터를 파일에 기록\n",
    "vectors = model.get_weights()[0]\n",
    "for i in range(4,vocab_size):\n",
    "    f.write('{} {}\\n'.format(index_to_word[i], ' '.join(map(str, list(vectors[i, :])))))\n",
    "f.close()"
   ]
  },
  {
   "cell_type": "code",
   "execution_count": 54,
   "id": "terminal-institution",
   "metadata": {},
   "outputs": [],
   "source": [
    "from gensim.models.keyedvectors import Word2VecKeyedVectors\n",
    "# 파일에 기록된 임베딩 파라미터를 읽어서 word vector로 활용\n",
    "word_vectors = Word2VecKeyedVectors.load_word2vec_format(word2vec_file_path, binary=False)"
   ]
  },
  {
   "cell_type": "code",
   "execution_count": 55,
   "id": "bored-blink",
   "metadata": {},
   "outputs": [
    {
     "data": {
      "text/plain": [
       "[('발매', 0.8731825351715088),\n",
       " ('로맨스영화', 0.8727261424064636),\n",
       " ('조국', 0.8686704635620117),\n",
       " ('구매', 0.8661218881607056),\n",
       " ('흠잡', 0.8639644980430603),\n",
       " ('또봐', 0.8616836071014404),\n",
       " ('하모니', 0.8607296943664551),\n",
       " ('반하', 0.8602172136306763),\n",
       " ('르네', 0.859870433807373),\n",
       " ('읍니다', 0.8578508496284485)]"
      ]
     },
     "execution_count": 55,
     "metadata": {},
     "output_type": "execute_result"
    }
   ],
   "source": [
    "# 유사한 단어와 그 유사도 확인\n",
    "word_vectors.similar_by_word(\"짱\")[:10]"
   ]
  },
  {
   "cell_type": "markdown",
   "id": "compatible-australian",
   "metadata": {},
   "source": [
    "### Word2Vec을 활용한 성능 개선"
   ]
  },
  {
   "cell_type": "code",
   "execution_count": null,
   "id": "secondary-divorce",
   "metadata": {},
   "outputs": [],
   "source": [
    "#!pip install --upgrade gensim==3.8.3"
   ]
  },
  {
   "cell_type": "code",
   "execution_count": 59,
   "id": "promotional-agenda",
   "metadata": {},
   "outputs": [
    {
     "data": {
      "text/plain": [
       "[('쿠도', 0.5933929681777954),\n",
       " ('다린', 0.583035945892334),\n",
       " ('톡', 0.5465627908706665),\n",
       " ('나루토', 0.5165930986404419),\n",
       " ('!', 0.5161517858505249),\n",
       " ('짱구', 0.515983521938324),\n",
       " ('마모루', 0.5072816610336304),\n",
       " ('괴도', 0.5042908191680908),\n",
       " ('쥰', 0.49823760986328125),\n",
       " ('쥬', 0.4970153570175171)]"
      ]
     },
     "execution_count": 59,
     "metadata": {},
     "output_type": "execute_result"
    }
   ],
   "source": [
    "from gensim.models import Word2Vec\n",
    "\n",
    "word2vec_path = os.getenv('HOME') + '/aiffel/sentiment_classification/data/ko.bin'\n",
    "word2vec = Word2Vec.load(word2vec_path)\n",
    "word2vec.wv.similar_by_word('짱')[:10]"
   ]
  },
  {
   "cell_type": "code",
   "execution_count": 60,
   "id": "julian-division",
   "metadata": {},
   "outputs": [],
   "source": [
    "from tensorflow.keras.initializers import Constant\n",
    "\n",
    "vocab_size = 10000     # 어휘 사전의 크기(10,000개의 단어)\n",
    "word_vector_dim = 200  # 워드 벡터의 차원수 (변경가능한 하이퍼파라미터)\n",
    "\n",
    "embedding_matrix = np.random.rand(vocab_size, word_vector_dim)\n",
    "\n",
    "# embedding_matrix에 Word2Vec 워드벡터를 단어 하나씩 차례대로 카피\n",
    "for i in range(4,vocab_size):\n",
    "    if index_to_word[i] in word2vec:\n",
    "        embedding_matrix[i] = word2vec[index_to_word[i]]"
   ]
  },
  {
   "cell_type": "code",
   "execution_count": 61,
   "id": "underlying-intelligence",
   "metadata": {},
   "outputs": [
    {
     "name": "stdout",
     "output_type": "stream",
     "text": [
      "X_train shape : (117606, 32), y_train shape : (117606,) :\n",
      "X_val shape : (13068, 32), y_val shape : (13068,)\n",
      "X_test shape : (48748, 32), y_test shape: (48748,)\n"
     ]
    }
   ],
   "source": [
    "X_train, X_val, y_train, y_val = train_test_split(X_train, y_train, train_size=0.9, random_state=233)\n",
    "\n",
    "print('X_train shape : {}, y_train shape : {} :'.format(X_train.shape, y_train.shape))\n",
    "print('X_val shape : {}, y_val shape : {}'.format(X_val.shape, y_val.shape))\n",
    "print('X_test shape : {}, y_test shape: {}'.format(X_test.shape, y_test.shape))"
   ]
  },
  {
   "cell_type": "code",
   "execution_count": 62,
   "id": "tribal-method",
   "metadata": {},
   "outputs": [
    {
     "name": "stdout",
     "output_type": "stream",
     "text": [
      "WARNING:tensorflow:Layer gru_2 will not use cuDNN kernel since it doesn't meet the cuDNN kernel criteria. It will use generic GPU kernel as fallback when running on GPU\n"
     ]
    },
    {
     "name": "stderr",
     "output_type": "stream",
     "text": [
      "WARNING:tensorflow:Layer gru_2 will not use cuDNN kernel since it doesn't meet the cuDNN kernel criteria. It will use generic GPU kernel as fallback when running on GPU\n"
     ]
    },
    {
     "name": "stdout",
     "output_type": "stream",
     "text": [
      "WARNING:tensorflow:Layer gru_2 will not use cuDNN kernel since it doesn't meet the cuDNN kernel criteria. It will use generic GPU kernel as fallback when running on GPU\n"
     ]
    },
    {
     "name": "stderr",
     "output_type": "stream",
     "text": [
      "WARNING:tensorflow:Layer gru_2 will not use cuDNN kernel since it doesn't meet the cuDNN kernel criteria. It will use generic GPU kernel as fallback when running on GPU\n"
     ]
    },
    {
     "name": "stdout",
     "output_type": "stream",
     "text": [
      "WARNING:tensorflow:Layer gru_2 will not use cuDNN kernel since it doesn't meet the cuDNN kernel criteria. It will use generic GPU kernel as fallback when running on GPU\n"
     ]
    },
    {
     "name": "stderr",
     "output_type": "stream",
     "text": [
      "WARNING:tensorflow:Layer gru_2 will not use cuDNN kernel since it doesn't meet the cuDNN kernel criteria. It will use generic GPU kernel as fallback when running on GPU\n"
     ]
    },
    {
     "name": "stdout",
     "output_type": "stream",
     "text": [
      "Epoch 1/3\n",
      "919/919 [==============================] - 206s 215ms/step - loss: 0.4915 - accuracy: 0.7466 - val_loss: 0.3629 - val_accuracy: 0.8320\n",
      "Epoch 2/3\n",
      "919/919 [==============================] - 191s 208ms/step - loss: 0.3390 - accuracy: 0.8515 - val_loss: 0.3585 - val_accuracy: 0.8386\n",
      "Epoch 3/3\n",
      "919/919 [==============================] - 192s 209ms/step - loss: 0.3045 - accuracy: 0.8669 - val_loss: 0.3661 - val_accuracy: 0.8375\n"
     ]
    },
    {
     "data": {
      "text/plain": [
       "<tensorflow.python.keras.callbacks.History at 0x7fdb423fa4d0>"
      ]
     },
     "execution_count": 62,
     "metadata": {},
     "output_type": "execute_result"
    }
   ],
   "source": [
    "vocab_size = len(word_to_index)\n",
    "word_vector_dim = 200\n",
    "embeddings_initializer = Constant(embedding_matrix)\n",
    "\n",
    "model = build_model(vocab_size, word_vector_dim, 32,embeddings_initializer )\n",
    "model.compile(loss='binary_crossentropy',optimizer=Adam(lr=0.001),metrics=['accuracy'])\n",
    "batch_size = 128\n",
    "epochs = 3\n",
    "\n",
    "model.fit(X_train, y_train,\n",
    "          batch_size=batch_size,\n",
    "          epochs=epochs,\n",
    "          validation_data=(X_val, y_val),\n",
    "          verbose=1\n",
    ")"
   ]
  },
  {
   "cell_type": "code",
   "execution_count": 63,
   "id": "particular-capitol",
   "metadata": {},
   "outputs": [],
   "source": [
    "history = model.history.history"
   ]
  },
  {
   "cell_type": "code",
   "execution_count": 64,
   "id": "classified-remark",
   "metadata": {},
   "outputs": [
    {
     "data": {
      "image/png": "[encoded data removed]",
      "text/plain": [
       "<Figure size 432x288 with 1 Axes>"
      ]
     },
     "metadata": {},
     "output_type": "display_data"
    }
   ],
   "source": [
    "val_loss = history['val_loss']\n",
    "loss = history['loss']\n",
    "epochs = range(1, 4)\n",
    "\n",
    "plt.plot(epochs, val_loss, 'r-', label='Validation_loss')\n",
    "plt.plot(epochs, loss, 'b-', label='Traninig_loss')\n",
    "plt.title(\"Training and Validation Loss\")\n",
    "plt.xlabel(\"Epochs\")\n",
    "plt.ylabel(\"Loss\")\n",
    "plt.legend()\n",
    "plt.show()"
   ]
  },
  {
   "cell_type": "code",
   "execution_count": 65,
   "id": "automotive-oregon",
   "metadata": {},
   "outputs": [
    {
     "data": {
      "image/png": "[encoded data removed]",
      "text/plain": [
       "<Figure size 432x288 with 1 Axes>"
      ]
     },
     "metadata": {},
     "output_type": "display_data"
    }
   ],
   "source": [
    "val_accuracy = history['val_accuracy']\n",
    "accuracy = history['accuracy']\n",
    "epochs = range(1, 4)\n",
    "\n",
    "plt.plot(epochs, val_accuracy, 'r-', label='Validation_Accuracy')\n",
    "plt.plot(epochs, accuracy, 'b-', label='Traninig_Accuracy')\n",
    "plt.title(\"Training and Validation Accuracy\")\n",
    "plt.xlabel(\"Epochs\")\n",
    "plt.ylabel(\"accuracy\")\n",
    "plt.legend()\n",
    "plt.show()"
   ]
  },
  {
   "cell_type": "code",
   "execution_count": 66,
   "id": "american-tractor",
   "metadata": {},
   "outputs": [
    {
     "name": "stdout",
     "output_type": "stream",
     "text": [
      "1524/1524 [==============================] - 27s 18ms/step - loss: 1.6327 - accuracy: 0.5000\n"
     ]
    }
   ],
   "source": [
    "results = model.evaluate(X_test, y_test)"
   ]
  },
  {
   "cell_type": "markdown",
   "id": "economic-norfolk",
   "metadata": {},
   "source": [
    "## 결과 요약\n",
    "\n",
    "1. 분석을 시작하기에 앞서 label 데이터의 분포를 확인하여 data augmentation의 필요성이 있는지 확인하였다.\n",
    "2. 한국어 임베딩 책에 나오는 7가지 형태소 분석기를 사용해보았고 khaiii 형태소 분석기를 최종적으로 선택하였다.\n",
    "3. token_length 분포에서 90% 상,하한 범위 내의 글자수를 가지는 텍스트를 분석에 사용하였다.\n",
    "4. 모델링에서는 함수형 API를 사용하여 CNN, LSTM, GRU 등을 결합한 layer를 구성하였다.\n",
    "5. 테스트 결과는 오버피팅이 심하게 발생하고 에폭을 변경해봐도 2 ~ 3구간에서 validation accuracy가 올라가지 못하는 현상이 발생하므로 분석 방법과 모델을 재검토할 필요성이 있다.\n",
    "6. label의 noise가 존재하는 것 같다.\n",
    "7. word2vec 임베딩을 추가하여 accuracy가 0.5로 조금 오르긴 했지만 여전히 문제가 많다. 복잡한 모델을 구성하는 것이 좋은 결과를 보장해주지 않는 사실을 깨닫게 됐다."
   ]
  }
 ],
 "metadata": {
  "kernelspec": {
   "display_name": "Python 3",
   "language": "python",
   "name": "python3"
  },
  "language_info": {
   "codemirror_mode": {
    "name": "ipython",
    "version": 3
   },
   "file_extension": ".py",
   "mimetype": "text/x-python",
   "name": "python",
   "nbconvert_exporter": "python",
   "pygments_lexer": "ipython3",
   "version": "3.7.9"
  }
 },
 "nbformat": 4,
 "nbformat_minor": 5
}
