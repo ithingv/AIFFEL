{
 "cells": [
  {
   "cell_type": "markdown",
   "id": "serious-motion",
   "metadata": {},
   "source": [
    "## Exploration_01\n",
    "## 가위 바위 보 이미지 분류문제 (Accuracy = 98.37%)"
   ]
  },
  {
   "cell_type": "markdown",
   "id": "muslim-huntington",
   "metadata": {},
   "source": [
    "### 1. 문제 정의\n",
    "가위,바위,보 이미지를 학습하여 테스트 이미지를 입력 받았을 때\n",
    "\n",
    "\n",
    "가위(0), 바위(1), 보(2)의 클래스를 올바르게 분류하는 모델을 만들어보자!\n",
    "\n",
    "### 2. 데이터 수집 및 정의\n",
    "#### 수집\n",
    "- 웹캠을 사용해 가위,바위,보 각각 100장씩 촬영한 이미지 파일을 폴더에 저장한다.\n",
    "- 데이터를 추가로 확보하기 위해 Notion에 공유된 데이터를 추가하여 학습에 사용하였다.\n",
    "- 데이터 공유 해주신 모든 분들께 너무 너무 감사드립니다.\n",
    "- 학습에 사용된 데이터는 4286장으로 가위 1427장.바위 1432장,보 1427장이다.\n",
    "\n",
    "#### 정의\n",
    "- dir_path = ~/aiffel/rock_scissor_paper/\n",
    "- dir_path 하위 디렉토리로 scissor, rock, paper가 있고 그 안에 이미지들이 저장되어있다.\n",
    "- image shape는 (224,224)로 mnist 이미지 사이즈와 같은 (28,28)로 resizing 되어 압축된다.\n",
    "- .jpg 확장자의 이미지 파일이다.\n",
    "- color image (channel=3)\n",
    "\n",
    "### 3. 데이터 전처리\n",
    "1. 카테고리(가위,바위,보)별로 저장된 이미지 데이터를 모두 target_size=(28,28)로 resizing한다.\n",
    "2. img를 JPEG으로 변환한다."
   ]
  },
  {
   "cell_type": "code",
   "execution_count": 1,
   "id": "editorial-struggle",
   "metadata": {},
   "outputs": [
    {
     "name": "stdout",
     "output_type": "stream",
     "text": [
      "scissor 1427 images to be resized.\n",
      "scissor 1427 images resized.\n",
      "\n",
      "rock 1432 images to be resized.\n",
      "rock 1432 images resized.\n",
      "\n",
      "paper 1427 images to be resized.\n",
      "paper 1427 images resized.\n",
      "\n"
     ]
    }
   ],
   "source": [
    "from PIL import Image\n",
    "import os\n",
    "import glob\n",
    "\n",
    "category_list = ['scissor', 'rock', 'paper'] # '가위', '바위', '보'\n",
    "number_of_data = 0 #전체 데이터 수\n",
    "\n",
    "def resize_images(category, img_path):\n",
    "    images=glob.glob(img_path + \"/*.jpg\")\n",
    "    print(f\"{category} {len(images)} images to be resized.\")\n",
    "    # 파일마다 모두 28x28 사이즈로 바꾸어 저장합니다.\n",
    "    target_size=(28,28)\n",
    "    for img in images:\n",
    "        old_img=Image.open(img)\n",
    "        new_img=old_img.resize(target_size,Image.ANTIALIAS)\n",
    "        new_img.save(img, \"JPEG\")\n",
    "        \n",
    "    print(f\"{category} {len(images)} images resized.\\n\")\n",
    "    \n",
    "for category in category_list:\n",
    "    dir_path = os.getenv(\"HOME\") + \"/aiffel/rock_scissor_paper/\"\n",
    "    image_dir_path = os.path.join(dir_path, category)\n",
    "    number_of_data += len(os.listdir(image_dir_path)) # 각 폴더에 있는 이미지들의 개수를 더한다.\n",
    "    resize_images(category, image_dir_path)"
   ]
  },
  {
   "cell_type": "code",
   "execution_count": 2,
   "id": "weekly-dynamics",
   "metadata": {},
   "outputs": [
    {
     "name": "stdout",
     "output_type": "stream",
     "text": [
      "4286\n"
     ]
    }
   ],
   "source": [
    "print(number_of_data)"
   ]
  },
  {
   "cell_type": "markdown",
   "id": "integrated-pound",
   "metadata": {},
   "source": [
    "#### 3. 함수 load_data를 정의\n",
    "```\n",
    "def load_data(img_path, number_of_data)\n",
    "    \"\"\"\n",
    "    이미지가 저장된 폴더 경로를 받아 이미지 데이터와 정답 데이터를 담을 행렬을 생성하여\n",
    "    반환한다.\n",
    "    \n",
    "    params \n",
    "    img_path : 이미지가 담겨 있는 폴더 경로\n",
    "    number_of_data : 총 데이터 수 \n",
    "    \n",
    "    return\n",
    "    imgs: 이미지데이터 (number_of_data, 28,28,3) dtype=np.int32\n",
    "    labels : 정답데이터 (number_of_data,) 가위:0, 바위:1, 보:2로 라벨링, dtype=np.int32\n",
    "    \"\"\"\n",
    "```"
   ]
  },
  {
   "cell_type": "code",
   "execution_count": 3,
   "id": "productive-conspiracy",
   "metadata": {},
   "outputs": [
    {
     "name": "stdout",
     "output_type": "stream",
     "text": [
      "학습데이터 이미지 개수는 4286 입니다.\n",
      "img shape: (4286, 28, 28, 3)\n",
      "label shape: (4286,)\n"
     ]
    }
   ],
   "source": [
    "import numpy as np\n",
    "\n",
    "def load_data(img_path, number_of_data):  # 가위바위보 이미지 개수 총합에 주의하세요.\n",
    "    # 가위 : 0, 바위 : 1, 보 : 2\n",
    "    img_size=28\n",
    "    color=3\n",
    "    #이미지 데이터와 라벨(가위 : 0, 바위 : 1, 보 : 2) 데이터를 담을 행렬(matrix) 영역을 생성합니다.\n",
    "    imgs=np.zeros(number_of_data*img_size*img_size*color,dtype=np.int32).reshape(number_of_data,img_size,img_size,color)\n",
    "    labels=np.zeros(number_of_data,dtype=np.int32)\n",
    "\n",
    "    idx=0\n",
    "    for file in glob.iglob(img_path+'/scissor/*.jpg'):\n",
    "        img = np.array(Image.open(file),dtype=np.int32)\n",
    "        imgs[idx,:,:,:]=img    # 데이터 영역에 이미지 행렬을 복사\n",
    "        labels[idx]=0   # 가위 : 0\n",
    "        idx=idx+1\n",
    "\n",
    "    for file in glob.iglob(img_path+'/rock/*.jpg'):\n",
    "        img = np.array(Image.open(file),dtype=np.int32)\n",
    "        imgs[idx,:,:,:]=img    # 데이터 영역에 이미지 행렬을 복사\n",
    "        labels[idx]=1   # 바위 : 1\n",
    "        idx=idx+1  \n",
    "    \n",
    "    for file in glob.iglob(img_path+'/paper/*.jpg'):\n",
    "        img = np.array(Image.open(file),dtype=np.int32)\n",
    "        imgs[idx,:,:,:]=img    # 데이터 영역에 이미지 행렬을 복사\n",
    "        labels[idx]=2   # 보 : 2\n",
    "        idx=idx+1\n",
    "            \n",
    "    print(\"학습데이터 이미지 개수는\", idx,\"입니다.\")\n",
    "    \n",
    "    return imgs, labels\n",
    "\n",
    "(imgs, labels) = load_data(dir_path, number_of_data)\n",
    "imgs = imgs / 255.0   # 입력은 0~1 사이의 값으로 정규화\n",
    "\n",
    "print(\"imgs shape: {}\".format(imgs.shape))\n",
    "print(\"labels shape: {}\".format(labels.shape))"
   ]
  },
  {
   "cell_type": "markdown",
   "id": "suited-night",
   "metadata": {},
   "source": [
    "#### 3. 함수 custom_train_test_split 정의\n",
    "-----\n",
    "```\n",
    "imgs, labels 데이터는 가위, 바위, 보의 순서로 이미지와 클래스가 저장되어있다.\n",
    "예를들어 imgs = [가위1,가위2, .... 가위1427, 바위1, ~], labels = [0,0,0,....., 1,1, ]\n",
    "테스트 데이터를 무작위 샘플링하기 위해 imgs, labels의 순서를 랜덤하게 shuffle하여\n",
    "테스트 데이터를 추출한다.\n",
    "```\n",
    "---------\n",
    "```\n",
    "def custom_train_test_split(imgs, labels, test_size=0.2, shuffle=True, random_state=99)\n",
    "    \"\"\"\n",
    "    sklearn.model_selection의 train_test_split과 비슷하게 동작한다.\n",
    "    np.random.permutation()의 인자로 number_of_data를 넣어 인덱스가 random하게 shuffle되어\n",
    "    test 데이터를 simple random sampling 할 수 있게 된다.\n",
    "    \n",
    "    params\n",
    "    imgs:         이미지데이터 (4D array)\n",
    "    labels:       정답데이터 (1D array)\n",
    "    test_size:    테스트 데이터 비율 지정\n",
    "    shuffle:      shuffle 실행유무(True/False)\n",
    "    random_state: random_seed값을 고정\n",
    "    \n",
    "    return\n",
    "    (X_train, y_train), (X_test, y_test)\n",
    "    \"\"\"\n",
    "```"
   ]
  },
  {
   "cell_type": "code",
   "execution_count": 4,
   "id": "honest-crime",
   "metadata": {},
   "outputs": [],
   "source": [
    "# imgs: 4D array, (number_of_data, 28, 28, 3)\n",
    "# labels: 1D array, (number_of_data,)\n",
    "def custom_train_test_split(imgs, labels, test_size=0.2, shuffle=True, random_state=99):\n",
    "    test_num = int(number_of_data * test_size)\n",
    "    train_num = number_of_data - test_num\n",
    "    \n",
    "    if shuffle: \n",
    "        np.random.seed(random_state)\n",
    "        shuffled = np.random.permutation(number_of_data)\n",
    "        X = imgs[shuffled,:,:,:]\n",
    "        y = labels[shuffled]\n",
    "        X_train = X[:train_num]\n",
    "        y_train = y[:train_num]\n",
    "        X_test = X[train_num:]\n",
    "        y_test = y[train_num:]\n",
    "    else:\n",
    "        X_train = X[:train_num]\n",
    "        y_train = y[:train_num]\n",
    "        X_test = X[train_num:]\n",
    "        y_test = y[train_num:]\n",
    "        \n",
    "    return (X_train, y_train), (X_test, y_test)"
   ]
  },
  {
   "cell_type": "code",
   "execution_count": 5,
   "id": "given-northwest",
   "metadata": {},
   "outputs": [],
   "source": [
    "# 훈련, 테스트 데이터 생성\n",
    "(X_train, y_train), (X_test, y_test) = custom_train_test_split(imgs, labels)"
   ]
  },
  {
   "cell_type": "code",
   "execution_count": 6,
   "id": "residential-estimate",
   "metadata": {},
   "outputs": [
    {
     "name": "stdout",
     "output_type": "stream",
     "text": [
      "(3429, 28, 28, 3) (3429,)\n"
     ]
    }
   ],
   "source": [
    "# 훈련, 테스트 데이터 shape 확인\n",
    "print(X_train.shape, y_train.shape)"
   ]
  },
  {
   "cell_type": "code",
   "execution_count": 7,
   "id": "independent-relation",
   "metadata": {},
   "outputs": [
    {
     "name": "stdout",
     "output_type": "stream",
     "text": [
      "(857, 28, 28, 3) (857,)\n"
     ]
    }
   ],
   "source": [
    "# 전체 데이터 중 20%를 테스트 데이터로 추출()\n",
    "print(X_test.shape, y_test.shape)"
   ]
  },
  {
   "cell_type": "code",
   "execution_count": 8,
   "id": "viral-google",
   "metadata": {},
   "outputs": [
    {
     "data": {
      "image/png": "[encoded data removed]",
      "text/plain": [
       "<Figure size 864x432 with 2 Axes>"
      ]
     },
     "metadata": {
      "needs_background": "light"
     },
     "output_type": "display_data"
    }
   ],
   "source": [
    "# imgs 데이터 imgs[0]~imgs[1426] 까지는 가위 데이터가 저장되어있다(label=0) \n",
    "# (imgs[0], labels[0])과  (X_train[0], y_train[0])을 비교해보고 데이터 순서가 바뀌었는지 확인한다.\n",
    "import matplotlib.pyplot as plt\n",
    "\n",
    "fig, ax = plt.subplots(1, 2, figsize=(12,6))\n",
    "ax[0].imshow(imgs[0])\n",
    "ax[0].axis('off')\n",
    "ax[0].set_title(labels[0])\n",
    "\n",
    "ax[1].imshow(X_train[0])\n",
    "ax[1].axis('off')\n",
    "ax[1].set_title(y_train[0])\n",
    "plt.show()"
   ]
  },
  {
   "cell_type": "markdown",
   "id": "pacific-scanner",
   "metadata": {},
   "source": [
    "### 4. 데이터 탐색(EDA)\n",
    "1. pandas DataFrame을 이용해 label 데이터가 shuffle 되었는지 확인"
   ]
  },
  {
   "cell_type": "code",
   "execution_count": 9,
   "id": "relative-mayor",
   "metadata": {},
   "outputs": [],
   "source": [
    "import pandas as pd\n",
    "\n",
    "y_train_df = pd.DataFrame(y_train, columns=['category'])\n",
    "y_test_df = pd.DataFrame(y_test, columns=['category'])"
   ]
  },
  {
   "cell_type": "code",
   "execution_count": 10,
   "id": "returning-morgan",
   "metadata": {},
   "outputs": [
    {
     "data": {
      "text/html": [
       "<div>\n",
       "<style scoped>\n",
       "    .dataframe tbody tr th:only-of-type {\n",
       "        vertical-align: middle;\n",
       "    }\n",
       "\n",
       "    .dataframe tbody tr th {\n",
       "        vertical-align: top;\n",
       "    }\n",
       "\n",
       "    .dataframe thead th {\n",
       "        text-align: right;\n",
       "    }\n",
       "</style>\n",
       "<table border=\"1\" class=\"dataframe\">\n",
       "  <thead>\n",
       "    <tr style=\"text-align: right;\">\n",
       "      <th></th>\n",
       "      <th>category</th>\n",
       "    </tr>\n",
       "  </thead>\n",
       "  <tbody>\n",
       "    <tr>\n",
       "      <th>0</th>\n",
       "      <td>2</td>\n",
       "    </tr>\n",
       "    <tr>\n",
       "      <th>1</th>\n",
       "      <td>2</td>\n",
       "    </tr>\n",
       "    <tr>\n",
       "      <th>2</th>\n",
       "      <td>2</td>\n",
       "    </tr>\n",
       "    <tr>\n",
       "      <th>3</th>\n",
       "      <td>0</td>\n",
       "    </tr>\n",
       "    <tr>\n",
       "      <th>4</th>\n",
       "      <td>0</td>\n",
       "    </tr>\n",
       "  </tbody>\n",
       "</table>\n",
       "</div>"
      ],
      "text/plain": [
       "   category\n",
       "0         2\n",
       "1         2\n",
       "2         2\n",
       "3         0\n",
       "4         0"
      ]
     },
     "execution_count": 10,
     "metadata": {},
     "output_type": "execute_result"
    }
   ],
   "source": [
    "y_train_df.head()"
   ]
  },
  {
   "cell_type": "code",
   "execution_count": 11,
   "id": "prescription-pepper",
   "metadata": {},
   "outputs": [
    {
     "data": {
      "text/html": [
       "<div>\n",
       "<style scoped>\n",
       "    .dataframe tbody tr th:only-of-type {\n",
       "        vertical-align: middle;\n",
       "    }\n",
       "\n",
       "    .dataframe tbody tr th {\n",
       "        vertical-align: top;\n",
       "    }\n",
       "\n",
       "    .dataframe thead th {\n",
       "        text-align: right;\n",
       "    }\n",
       "</style>\n",
       "<table border=\"1\" class=\"dataframe\">\n",
       "  <thead>\n",
       "    <tr style=\"text-align: right;\">\n",
       "      <th></th>\n",
       "      <th>category</th>\n",
       "    </tr>\n",
       "  </thead>\n",
       "  <tbody>\n",
       "    <tr>\n",
       "      <th>0</th>\n",
       "      <td>1</td>\n",
       "    </tr>\n",
       "    <tr>\n",
       "      <th>1</th>\n",
       "      <td>0</td>\n",
       "    </tr>\n",
       "    <tr>\n",
       "      <th>2</th>\n",
       "      <td>1</td>\n",
       "    </tr>\n",
       "    <tr>\n",
       "      <th>3</th>\n",
       "      <td>0</td>\n",
       "    </tr>\n",
       "    <tr>\n",
       "      <th>4</th>\n",
       "      <td>0</td>\n",
       "    </tr>\n",
       "  </tbody>\n",
       "</table>\n",
       "</div>"
      ],
      "text/plain": [
       "   category\n",
       "0         1\n",
       "1         0\n",
       "2         1\n",
       "3         0\n",
       "4         0"
      ]
     },
     "execution_count": 11,
     "metadata": {},
     "output_type": "execute_result"
    }
   ],
   "source": [
    "y_test_df.head()"
   ]
  },
  {
   "cell_type": "markdown",
   "id": "institutional-native",
   "metadata": {},
   "source": [
    "#### 2. seaborn의 countplot으로 train, test 데이터 분포 확인\n",
    "```\n",
    "모델이 모든 클래스를 balance 하게 학습하고 분류할 수 있는지 여부를 확인할 수 있다.\n",
    "train_set: 3429개 (가위:1153, 바위:1144, 보:1132)\n",
    "test_set: 857개 (가위: 274, 바위: 288, 보: 295)\n",
    "```"
   ]
  },
  {
   "cell_type": "code",
   "execution_count": 12,
   "id": "white-nylon",
   "metadata": {},
   "outputs": [
    {
     "data": {
      "image/png": "[encoded data removed]",
      "text/plain": [
       "<Figure size 864x432 with 2 Axes>"
      ]
     },
     "metadata": {},
     "output_type": "display_data"
    }
   ],
   "source": [
    "import seaborn as sns\n",
    "\n",
    "sns.set_style('whitegrid')\n",
    "plt.figure(figsize=(12,6))\n",
    "plt.subplot(1,2,1)\n",
    "ax1 = sns.countplot(x='category', data=y_train_df, palette='Set1', alpha=0.7)\n",
    "ax1.set_title(\"Train label\")\n",
    "\n",
    "for p in ax1.patches:\n",
    "    ax1.annotate(f'\\n{p.get_height()}', (p.get_x()+0.4, p.get_height()), ha='center', va='top', color='white', size=20)\n",
    "\n",
    "plt.subplot(1,2,2)\n",
    "ax2 = sns.countplot(x='category', data=y_test_df, palette='Set1', alpha=0.7)\n",
    "ax2.set_title(\"Test label\")\n",
    "\n",
    "for p in ax2.patches:\n",
    "    ax2.annotate(f'\\n{p.get_height()}', (p.get_x()+0.4, p.get_height()), ha='center', va='top', color='white', size=20)\n",
    "\n",
    "plt.show()"
   ]
  },
  {
   "cell_type": "markdown",
   "id": "tribal-stations",
   "metadata": {},
   "source": [
    "### 5. 모델 구축\n",
    "\n",
    "Basic CNN Model의 성능을 개선하기 위해 [Digit-recognizer competition](https://www.kaggle.com/c/digit-recognizer)에서 CNN을 사용해 최고의 성능을 보여준 모델을 학습에 사용하였다. \n",
    "\n",
    "(MNIST 99.5% 정확도)\n",
    "\n",
    "[How to choose CNN Architecture MNIST](https://www.kaggle.com/cdeotte/how-to-choose-cnn-architecture-mnist)\n",
    "\n",
    "-------------------\n",
    "### 실험\n",
    "```\n",
    "1. n pairs of convolution-subsambling에서 n을 어떻게 정할 것인가?\n",
    "pair를 늘릴 때 이미지 shape가 (28, 28)에서 점점 축소 되므로 max(n)=3이다.\n",
    "\n",
    "2. How many feature maps?\n",
    "n_channel_1, n_channel_2의 값을 정해야 하는데 (8,16),(16,32),(24,48),(32,64),(48,96),(64,128)을 바꿔가면서 성능을 테스트하였고 그 중 best set은 (32,64)이었다.\n",
    "\n",
    "3. Dense layer의 unit 개수?\n",
    "n_dense의 값 32, 64, 128, 256, 512, 1024, 2048 중에서 best는 128이었다.\n",
    "\n",
    "4. dropout?\n",
    "드롭아웃은 네트워크에서 과적합을 막아주는 방법으로 네트워크의 일반화 성능을 높인다.\n",
    "0%, 10%, 20%, 30%, 40%, 50%, 60%, 70% 중에서 40%가 best였다.\n",
    "\n",
    "5. kernel_size = (5,5) is the best?\n",
    "필자는 1개의 kernel_size = (5,5)를 가지는 convolution layer 보다 kernel_size = (3,3)을 가지는 2개의 convolution layer를 연결시켜 비선형성을 높이는 방법을 사용했다.\n",
    "\n",
    "6. max pooling layer\n",
    "model.add(Conv2D(n_channel_1, kernel_size = 5, strides=2, padding='same', activation='relu'))에서\n",
    "max pooling layer 대신 strieds=2를 사용해 subsample 하였다.\n",
    "\n",
    "7. batch normalization\n",
    "https://keras.io/api/layers/normalization_layers/batch_normalization/\n",
    "\n",
    "8. Data augmentation\n",
    "\n",
    "필자가 작성한 github 노트북에 다음과 같은 augmentation 코드를 확인할 수 있다.\n",
    "# CREATE MORE IMAGES WITH DATA AUGMENTATION\n",
    "datagen = ImageDataGenerator(\n",
    "        rotation_range=15,\n",
    "        zoom_range = 0.15,  \n",
    "        width_shift_range=0.1, \n",
    "        height_shift_range=0.1)\n",
    "        \n",
    "9. 마지막 layer에서 Dense(128)가 아닌 128C4를 사용하였는데 이게 더 좋은 성능을 보여줬나보다.\n",
    "\n",
    "```\n",
    "-----------------\n",
    "### 결론\n",
    "\n",
    "```\n",
    "\n",
    "32C3: model.add(Conv2D(n_channel_1, kernel_size = 3\n",
    "32C5S2: model.add(Conv2D(n_channel_1, kernel_size = 5, strides=2\n",
    "\n",
    "Model Architecture\n",
    "\n",
    "784 - [32C3-32C3-32C5S2] - [64C3-64C3-64C5S2] - 128C4 - 3\n",
    "with 40% dropout, batch normalization, and data augmentation added\n",
    "\n",
    "15개의 CNN 모델을 앙상블한 결과는 이 모델(99.5%)보다 높은 99.75% 정확도를 보였다고 한다.\n",
    "```\n",
    "[25 Million Images! [0.99757] MNIST](https://www.kaggle.com/cdeotte/25-million-images-0-99757-mnist)"
   ]
  },
  {
   "cell_type": "code",
   "execution_count": 13,
   "id": "spanish-windows",
   "metadata": {},
   "outputs": [],
   "source": [
    "import tensorflow as tf\n",
    "from tensorflow import keras\n",
    "from keras import models\n",
    "from keras.models import Sequential\n",
    "from keras.layers import Dense, Dropout, Flatten, Conv2D, BatchNormalization\n",
    "\n",
    "def build_model():\n",
    "    \n",
    "    n_channel_1=32\n",
    "    n_channel_2=64\n",
    "    n_dense=128\n",
    "    \n",
    "    model=Sequential()\n",
    "    model.add(Conv2D(n_channel_1, (3,3), activation='relu', input_shape=(28,28,3)))\n",
    "    model.add(BatchNormalization())\n",
    "    model.add(Conv2D(n_channel_1, kernel_size = 3, activation='relu'))\n",
    "    model.add(BatchNormalization())\n",
    "    model.add(Conv2D(n_channel_1, kernel_size = 5, strides=2, padding='same', activation='relu'))\n",
    "    model.add(BatchNormalization())\n",
    "    model.add(Dropout(0.4))\n",
    "\n",
    "    model.add(Conv2D(n_channel_2, kernel_size = 3, activation='relu'))\n",
    "    model.add(BatchNormalization())\n",
    "    model.add(Conv2D(n_channel_2, kernel_size = 3, activation='relu'))\n",
    "    model.add(BatchNormalization())\n",
    "    model.add(Conv2D(n_channel_2, kernel_size = 5, strides=2, padding='same', activation='relu'))\n",
    "    model.add(BatchNormalization())\n",
    "    model.add(Dropout(0.4))\n",
    "\n",
    "    model.add(Conv2D(n_dense, kernel_size = 4, activation='relu'))\n",
    "    model.add(BatchNormalization())\n",
    "    model.add(Flatten())\n",
    "    model.add(Dropout(0.4))\n",
    "    model.add(Dense(3, activation='softmax'))\n",
    "\n",
    "    return model"
   ]
  },
  {
   "cell_type": "markdown",
   "id": "scientific-bibliography",
   "metadata": {},
   "source": [
    "### 6. 검증 데이터 분리\n",
    "- 훈련(60%), 검증(20%), 테스트(20%) 데이터를 사용한다."
   ]
  },
  {
   "cell_type": "code",
   "execution_count": 14,
   "id": "assured-wayne",
   "metadata": {},
   "outputs": [],
   "source": [
    "X_train_partial , X_val = X_train[:len(X_train)-len(X_test)], X_train[len(X_train)-len(X_test):]"
   ]
  },
  {
   "cell_type": "code",
   "execution_count": 15,
   "id": "structural-sphere",
   "metadata": {},
   "outputs": [
    {
     "name": "stdout",
     "output_type": "stream",
     "text": [
      "학습 데이터 수: 3429개\n",
      "검증 데이터를 제외한 학습 데이터 수 : 2572개\n",
      "검증 데이터 수: 857개\n"
     ]
    }
   ],
   "source": [
    "print(f\"학습 데이터 수: {len(X_train)}개\\n검증 데이터를 제외한 학습 데이터 수 : {len(X_train_partial)}개\\n검증 데이터 수: {len(X_val)}개\")"
   ]
  },
  {
   "cell_type": "code",
   "execution_count": 16,
   "id": "romantic-vegetable",
   "metadata": {},
   "outputs": [],
   "source": [
    "y_train_partial , y_val = y_train[:len(y_train)-len(y_test)], y_train[len(y_train)-len(y_test):]"
   ]
  },
  {
   "cell_type": "code",
   "execution_count": 17,
   "id": "suitable-nicholas",
   "metadata": {},
   "outputs": [],
   "source": [
    "model = build_model()\n",
    "model.compile(optimizer=\"adam\",\n",
    "              loss=\"sparse_categorical_crossentropy\",\n",
    "              metrics=[\"acc\"]\n",
    "             )"
   ]
  },
  {
   "cell_type": "code",
   "execution_count": 18,
   "id": "smooth-victorian",
   "metadata": {},
   "outputs": [
    {
     "name": "stdout",
     "output_type": "stream",
     "text": [
      "Epoch 1/25\n",
      "41/41 [==============================] - 19s 261ms/step - loss: 1.5040 - acc: 0.4438 - val_loss: 1.1598 - val_acc: 0.3162\n",
      "Epoch 2/25\n",
      "41/41 [==============================] - 1s 17ms/step - loss: 0.7289 - acc: 0.7225 - val_loss: 1.5468 - val_acc: 0.3162\n",
      "Epoch 3/25\n",
      "41/41 [==============================] - 1s 16ms/step - loss: 0.3803 - acc: 0.8581 - val_loss: 2.2087 - val_acc: 0.3022\n",
      "Epoch 4/25\n",
      "41/41 [==============================] - 1s 16ms/step - loss: 0.2734 - acc: 0.8966 - val_loss: 4.0805 - val_acc: 0.3162\n",
      "Epoch 5/25\n",
      "41/41 [==============================] - 1s 16ms/step - loss: 0.1718 - acc: 0.9385 - val_loss: 3.4033 - val_acc: 0.3536\n",
      "Epoch 6/25\n",
      "41/41 [==============================] - 1s 16ms/step - loss: 0.1534 - acc: 0.9439 - val_loss: 4.2083 - val_acc: 0.3512\n",
      "Epoch 7/25\n",
      "41/41 [==============================] - 1s 16ms/step - loss: 0.1176 - acc: 0.9586 - val_loss: 2.8499 - val_acc: 0.4142\n",
      "Epoch 8/25\n",
      "41/41 [==============================] - 1s 16ms/step - loss: 0.1036 - acc: 0.9631 - val_loss: 2.1584 - val_acc: 0.4516\n",
      "Epoch 9/25\n",
      "41/41 [==============================] - 1s 16ms/step - loss: 0.0875 - acc: 0.9669 - val_loss: 1.7137 - val_acc: 0.6021\n",
      "Epoch 10/25\n",
      "41/41 [==============================] - 1s 16ms/step - loss: 0.0803 - acc: 0.9709 - val_loss: 2.1707 - val_acc: 0.6033\n",
      "Epoch 11/25\n",
      "41/41 [==============================] - 1s 16ms/step - loss: 0.1058 - acc: 0.9637 - val_loss: 0.7958 - val_acc: 0.7853\n",
      "Epoch 12/25\n",
      "41/41 [==============================] - 1s 16ms/step - loss: 0.0692 - acc: 0.9759 - val_loss: 0.5758 - val_acc: 0.8191\n",
      "Epoch 13/25\n",
      "41/41 [==============================] - 1s 16ms/step - loss: 0.0528 - acc: 0.9808 - val_loss: 0.6979 - val_acc: 0.7970\n",
      "Epoch 14/25\n",
      "41/41 [==============================] - 1s 16ms/step - loss: 0.0415 - acc: 0.9846 - val_loss: 0.1233 - val_acc: 0.9522\n",
      "Epoch 15/25\n",
      "41/41 [==============================] - 1s 16ms/step - loss: 0.0358 - acc: 0.9840 - val_loss: 0.0542 - val_acc: 0.9755\n",
      "Epoch 16/25\n",
      "41/41 [==============================] - 1s 16ms/step - loss: 0.0231 - acc: 0.9963 - val_loss: 0.0447 - val_acc: 0.9837\n",
      "Epoch 17/25\n",
      "41/41 [==============================] - 1s 16ms/step - loss: 0.0237 - acc: 0.9932 - val_loss: 0.0382 - val_acc: 0.9848\n",
      "Epoch 18/25\n",
      "41/41 [==============================] - 1s 16ms/step - loss: 0.0525 - acc: 0.9811 - val_loss: 0.6241 - val_acc: 0.8436\n",
      "Epoch 19/25\n",
      "41/41 [==============================] - 1s 16ms/step - loss: 0.0731 - acc: 0.9755 - val_loss: 0.2406 - val_acc: 0.9253\n",
      "Epoch 20/25\n",
      "41/41 [==============================] - 1s 16ms/step - loss: 0.0688 - acc: 0.9811 - val_loss: 0.1755 - val_acc: 0.9277\n",
      "Epoch 21/25\n",
      "41/41 [==============================] - 1s 16ms/step - loss: 0.0485 - acc: 0.9871 - val_loss: 0.1561 - val_acc: 0.9510\n",
      "Epoch 22/25\n",
      "41/41 [==============================] - 1s 16ms/step - loss: 0.0360 - acc: 0.9869 - val_loss: 0.0590 - val_acc: 0.9813\n",
      "Epoch 23/25\n",
      "41/41 [==============================] - 1s 16ms/step - loss: 0.0256 - acc: 0.9907 - val_loss: 0.0306 - val_acc: 0.9930\n",
      "Epoch 24/25\n",
      "41/41 [==============================] - 1s 16ms/step - loss: 0.0237 - acc: 0.9925 - val_loss: 0.0456 - val_acc: 0.9860\n",
      "Epoch 25/25\n",
      "41/41 [==============================] - 1s 16ms/step - loss: 0.0152 - acc: 0.9946 - val_loss: 0.2166 - val_acc: 0.9487\n"
     ]
    },
    {
     "data": {
      "text/plain": [
       "<tensorflow.python.keras.callbacks.History at 0x7fa8a0206890>"
      ]
     },
     "execution_count": 18,
     "metadata": {},
     "output_type": "execute_result"
    }
   ],
   "source": [
    "n_train_epoch = 25\n",
    "\n",
    "model.fit(x=X_train_partial,\n",
    "          y=y_train_partial,\n",
    "          epochs=n_train_epoch,\n",
    "          batch_size=64,\n",
    "          validation_data=(X_val, y_val))"
   ]
  },
  {
   "cell_type": "code",
   "execution_count": 19,
   "id": "controlling-seafood",
   "metadata": {},
   "outputs": [],
   "source": [
    "history = model.history.history"
   ]
  },
  {
   "cell_type": "code",
   "execution_count": 20,
   "id": "confirmed-thing",
   "metadata": {},
   "outputs": [
    {
     "data": {
      "text/plain": [
       "dict_keys(['loss', 'acc', 'val_loss', 'val_acc'])"
      ]
     },
     "execution_count": 20,
     "metadata": {},
     "output_type": "execute_result"
    }
   ],
   "source": [
    "history.keys()"
   ]
  },
  {
   "cell_type": "code",
   "execution_count": 21,
   "id": "surgical-audio",
   "metadata": {},
   "outputs": [
    {
     "data": {
      "image/png": "[encoded data removed]",
      "text/plain": [
       "<Figure size 432x288 with 1 Axes>"
      ]
     },
     "metadata": {},
     "output_type": "display_data"
    }
   ],
   "source": [
    "val_loss = history['val_loss']\n",
    "loss = history['loss']\n",
    "epochs = range(1, 26)\n",
    "\n",
    "plt.plot(epochs, val_loss, 'b-', label='Validation_loss')\n",
    "plt.plot(epochs, loss, 'bo', label='Traninig_loss')\n",
    "plt.title(\"Training and Validation Loss\")\n",
    "plt.xlabel(\"Epochs\")\n",
    "plt.ylabel(\"Loss\")\n",
    "plt.legend()\n",
    "plt.show()"
   ]
  },
  {
   "cell_type": "code",
   "execution_count": 22,
   "id": "incomplete-grocery",
   "metadata": {},
   "outputs": [
    {
     "data": {
      "image/png": "[encoded data removed]",
      "text/plain": [
       "<Figure size 432x288 with 1 Axes>"
      ]
     },
     "metadata": {},
     "output_type": "display_data"
    }
   ],
   "source": [
    "val_acc = history['val_acc']\n",
    "acc = history['acc']\n",
    "epochs = range(1, 26)\n",
    "\n",
    "plt.plot(epochs, val_acc, 'b-', label='Validation_Accuracy')\n",
    "plt.plot(epochs, acc, 'bo', label='Traninig_Accuracy')\n",
    "plt.title(\"Training and Validation Accuracy\")\n",
    "plt.xlabel(\"Epochs\")\n",
    "plt.ylabel(\"accuracy\")\n",
    "plt.legend()\n",
    "plt.show()"
   ]
  },
  {
   "cell_type": "markdown",
   "id": "structured-approval",
   "metadata": {},
   "source": [
    "### 7. 성능 최적화\n",
    "```\n",
    "epoch을 25으로 하고 매 epoch 마다 검증 데이터의 val_loss, val_accuracy를 계산하여 그래프로 나타내었다.\n",
    "loss의 경우 6 epoch 이후 점점 줄어들면서 17 epoch 이후로 다시 그래프가 상승 하강을 반복하는 현상이 보인다.\n",
    "accuracy도 마찬가지로 17 epoch 이후로 그래프가 하락하기 때문에 이 지점부터 overfitting을 의심 해볼 수 있다. \n",
    "따라서 epoch을 17로 재설정하고 모델을 재학습 시켜보았다.(모델을 다시 초기화하고 학습시켜야한다.)\n",
    "```"
   ]
  },
  {
   "cell_type": "code",
   "execution_count": 23,
   "id": "paperback-barcelona",
   "metadata": {
    "scrolled": true
   },
   "outputs": [
    {
     "name": "stdout",
     "output_type": "stream",
     "text": [
      "Epoch 1/17\n",
      "41/41 [==============================] - 2s 21ms/step - loss: 1.5062 - acc: 0.4599 - val_loss: 1.1405 - val_acc: 0.3944\n",
      "Epoch 2/17\n",
      "41/41 [==============================] - 1s 16ms/step - loss: 0.6251 - acc: 0.7499 - val_loss: 1.2330 - val_acc: 0.3197\n",
      "Epoch 3/17\n",
      "41/41 [==============================] - 1s 16ms/step - loss: 0.3813 - acc: 0.8568 - val_loss: 1.3837 - val_acc: 0.3221\n",
      "Epoch 4/17\n",
      "41/41 [==============================] - 1s 16ms/step - loss: 0.2697 - acc: 0.9001 - val_loss: 1.4402 - val_acc: 0.3291\n",
      "Epoch 5/17\n",
      "41/41 [==============================] - 1s 16ms/step - loss: 0.1911 - acc: 0.9312 - val_loss: 1.4642 - val_acc: 0.4387\n",
      "Epoch 6/17\n",
      "41/41 [==============================] - 1s 16ms/step - loss: 0.1890 - acc: 0.9334 - val_loss: 1.5207 - val_acc: 0.4889\n",
      "Epoch 7/17\n",
      "41/41 [==============================] - 1s 16ms/step - loss: 0.1183 - acc: 0.9592 - val_loss: 1.5714 - val_acc: 0.4294\n",
      "Epoch 8/17\n",
      "41/41 [==============================] - 1s 16ms/step - loss: 0.1461 - acc: 0.9445 - val_loss: 1.6970 - val_acc: 0.4761\n",
      "Epoch 9/17\n",
      "41/41 [==============================] - 1s 16ms/step - loss: 0.1054 - acc: 0.9654 - val_loss: 3.5189 - val_acc: 0.3559\n",
      "Epoch 10/17\n",
      "41/41 [==============================] - 1s 16ms/step - loss: 0.0723 - acc: 0.9746 - val_loss: 0.6113 - val_acc: 0.7701\n",
      "Epoch 11/17\n",
      "41/41 [==============================] - 1s 16ms/step - loss: 0.0555 - acc: 0.9835 - val_loss: 0.4646 - val_acc: 0.8226\n",
      "Epoch 12/17\n",
      "41/41 [==============================] - 1s 16ms/step - loss: 0.0460 - acc: 0.9839 - val_loss: 0.2222 - val_acc: 0.9137\n",
      "Epoch 13/17\n",
      "41/41 [==============================] - 1s 16ms/step - loss: 0.0446 - acc: 0.9853 - val_loss: 0.1183 - val_acc: 0.9557\n",
      "Epoch 14/17\n",
      "41/41 [==============================] - 1s 16ms/step - loss: 0.0712 - acc: 0.9749 - val_loss: 0.9682 - val_acc: 0.7690\n",
      "Epoch 15/17\n",
      "41/41 [==============================] - 1s 16ms/step - loss: 0.0607 - acc: 0.9795 - val_loss: 0.3875 - val_acc: 0.8763\n",
      "Epoch 16/17\n",
      "41/41 [==============================] - 1s 16ms/step - loss: 0.0523 - acc: 0.9851 - val_loss: 0.1697 - val_acc: 0.9312\n",
      "Epoch 17/17\n",
      "41/41 [==============================] - 1s 16ms/step - loss: 0.0444 - acc: 0.9865 - val_loss: 0.0466 - val_acc: 0.9825\n"
     ]
    },
    {
     "data": {
      "text/plain": [
       "<tensorflow.python.keras.callbacks.History at 0x7fa96097d290>"
      ]
     },
     "execution_count": 23,
     "metadata": {},
     "output_type": "execute_result"
    }
   ],
   "source": [
    "model = build_model() # 모델 초기화\n",
    "model.compile(optimizer=\"adam\",\n",
    "              loss=\"sparse_categorical_crossentropy\",\n",
    "              metrics=[\"acc\"]\n",
    "             )\n",
    "\n",
    "n_train_epoch = 17\n",
    "\n",
    "model.fit(x=X_train_partial,\n",
    "          y=y_train_partial,\n",
    "          epochs=n_train_epoch,\n",
    "          batch_size=64,\n",
    "          validation_data=(X_val, y_val))"
   ]
  },
  {
   "cell_type": "code",
   "execution_count": 24,
   "id": "executed-montana",
   "metadata": {},
   "outputs": [
    {
     "name": "stdout",
     "output_type": "stream",
     "text": [
      "Model: \"sequential_1\"\n",
      "_________________________________________________________________\n",
      "Layer (type)                 Output Shape              Param #   \n",
      "=================================================================\n",
      "conv2d_7 (Conv2D)            (None, 26, 26, 32)        896       \n",
      "_________________________________________________________________\n",
      "batch_normalization_7 (Batch (None, 26, 26, 32)        128       \n",
      "_________________________________________________________________\n",
      "conv2d_8 (Conv2D)            (None, 24, 24, 32)        9248      \n",
      "_________________________________________________________________\n",
      "batch_normalization_8 (Batch (None, 24, 24, 32)        128       \n",
      "_________________________________________________________________\n",
      "conv2d_9 (Conv2D)            (None, 12, 12, 32)        25632     \n",
      "_________________________________________________________________\n",
      "batch_normalization_9 (Batch (None, 12, 12, 32)        128       \n",
      "_________________________________________________________________\n",
      "dropout_3 (Dropout)          (None, 12, 12, 32)        0         \n",
      "_________________________________________________________________\n",
      "conv2d_10 (Conv2D)           (None, 10, 10, 64)        18496     \n",
      "_________________________________________________________________\n",
      "batch_normalization_10 (Batc (None, 10, 10, 64)        256       \n",
      "_________________________________________________________________\n",
      "conv2d_11 (Conv2D)           (None, 8, 8, 64)          36928     \n",
      "_________________________________________________________________\n",
      "batch_normalization_11 (Batc (None, 8, 8, 64)          256       \n",
      "_________________________________________________________________\n",
      "conv2d_12 (Conv2D)           (None, 4, 4, 64)          102464    \n",
      "_________________________________________________________________\n",
      "batch_normalization_12 (Batc (None, 4, 4, 64)          256       \n",
      "_________________________________________________________________\n",
      "dropout_4 (Dropout)          (None, 4, 4, 64)          0         \n",
      "_________________________________________________________________\n",
      "conv2d_13 (Conv2D)           (None, 1, 1, 128)         131200    \n",
      "_________________________________________________________________\n",
      "batch_normalization_13 (Batc (None, 1, 1, 128)         512       \n",
      "_________________________________________________________________\n",
      "flatten_1 (Flatten)          (None, 128)               0         \n",
      "_________________________________________________________________\n",
      "dropout_5 (Dropout)          (None, 128)               0         \n",
      "_________________________________________________________________\n",
      "dense_1 (Dense)              (None, 3)                 387       \n",
      "=================================================================\n",
      "Total params: 326,915\n",
      "Trainable params: 326,083\n",
      "Non-trainable params: 832\n",
      "_________________________________________________________________\n"
     ]
    }
   ],
   "source": [
    "model.summary()"
   ]
  },
  {
   "cell_type": "code",
   "execution_count": 25,
   "id": "thrown-montana",
   "metadata": {},
   "outputs": [
    {
     "name": "stdout",
     "output_type": "stream",
     "text": [
      "27/27 [==============================] - 4s 4ms/step - loss: 0.0551 - acc: 0.9837\n"
     ]
    }
   ],
   "source": [
    "results = model.evaluate(X_test, y_test)"
   ]
  },
  {
   "cell_type": "markdown",
   "id": "involved-counter",
   "metadata": {},
   "source": [
    "## 8. 예측\n",
    "#### 모델은 첫번째 테스트 사진을 어떻게 예측했을까?"
   ]
  },
  {
   "cell_type": "code",
   "execution_count": 26,
   "id": "suited-status",
   "metadata": {},
   "outputs": [],
   "source": [
    "predictions = model.predict(X_test)"
   ]
  },
  {
   "cell_type": "code",
   "execution_count": 27,
   "id": "respiratory-hampshire",
   "metadata": {},
   "outputs": [
    {
     "data": {
      "text/plain": [
       "1"
      ]
     },
     "execution_count": 27,
     "metadata": {},
     "output_type": "execute_result"
    }
   ],
   "source": [
    "# 모델이 예측한 첫번째 사진의 정답은? (두근두근)\n",
    "np.argmax(predictions[0])"
   ]
  },
  {
   "cell_type": "code",
   "execution_count": 29,
   "id": "divine-modification",
   "metadata": {},
   "outputs": [
    {
     "name": "stdout",
     "output_type": "stream",
     "text": [
      "라벨:  1\n"
     ]
    },
    {
     "data": {
      "image/png": "[encoded data removed]",
      "text/plain": [
       "<Figure size 432x288 with 1 Axes>"
      ]
     },
     "metadata": {},
     "output_type": "display_data"
    }
   ],
   "source": [
    "# 저는 이 사진 뭔지 모르겠는데 바위라고 합니다... 여러분 잘 보이시나요? ㅠ_ㅠ \n",
    "plt.imshow(X_test[0])\n",
    "plt.axis('off')\n",
    "print('라벨: ', y_test[0])\n",
    "plt.show()"
   ]
  },
  {
   "cell_type": "markdown",
   "id": "hispanic-combination",
   "metadata": {},
   "source": [
    "### 9. 결과해석 및 회고\n",
    "\n",
    "```\n",
    "테스트 셋 837개를 사용한 모델의 성능은 정확도 98.37%를 보여주었다.\n",
    "predictions = model.predict(X_test)으로 predictions에는 모델이 예측한 이미지의 클래스가 담기게 되고\n",
    "우리는 이제 X_test의 이미지와 실제 label값, 예측 label값을 비교해볼 수 있다.\n",
    "\n",
    "분명히 Basic CNN도 이미지 분류에 꽤 좋은 성능을 보이지만, Chris Deotte씨가 설계한 이 CNN 모델의\n",
    "성능은 놀라움을 주었다. kernel_size, n_dense, Convolution layer의 개수 설정 방법과 같이\n",
    "하이퍼 파라미터를 어떻게 디테일하게 설정하고 layer를 연계할 수 있는지 통찰력을 얻을 수 있는 의미있는 실험이었다. \n",
    "많이 배웠고 앞으로 끊임없이 질문하는 사고가 필요할 것 같다.\n",
    "```"
   ]
  }
 ],
 "metadata": {
  "kernelspec": {
   "display_name": "Python 3",
   "language": "python",
   "name": "python3"
  },
  "language_info": {
   "codemirror_mode": {
    "name": "ipython",
    "version": 3
   },
   "file_extension": ".py",
   "mimetype": "text/x-python",
   "name": "python",
   "nbconvert_exporter": "python",
   "pygments_lexer": "ipython3",
   "version": "3.7.9"
  }
 },
 "nbformat": 4,
 "nbformat_minor": 5
}
