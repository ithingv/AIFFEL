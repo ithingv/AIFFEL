{
 "cells": [
  {
   "cell_type": "markdown",
   "id": "alpha-highway",
   "metadata": {},
   "source": [
    "# E10 뉴스기사 요약해보기 📜\n",
    "---\n"
   ]
  },
  {
   "cell_type": "markdown",
   "id": "nuclear-easter",
   "metadata": {},
   "source": [
    "### 루브릭\n",
    "\n",
    "|평가문항|\t상세기준|\n",
    "|:-------|:---------|\n",
    "|1. Abstractive 모델 구성을 위한 텍스트 전처리 단계가 체계적으로 진행되었다.| 분석단계, 정제단계, 정규화와 불용어 제거, 데이터셋 분리, 인코딩 과정이 빠짐없이 체계적으로 진행되었다.|\n",
    "|2. 텍스트 요약모델이 성공적으로 학습되었음을 확인하였다.|모델학습이 안정적으로 수렴되었음을 그래프를 통해 확인하였으며, 실제 요약문과 유사한 요약문장을 얻을 수 있었다.|\n",
    "|3. Extractive 요약을 시도해 보고 Abstractive 요약 결과과 함께 비교해 보았다.|두 요약 결과를 문법완성도 측면과 핵심단어 포함 측면으로 나누어 비교분석 결과를 제시하였다.|\n"
   ]
  },
  {
   "cell_type": "markdown",
   "id": "fluid-dance",
   "metadata": {},
   "source": [
    "## Table of Contents\n",
    "1. [데이터 수집하기](#load)\n",
    "2. [데이터 전처리하기 (추상적 요약)](#preprocess)\n",
    "3. [어텐션 메커니즘 사용하기 (추상적 요약)](#attention)\n",
    "4. [실제 결과와 요약문 비교하기(추상적 요약)](#result)\n",
    "5. [Summa을 이용해서 추출적 요약해보기](#extrative)\n",
    "6. [프로젝트 요약](#summary)"
   ]
  },
  {
   "cell_type": "markdown",
   "id": "international-image",
   "metadata": {},
   "source": [
    "<a name=\"load\"></a>\n",
    "### 1. 데이터 수집하기\n",
    "---\n",
    "\n",
    "\n",
    "이 데이터는 기사의 본문에 해당되는 text와 headlines 두 가지 열로 구성되어져 있습니다.\n",
    "\n",
    "\n",
    "||Abstractive 요약| Extractive 요약|\n",
    "|:------|:-------------:|:--------------:|\n",
    "|text| 사용 O | 사용 O|\n",
    "| headlines | 사용 O | 사용 X|"
   ]
  },
  {
   "cell_type": "code",
   "execution_count": 1,
   "id": "czech-poetry",
   "metadata": {},
   "outputs": [],
   "source": [
    "import pandas as pd\n",
    "import urllib.request\n",
    "urllib.request.urlretrieve(\"https://raw.githubusercontent.com/sunnysai12345/News_Summary/master/news_summary_more.csv\", filename=\"news_summary_more.csv\")\n",
    "data = pd.read_csv('news_summary_more.csv', encoding='iso-8859-1')"
   ]
  },
  {
   "cell_type": "markdown",
   "id": "precious-intro",
   "metadata": {},
   "source": [
    "<a name=\"preprocess\"></a>\n",
    "### 2. 데이터 전처리하기 (추상적 요약)\n",
    "---\n",
    "\n",
    "- 중복 샘플과 NULL 값이 존재하는 샘플 제거\n",
    "- 정규화 사전, 불용어 사전\n",
    "- preprocess_sentence\n",
    "    1. 텍스트 소문자화\n",
    "    2. html 태그제거\n",
    "    3. 괄호로 닫힌 문자열 제거\n",
    "    4. 쌍따옴표 제거\n",
    "    5. 텍스트 정규화\n",
    "    6. 소유격 제거\n",
    "    7. 영어 외 문자(숫자, 특수문자) 공백으로 변환\n",
    "    8. m이 3개 이상이면 2개로 변경 \n",
    "    9. 불용어제거(불용어 제거는 text 전처리 시에만 호출, headlines는 상대적으로 문장 길이가 짧음)\n",
    "- 멀티프로세싱\n",
    "- 샘플의 최대개수 정하기\n",
    "- 시작 토큰과 종료 토큰 추가하기\n",
    "- 훈련, 테스트 테이터 분리\n",
    "- 정수 인코딩"
   ]
  },
  {
   "cell_type": "code",
   "execution_count": 2,
   "id": "infrared-calcium",
   "metadata": {},
   "outputs": [
    {
     "name": "stderr",
     "output_type": "stream",
     "text": [
      "[nltk_data] Downloading package stopwords to /aiffel/nltk_data...\n",
      "[nltk_data]   Unzipping corpora/stopwords.zip.\n"
     ]
    }
   ],
   "source": [
    "import nltk\n",
    "nltk.download('stopwords')\n",
    "\n",
    "import numpy as np\n",
    "import os\n",
    "import re\n",
    "import matplotlib.pyplot as plt\n",
    "from nltk.corpus import stopwords\n",
    "from bs4 import BeautifulSoup\n",
    "from tensorflow.keras.preprocessing.text import Tokenizer\n",
    "from tensorflow.keras.preprocessing.sequence import pad_sequences\n",
    "import urllib.request"
   ]
  },
  {
   "cell_type": "code",
   "execution_count": 3,
   "id": "commercial-mozambique",
   "metadata": {},
   "outputs": [
    {
     "name": "stdout",
     "output_type": "stream",
     "text": [
      "전체 샘플 수: 98401\n"
     ]
    }
   ],
   "source": [
    "print('전체 샘플 수:', len(data))"
   ]
  },
  {
   "cell_type": "code",
   "execution_count": 4,
   "id": "differential-borough",
   "metadata": {},
   "outputs": [
    {
     "data": {
      "text/html": [
       "<div>\n",
       "<style scoped>\n",
       "    .dataframe tbody tr th:only-of-type {\n",
       "        vertical-align: middle;\n",
       "    }\n",
       "\n",
       "    .dataframe tbody tr th {\n",
       "        vertical-align: top;\n",
       "    }\n",
       "\n",
       "    .dataframe thead th {\n",
       "        text-align: right;\n",
       "    }\n",
       "</style>\n",
       "<table border=\"1\" class=\"dataframe\">\n",
       "  <thead>\n",
       "    <tr style=\"text-align: right;\">\n",
       "      <th></th>\n",
       "      <th>headlines</th>\n",
       "      <th>text</th>\n",
       "    </tr>\n",
       "  </thead>\n",
       "  <tbody>\n",
       "    <tr>\n",
       "      <th>0</th>\n",
       "      <td>upGrad learner switches to career in ML &amp; Al w...</td>\n",
       "      <td>Saurav Kant, an alumnus of upGrad and IIIT-B's...</td>\n",
       "    </tr>\n",
       "    <tr>\n",
       "      <th>1</th>\n",
       "      <td>Delhi techie wins free food from Swiggy for on...</td>\n",
       "      <td>Kunal Shah's credit card bill payment platform...</td>\n",
       "    </tr>\n",
       "    <tr>\n",
       "      <th>2</th>\n",
       "      <td>New Zealand end Rohit Sharma-led India's 12-ma...</td>\n",
       "      <td>New Zealand defeated India by 8 wickets in the...</td>\n",
       "    </tr>\n",
       "    <tr>\n",
       "      <th>3</th>\n",
       "      <td>Aegon life iTerm insurance plan helps customer...</td>\n",
       "      <td>With Aegon Life iTerm Insurance plan, customer...</td>\n",
       "    </tr>\n",
       "    <tr>\n",
       "      <th>4</th>\n",
       "      <td>Have known Hirani for yrs, what if MeToo claim...</td>\n",
       "      <td>Speaking about the sexual harassment allegatio...</td>\n",
       "    </tr>\n",
       "  </tbody>\n",
       "</table>\n",
       "</div>"
      ],
      "text/plain": [
       "                                           headlines  \\\n",
       "0  upGrad learner switches to career in ML & Al w...   \n",
       "1  Delhi techie wins free food from Swiggy for on...   \n",
       "2  New Zealand end Rohit Sharma-led India's 12-ma...   \n",
       "3  Aegon life iTerm insurance plan helps customer...   \n",
       "4  Have known Hirani for yrs, what if MeToo claim...   \n",
       "\n",
       "                                                text  \n",
       "0  Saurav Kant, an alumnus of upGrad and IIIT-B's...  \n",
       "1  Kunal Shah's credit card bill payment platform...  \n",
       "2  New Zealand defeated India by 8 wickets in the...  \n",
       "3  With Aegon Life iTerm Insurance plan, customer...  \n",
       "4  Speaking about the sexual harassment allegatio...  "
      ]
     },
     "execution_count": 4,
     "metadata": {},
     "output_type": "execute_result"
    }
   ],
   "source": [
    "data.head()"
   ]
  },
  {
   "cell_type": "markdown",
   "id": "downtown-hollywood",
   "metadata": {},
   "source": [
    "#### 2.1 중복 샘플과 NULL 값이 존재하는 샘플 제거\n",
    "---"
   ]
  },
  {
   "cell_type": "code",
   "execution_count": null,
   "id": "satisfied-blond",
   "metadata": {},
   "outputs": [],
   "source": [
    "print('headlines 열에서 중복을 배제한 유일한 샘플의 수 :', data['headlines'].nunique())\n",
    "print('text 열에서 중복을 배제한 유일한 샘플의 수 :', data['text'].nunique())"
   ]
  },
  {
   "cell_type": "code",
   "execution_count": 6,
   "id": "reasonable-pipeline",
   "metadata": {},
   "outputs": [
    {
     "name": "stdout",
     "output_type": "stream",
     "text": [
      "전체 샘플수 : 98360\n"
     ]
    }
   ],
   "source": [
    "# text 중복 샘플 제거\n",
    "# inplace=True 를 설정하면 DataFrame 타입 값을 return 하지 않고 data 내부를 직접적으로 바꿉니다\n",
    "data.drop_duplicates(subset = ['text'], inplace=True)\n",
    "print('전체 샘플수 :', (len(data)))"
   ]
  },
  {
   "cell_type": "code",
   "execution_count": 7,
   "id": "acoustic-crossing",
   "metadata": {},
   "outputs": [
    {
     "name": "stdout",
     "output_type": "stream",
     "text": [
      "headlines    0\n",
      "text         0\n",
      "dtype: int64\n"
     ]
    }
   ],
   "source": [
    "# Null Check\n",
    "print(data.isnull().sum())"
   ]
  },
  {
   "cell_type": "markdown",
   "id": "played-carpet",
   "metadata": {},
   "source": [
    "#### 2.2 정규화 사전\n",
    "---"
   ]
  },
  {
   "cell_type": "code",
   "execution_count": 9,
   "id": "first-phoenix",
   "metadata": {},
   "outputs": [
    {
     "name": "stdout",
     "output_type": "stream",
     "text": [
      "정규화 사전의 수:  120\n"
     ]
    }
   ],
   "source": [
    "contractions = {\"ain't\": \"is not\", \"aren't\": \"are not\",\"can't\": \"cannot\", \"'cause\": \"because\", \"could've\": \"could have\", \"couldn't\": \"could not\",\n",
    "                           \"didn't\": \"did not\",  \"doesn't\": \"does not\", \"don't\": \"do not\", \"hadn't\": \"had not\", \"hasn't\": \"has not\", \"haven't\": \"have not\",\n",
    "                           \"he'd\": \"he would\",\"he'll\": \"he will\", \"he's\": \"he is\", \"how'd\": \"how did\", \"how'd'y\": \"how do you\", \"how'll\": \"how will\", \"how's\": \"how is\",\n",
    "                           \"I'd\": \"I would\", \"I'd've\": \"I would have\", \"I'll\": \"I will\", \"I'll've\": \"I will have\",\"I'm\": \"I am\", \"I've\": \"I have\", \"i'd\": \"i would\",\n",
    "                           \"i'd've\": \"i would have\", \"i'll\": \"i will\",  \"i'll've\": \"i will have\",\"i'm\": \"i am\", \"i've\": \"i have\", \"isn't\": \"is not\", \"it'd\": \"it would\",\n",
    "                           \"it'd've\": \"it would have\", \"it'll\": \"it will\", \"it'll've\": \"it will have\",\"it's\": \"it is\", \"let's\": \"let us\", \"ma'am\": \"madam\",\n",
    "                           \"mayn't\": \"may not\", \"might've\": \"might have\",\"mightn't\": \"might not\",\"mightn't've\": \"might not have\", \"must've\": \"must have\",\n",
    "                           \"mustn't\": \"must not\", \"mustn't've\": \"must not have\", \"needn't\": \"need not\", \"needn't've\": \"need not have\",\"o'clock\": \"of the clock\",\n",
    "                           \"oughtn't\": \"ought not\", \"oughtn't've\": \"ought not have\", \"shan't\": \"shall not\", \"sha'n't\": \"shall not\", \"shan't've\": \"shall not have\",\n",
    "                           \"she'd\": \"she would\", \"she'd've\": \"she would have\", \"she'll\": \"she will\", \"she'll've\": \"she will have\", \"she's\": \"she is\",\n",
    "                           \"should've\": \"should have\", \"shouldn't\": \"should not\", \"shouldn't've\": \"should not have\", \"so've\": \"so have\",\"so's\": \"so as\",\n",
    "                           \"this's\": \"this is\",\"that'd\": \"that would\", \"that'd've\": \"that would have\", \"that's\": \"that is\", \"there'd\": \"there would\",\n",
    "                           \"there'd've\": \"there would have\", \"there's\": \"there is\", \"here's\": \"here is\",\"they'd\": \"they would\", \"they'd've\": \"they would have\",\n",
    "                           \"they'll\": \"they will\", \"they'll've\": \"they will have\", \"they're\": \"they are\", \"they've\": \"they have\", \"to've\": \"to have\",\n",
    "                           \"wasn't\": \"was not\", \"we'd\": \"we would\", \"we'd've\": \"we would have\", \"we'll\": \"we will\", \"we'll've\": \"we will have\", \"we're\": \"we are\",\n",
    "                           \"we've\": \"we have\", \"weren't\": \"were not\", \"what'll\": \"what will\", \"what'll've\": \"what will have\", \"what're\": \"what are\",\n",
    "                           \"what's\": \"what is\", \"what've\": \"what have\", \"when's\": \"when is\", \"when've\": \"when have\", \"where'd\": \"where did\", \"where's\": \"where is\",\n",
    "                           \"where've\": \"where have\", \"who'll\": \"who will\", \"who'll've\": \"who will have\", \"who's\": \"who is\", \"who've\": \"who have\",\n",
    "                           \"why's\": \"why is\", \"why've\": \"why have\", \"will've\": \"will have\", \"won't\": \"will not\", \"won't've\": \"will not have\",\n",
    "                           \"would've\": \"would have\", \"wouldn't\": \"would not\", \"wouldn't've\": \"would not have\", \"y'all\": \"you all\",\n",
    "                           \"y'all'd\": \"you all would\",\"y'all'd've\": \"you all would have\",\"y'all're\": \"you all are\",\"y'all've\": \"you all have\",\n",
    "                           \"you'd\": \"you would\", \"you'd've\": \"you would have\", \"you'll\": \"you will\", \"you'll've\": \"you will have\",\n",
    "                           \"you're\": \"you are\", \"you've\": \"you have\"}\n",
    "\n",
    "print(\"정규화 사전의 수: \", len(contractions))"
   ]
  },
  {
   "cell_type": "markdown",
   "id": "auburn-wings",
   "metadata": {},
   "source": [
    "#### 2.3 불용어 사전\n",
    "---"
   ]
  },
  {
   "cell_type": "code",
   "execution_count": null,
   "id": "exciting-official",
   "metadata": {},
   "outputs": [],
   "source": [
    "# 불용어\n",
    "print('불용어 개수 :', len(stopwords.words('english') ))\n",
    "print(stopwords.words('english'))"
   ]
  },
  {
   "cell_type": "markdown",
   "id": "gothic-nursing",
   "metadata": {},
   "source": [
    "#### 2.4 preprocess_sentence\n",
    "---"
   ]
  },
  {
   "cell_type": "code",
   "execution_count": 11,
   "id": "statistical-contractor",
   "metadata": {},
   "outputs": [],
   "source": [
    "# 불용어 제거는 text 전처리 시에만 호출, headlines는 상대적으로 문장 길이가 짧음\n",
    "# Abstractive한 문장 요약 결과문이 자연스러운 문장이 되려면 이 불용어들이 Headlines에 남아 있는 게 더 좋을 것 같습니다.\n",
    "# 데이터 전처리 함수\n",
    "def preprocess_sentence(sentence, remove_stopwords=True):\n",
    "    sentence = sentence.lower() # 텍스트 소문자화\n",
    "    sentence = BeautifulSoup(sentence, \"lxml\").text # <br />, <a href = ...> 등의 html 태그 제거\n",
    "    sentence = re.sub(r'\\([^)]*\\)', '', sentence) # 괄호로 닫힌 문자열 (...) 제거 Ex) my husband (and myself!) for => my husband for\n",
    "    sentence = re.sub('\"','', sentence) # 쌍따옴표 \" 제거\n",
    "    sentence = ' '.join([contractions[t] if t in contractions else t for t in sentence.split(\" \")]) # 약어 정규화\n",
    "    sentence = re.sub(r\"'s\\b\",\"\", sentence) # 소유격 제거. Ex) roland's -> roland\n",
    "    sentence = re.sub(\"[^a-zA-Z]\", \" \", sentence) # 영어 외 문자(숫자, 특수문자 등) 공백으로 변환\n",
    "    sentence = re.sub('[m]{2,}', 'mm', sentence) # m이 3개 이상이면 2개로 변경. Ex) ummmmmmm yeah -> umm yeah\n",
    "    \n",
    "    # 불용어 제거 (Text)\n",
    "    if remove_stopwords:\n",
    "        tokens = ' '.join(word for word in sentence.split() if not word in stopwords.words('english') if len(word) > 1)\n",
    "    # 불용어 미제거 (headlines)\n",
    "    else:\n",
    "        tokens = ' '.join(word for word in sentence.split() if len(word) > 1)\n",
    "    return tokens"
   ]
  },
  {
   "cell_type": "code",
   "execution_count": 12,
   "id": "sexual-correspondence",
   "metadata": {},
   "outputs": [
    {
     "name": "stdout",
     "output_type": "stream",
     "text": [
      "everything bought great infact ordered twice third ordered wasfor mother father\n",
      "great way to start the day\n"
     ]
    }
   ],
   "source": [
    "temp_text = 'Everything I bought was great, infact I ordered twice and the third ordered was<br />for my mother and father.'\n",
    "temp_headlines = 'Great way to start (or finish) the day!!!'\n",
    "\n",
    "print(preprocess_sentence(temp_text))\n",
    "print(preprocess_sentence(temp_headlines, False))  # 불용어를 제거하지 않습니다."
   ]
  },
  {
   "cell_type": "markdown",
   "id": "bigger-technique",
   "metadata": {},
   "source": [
    "#### 2.5 멀티프로세싱\n",
    "---"
   ]
  },
  {
   "cell_type": "code",
   "execution_count": 13,
   "id": "wired-newsletter",
   "metadata": {},
   "outputs": [],
   "source": [
    "import time\n",
    "\n",
    "def process_data(df, col):\n",
    "    result = []\n",
    "    \n",
    "    start_time = time.time()\n",
    "    for s in df[col]:\n",
    "        result.append(preprocess_sentence(s))\n",
    "    print(\"{} : {} seconds\".format(col, time.time() - start_time))\n",
    "    return result"
   ]
  },
  {
   "cell_type": "code",
   "execution_count": 14,
   "id": "previous-anger",
   "metadata": {},
   "outputs": [],
   "source": [
    "#text : 735.3365228176117 seconds\n",
    "#headlines : 149.51734685897827 seconds\n",
    "#clean_text = process_data(data, 'text')\n",
    "#clean_headlines = process_data(data, 'headlines')"
   ]
  },
  {
   "cell_type": "code",
   "execution_count": 15,
   "id": "turned-furniture",
   "metadata": {},
   "outputs": [
    {
     "name": "stdout",
     "output_type": "stream",
     "text": [
      "text : 184.11262106895447 seconds\n",
      "headlines : 6.173166275024414 seconds\n"
     ]
    }
   ],
   "source": [
    "import multiprocessing as mp   # 멀티 프로세싱으로 전처리 속도를 획기적으로 줄여봅시다\n",
    "from multiprocessing import Pool\n",
    "import numpy as np\n",
    "import time\n",
    "from functools import partial  # map을 할 때 함수에 여러 인자를 넣어줄 수 있도록 합니다\n",
    "\n",
    "start = time.time()\n",
    "\n",
    "# num_cores 만큼 쪼개진 데이터를 전처리하여 반환합니다\n",
    "def appendTexts(sentences, remove_stopwords):\n",
    "    texts = []\n",
    "    for s in sentences:\n",
    "        texts += preprocess_sentence(s, remove_stopwords),\n",
    "    return texts\n",
    "\n",
    "def preprocess_data(df, col, remove_stopwords=True):\n",
    "    start_time = time.time()\n",
    "    num_cores = mp.cpu_count()  # 컴퓨터의 코어 수를 구합니다\n",
    "\n",
    "    text_data_split = np.array_split(data[col], num_cores)  # 코어 수만큼 데이터를 배분하여 병렬적으로 처리할 수 있게 합니다\n",
    "    pool = Pool(num_cores)\n",
    "\n",
    "    processed_data = np.concatenate(pool.map(partial(appendTexts, remove_stopwords=remove_stopwords), text_data_split))  # 각자 작업한 데이터를 하나로 합쳐줍니다\n",
    "    pool.close()\n",
    "    pool.join()\n",
    "    print(\"{} : {} seconds\".format(col, time.time() - start_time))\n",
    "    return processed_data\n",
    "\n",
    "clean_text = preprocess_data(data,'text')  # 클라우드 기준으로 3~4분 정도 소요 됩니다\n",
    "\n",
    "clean_headlines = preprocess_data(data, 'headlines', remove_stopwords=False) # 클라우드 기준 1분정도 소요됩니다."
   ]
  },
  {
   "cell_type": "markdown",
   "id": "altered-morris",
   "metadata": {},
   "source": [
    "텍스트 정제의 과정을 거친 후에는 다시 한번 **빈(empty) 샘플**이 생겼는지 확인해보는 것이 좋아요.\n",
    "정제 전에는 데이터가 존재했지만, 정제 과정에서 문장의 모든 단어가 사라지는 경우가 있을 수 있어요. 이렇게 되\n",
    "면 샘플 자체가 빈 값을 가지게 되겠죠."
   ]
  },
  {
   "cell_type": "code",
   "execution_count": null,
   "id": "physical-thailand",
   "metadata": {},
   "outputs": [],
   "source": [
    "data['text'] = clean_text\n",
    "data['headlines'] = clean_headlines\n",
    "\n",
    "# 빈 값을 Null 값으로 변환\n",
    "data.replace('', np.nan, inplace=True)"
   ]
  },
  {
   "cell_type": "code",
   "execution_count": 18,
   "id": "medieval-biotechnology",
   "metadata": {},
   "outputs": [
    {
     "data": {
      "text/plain": [
       "headlines    0\n",
       "text         0\n",
       "dtype: int64"
      ]
     },
     "execution_count": 18,
     "metadata": {},
     "output_type": "execute_result"
    }
   ],
   "source": [
    "data.isnull().sum()"
   ]
  },
  {
   "cell_type": "code",
   "execution_count": 19,
   "id": "opposite-static",
   "metadata": {},
   "outputs": [
    {
     "name": "stdout",
     "output_type": "stream",
     "text": [
      "전체 샘플수 : 98360\n"
     ]
    }
   ],
   "source": [
    "data.dropna(axis=0, inplace=True)\n",
    "print('전체 샘플수 :', (len(data)))"
   ]
  },
  {
   "cell_type": "markdown",
   "id": "delayed-walnut",
   "metadata": {},
   "source": [
    "#### 2.6 샘플의 최대 길이 정하기\n",
    "---\n",
    "필요 없는 단어를 모두 솎아낸 데이터를 가지게 되었으니, 이제 훈련에 사용할 샘플의 최대 길이를 정해줄 차례에요."
   ]
  },
  {
   "cell_type": "code",
   "execution_count": 20,
   "id": "german-spare",
   "metadata": {},
   "outputs": [
    {
     "name": "stdout",
     "output_type": "stream",
     "text": [
      "텍스트의 최소 길이 : 1\n",
      "텍스트의 최대 길이 : 60\n",
      "텍스트의 평균 길이 : 35.09968483123221\n",
      "헤드라인의 최소 길이 : 1\n",
      "헤드라인의 최대 길이 : 16\n",
      "헤드라인의 평균 길이 : 9.299532330215534\n"
     ]
    },
    {
     "data": {
      "image/png": "[encoded data removed]",
      "text/plain": [
       "<Figure size 432x288 with 2 Axes>"
      ]
     },
     "metadata": {
      "needs_background": "light"
     },
     "output_type": "display_data"
    },
    {
     "data": {
      "image/png": "[encoded data removed]",
      "text/plain": [
       "<Figure size 432x288 with 1 Axes>"
      ]
     },
     "metadata": {
      "needs_background": "light"
     },
     "output_type": "display_data"
    },
    {
     "data": {
      "image/png": "[encoded data removed]",
      "text/plain": [
       "<Figure size 432x288 with 1 Axes>"
      ]
     },
     "metadata": {
      "needs_background": "light"
     },
     "output_type": "display_data"
    }
   ],
   "source": [
    "# 길이 분포 출력\n",
    "import matplotlib.pyplot as plt\n",
    "\n",
    "text_len = [len(s.split()) for s in data['text']]\n",
    "headline_len = [len(s.split()) for s in data['headlines']]\n",
    "\n",
    "print('텍스트의 최소 길이 : {}'.format(np.min(text_len)))\n",
    "print('텍스트의 최대 길이 : {}'.format(np.max(text_len)))\n",
    "print('텍스트의 평균 길이 : {}'.format(np.mean(text_len)))\n",
    "print('헤드라인의 최소 길이 : {}'.format(np.min(headline_len)))\n",
    "print('헤드라인의 최대 길이 : {}'.format(np.max(headline_len)))\n",
    "print('헤드라인의 평균 길이 : {}'.format(np.mean(headline_len)))\n",
    "\n",
    "plt.subplot(1,2,1)\n",
    "plt.boxplot(headline_len)\n",
    "plt.title('Headline')\n",
    "plt.subplot(1,2,2)\n",
    "plt.boxplot(text_len)\n",
    "plt.title('Text')\n",
    "plt.tight_layout()\n",
    "plt.show()\n",
    "\n",
    "plt.title('headline')\n",
    "plt.hist(headline_len, bins = 40)\n",
    "plt.xlabel('length of samples')\n",
    "plt.ylabel('number of samples')\n",
    "plt.show()\n",
    "\n",
    "plt.title('Text')\n",
    "plt.hist(text_len, bins = 40)\n",
    "plt.xlabel('length of samples')\n",
    "plt.ylabel('number of samples')\n",
    "plt.show()"
   ]
  },
  {
   "cell_type": "code",
   "execution_count": 21,
   "id": "rental-inspector",
   "metadata": {},
   "outputs": [],
   "source": [
    "# 그래프의 분포를 보고 임의로 숫자를 정했다.\n",
    "text_max_len = 40\n",
    "headline_max_len = 11"
   ]
  },
  {
   "cell_type": "code",
   "execution_count": 22,
   "id": "boring-testing",
   "metadata": {},
   "outputs": [],
   "source": [
    "def below_threshold_len(max_len, nested_list):\n",
    "    cnt = 0\n",
    "    for s in nested_list:\n",
    "        if(len(s.split()) <= max_len):\n",
    "            cnt = cnt + 1\n",
    "    print('전체 샘플 중 길이가 %s 이하인 샘플의 비율: %s'%(max_len, (cnt / len(nested_list))))"
   ]
  },
  {
   "cell_type": "code",
   "execution_count": 23,
   "id": "involved-polyester",
   "metadata": {},
   "outputs": [
    {
     "name": "stdout",
     "output_type": "stream",
     "text": [
      "text\n",
      "전체 샘플 중 길이가 40 이하인 샘플의 비율: 0.9238714924766165\n",
      "--------------------------------------------------------------\n",
      "headline\n",
      "전체 샘플 중 길이가 11 이하인 샘플의 비율: 0.9449877999186661\n"
     ]
    }
   ],
   "source": [
    "print('text')\n",
    "below_threshold_len(text_max_len, data['text'])\n",
    "print('--------------------------------------------------------------')\n",
    "print('headline')\n",
    "below_threshold_len(headline_max_len,  data['headlines'])"
   ]
  },
  {
   "cell_type": "code",
   "execution_count": 24,
   "id": "regulation-meter",
   "metadata": {},
   "outputs": [
    {
     "name": "stdout",
     "output_type": "stream",
     "text": [
      "전체 샘플수 : 85843\n"
     ]
    }
   ],
   "source": [
    "data = data[data['text'].apply(lambda x: len(x.split()) <= text_max_len)]\n",
    "data = data[data['headlines'].apply(lambda x: len(x.split()) <= headline_max_len)]\n",
    "print('전체 샘플수 :', (len(data)))"
   ]
  },
  {
   "attachments": {
    "image.png": {
     "image/png": "[encoded data removed]"
    }
   },
   "cell_type": "markdown",
   "id": "fifth-background",
   "metadata": {},
   "source": [
    "#### 2.7 시작 토큰과 종료 토큰 추가하기\n",
    "![image.png](attachment:image.png)\n",
    "\n",
    "\n",
    "|seq2seq | decoder_input(입력) | decoder_target(출력, 레이블) |\n",
    "|:-----:|:-----------:|:-------:|\n",
    "|시작토큰| \\<sostoken> + ~||\n",
    "|종료토큰| |~ + \\<eostoken>| \n"
   ]
  },
  {
   "cell_type": "code",
   "execution_count": 25,
   "id": "tamil-virgin",
   "metadata": {},
   "outputs": [
    {
     "data": {
      "text/html": [
       "<div>\n",
       "<style scoped>\n",
       "    .dataframe tbody tr th:only-of-type {\n",
       "        vertical-align: middle;\n",
       "    }\n",
       "\n",
       "    .dataframe tbody tr th {\n",
       "        vertical-align: top;\n",
       "    }\n",
       "\n",
       "    .dataframe thead th {\n",
       "        text-align: right;\n",
       "    }\n",
       "</style>\n",
       "<table border=\"1\" class=\"dataframe\">\n",
       "  <thead>\n",
       "    <tr style=\"text-align: right;\">\n",
       "      <th></th>\n",
       "      <th>headlines</th>\n",
       "      <th>text</th>\n",
       "      <th>decoder_input</th>\n",
       "      <th>decoder_target</th>\n",
       "    </tr>\n",
       "  </thead>\n",
       "  <tbody>\n",
       "    <tr>\n",
       "      <th>0</th>\n",
       "      <td>upgrad learner switches to career in ml al wit...</td>\n",
       "      <td>saurav kant alumnus upgrad iiit pg program mac...</td>\n",
       "      <td>sostoken upgrad learner switches to career in ...</td>\n",
       "      <td>upgrad learner switches to career in ml al wit...</td>\n",
       "    </tr>\n",
       "    <tr>\n",
       "      <th>2</th>\n",
       "      <td>new zealand end rohit sharma led india match w...</td>\n",
       "      <td>new zealand defeated india wickets fourth odi ...</td>\n",
       "      <td>sostoken new zealand end rohit sharma led indi...</td>\n",
       "      <td>new zealand end rohit sharma led india match w...</td>\n",
       "    </tr>\n",
       "    <tr>\n",
       "      <th>3</th>\n",
       "      <td>aegon life iterm insurance plan helps customer...</td>\n",
       "      <td>aegon life iterm insurance plan customers enjo...</td>\n",
       "      <td>sostoken aegon life iterm insurance plan helps...</td>\n",
       "      <td>aegon life iterm insurance plan helps customer...</td>\n",
       "    </tr>\n",
       "    <tr>\n",
       "      <th>5</th>\n",
       "      <td>rahat fateh ali khan denies getting notice for...</td>\n",
       "      <td>pakistani singer rahat fateh ali khan denied r...</td>\n",
       "      <td>sostoken rahat fateh ali khan denies getting n...</td>\n",
       "      <td>rahat fateh ali khan denies getting notice for...</td>\n",
       "    </tr>\n",
       "    <tr>\n",
       "      <th>7</th>\n",
       "      <td>govt directs alok verma to join work day befor...</td>\n",
       "      <td>weeks ex cbi director alok verma told departme...</td>\n",
       "      <td>sostoken govt directs alok verma to join work ...</td>\n",
       "      <td>govt directs alok verma to join work day befor...</td>\n",
       "    </tr>\n",
       "  </tbody>\n",
       "</table>\n",
       "</div>"
      ],
      "text/plain": [
       "                                           headlines  \\\n",
       "0  upgrad learner switches to career in ml al wit...   \n",
       "2  new zealand end rohit sharma led india match w...   \n",
       "3  aegon life iterm insurance plan helps customer...   \n",
       "5  rahat fateh ali khan denies getting notice for...   \n",
       "7  govt directs alok verma to join work day befor...   \n",
       "\n",
       "                                                text  \\\n",
       "0  saurav kant alumnus upgrad iiit pg program mac...   \n",
       "2  new zealand defeated india wickets fourth odi ...   \n",
       "3  aegon life iterm insurance plan customers enjo...   \n",
       "5  pakistani singer rahat fateh ali khan denied r...   \n",
       "7  weeks ex cbi director alok verma told departme...   \n",
       "\n",
       "                                       decoder_input  \\\n",
       "0  sostoken upgrad learner switches to career in ...   \n",
       "2  sostoken new zealand end rohit sharma led indi...   \n",
       "3  sostoken aegon life iterm insurance plan helps...   \n",
       "5  sostoken rahat fateh ali khan denies getting n...   \n",
       "7  sostoken govt directs alok verma to join work ...   \n",
       "\n",
       "                                      decoder_target  \n",
       "0  upgrad learner switches to career in ml al wit...  \n",
       "2  new zealand end rohit sharma led india match w...  \n",
       "3  aegon life iterm insurance plan helps customer...  \n",
       "5  rahat fateh ali khan denies getting notice for...  \n",
       "7  govt directs alok verma to join work day befor...  "
      ]
     },
     "execution_count": 25,
     "metadata": {},
     "output_type": "execute_result"
    }
   ],
   "source": [
    "# 헤드라인 데이터에는 시작 토큰과 종료 토큰을 추가한다.\n",
    "data['decoder_input'] = data['headlines'].apply(lambda x : 'sostoken '+ x)\n",
    "data['decoder_target'] = data['headlines'].apply(lambda x : x + ' eostoken')\n",
    "data.head()"
   ]
  },
  {
   "cell_type": "code",
   "execution_count": null,
   "id": "stretch-least",
   "metadata": {},
   "outputs": [],
   "source": [
    "# 인코더의 입력, 디코더의 입력과 레이블을 각각 다시 Numpy 타입으로 저장\n",
    "encoder_input = np.array(data['text']) # 인코더의 입력\n",
    "decoder_input = np.array(data['decoder_input']) # 디코더의 입력\n",
    "decoder_target = np.array(data['decoder_target']) # 디코더의 레이블"
   ]
  },
  {
   "cell_type": "markdown",
   "id": "entire-sound",
   "metadata": {},
   "source": [
    "#### 2.8 훈련 데이터와 테스트 데이터 분리\n",
    "---\n",
    "np.random.shuffle을 사용하여 섞인 데이터를 8:2 비율로 훈련 데이터와 테스트 데이터로 분리한다."
   ]
  },
  {
   "cell_type": "code",
   "execution_count": 27,
   "id": "configured-liechtenstein",
   "metadata": {},
   "outputs": [
    {
     "name": "stdout",
     "output_type": "stream",
     "text": [
      "[20469  5389 67141 ... 49912 10558 19810]\n"
     ]
    }
   ],
   "source": [
    "indices = np.arange(encoder_input.shape[0])\n",
    "np.random.shuffle(indices)\n",
    "print(indices)"
   ]
  },
  {
   "cell_type": "code",
   "execution_count": 28,
   "id": "apart-problem",
   "metadata": {},
   "outputs": [],
   "source": [
    "encoder_input = encoder_input[indices]\n",
    "decoder_input = decoder_input[indices]\n",
    "decoder_target = decoder_target[indices]"
   ]
  },
  {
   "cell_type": "code",
   "execution_count": 29,
   "id": "cooked-madonna",
   "metadata": {},
   "outputs": [
    {
     "name": "stdout",
     "output_type": "stream",
     "text": [
      "테스트 데이터의 수 : 17168\n"
     ]
    }
   ],
   "source": [
    "n_of_val = int(len(encoder_input)*0.2)\n",
    "print('테스트 데이터의 수 :', n_of_val)"
   ]
  },
  {
   "cell_type": "code",
   "execution_count": 30,
   "id": "racial-federal",
   "metadata": {},
   "outputs": [
    {
     "name": "stdout",
     "output_type": "stream",
     "text": [
      "훈련 데이터의 개수 : 68675\n",
      "훈련 레이블의 개수 : 68675\n",
      "테스트 데이터의 개수 : 17168\n",
      "테스트 레이블의 개수 : 17168\n"
     ]
    }
   ],
   "source": [
    "encoder_input_train = encoder_input[:-n_of_val]\n",
    "decoder_input_train = decoder_input[:-n_of_val]\n",
    "decoder_target_train = decoder_target[:-n_of_val]\n",
    "\n",
    "encoder_input_test = encoder_input[-n_of_val:]\n",
    "decoder_input_test = decoder_input[-n_of_val:]\n",
    "decoder_target_test = decoder_target[-n_of_val:]\n",
    "\n",
    "print('훈련 데이터의 개수 :', len(encoder_input_train))\n",
    "print('훈련 레이블의 개수 :', len(decoder_input_train))\n",
    "print('테스트 데이터의 개수 :', len(encoder_input_test))\n",
    "print('테스트 레이블의 개수 :', len(decoder_input_test))"
   ]
  },
  {
   "cell_type": "markdown",
   "id": "green-reminder",
   "metadata": {},
   "source": [
    "#### 2.9 정수 인코딩\n",
    "---\n",
    "\n",
    "1. Tokenizer()\n",
    "    - 텍스트를 토큰화\n",
    "2. fit_on_texts()\n",
    "    - 입력 데이터로부터 단어 집합 생성, 각 단어에 고유한 정수가 부여\n",
    "3. word_index\n",
    "    - 생성된 단어 집합\n",
    "4. word_counts\n",
    "    - 각 단어와 그 단어의 등장 빈도수가 저장되어있는 딕셔너리\n",
    "5. texts_to_sequences()\n",
    "    - 생성된 단어 집합에 기반하여 입력으로 주어진 텍스트 데이터의 단어들을 모두 정수로 변환하는 정수 인코딩을 수행한다."
   ]
  },
  {
   "cell_type": "code",
   "execution_count": 34,
   "id": "several-level",
   "metadata": {},
   "outputs": [],
   "source": [
    "src_tokenizer = Tokenizer() # 토크나이저 정의\n",
    "src_tokenizer.fit_on_texts(encoder_input_train) # 입력된 데이터로부터 단어 집합 생성"
   ]
  },
  {
   "cell_type": "code",
   "execution_count": 35,
   "id": "demanding-intention",
   "metadata": {},
   "outputs": [
    {
     "name": "stdout",
     "output_type": "stream",
     "text": [
      "단어 집합(vocabulary)의 크기 : 64746\n",
      "등장 빈도가 6번 이하인 희귀 단어의 수: 44135\n",
      "단어 집합에서 희귀 단어를 제외시킬 경우의 단어 집합의 크기 20611\n",
      "단어 집합에서 희귀 단어의 비율: 68.16637321224476\n",
      "전체 등장 빈도에서 희귀 단어 등장 빈도 비율: 3.768393862999005\n"
     ]
    }
   ],
   "source": [
    "# 빈도수가 낮은 단어들은 훈련 데이터에서 제외하고 진행\n",
    "threshold = 7\n",
    "total_cnt = len(src_tokenizer.word_index) # 단어의 수\n",
    "rare_cnt = 0 # 등장 빈도수가 threshold보다 작은 단어의 개수를 카운트\n",
    "total_freq = 0 # 훈련 데이터의 전체 단어 빈도수 총 합\n",
    "rare_freq = 0 # 등장 빈도수가 threshold보다 작은 단어의 등장 빈도수의 총 합\n",
    "\n",
    "# 단어와 빈도수의 쌍(pair)을 key와 value로 받는다.\n",
    "for key, value in src_tokenizer.word_counts.items():\n",
    "    total_freq = total_freq + value\n",
    "\n",
    "    # 단어의 등장 빈도수가 threshold보다 작으면\n",
    "    if(value < threshold):\n",
    "        rare_cnt = rare_cnt + 1\n",
    "        rare_freq = rare_freq + value\n",
    "\n",
    "print('단어 집합(vocabulary)의 크기 :', total_cnt)\n",
    "print('등장 빈도가 %s번 이하인 희귀 단어의 수: %s'%(threshold - 1, rare_cnt))\n",
    "print('단어 집합에서 희귀 단어를 제외시킬 경우의 단어 집합의 크기 %s'%(total_cnt - rare_cnt))\n",
    "print(\"단어 집합에서 희귀 단어의 비율:\", (rare_cnt / total_cnt)*100)\n",
    "print(\"전체 등장 빈도에서 희귀 단어 등장 빈도 비율:\", (rare_freq / total_freq)*100)"
   ]
  },
  {
   "cell_type": "code",
   "execution_count": 36,
   "id": "animal-logan",
   "metadata": {},
   "outputs": [],
   "source": [
    "# 단어 집합에서 희귀 단어를 제외시킬 경우의 단어 집합의 크기는 20611이다.\n",
    "src_vocab = 20000\n",
    "src_tokenizer = Tokenizer(num_words=src_vocab) # 단어 집합의 크기를 20,000으로 제한\n",
    "src_tokenizer.fit_on_texts(encoder_input_train) # 단어 집합 재생성."
   ]
  },
  {
   "cell_type": "code",
   "execution_count": 37,
   "id": "unlike-bedroom",
   "metadata": {},
   "outputs": [
    {
     "name": "stdout",
     "output_type": "stream",
     "text": [
      "[[13, 1833, 1032, 8517, 5661, 349, 95, 149, 1399, 350, 2744, 582, 734, 637, 3851, 626, 287, 1879, 95, 83, 450, 787, 1918, 5661, 349, 131, 1251, 2254, 1897, 5344, 18008, 937, 3087, 1339, 2744, 734, 637, 1020], [4257, 2, 14, 1224, 2255, 74, 446, 192, 25, 879, 174, 2377, 7, 1, 4257, 766, 5229, 8677, 1828, 1390, 500, 8353, 446, 823, 444, 325, 534, 7, 4, 3852, 8193, 158, 1716, 3950], [46, 197, 2144, 5, 42, 749, 2210, 563, 1149, 5345, 148, 11844, 122, 1471, 1758, 1171, 749, 4223, 441, 5536, 1078, 3714, 1467, 833, 461, 2210, 3038, 1375, 769]]\n"
     ]
    }
   ],
   "source": [
    "encoder_input_train = src_tokenizer.texts_to_sequences(encoder_input_train) \n",
    "encoder_input_test = src_tokenizer.texts_to_sequences(encoder_input_test)\n",
    "\n",
    "# 잘 진행되었는지 샘플 출력\n",
    "print(encoder_input_train[:3])"
   ]
  },
  {
   "cell_type": "code",
   "execution_count": 38,
   "id": "indoor-configuration",
   "metadata": {},
   "outputs": [
    {
     "name": "stdout",
     "output_type": "stream",
     "text": [
      "단어 집합(vocabulary)의 크기 : 28493\n",
      "등장 빈도가 5번 이하인 희귀 단어의 수: 18757\n",
      "단어 집합에서 희귀 단어를 제외시킬 경우의 단어 집합의 크기 9736\n",
      "단어 집합에서 희귀 단어의 비율: 65.8302039097322\n",
      "전체 등장 빈도에서 희귀 단어 등장 빈도 비율: 5.15421815300592\n"
     ]
    }
   ],
   "source": [
    "# 헤드라인 데이터에도 동일한 작업 수행\n",
    "tar_tokenizer = Tokenizer()\n",
    "tar_tokenizer.fit_on_texts(decoder_input_train)\n",
    "\n",
    "threshold = 6\n",
    "total_cnt = len(tar_tokenizer.word_index) # 단어의 수\n",
    "rare_cnt = 0 # 등장 빈도수가 threshold보다 작은 단어의 개수를 카운트\n",
    "total_freq = 0 # 훈련 데이터의 전체 단어 빈도수 총 합\n",
    "rare_freq = 0 # 등장 빈도수가 threshold보다 작은 단어의 등장 빈도수의 총 합\n",
    "\n",
    "# 단어와 빈도수의 쌍(pair)을 key와 value로 받는다.\n",
    "for key, value in tar_tokenizer.word_counts.items():\n",
    "    total_freq = total_freq + value\n",
    "\n",
    "    # 단어의 등장 빈도수가 threshold보다 작으면\n",
    "    if(value < threshold):\n",
    "        rare_cnt = rare_cnt + 1\n",
    "        rare_freq = rare_freq + value\n",
    "\n",
    "print('단어 집합(vocabulary)의 크기 :', total_cnt)\n",
    "print('등장 빈도가 %s번 이하인 희귀 단어의 수: %s'%(threshold - 1, rare_cnt))\n",
    "print('단어 집합에서 희귀 단어를 제외시킬 경우의 단어 집합의 크기 %s'%(total_cnt - rare_cnt))\n",
    "print(\"단어 집합에서 희귀 단어의 비율:\", (rare_cnt / total_cnt)*100)\n",
    "print(\"전체 등장 빈도에서 희귀 단어 등장 빈도 비율:\", (rare_freq / total_freq)*100)"
   ]
  },
  {
   "cell_type": "code",
   "execution_count": 39,
   "id": "valid-russian",
   "metadata": {},
   "outputs": [
    {
     "name": "stdout",
     "output_type": "stream",
     "text": [
      "input  [[1, 28, 833, 1661, 276, 13, 1195, 3, 2614, 5, 4, 1424], [1, 76, 31, 750, 87, 115, 11, 8172, 4, 93, 3327], [1, 124, 2858, 6, 529, 4426, 784, 1239, 921, 131], [1, 7603, 8887, 562, 13, 2502, 99], [1, 388, 2399, 3, 6659, 8, 2503, 5146, 5]]\n",
      "decoder  [[28, 833, 1661, 276, 13, 1195, 3, 2614, 5, 4, 1424, 2], [76, 31, 750, 87, 115, 11, 8172, 4, 93, 3327, 2], [124, 2858, 6, 529, 4426, 784, 1239, 921, 131, 2], [7603, 8887, 562, 13, 2502, 99, 2], [388, 2399, 3, 6659, 8, 2503, 5146, 5, 2]]\n"
     ]
    }
   ],
   "source": [
    "# 단어 집합에서 희귀 단어를 제외시킬 경우의 단어 집합의 크기 9736\n",
    "tar_vocab = 9700\n",
    "tar_tokenizer = Tokenizer(num_words=tar_vocab) \n",
    "tar_tokenizer.fit_on_texts(decoder_input_train)\n",
    "tar_tokenizer.fit_on_texts(decoder_target_train)\n",
    "\n",
    "# 텍스트 시퀀스를 정수 시퀀스로 변환\n",
    "decoder_input_train = tar_tokenizer.texts_to_sequences(decoder_input_train) \n",
    "decoder_target_train = tar_tokenizer.texts_to_sequences(decoder_target_train)\n",
    "decoder_input_test = tar_tokenizer.texts_to_sequences(decoder_input_test)\n",
    "decoder_target_test = tar_tokenizer.texts_to_sequences(decoder_target_test)\n",
    "\n",
    "# 잘 변환되었는지 확인\n",
    "print('input ',decoder_input_train[:5])\n",
    "print('decoder ',decoder_target_train[:5])"
   ]
  },
  {
   "cell_type": "code",
   "execution_count": 40,
   "id": "experienced-bosnia",
   "metadata": {},
   "outputs": [
    {
     "name": "stdout",
     "output_type": "stream",
     "text": [
      "삭제할 훈련 데이터의 개수 : 1\n",
      "삭제할 테스트 데이터의 개수 : 0\n",
      "훈련 데이터의 개수 : 68674\n",
      "훈련 레이블의 개수 : 68674\n",
      "테스트 데이터의 개수 : 17168\n",
      "테스트 레이블의 개수 : 17168\n"
     ]
    },
    {
     "name": "stderr",
     "output_type": "stream",
     "text": [
      "/opt/conda/lib/python3.7/site-packages/numpy/core/_asarray.py:83: VisibleDeprecationWarning: Creating an ndarray from ragged nested sequences (which is a list-or-tuple of lists-or-tuples-or ndarrays with different lengths or shapes) is deprecated. If you meant to do this, you must specify 'dtype=object' when creating the ndarray\n",
      "  return array(a, dtype, copy=False, order=order)\n"
     ]
    }
   ],
   "source": [
    "drop_train = [index for index, sentence in enumerate(decoder_input_train) if len(sentence) == 2]\n",
    "drop_test = [index for index, sentence in enumerate(decoder_input_test) if len(sentence) == 1]\n",
    "\n",
    "print('삭제할 훈련 데이터의 개수 :', len(drop_train))\n",
    "print('삭제할 테스트 데이터의 개수 :', len(drop_test))\n",
    "\n",
    "encoder_input_train = np.delete(encoder_input_train, drop_train, axis=0)\n",
    "decoder_input_train = np.delete(decoder_input_train, drop_train, axis=0)\n",
    "decoder_target_train = np.delete(decoder_target_train, drop_train, axis=0)\n",
    "\n",
    "encoder_input_test = np.delete(encoder_input_test, drop_test, axis=0)\n",
    "decoder_input_test = np.delete(decoder_input_test, drop_test, axis=0)\n",
    "decoder_target_test = np.delete(decoder_target_test, drop_test, axis=0)\n",
    "\n",
    "print('훈련 데이터의 개수 :', len(encoder_input_train))\n",
    "print('훈련 레이블의 개수 :', len(decoder_input_train))\n",
    "print('테스트 데이터의 개수 :', len(encoder_input_test))\n",
    "print('테스트 레이블의 개수 :', len(decoder_input_test))"
   ]
  },
  {
   "cell_type": "code",
   "execution_count": 41,
   "id": "alone-champion",
   "metadata": {},
   "outputs": [],
   "source": [
    "encoder_input_train = pad_sequences(encoder_input_train, maxlen=text_max_len, padding='post')\n",
    "encoder_input_test = pad_sequences(encoder_input_test, maxlen=text_max_len, padding='post')\n",
    "decoder_input_train = pad_sequences(decoder_input_train, maxlen=headline_max_len, padding='post')\n",
    "decoder_target_train = pad_sequences(decoder_target_train, maxlen=headline_max_len, padding='post')\n",
    "decoder_input_test = pad_sequences(decoder_input_test, maxlen=headline_max_len, padding='post')\n",
    "decoder_target_test = pad_sequences(decoder_target_test, maxlen=headline_max_len, padding='post')"
   ]
  },
  {
   "cell_type": "markdown",
   "id": "corporate-simulation",
   "metadata": {},
   "source": [
    "<a name=\"attention\"></a>\n",
    "## 3. 어텐션 메커니즘 사용하기 (추상적 요약)\n",
    "---\n",
    "1. Encoder 설계\n",
    "2. Decoder 설계 \n",
    "3. Attention 적용\n",
    "4. 인퍼런스 모델"
   ]
  },
  {
   "cell_type": "markdown",
   "id": "joint-johnson",
   "metadata": {},
   "source": [
    "### 3.1 Encoder 설계\n",
    "---\n",
    "#### INPUT\n",
    "  >text_max_len = 40\n",
    "    \n",
    "    \n",
    "#### Embedding\n",
    "   >src_vocab = 20000, embedding_dim = 128\n",
    "\n",
    "\n",
    "**LSTM**\n",
    "\n",
    "##### hidden_state :  LSTM에서 얼만큼의 수용력(Capacity)를 가질지를 정하는 파라미터\n",
    "- 이 파라미터는 LSTM의 용량의 크기나, LSTM에서의 뉴런의 개수 다른 신경망과 마찬가지로 무조건 용량을 많이 준다고 해서 성능이 반드시 올라가지는 않는다.\n",
    "\n",
    "##### return_sequences : 시퀀스 출력 여부\n",
    "-  return_sequences = True로 설정할 경우 각 time step별 hidden state를 모두 출력하게 된다. Attention을 사용할 때 주로 설정한다.\n",
    "\n",
    "##### return_state : 시퀀스 출력 여부\n",
    "-  return_state = True 를 한 경우에는 마지막 time step에서의 output(hidden state), hidden state와 cell state가 출력된다\n",
    "\n",
    "\n",
    "\n",
    "##### dropout \n",
    "- 0과 1사이 부동소수점. 인풋의 선형적 변형을 실행하는데 드롭시킬(고려하지 않을) 유닛의 비율.\n",
    "\n",
    "##### recurrent_dropout \n",
    "- 0과 1사이 부동소수점. 순환 상태의 선형적 변형을 실행하는데 드롭시킬(고려하지 않을) 유닛의 비율.\n",
    "\n",
    "\n",
    ">1. encoder_lstm1 = LSTM(hidden_size, return_sequences=True, return_state=True, dropout=0.4, recurrent_dropout=0.4)\n",
    " \n",
    ">2. encoder_lstm2 = LSTM(hidden_size, return_sequences=True, return_state=True, dropout=0.4, recurrent_dropout=0.4)\n",
    "\n",
    ">3. encoder_lstm3 = LSTM(hidden_size, return_sequences=True, return_state=True, dropout=0.4, recurrent_dropout=0.4)\n"
   ]
  },
  {
   "cell_type": "code",
   "execution_count": 42,
   "id": "fantastic-external",
   "metadata": {},
   "outputs": [
    {
     "name": "stdout",
     "output_type": "stream",
     "text": [
      "WARNING:tensorflow:Layer lstm will not use cuDNN kernel since it doesn't meet the cuDNN kernel criteria. It will use generic GPU kernel as fallback when running on GPU\n",
      "WARNING:tensorflow:Layer lstm_1 will not use cuDNN kernel since it doesn't meet the cuDNN kernel criteria. It will use generic GPU kernel as fallback when running on GPU\n",
      "WARNING:tensorflow:Layer lstm_2 will not use cuDNN kernel since it doesn't meet the cuDNN kernel criteria. It will use generic GPU kernel as fallback when running on GPU\n"
     ]
    }
   ],
   "source": [
    "from tensorflow.keras.layers import Input, LSTM, Embedding, Dense, Concatenate\n",
    "from tensorflow.keras.models import Model\n",
    "from tensorflow.keras.callbacks import EarlyStopping, ModelCheckpoint\n",
    "\n",
    "# 인코더 설계 시작\n",
    "embedding_dim = 128\n",
    "hidden_size = 256\n",
    "\n",
    "# 인코더 (40,)\n",
    "encoder_inputs = Input(shape=(text_max_len,))\n",
    "\n",
    "# 인코더의 임베딩 층 (20000, 128)\n",
    "enc_emb = Embedding(src_vocab, embedding_dim)(encoder_inputs)\n",
    "\n",
    "# 인코더의 LSTM 1\n",
    "encoder_lstm1 = LSTM(hidden_size, return_sequences=True, return_state=True, dropout=0.4, recurrent_dropout=0.4)\n",
    "encoder_output1, state_h1, state_c1 = encoder_lstm1(enc_emb)\n",
    "\n",
    "# 인코더의 LSTM 2\n",
    "encoder_lstm2 = LSTM(hidden_size, return_sequences=True, return_state=True, dropout=0.4, recurrent_dropout=0.4)\n",
    "encoder_output2, state_h2, state_c2 = encoder_lstm2(encoder_output1)\n",
    "\n",
    "# 인코더의 LSTM 3\n",
    "encoder_lstm3 = LSTM(hidden_size, return_sequences=True, return_state=True, dropout=0.4, recurrent_dropout=0.4)\n",
    "encoder_outputs, state_h, state_c = encoder_lstm3(encoder_output2)\n"
   ]
  },
  {
   "cell_type": "markdown",
   "id": "smaller-composer",
   "metadata": {},
   "source": [
    "## 3.2 Decoder 설계\n",
    "---\n",
    "디코더의 임베딩 층과 LSTM을 설계하는 것은 인코더와 거의 동일하다. \n",
    "\n",
    "하지만 LSTM의 입력을 정의할 때, initial_state의 인자값으로 인코더의 hidden state와 cell state의 값을 넣어줘야한다.\n",
    "\n",
    "\n",
    "#### INPUT\n",
    "  > shape=(None,)\n",
    "    \n",
    "    \n",
    "#### Embedding\n",
    "   >tar_vocab = 9700, embedding_dim = 128\n",
    "\n",
    "\n",
    "#### LSTM\n",
    "\n",
    ">1. decoder_lstm = LSTM(hidden_size, return_sequences=True, return_state=True, dropout=0.4, recurrent_dropout=0.2)\n",
    "\n",
    "\n",
    "---\n",
    "\n",
    "#### 출력층\n",
    "\n",
    "디코더의 출력층에서는 다중 클래스 분류 문제를 풀어하므로 Dense의 인자로 tar_vocab을 주고, 활성화 함수로 소프트맥스 함수를 사용한다.\n",
    "\n",
    "지금까지 설계한 것은 인코더의 hidden state와 cell state를 디코더의 초기 state로 사용하는 가장 기본적인 seq2seq 구조다. \n",
    "\n",
    "그런데 디코더의 출력층을 설계를 살짝 바꿔서 성능을 높일 수 있는 방법이 있는데 바로 **어텐션 메커니즘**이다"
   ]
  },
  {
   "cell_type": "code",
   "execution_count": 43,
   "id": "extraordinary-chicken",
   "metadata": {},
   "outputs": [
    {
     "name": "stdout",
     "output_type": "stream",
     "text": [
      "WARNING:tensorflow:Layer lstm_3 will not use cuDNN kernel since it doesn't meet the cuDNN kernel criteria. It will use generic GPU kernel as fallback when running on GPU\n"
     ]
    }
   ],
   "source": [
    "# 디코더 설계\n",
    "decoder_inputs = Input(shape=(None,))\n",
    "\n",
    "# 디코더의 임베딩 층\n",
    "dec_emb_layer = Embedding(tar_vocab, embedding_dim)\n",
    "dec_emb = dec_emb_layer(decoder_inputs)\n",
    "\n",
    "# 디코더의 LSTM\n",
    "decoder_lstm = LSTM(hidden_size, return_sequences=True, return_state=True, dropout=0.4, recurrent_dropout=0.2)\n",
    "decoder_outputs, _, _ = decoder_lstm(dec_emb, initial_state=[state_h, state_c])"
   ]
  },
  {
   "cell_type": "code",
   "execution_count": 44,
   "id": "dramatic-array",
   "metadata": {},
   "outputs": [
    {
     "name": "stdout",
     "output_type": "stream",
     "text": [
      "Model: \"model\"\n",
      "__________________________________________________________________________________________________\n",
      "Layer (type)                    Output Shape         Param #     Connected to                     \n",
      "==================================================================================================\n",
      "input_1 (InputLayer)            [(None, 40)]         0                                            \n",
      "__________________________________________________________________________________________________\n",
      "embedding (Embedding)           (None, 40, 128)      2560000     input_1[0][0]                    \n",
      "__________________________________________________________________________________________________\n",
      "lstm (LSTM)                     [(None, 40, 256), (N 394240      embedding[0][0]                  \n",
      "__________________________________________________________________________________________________\n",
      "input_2 (InputLayer)            [(None, None)]       0                                            \n",
      "__________________________________________________________________________________________________\n",
      "lstm_1 (LSTM)                   [(None, 40, 256), (N 525312      lstm[0][0]                       \n",
      "__________________________________________________________________________________________________\n",
      "embedding_1 (Embedding)         (None, None, 128)    1241600     input_2[0][0]                    \n",
      "__________________________________________________________________________________________________\n",
      "lstm_2 (LSTM)                   [(None, 40, 256), (N 525312      lstm_1[0][0]                     \n",
      "__________________________________________________________________________________________________\n",
      "lstm_3 (LSTM)                   [(None, None, 256),  394240      embedding_1[0][0]                \n",
      "                                                                 lstm_2[0][1]                     \n",
      "                                                                 lstm_2[0][2]                     \n",
      "__________________________________________________________________________________________________\n",
      "dense (Dense)                   (None, None, 9700)   2492900     lstm_3[0][0]                     \n",
      "==================================================================================================\n",
      "Total params: 8,133,604\n",
      "Trainable params: 8,133,604\n",
      "Non-trainable params: 0\n",
      "__________________________________________________________________________________________________\n"
     ]
    }
   ],
   "source": [
    "# 디코더의 출력층\n",
    "decoder_softmax_layer = Dense(tar_vocab, activation='softmax')\n",
    "decoder_softmax_outputs = decoder_softmax_layer(decoder_outputs)\n",
    "\n",
    "# 모델 정의\n",
    "model = Model([encoder_inputs, decoder_inputs], decoder_softmax_outputs)\n",
    "model.summary()"
   ]
  },
  {
   "attachments": {
    "image.png": {
     "image/png": "[encoded data removed]"
    }
   },
   "cell_type": "markdown",
   "id": "italian-poultry",
   "metadata": {},
   "source": [
    "### 3. Attention 적용\n",
    "---\n",
    "\n",
    "일반적인 seq2seq보다는 어텐션 메커니즘을 사용한 seq2seq를 사용하는 것이 더 나은 성능을 얻을 수 있다.\n",
    "\n",
    "![image.png](attachment:image.png)"
   ]
  },
  {
   "cell_type": "code",
   "execution_count": 45,
   "id": "binary-combining",
   "metadata": {},
   "outputs": [],
   "source": [
    "urllib.request.urlretrieve(\"https://raw.githubusercontent.com/thushv89/attention_keras/master/src/layers/attention.py\", filename=\"attention.py\")\n",
    "from attention import AttentionLayer"
   ]
  },
  {
   "cell_type": "code",
   "execution_count": 46,
   "id": "centered-cyprus",
   "metadata": {},
   "outputs": [
    {
     "name": "stdout",
     "output_type": "stream",
     "text": [
      "Model: \"model_1\"\n",
      "__________________________________________________________________________________________________\n",
      "Layer (type)                    Output Shape         Param #     Connected to                     \n",
      "==================================================================================================\n",
      "input_1 (InputLayer)            [(None, 40)]         0                                            \n",
      "__________________________________________________________________________________________________\n",
      "embedding (Embedding)           (None, 40, 128)      2560000     input_1[0][0]                    \n",
      "__________________________________________________________________________________________________\n",
      "lstm (LSTM)                     [(None, 40, 256), (N 394240      embedding[0][0]                  \n",
      "__________________________________________________________________________________________________\n",
      "input_2 (InputLayer)            [(None, None)]       0                                            \n",
      "__________________________________________________________________________________________________\n",
      "lstm_1 (LSTM)                   [(None, 40, 256), (N 525312      lstm[0][0]                       \n",
      "__________________________________________________________________________________________________\n",
      "embedding_1 (Embedding)         (None, None, 128)    1241600     input_2[0][0]                    \n",
      "__________________________________________________________________________________________________\n",
      "lstm_2 (LSTM)                   [(None, 40, 256), (N 525312      lstm_1[0][0]                     \n",
      "__________________________________________________________________________________________________\n",
      "lstm_3 (LSTM)                   [(None, None, 256),  394240      embedding_1[0][0]                \n",
      "                                                                 lstm_2[0][1]                     \n",
      "                                                                 lstm_2[0][2]                     \n",
      "__________________________________________________________________________________________________\n",
      "attention_layer (AttentionLayer ((None, None, 256),  131328      lstm_2[0][0]                     \n",
      "                                                                 lstm_3[0][0]                     \n",
      "__________________________________________________________________________________________________\n",
      "concat_layer (Concatenate)      (None, None, 512)    0           lstm_3[0][0]                     \n",
      "                                                                 attention_layer[0][0]            \n",
      "__________________________________________________________________________________________________\n",
      "dense_1 (Dense)                 (None, None, 9700)   4976100     concat_layer[0][0]               \n",
      "==================================================================================================\n",
      "Total params: 10,748,132\n",
      "Trainable params: 10,748,132\n",
      "Non-trainable params: 0\n",
      "__________________________________________________________________________________________________\n"
     ]
    }
   ],
   "source": [
    "# 어텐션 층(어텐션 함수)\n",
    "attn_layer = AttentionLayer(name='attention_layer')\n",
    "# 인코더와 디코더의 모든 time step의 hidden state를 어텐션 층에 전달하고 결과를 리턴\n",
    "attn_out, attn_states = attn_layer([encoder_outputs, decoder_outputs])\n",
    "\n",
    "# 어텐션의 결과와 디코더의 hidden state들을 연결\n",
    "decoder_concat_input = Concatenate(axis=-1, name='concat_layer')([decoder_outputs, attn_out])\n",
    "\n",
    "# 디코더의 출력층\n",
    "decoder_softmax_layer = Dense(tar_vocab, activation='softmax')\n",
    "decoder_softmax_outputs = decoder_softmax_layer(decoder_concat_input)\n",
    "\n",
    "# 모델 정의\n",
    "model = Model([encoder_inputs, decoder_inputs], decoder_softmax_outputs)\n",
    "model.summary()"
   ]
  },
  {
   "cell_type": "code",
   "execution_count": 47,
   "id": "supreme-bridge",
   "metadata": {},
   "outputs": [
    {
     "name": "stdout",
     "output_type": "stream",
     "text": [
      "Epoch 1/50\n",
      "269/269 [==============================] - 429s 2s/step - loss: 6.3897 - val_loss: 5.6233\n",
      "Epoch 2/50\n",
      "269/269 [==============================] - 417s 2s/step - loss: 5.5425 - val_loss: 5.2156\n",
      "Epoch 3/50\n",
      "269/269 [==============================] - 417s 2s/step - loss: 5.1615 - val_loss: 4.9817\n",
      "Epoch 4/50\n",
      "269/269 [==============================] - 417s 2s/step - loss: 4.8722 - val_loss: 4.7567\n",
      "Epoch 5/50\n",
      "269/269 [==============================] - 417s 2s/step - loss: 4.6342 - val_loss: 4.6025\n",
      "Epoch 6/50\n",
      "269/269 [==============================] - 417s 2s/step - loss: 4.4200 - val_loss: 4.4563\n",
      "Epoch 7/50\n",
      "269/269 [==============================] - 417s 2s/step - loss: 4.2457 - val_loss: 4.3647\n",
      "Epoch 8/50\n",
      "269/269 [==============================] - 417s 2s/step - loss: 4.0940 - val_loss: 4.2690\n",
      "Epoch 9/50\n",
      "269/269 [==============================] - 417s 2s/step - loss: 3.9558 - val_loss: 4.2016\n",
      "Epoch 10/50\n",
      "269/269 [==============================] - 417s 2s/step - loss: 3.8375 - val_loss: 4.1377\n",
      "Epoch 11/50\n",
      "269/269 [==============================] - 417s 2s/step - loss: 3.7325 - val_loss: 4.0968\n",
      "Epoch 12/50\n",
      "269/269 [==============================] - 417s 2s/step - loss: 3.6391 - val_loss: 4.0492\n",
      "Epoch 13/50\n",
      "269/269 [==============================] - 417s 2s/step - loss: 3.5510 - val_loss: 4.0242\n",
      "Epoch 14/50\n",
      "269/269 [==============================] - 417s 2s/step - loss: 3.4729 - val_loss: 3.9911\n",
      "Epoch 15/50\n",
      "269/269 [==============================] - 417s 2s/step - loss: 3.3995 - val_loss: 3.9682\n",
      "Epoch 16/50\n",
      "269/269 [==============================] - 417s 2s/step - loss: 3.3313 - val_loss: 3.9492\n",
      "Epoch 17/50\n",
      "269/269 [==============================] - 417s 2s/step - loss: 3.2702 - val_loss: 3.9291\n",
      "Epoch 18/50\n",
      "269/269 [==============================] - 417s 2s/step - loss: 3.2076 - val_loss: 3.9097\n",
      "Epoch 19/50\n",
      "269/269 [==============================] - 417s 2s/step - loss: 3.1526 - val_loss: 3.9004\n",
      "Epoch 20/50\n",
      "269/269 [==============================] - 417s 2s/step - loss: 3.1114 - val_loss: 3.8947\n",
      "Epoch 21/50\n",
      "269/269 [==============================] - 417s 2s/step - loss: 3.0630 - val_loss: 3.8860\n",
      "Epoch 22/50\n",
      "269/269 [==============================] - 417s 2s/step - loss: 3.0134 - val_loss: 3.8733\n",
      "Epoch 23/50\n",
      "269/269 [==============================] - 417s 2s/step - loss: 2.9620 - val_loss: 3.8857\n",
      "Epoch 24/50\n",
      "269/269 [==============================] - 417s 2s/step - loss: 2.9206 - val_loss: 3.8773\n",
      "Epoch 00024: early stopping\n"
     ]
    }
   ],
   "source": [
    "# 모델 훈련\n",
    "model.compile(optimizer='rmsprop', loss='sparse_categorical_crossentropy')\n",
    "es = EarlyStopping(monitor='val_loss', patience=2, verbose=1)\n",
    "history = model.fit(x=[encoder_input_train, decoder_input_train],\n",
    "                    y=decoder_target_train,\n",
    "                    validation_data=(\n",
    "                        [encoder_input_test, decoder_input_test],decoder_target_test),\n",
    "                    batch_size=256,\n",
    "                    callbacks=[es],\n",
    "                    epochs=50)"
   ]
  },
  {
   "cell_type": "code",
   "execution_count": 48,
   "id": "animal-tuner",
   "metadata": {},
   "outputs": [
    {
     "data": {
      "image/png": "[encoded data removed]",
      "text/plain": [
       "<Figure size 432x288 with 1 Axes>"
      ]
     },
     "metadata": {
      "needs_background": "light"
     },
     "output_type": "display_data"
    }
   ],
   "source": [
    "plt.plot(history.history['loss'], label='train')\n",
    "plt.plot(history.history['val_loss'], label='test')\n",
    "plt.legend()\n",
    "plt.show()"
   ]
  },
  {
   "cell_type": "code",
   "execution_count": 49,
   "id": "final-hamburg",
   "metadata": {},
   "outputs": [],
   "source": [
    "# 6. 모델 저장하기\n",
    "from keras.models import load_model\n",
    "model.save('attention_seq2seq.h5')"
   ]
  },
  {
   "cell_type": "markdown",
   "id": "foster-football",
   "metadata": {},
   "source": [
    "### 4. 인퍼런스 모델 구현\n",
    "\n",
    "테스트 단계에서는 정수 인덱스 행렬로 존재하던 텍스트 데이터를 실제 데이터로\n",
    "복원해야하므로, 필요한 3개의 사전을 아래와 같이 미리 준비해 둡니다."
   ]
  },
  {
   "cell_type": "code",
   "execution_count": 52,
   "id": "accompanied-engineer",
   "metadata": {},
   "outputs": [],
   "source": [
    "src_index_to_word = src_tokenizer.index_word # 원문 단어 집합에서 정수 -> 단어를 얻음\n",
    "tar_word_to_index = tar_tokenizer.word_index # 요약 단어 A집합에서 단어 -> 정수를 얻음\n",
    "tar_index_to_word = tar_tokenizer.index_word # 요약 단어 집합에서 정수 -> 단어를 얻음"
   ]
  },
  {
   "cell_type": "markdown",
   "id": "nearby-director",
   "metadata": {},
   "source": [
    "***seq2seq는 훈련할 때와 실제 동작할 때(인퍼런스 단계)의 방식이 다르므로 그에 맞게 모델 설계를 별개로 진행해야 한다***\n",
    "\n",
    "훈련 단계\n",
    "- 디코더의 입력부에 정답이 되는 문장 전체를 한꺼번에 넣고 디코더의 출력과 한 번에 비교할 수 있으므로, 인코더와 디코더를 엮은 통짜 모델 하나만 준비했다.\n",
    "\n",
    "인퍼런스 단계\n",
    "- 정답 문장이 없는 인퍼런스 단계에서는 만들어야 할 문장의 길이만큼 디코더가 반복 구조로 동작해야 하기 때문에 부득이하게 인퍼런스를 위한 모델 설계를 별도로 해주어야 합니다. 이때는 인코더 모델과 디코더 모델을 분리해서 설계합니다."
   ]
  },
  {
   "cell_type": "code",
   "execution_count": 53,
   "id": "gorgeous-posting",
   "metadata": {},
   "outputs": [],
   "source": [
    "# 인코더 설계\n",
    "encoder_model = Model(inputs=encoder_inputs, outputs=[encoder_outputs, state_h, state_c])\n",
    "\n",
    "# 이전 시점의 상태들을 저장하는 텐서\n",
    "decoder_state_input_h = Input(shape=(hidden_size,))\n",
    "decoder_state_input_c = Input(shape=(hidden_size,))\n",
    "\n",
    "dec_emb2 = dec_emb_layer(decoder_inputs)\n",
    "\n",
    "# 문장의 다음 단어를 예측하기 위해서 초기 상태(initial_state)를 이전 시점의 상태로 사용. 이는 뒤의 함수 decode_sequence()에 구현\n",
    "# 훈련 과정에서와 달리 LSTM의 리턴하는 은닉 상태와 셀 상태인 state_h와 state_c를 버리지 않음.\n",
    "decoder_outputs2, state_h2, state_c2 = decoder_lstm(dec_emb2, initial_state=[decoder_state_input_h, decoder_state_input_c])"
   ]
  },
  {
   "cell_type": "markdown",
   "id": "collect-greenhouse",
   "metadata": {},
   "source": [
    "어텐션 메커니즘을 사용하는 출력층을 설계해 주세요."
   ]
  },
  {
   "cell_type": "code",
   "execution_count": 54,
   "id": "valuable-material",
   "metadata": {},
   "outputs": [],
   "source": [
    "# 어텐션 함수\n",
    "decoder_hidden_state_input = Input(shape=(text_max_len, hidden_size))\n",
    "attn_out_inf, attn_states_inf = attn_layer([decoder_hidden_state_input, decoder_outputs2])\n",
    "decoder_inf_concat = Concatenate(axis=-1, name='concat')([decoder_outputs2, attn_out_inf])\n",
    "\n",
    "# 디코더의 출력층\n",
    "decoder_outputs2 = decoder_softmax_layer(decoder_inf_concat) \n",
    "\n",
    "# 최종 디코더 모델\n",
    "decoder_model = Model(\n",
    "    [decoder_inputs] + [decoder_hidden_state_input,decoder_state_input_h, decoder_state_input_c],\n",
    "    [decoder_outputs2] + [state_h2, state_c2])"
   ]
  },
  {
   "cell_type": "code",
   "execution_count": 55,
   "id": "christian-polyester",
   "metadata": {},
   "outputs": [],
   "source": [
    "def decode_sequence(input_seq):\n",
    "    # 입력으로부터 인코더의 상태를 얻음\n",
    "    e_out, e_h, e_c = encoder_model.predict(input_seq)\n",
    "\n",
    "     # <SOS>에 해당하는 토큰 생성\n",
    "    target_seq = np.zeros((1,1))\n",
    "    target_seq[0, 0] = tar_word_to_index['sostoken']\n",
    "\n",
    "    stop_condition = False\n",
    "    decoded_sentence = ''\n",
    "    while not stop_condition: # stop_condition이 True가 될 때까지 루프 반복\n",
    "\n",
    "        output_tokens, h, c = decoder_model.predict([target_seq] + [e_out, e_h, e_c])\n",
    "        sampled_token_index = np.argmax(output_tokens[0, -1, :])\n",
    "        sampled_token = tar_index_to_word[sampled_token_index]\n",
    "\n",
    "        if (sampled_token!='eostoken'):\n",
    "            decoded_sentence += ' '+sampled_token\n",
    "\n",
    "        #  <eos>에 도달하거나 최대 길이를 넘으면 중단.\n",
    "        if (sampled_token == 'eostoken'  or len(decoded_sentence.split()) >= (headline_max_len-1)):\n",
    "            stop_condition = True\n",
    "\n",
    "        # 길이가 1인 타겟 시퀀스를 업데이트\n",
    "        target_seq = np.zeros((1,1))\n",
    "        target_seq[0, 0] = sampled_token_index\n",
    "\n",
    "        # 상태를 업데이트 합니다.\n",
    "        e_h, e_c = h, c\n",
    "\n",
    "    return decoded_sentence"
   ]
  },
  {
   "cell_type": "markdown",
   "id": "stable-fishing",
   "metadata": {},
   "source": [
    "#### 모델 테스트\n",
    "\n",
    "테스트 단계에서는 정수 시퀀스를 텍스트 시퀀스로 변환하여 결과를 확인하는 것이 편하겠죠. 주어진 정수 시퀀스를 텍스트 시퀀스로 변환하는 함수를 만들어볼게요. 함수를 만들 때, Text의 정수 시퀀스에서는 패딩을 위해 사용되는 숫자 0을 제외하고 Summary의 정수 시퀀스에서는 숫자 0, 시작 토큰의 인덱스, 종료 토큰의 인덱스를 출력에서 제외하도록 만들 거예요.\n"
   ]
  },
  {
   "cell_type": "code",
   "execution_count": 56,
   "id": "pressing-kinase",
   "metadata": {},
   "outputs": [],
   "source": [
    "# 원문의 정수 시퀀스를 텍스트 시퀀스로 변환\n",
    "def seq2text(input_seq):\n",
    "    temp=''\n",
    "    for i in input_seq:\n",
    "        if (i!=0):\n",
    "            temp = temp + src_index_to_word[i]+' '\n",
    "    return temp\n",
    "\n",
    "# 요약문의 정수 시퀀스를 텍스트 시퀀스로 변환\n",
    "def seq2summary(input_seq):\n",
    "    temp=''\n",
    "    for i in input_seq:\n",
    "        if ((i!=0 and i!=tar_word_to_index['sostoken']) and i!=tar_word_to_index['eostoken']):\n",
    "            temp = temp + tar_index_to_word[i] + ' '\n",
    "    return temp"
   ]
  },
  {
   "cell_type": "markdown",
   "id": "cubic-yorkshire",
   "metadata": {},
   "source": [
    "<a name=\"result\"></a>\n",
    "### 4. 실제 결과와 요약문 비교하기 (추상적 요약)\n",
    "---\n",
    "\n",
    "원래의 요약문(headlines 열)과 학습을 통해 얻은 추상적 요약의 결과를 비교한다."
   ]
  },
  {
   "cell_type": "code",
   "execution_count": 60,
   "id": "atmospheric-airfare",
   "metadata": {},
   "outputs": [
    {
     "name": "stdout",
     "output_type": "stream",
     "text": [
      "원문 : expressing condolence death people fire mumbai kamala mills compound prime minister narendra modi friday tweeted thoughts families hour grief president ram nath kovind tweeted wishing injured early recovery efforts fire fighters rescue \n",
      "실제 Headline : pm modi offers condolences to kin of mumbai fire victims \n",
      "예측 Headline :  pm modi condoles death of ram mandir in gujarat\n",
      "\n",
      "\n",
      "원문 : cpi general secretary sitaram yechury tuesday alleged corruption black money terrorism post demonetisation six months still data much money old currency notes returned system said government let big fish bank loan defaulters ruined india informal economy added \n",
      "실제 Headline : corruption terrorism post note ban yechury \n",
      "예측 Headline :  pmo in corruption case against banks in pnb fraud case\n",
      "\n",
      "\n",
      "원문 : scientists genome project write plan raise million funding artificial human dna plan write human genome scratch incorporate human cells received criticism medical scientists world meeting new york may discuss project future possibilities \n",
      "실제 Headline : scientists plan to raise mn to build human dna \n",
      "예측 Headline :  ai to invest mn in cancer made made\n",
      "\n",
      "\n",
      "원문 : actress azim talking shahid kapoor newborn son grandson zain kapoor said kind saw son shahid kapoor mira rajput arms one dreams strong feeling get son time even shared added \n",
      "실제 Headline : of son in shahid mira arms shahid mom \n",
      "예측 Headline :  shahid shares pic with her mother mom of her\n",
      "\n",
      "\n",
      "원문 : bjp leader rajyavardhan rathore tuesday said good opposition wants unite country dirt could removed together speaking results karnataka assembly elections bjp leading rathore added third straight defeat rahul gandhi since became president \n",
      "실제 Headline : can remove all dirt together if opp bjp leader \n",
      "예측 Headline :  bjp should be for the world bjp leader\n",
      "\n",
      "\n",
      "원문 : social media platform twitter thursday introduced safety calendar features curb online harassment abuse includes suspending accounts violent groups along ban abusive hateful move comes week ceo jack dorsey admitted platform enough tackle trolls \n",
      "실제 Headline : twitter bans display names to fight abuse \n",
      "예측 Headline :  facebook launches content content content\n",
      "\n",
      "\n",
      "원문 : september new zealand became first self governing country world grant national voting rights women electoral bill outcome years meetings across country notably india granted voting rights women soon became republic \n",
      "실제 Headline : new zealand was the first nation to allow women to vote \n",
      "예측 Headline :  st indian to give new international status to un\n",
      "\n",
      "\n",
      "원문 : french president emmanuel macron said us president donald trump leaning towards getting us iran nuclear deal know us decision nuclear deal added trump may deadline decide whether keep us agreement signed \n",
      "실제 Headline : trump may not stay in iran nuclear deal french prez macron \n",
      "예측 Headline :  trump is not the nuclear deal french prez macron\n",
      "\n",
      "\n",
      "원문 : sharing old picture father late actor sunil dutt th death anniversary sanjay dutt wrote wish could see free man love miss sanjay sister priya dutt also shared old picture father captioned left us physically around us thoughts \n",
      "실제 Headline : wish you could see me free dutt on dad death anniversary \n",
      "예측 Headline :  sanjay dutt shares pic with sanjay dutt sanjay dutt\n",
      "\n",
      "\n",
      "원문 : former goldman sachs director rajat gupta trying restore reputation completing two year prison term insider trading charges according new york times report gupta struggled many former associates clients us reports added found guilty passing confidential information hedge fund manager \n",
      "실제 Headline : ex goldman director struggling to reports \n",
      "예측 Headline :  ex goldman sachs ceo charged with bribery\n",
      "\n",
      "\n"
     ]
    }
   ],
   "source": [
    "for i in range(10):\n",
    "    print(\"원문 :\", seq2text(encoder_input_test[i]))\n",
    "    print(\"실제 Headline :\", seq2summary(decoder_input_test[i]))\n",
    "    print(\"예측 Headline :\", decode_sequence(encoder_input_test[i].reshape(1, text_max_len)))\n",
    "    print(\"\\n\")"
   ]
  },
  {
   "cell_type": "markdown",
   "id": "external-discussion",
   "metadata": {},
   "source": [
    "<a name=\"extrative\"></a>\n",
    "## 5. Summa을 이용해서 추출적 요약해보기\n",
    "---\n",
    "\n",
    "추상적 요약은 추출적 요약과는 달리 문장의 표현력을 다양하게 가져갈 수 있지만, 추출적 요약에 비해서 난이도가 높다. 반대로 말하면 추출적 요약은 추상적 요약에 비해 난이도가 낮고 기존 문장에서 문장을 꺼내오는 것이므로 잘못된 요약이 나올 가능성이 낮다.\n",
    "\n",
    "Summa의 summarize()의 인자로 사용되는 값들에 대해서 알아본다.\n",
    "\n",
    "\n",
    "1. text (str) : 요약할 테스트.\n",
    "2. ratio (float, optional) – 요약문에서 원본에서 선택되는 문장 비율. 0~1 사이값\n",
    "3. words (int or None, optional) – 출력에 포함할 단어 수. 만약, ratio와 함께 두 파라미터가 모두 제공되는 경우 ratio는 무시한다.\n",
    "4. split (bool, optional) – True면 문장 list / False는 조인(join)된 문자열을 반환\n",
    "\n",
    "Summa의 summarize는 문장 토큰화를 별도로 하지 않더라도 내부적으로 문장 토큰화를 수행한다.. 그렇기 때문에 문장 구분이 되어있지 않은 원문을 바로 입력으로 넣을 수 있다. 비율을 적게 주어서 요약문으로 선택되는 문장의 개수를 줄여본다. 원문의 0.005%만을 출력하도록 설정했다."
   ]
  },
  {
   "cell_type": "code",
   "execution_count": 61,
   "id": "lesbian-capitol",
   "metadata": {},
   "outputs": [],
   "source": [
    "import requests\n",
    "from summa.summarizer import summarize\n",
    "\n",
    "urllib.request.urlretrieve(\"https://raw.githubusercontent.com/sunnysai12345/News_Summary/master/news_summary_more.csv\", filename=\"news_summary_more.csv\")\n",
    "data = pd.read_csv('news_summary_more.csv', encoding='iso-8859-1')"
   ]
  },
  {
   "cell_type": "code",
   "execution_count": 73,
   "id": "returning-position",
   "metadata": {},
   "outputs": [
    {
     "name": "stdout",
     "output_type": "stream",
     "text": [
      "실제 HEADLINE :  upGrad learner switches to career in ML & Al with 90% salary hike\n",
      "추출적 요약 HEADLINE :  upGrad's Online Power Learning has powered 3 lakh+ careers.\n",
      "\n",
      "\n",
      "실제 HEADLINE :  Delhi techie wins free food from Swiggy for one year on CRED\n",
      "추출적 요약 HEADLINE :  Users get one CRED coin per rupee of bill paid, which can be used to avail rewards from brands like Ixigo, BookMyShow, UberEats, Cult.Fit and more.\n",
      "\n",
      "\n",
      "실제 HEADLINE :  New Zealand end Rohit Sharma-led India's 12-match winning streak\n",
      "추출적 요약 HEADLINE :  The match witnessed India getting all out for 92, their seventh lowest total in ODI cricket history.\n",
      "\n",
      "\n",
      "실제 HEADLINE :  Aegon life iTerm insurance plan helps customers save tax\n",
      "추출적 요약 HEADLINE :  Also, customers have options to insure against Critical Illnesses, Disability and Accidental Death Benefit Rider with a life cover up to the age of 80 years.\n",
      "\n",
      "\n",
      "실제 HEADLINE :  Have known Hirani for yrs, what if MeToo claims are not true: Sonam\n",
      "추출적 요약 HEADLINE :  Speaking about the sexual harassment allegations against Rajkumar Hirani, Sonam Kapoor said, \"I've known Hirani for many years...What if it's not true, the [#MeToo] movement will get derailed.\" \"In the #MeToo movement, I always believe a woman.\n",
      "\n",
      "\n",
      "실제 HEADLINE :  Rahat Fateh Ali Khan denies getting notice for smuggling currency\n",
      "추출적 요약 HEADLINE :  Pakistani singer Rahat Fateh Ali Khan has denied receiving any notice from the Enforcement Directorate over allegedly smuggling foreign currency out of India.\n",
      "\n",
      "\n",
      "실제 HEADLINE :  India get all out for 92, their lowest ODI total in New Zealand\n",
      "추출적 요약 HEADLINE :  India's previous lowest ODI total in New Zealand was 108.\n",
      "\n",
      "\n",
      "실제 HEADLINE :  Govt directs Alok Verma to join work 1 day before his retirement\n",
      "추출적 요약 HEADLINE :  Weeks after ex-CBI Director Alok Verma told the Department of Personnel and Training to consider him retired, the Home Ministry asked him to join work on the last day of his fixed tenure as Director on Thursday.\n",
      "\n",
      "\n",
      "실제 HEADLINE :  Called PM Modi 'sir' 10 times to satisfy his ego: Andhra CM\n",
      "추출적 요약 HEADLINE :  Andhra Pradesh CM N Chandrababu Naidu has said, \"When I met then US President Bill Clinton, I addressed him as Mr Clinton, not as 'sir'.\n",
      "\n",
      "\n",
      "실제 HEADLINE :  Cong wins Ramgarh bypoll in Rajasthan, takes total to 100 seats\n",
      "추출적 요약 HEADLINE :  Congress candidate Shafia Zubair won the Ramgarh Assembly seat in Rajasthan, by defeating BJP's Sukhwant Singh with a margin of 12,228 votes in the bypoll.\n",
      "\n",
      "\n"
     ]
    }
   ],
   "source": [
    "for i in range(10):\n",
    "    print(\"실제 HEADLINE : \", data['headlines'][i])\n",
    "    print(\"추출적 요약 HEADLINE : \", summarize(data['text'][i], ratio=0.5))\n",
    "    print(\"\\n\")"
   ]
  },
  {
   "cell_type": "markdown",
   "id": "unknown-pierce",
   "metadata": {},
   "source": [
    "<a name=\"summary\"></a>\n",
    "## 프로젝트 요약\n",
    "---\n",
    "\n",
    "**루브릭**\n",
    "1. Abstractive 모델 구성을 위한 텍스트 전처리 단계가 체계적으로 진행되었다.\n",
    "\n",
    "   - Abstractive 모델의 올바른 입력값을 위해 텍스트를 전처리 해야했다. 먼저 중복, NULL 값이 존재하는 샘플을 제거하고     정규화 사전, 불용어 사전을 확인하여 생략/축약 표현, stopwords를 확인하고 preprocess_sentence 함수로 해당 표현을 클리닝하였다.     이외에도 시작토큰, 종료 토큰을 추가하고 데이터셋 분리, 정수인코딩 과정을 거쳐 모델에 맞는 input 데이터를 만들었다.\n",
    "   \n",
    "   \n",
    "2. 텍스트 요약모델이 성공적으로 학습되었음을 확인하였다.\n",
    "\n",
    "    - EarlyStopping(monitor='val_loss', patience=2)로 설정하여 2번이상 val_loss가 낮아지지 않았을 때 모델 학습을 중단 시키는 테크닉을 배울 수 있었고 이 프로젝트의 경우 학습에 시간이 많이 걸렸기 때문에 조기종료 설정은 필수라는 생각이 들었다. Abstractive 모델의 예측 Headlines의 결과는 기대 이하였다. 아마 추가적으로 관련 컨텐츠를 학습한 추가적인 Embedding Layer를 전이 학습을 시켜보면 좋을 것 같다. 아래 케이스의 경우 원문에 나오지 않은 텍스트와 같은 단어가 의미 없이 여러번 반복되는 결과를 보여주었는데 전처리가 뭔가 잘못됐을 수도 있고 다른 문장에서도 실제 문장의 의미와 다른 예측 Headline을 제시해서 아직 해결해야 하는 문제가 많다는 것을 확인할 수 있었다.\n",
    "\n",
    "```\n",
    "원문 : social media platform twitter thursday introduced safety calendar features curb online harassment abuse includes suspending accounts violent groups along ban abusive hateful move comes week ceo jack dorsey admitted platform enough tackle trolls \n",
    "실제 Headline : twitter bans display names to fight abuse \n",
    "예측 Headline :  facebook launches content content content\n",
    "```    \n",
    "\n",
    "3. Extractive 요약을 시도해 보고 Abstractive 요약 결과과 함께 비교해 보았다.\n",
    "\n",
    "    - Extractive 방식으로 추출된 요약문은 Abstractive 요약 결과에 비해 문법완성도, 핵심단어 포함 측면에서 괜찮은 요약을 보여주는 것 같다. 원문에 있는 문장을 추출하는 것이기 때문에 원문의 내용과 정확한 문법(순서)가 반영되었기 때문이라 생각한다.그리고 원문의 0.005%만을 출력하도록 설정하였을 때 실제 HEADLINE에 비해 길이가 길었는데 ratio를 어떻게 설정하느냐에 따라서 원문의 정보 추출 비율, 실제 headline과의 유사도관계를 확인해보는 실험도 의미가 있을 것 같다.\n",
    "\n",
    "    \n",
    "\n",
    "\n",
    "**후기**\n",
    "\n",
    "뉴스의 헤드라인과 섬네일 이미지는 뉴스의 조회수에 상당히 많은 영향을 끼치는 요소이다. 아무리 원문에 좋은 내용이 담겨 있다 하더라도 매력적이지 않은 제목을 가지고 있다면 사용자들은 조금 더 자극적이고 한 눈에 눈길을 끄는 컨텐츠를 찾게 된다. 그만큼 뉴스 요약 문제는 단순히 한줄의 문장이 아니라 기자들의 전문성과 경험이 담겨 있는 작품이라고 생각한다. 추상적 요약, 추출적 요약 방법을 사용해 간단한 뉴스 요약 모델의 결과를 확인해봤는데 내 예상보다 좋은 성능을 보여주지는 못했다. 단순히 몇개의 클래스를 예측하는 문제가 아니라 다중 분류 문제에서도 상당히 많은 단어를 조합해서 결과를 제시해야 하기 때문에 상당히 어려운 NLP 문제인 것 같다. 추출적 요약 방법의 경우 빠르게 요약 결과를 확인해볼 수 있었고 원문과 내용, 문법적 측면에서 괜찮은 수준의 요약 결과를 보여주었다."
   ]
  }
 ],
 "metadata": {
  "kernelspec": {
   "display_name": "Python 3",
   "language": "python",
   "name": "python3"
  },
  "language_info": {
   "codemirror_mode": {
    "name": "ipython",
    "version": 3
   },
   "file_extension": ".py",
   "mimetype": "text/x-python",
   "name": "python",
   "nbconvert_exporter": "python",
   "pygments_lexer": "ipython3",
   "version": "3.7.9"
  }
 },
 "nbformat": 4,
 "nbformat_minor": 5
}
