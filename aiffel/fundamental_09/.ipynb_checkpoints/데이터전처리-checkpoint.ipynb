{
 "cells": [
  {
   "cell_type": "markdown",
   "metadata": {},
   "source": [
    "### 데이터 전처리"
   ]
  },
  {
   "cell_type": "code",
   "execution_count": 14,
   "metadata": {},
   "outputs": [],
   "source": [
    "import os\n",
    "import pandas as pd\n",
    "import numpy as np\n",
    "import matplotlib.pyplot as plt\n",
    "%matplotlib inline\n",
    "\n",
    "data_path = os.getcwd() + \"/trade.csv\""
   ]
  },
  {
   "cell_type": "markdown",
   "metadata": {},
   "source": [
    "trade.csv 는 관세청 수출입 무역 통계 에서 가공한 데이터입니다.\n",
    "\n",
    "특정 국가에 대한 월별 수출입 건수와 금액(단위:천 불(USD 1,000))이 있습니다. 무역수지는 수출금액-수입금액이 됩니다."
   ]
  },
  {
   "cell_type": "code",
   "execution_count": 81,
   "metadata": {},
   "outputs": [],
   "source": [
    "data = pd.read_csv(data_path)"
   ]
  },
  {
   "cell_type": "code",
   "execution_count": 16,
   "metadata": {},
   "outputs": [
    {
     "data": {
      "text/html": [
       "<div>\n",
       "<style scoped>\n",
       "    .dataframe tbody tr th:only-of-type {\n",
       "        vertical-align: middle;\n",
       "    }\n",
       "\n",
       "    .dataframe tbody tr th {\n",
       "        vertical-align: top;\n",
       "    }\n",
       "\n",
       "    .dataframe thead th {\n",
       "        text-align: right;\n",
       "    }\n",
       "</style>\n",
       "<table border=\"1\" class=\"dataframe\">\n",
       "  <thead>\n",
       "    <tr style=\"text-align: right;\">\n",
       "      <th></th>\n",
       "      <th>기간</th>\n",
       "      <th>국가명</th>\n",
       "      <th>수출건수</th>\n",
       "      <th>수출금액</th>\n",
       "      <th>수입건수</th>\n",
       "      <th>수입금액</th>\n",
       "      <th>무역수지</th>\n",
       "      <th>기타사항</th>\n",
       "    </tr>\n",
       "  </thead>\n",
       "  <tbody>\n",
       "    <tr>\n",
       "      <th>0</th>\n",
       "      <td>2015년 01월</td>\n",
       "      <td>중국</td>\n",
       "      <td>116932.0</td>\n",
       "      <td>12083947.0</td>\n",
       "      <td>334522.0</td>\n",
       "      <td>8143271.0</td>\n",
       "      <td>3940676.0</td>\n",
       "      <td>NaN</td>\n",
       "    </tr>\n",
       "    <tr>\n",
       "      <th>1</th>\n",
       "      <td>2015년 01월</td>\n",
       "      <td>미국</td>\n",
       "      <td>65888.0</td>\n",
       "      <td>5561545.0</td>\n",
       "      <td>509564.0</td>\n",
       "      <td>3625062.0</td>\n",
       "      <td>1936484.0</td>\n",
       "      <td>NaN</td>\n",
       "    </tr>\n",
       "    <tr>\n",
       "      <th>2</th>\n",
       "      <td>2015년 01월</td>\n",
       "      <td>일본</td>\n",
       "      <td>54017.0</td>\n",
       "      <td>2251307.0</td>\n",
       "      <td>82480.0</td>\n",
       "      <td>3827247.0</td>\n",
       "      <td>-1575940.0</td>\n",
       "      <td>NaN</td>\n",
       "    </tr>\n",
       "    <tr>\n",
       "      <th>3</th>\n",
       "      <td>2015년 02월</td>\n",
       "      <td>중국</td>\n",
       "      <td>86228.0</td>\n",
       "      <td>9927642.0</td>\n",
       "      <td>209100.0</td>\n",
       "      <td>6980874.0</td>\n",
       "      <td>2946768.0</td>\n",
       "      <td>NaN</td>\n",
       "    </tr>\n",
       "    <tr>\n",
       "      <th>4</th>\n",
       "      <td>2015년 02월</td>\n",
       "      <td>미국</td>\n",
       "      <td>60225.0</td>\n",
       "      <td>5021264.0</td>\n",
       "      <td>428678.0</td>\n",
       "      <td>2998216.0</td>\n",
       "      <td>2023048.0</td>\n",
       "      <td>NaN</td>\n",
       "    </tr>\n",
       "  </tbody>\n",
       "</table>\n",
       "</div>"
      ],
      "text/plain": [
       "          기간 국가명      수출건수        수출금액      수입건수       수입금액       무역수지  기타사항\n",
       "0  2015년 01월  중국  116932.0  12083947.0  334522.0  8143271.0  3940676.0   NaN\n",
       "1  2015년 01월  미국   65888.0   5561545.0  509564.0  3625062.0  1936484.0   NaN\n",
       "2  2015년 01월  일본   54017.0   2251307.0   82480.0  3827247.0 -1575940.0   NaN\n",
       "3  2015년 02월  중국   86228.0   9927642.0  209100.0  6980874.0  2946768.0   NaN\n",
       "4  2015년 02월  미국   60225.0   5021264.0  428678.0  2998216.0  2023048.0   NaN"
      ]
     },
     "execution_count": 16,
     "metadata": {},
     "output_type": "execute_result"
    }
   ],
   "source": [
    "data.head()"
   ]
  },
  {
   "cell_type": "markdown",
   "metadata": {},
   "source": [
    "- 중복된 데이터를 찾아 제거할 수 있고, \n",
    "- 결측치(missing data)를 제거하거나 채워 넣을 수 있다.\n",
    "- 데이터를 정규화시킬 수 있다.\n",
    "- 이상치(outlier)를 찾고, 이를 처리할 수 있다.\n",
    "- 범주형 데이터를 원-핫 인코딩할 수 있다.\n",
    "- 연속적인 데이터를 구간으로 나눠 범주형 데이터로 변환할 수 있다."
   ]
  },
  {
   "cell_type": "markdown",
   "metadata": {},
   "source": [
    "- 결측치(Missing Data)\n",
    "- 중복된 데이터\n",
    "- 이상치(Outlier)\n",
    "- 정규화(Normalization)\n",
    "- 원-핫 인코딩(One-Hot Encoding)\n",
    "- 구간화(Binning)"
   ]
  },
  {
   "cell_type": "markdown",
   "metadata": {},
   "source": [
    "### 결측치\n",
    "\n",
    "결측치 제거 방법\n",
    "1. 결측치가 있는 데이터를 제거\n",
    "2. 결측치를 어떤 값으로 대체(데이터마다 특성을 반영해야 해결해야 한다.)"
   ]
  },
  {
   "cell_type": "code",
   "execution_count": 84,
   "metadata": {},
   "outputs": [
    {
     "name": "stdout",
     "output_type": "stream",
     "text": [
      "전체 데이터 건수 199\n"
     ]
    }
   ],
   "source": [
    "print(\"전체 데이터 건수\", len(data))"
   ]
  },
  {
   "cell_type": "code",
   "execution_count": 85,
   "metadata": {},
   "outputs": [
    {
     "name": "stdout",
     "output_type": "stream",
     "text": [
      "컬럼별 결측치 개수\n"
     ]
    },
    {
     "data": {
      "text/plain": [
       "기간        0\n",
       "국가명       0\n",
       "수출건수      3\n",
       "수출금액      4\n",
       "수입건수      3\n",
       "수입금액      3\n",
       "무역수지      4\n",
       "기타사항    199\n",
       "dtype: int64"
      ]
     },
     "execution_count": 85,
     "metadata": {},
     "output_type": "execute_result"
    }
   ],
   "source": [
    "print(\"컬럼별 결측치 개수\")\n",
    "len(data) - data.count()"
   ]
  },
  {
   "cell_type": "code",
   "execution_count": 86,
   "metadata": {},
   "outputs": [
    {
     "data": {
      "text/plain": [
       "기간        0\n",
       "국가명       0\n",
       "수출건수      3\n",
       "수출금액      4\n",
       "수입건수      3\n",
       "수입금액      3\n",
       "무역수지      4\n",
       "기타사항    199\n",
       "dtype: int64"
      ]
     },
     "execution_count": 86,
     "metadata": {},
     "output_type": "execute_result"
    }
   ],
   "source": [
    "data.isnull().sum()"
   ]
  },
  {
   "cell_type": "markdown",
   "metadata": {},
   "source": [
    "기타사항은 전부 결측치이므로 삭제한다"
   ]
  },
  {
   "cell_type": "code",
   "execution_count": 87,
   "metadata": {},
   "outputs": [
    {
     "data": {
      "text/html": [
       "<div>\n",
       "<style scoped>\n",
       "    .dataframe tbody tr th:only-of-type {\n",
       "        vertical-align: middle;\n",
       "    }\n",
       "\n",
       "    .dataframe tbody tr th {\n",
       "        vertical-align: top;\n",
       "    }\n",
       "\n",
       "    .dataframe thead th {\n",
       "        text-align: right;\n",
       "    }\n",
       "</style>\n",
       "<table border=\"1\" class=\"dataframe\">\n",
       "  <thead>\n",
       "    <tr style=\"text-align: right;\">\n",
       "      <th></th>\n",
       "      <th>기간</th>\n",
       "      <th>국가명</th>\n",
       "      <th>수출건수</th>\n",
       "      <th>수출금액</th>\n",
       "      <th>수입건수</th>\n",
       "      <th>수입금액</th>\n",
       "      <th>무역수지</th>\n",
       "    </tr>\n",
       "  </thead>\n",
       "  <tbody>\n",
       "    <tr>\n",
       "      <th>0</th>\n",
       "      <td>2015년 01월</td>\n",
       "      <td>중국</td>\n",
       "      <td>116932.0</td>\n",
       "      <td>12083947.0</td>\n",
       "      <td>334522.0</td>\n",
       "      <td>8143271.0</td>\n",
       "      <td>3940676.0</td>\n",
       "    </tr>\n",
       "    <tr>\n",
       "      <th>1</th>\n",
       "      <td>2015년 01월</td>\n",
       "      <td>미국</td>\n",
       "      <td>65888.0</td>\n",
       "      <td>5561545.0</td>\n",
       "      <td>509564.0</td>\n",
       "      <td>3625062.0</td>\n",
       "      <td>1936484.0</td>\n",
       "    </tr>\n",
       "    <tr>\n",
       "      <th>2</th>\n",
       "      <td>2015년 01월</td>\n",
       "      <td>일본</td>\n",
       "      <td>54017.0</td>\n",
       "      <td>2251307.0</td>\n",
       "      <td>82480.0</td>\n",
       "      <td>3827247.0</td>\n",
       "      <td>-1575940.0</td>\n",
       "    </tr>\n",
       "    <tr>\n",
       "      <th>3</th>\n",
       "      <td>2015년 02월</td>\n",
       "      <td>중국</td>\n",
       "      <td>86228.0</td>\n",
       "      <td>9927642.0</td>\n",
       "      <td>209100.0</td>\n",
       "      <td>6980874.0</td>\n",
       "      <td>2946768.0</td>\n",
       "    </tr>\n",
       "    <tr>\n",
       "      <th>4</th>\n",
       "      <td>2015년 02월</td>\n",
       "      <td>미국</td>\n",
       "      <td>60225.0</td>\n",
       "      <td>5021264.0</td>\n",
       "      <td>428678.0</td>\n",
       "      <td>2998216.0</td>\n",
       "      <td>2023048.0</td>\n",
       "    </tr>\n",
       "  </tbody>\n",
       "</table>\n",
       "</div>"
      ],
      "text/plain": [
       "          기간 국가명      수출건수        수출금액      수입건수       수입금액       무역수지\n",
       "0  2015년 01월  중국  116932.0  12083947.0  334522.0  8143271.0  3940676.0\n",
       "1  2015년 01월  미국   65888.0   5561545.0  509564.0  3625062.0  1936484.0\n",
       "2  2015년 01월  일본   54017.0   2251307.0   82480.0  3827247.0 -1575940.0\n",
       "3  2015년 02월  중국   86228.0   9927642.0  209100.0  6980874.0  2946768.0\n",
       "4  2015년 02월  미국   60225.0   5021264.0  428678.0  2998216.0  2023048.0"
      ]
     },
     "execution_count": 87,
     "metadata": {},
     "output_type": "execute_result"
    }
   ],
   "source": [
    "data = data.drop('기타사항', axis=1)\n",
    "data.head()"
   ]
  },
  {
   "cell_type": "markdown",
   "metadata": {},
   "source": [
    "DataFrame.isnull()은 데이터마다 결측치 여부를 True, False로 반환한다.\n",
    "DataFrame.any(axis=1)는 행마다 하나라도 True가 있으면 True,\n",
    "그렇지 않으면 False를 반환한다."
   ]
  },
  {
   "cell_type": "code",
   "execution_count": 88,
   "metadata": {},
   "outputs": [
    {
     "data": {
      "text/plain": [
       "0      False\n",
       "1      False\n",
       "2      False\n",
       "3      False\n",
       "4      False\n",
       "       ...  \n",
       "194    False\n",
       "195    False\n",
       "196     True\n",
       "197     True\n",
       "198     True\n",
       "Length: 199, dtype: bool"
      ]
     },
     "execution_count": 88,
     "metadata": {},
     "output_type": "execute_result"
    }
   ],
   "source": [
    "data.isnull().any(axis=1)"
   ]
  },
  {
   "cell_type": "markdown",
   "metadata": {},
   "source": [
    "trade.isnull().any(axis=1)을 다시 DataFrame에 넣어주면 값이 True인 데이터만 추출해줍니다."
   ]
  },
  {
   "cell_type": "code",
   "execution_count": 89,
   "metadata": {},
   "outputs": [
    {
     "data": {
      "text/html": [
       "<div>\n",
       "<style scoped>\n",
       "    .dataframe tbody tr th:only-of-type {\n",
       "        vertical-align: middle;\n",
       "    }\n",
       "\n",
       "    .dataframe tbody tr th {\n",
       "        vertical-align: top;\n",
       "    }\n",
       "\n",
       "    .dataframe thead th {\n",
       "        text-align: right;\n",
       "    }\n",
       "</style>\n",
       "<table border=\"1\" class=\"dataframe\">\n",
       "  <thead>\n",
       "    <tr style=\"text-align: right;\">\n",
       "      <th></th>\n",
       "      <th>기간</th>\n",
       "      <th>국가명</th>\n",
       "      <th>수출건수</th>\n",
       "      <th>수출금액</th>\n",
       "      <th>수입건수</th>\n",
       "      <th>수입금액</th>\n",
       "      <th>무역수지</th>\n",
       "    </tr>\n",
       "  </thead>\n",
       "  <tbody>\n",
       "    <tr>\n",
       "      <th>191</th>\n",
       "      <td>2020년 04월</td>\n",
       "      <td>미국</td>\n",
       "      <td>105360.0</td>\n",
       "      <td>NaN</td>\n",
       "      <td>1141118.0</td>\n",
       "      <td>5038739.0</td>\n",
       "      <td>NaN</td>\n",
       "    </tr>\n",
       "    <tr>\n",
       "      <th>196</th>\n",
       "      <td>2020년 06월</td>\n",
       "      <td>중국</td>\n",
       "      <td>NaN</td>\n",
       "      <td>NaN</td>\n",
       "      <td>NaN</td>\n",
       "      <td>NaN</td>\n",
       "      <td>NaN</td>\n",
       "    </tr>\n",
       "    <tr>\n",
       "      <th>197</th>\n",
       "      <td>2020년 06월</td>\n",
       "      <td>미국</td>\n",
       "      <td>NaN</td>\n",
       "      <td>NaN</td>\n",
       "      <td>NaN</td>\n",
       "      <td>NaN</td>\n",
       "      <td>NaN</td>\n",
       "    </tr>\n",
       "    <tr>\n",
       "      <th>198</th>\n",
       "      <td>2020년 06월</td>\n",
       "      <td>일본</td>\n",
       "      <td>NaN</td>\n",
       "      <td>NaN</td>\n",
       "      <td>NaN</td>\n",
       "      <td>NaN</td>\n",
       "      <td>NaN</td>\n",
       "    </tr>\n",
       "  </tbody>\n",
       "</table>\n",
       "</div>"
      ],
      "text/plain": [
       "            기간 국가명      수출건수  수출금액       수입건수       수입금액  무역수지\n",
       "191  2020년 04월  미국  105360.0   NaN  1141118.0  5038739.0   NaN\n",
       "196  2020년 06월  중국       NaN   NaN        NaN        NaN   NaN\n",
       "197  2020년 06월  미국       NaN   NaN        NaN        NaN   NaN\n",
       "198  2020년 06월  일본       NaN   NaN        NaN        NaN   NaN"
      ]
     },
     "execution_count": 89,
     "metadata": {},
     "output_type": "execute_result"
    }
   ],
   "source": [
    "data[data.isnull().any(axis=1)]"
   ]
  },
  {
   "cell_type": "markdown",
   "metadata": {},
   "source": [
    "191 데이터는 수출금액, 무역수지\n",
    "196,197,198 데이터는 기간 국가명을 제외하고 모두 결측치\n",
    "\n",
    "191 데이터는 삭제하기 보다는 특정 값으로 대체하는 것이 좋다\n",
    "반면 196,197,198은 제거하는 것이 바람직하다"
   ]
  },
  {
   "cell_type": "markdown",
   "metadata": {},
   "source": [
    "196,197,198 삭제,\n",
    "\n",
    "dropna() 결측치 삭제 메서드,\n",
    "\n",
    "    - subset 옵션으로 특정 컬럼들을 선택한다.\n",
    "    - how 옵션으로 선택한 컬럼 전부가 결측치인 행을 삭제하겠다는 의미로\n",
    "    'all'을 선택한다. (any: 하나라도 결측치인 경우)\n",
    "    -inplace 옵션으로 데이터프레임 내부에 바로 적용"
   ]
  },
  {
   "cell_type": "code",
   "execution_count": 90,
   "metadata": {},
   "outputs": [],
   "source": [
    "data.dropna(how='all', subset=['수출건수', '수출금액', '수입건수', '수입금액', '무역수지'], inplace=True)"
   ]
  },
  {
   "cell_type": "code",
   "execution_count": 91,
   "metadata": {},
   "outputs": [
    {
     "data": {
      "text/html": [
       "<div>\n",
       "<style scoped>\n",
       "    .dataframe tbody tr th:only-of-type {\n",
       "        vertical-align: middle;\n",
       "    }\n",
       "\n",
       "    .dataframe tbody tr th {\n",
       "        vertical-align: top;\n",
       "    }\n",
       "\n",
       "    .dataframe thead th {\n",
       "        text-align: right;\n",
       "    }\n",
       "</style>\n",
       "<table border=\"1\" class=\"dataframe\">\n",
       "  <thead>\n",
       "    <tr style=\"text-align: right;\">\n",
       "      <th></th>\n",
       "      <th>기간</th>\n",
       "      <th>국가명</th>\n",
       "      <th>수출건수</th>\n",
       "      <th>수출금액</th>\n",
       "      <th>수입건수</th>\n",
       "      <th>수입금액</th>\n",
       "      <th>무역수지</th>\n",
       "    </tr>\n",
       "  </thead>\n",
       "  <tbody>\n",
       "    <tr>\n",
       "      <th>191</th>\n",
       "      <td>2020년 04월</td>\n",
       "      <td>미국</td>\n",
       "      <td>105360.0</td>\n",
       "      <td>NaN</td>\n",
       "      <td>1141118.0</td>\n",
       "      <td>5038739.0</td>\n",
       "      <td>NaN</td>\n",
       "    </tr>\n",
       "  </tbody>\n",
       "</table>\n",
       "</div>"
      ],
      "text/plain": [
       "            기간 국가명      수출건수  수출금액       수입건수       수입금액  무역수지\n",
       "191  2020년 04월  미국  105360.0   NaN  1141118.0  5038739.0   NaN"
      ]
     },
     "execution_count": 91,
     "metadata": {},
     "output_type": "execute_result"
    }
   ],
   "source": [
    "data[data.isnull().any(axis=1)]"
   ]
  },
  {
   "cell_type": "markdown",
   "metadata": {},
   "source": [
    "191과 같이 수치형 데이터를 보완할 방법은 많다.\n",
    "\n",
    "1. 특정 값을 지정해줄 수 있다.\n",
    "    - 결측치가 많은 경우, 모두 같은 값으로 대체한다면 데이터의 분산이 실제로 작아지는 문제가 발생할 수 있다.\n",
    "    \n",
    "2. 평균, 중앙값 등으로 대체할 수 있다.\n",
    "    - 1번에서 특정 값으로 대체했을 때와 마찬가지로 결측치가 많은 경우 데이터의 분산이 실제보다 작아지는 문제가 발생할 수 있다.\n",
    "3. 다른 데이터를 이용해 예측값으로 대체할 수 있다.\n",
    "    - 머신러닝 모델로 2020년 4월의 예측값을 만들고 이 값으로 결측치를 보완할 수 있다.\n",
    "    \n",
    "4. 시계열 특징을 가진 데이터의 경우 앞뒤 데이터를 통해 결측치를 대체할 수 있다.\n",
    "    - 기온을 측정하는 센서 데이터에서 결측치가 발생할 경우, 전후 데이터의 평균으로 보완할 수 있다.\n",
    "    "
   ]
  },
  {
   "cell_type": "code",
   "execution_count": 92,
   "metadata": {},
   "outputs": [
    {
     "data": {
      "text/html": [
       "<div>\n",
       "<style scoped>\n",
       "    .dataframe tbody tr th:only-of-type {\n",
       "        vertical-align: middle;\n",
       "    }\n",
       "\n",
       "    .dataframe tbody tr th {\n",
       "        vertical-align: top;\n",
       "    }\n",
       "\n",
       "    .dataframe thead th {\n",
       "        text-align: right;\n",
       "    }\n",
       "</style>\n",
       "<table border=\"1\" class=\"dataframe\">\n",
       "  <thead>\n",
       "    <tr style=\"text-align: right;\">\n",
       "      <th></th>\n",
       "      <th>기간</th>\n",
       "      <th>국가명</th>\n",
       "      <th>수출건수</th>\n",
       "      <th>수출금액</th>\n",
       "      <th>수입건수</th>\n",
       "      <th>수입금액</th>\n",
       "      <th>무역수지</th>\n",
       "    </tr>\n",
       "  </thead>\n",
       "  <tbody>\n",
       "    <tr>\n",
       "      <th>188</th>\n",
       "      <td>2020년 03월</td>\n",
       "      <td>미국</td>\n",
       "      <td>97117.0</td>\n",
       "      <td>7292838.0</td>\n",
       "      <td>1368345.0</td>\n",
       "      <td>5388338.0</td>\n",
       "      <td>1904500.0</td>\n",
       "    </tr>\n",
       "    <tr>\n",
       "      <th>191</th>\n",
       "      <td>2020년 04월</td>\n",
       "      <td>미국</td>\n",
       "      <td>105360.0</td>\n",
       "      <td>NaN</td>\n",
       "      <td>1141118.0</td>\n",
       "      <td>5038739.0</td>\n",
       "      <td>NaN</td>\n",
       "    </tr>\n",
       "    <tr>\n",
       "      <th>194</th>\n",
       "      <td>2020년 05월</td>\n",
       "      <td>미국</td>\n",
       "      <td>126598.0</td>\n",
       "      <td>4600726.0</td>\n",
       "      <td>1157163.0</td>\n",
       "      <td>4286873.0</td>\n",
       "      <td>313853.0</td>\n",
       "    </tr>\n",
       "  </tbody>\n",
       "</table>\n",
       "</div>"
      ],
      "text/plain": [
       "            기간 국가명      수출건수       수출금액       수입건수       수입금액       무역수지\n",
       "188  2020년 03월  미국   97117.0  7292838.0  1368345.0  5388338.0  1904500.0\n",
       "191  2020년 04월  미국  105360.0        NaN  1141118.0  5038739.0        NaN\n",
       "194  2020년 05월  미국  126598.0  4600726.0  1157163.0  4286873.0   313853.0"
      ]
     },
     "execution_count": 92,
     "metadata": {},
     "output_type": "execute_result"
    }
   ],
   "source": [
    "data.loc[[188, 191, 194]]"
   ]
  },
  {
   "cell_type": "code",
   "execution_count": 93,
   "metadata": {},
   "outputs": [
    {
     "data": {
      "text/html": [
       "<div>\n",
       "<style scoped>\n",
       "    .dataframe tbody tr th:only-of-type {\n",
       "        vertical-align: middle;\n",
       "    }\n",
       "\n",
       "    .dataframe tbody tr th {\n",
       "        vertical-align: top;\n",
       "    }\n",
       "\n",
       "    .dataframe thead th {\n",
       "        text-align: right;\n",
       "    }\n",
       "</style>\n",
       "<table border=\"1\" class=\"dataframe\">\n",
       "  <thead>\n",
       "    <tr style=\"text-align: right;\">\n",
       "      <th></th>\n",
       "      <th>기간</th>\n",
       "      <th>국가명</th>\n",
       "      <th>수출건수</th>\n",
       "      <th>수출금액</th>\n",
       "      <th>수입건수</th>\n",
       "      <th>수입금액</th>\n",
       "      <th>무역수지</th>\n",
       "    </tr>\n",
       "  </thead>\n",
       "  <tbody>\n",
       "    <tr>\n",
       "      <th>188</th>\n",
       "      <td>2020년 03월</td>\n",
       "      <td>미국</td>\n",
       "      <td>97117.0</td>\n",
       "      <td>7292838.0</td>\n",
       "      <td>1368345.0</td>\n",
       "      <td>5388338.0</td>\n",
       "      <td>1904500.0</td>\n",
       "    </tr>\n",
       "    <tr>\n",
       "      <th>191</th>\n",
       "      <td>2020년 04월</td>\n",
       "      <td>미국</td>\n",
       "      <td>105360.0</td>\n",
       "      <td>5946782.0</td>\n",
       "      <td>1141118.0</td>\n",
       "      <td>5038739.0</td>\n",
       "      <td>NaN</td>\n",
       "    </tr>\n",
       "    <tr>\n",
       "      <th>194</th>\n",
       "      <td>2020년 05월</td>\n",
       "      <td>미국</td>\n",
       "      <td>126598.0</td>\n",
       "      <td>4600726.0</td>\n",
       "      <td>1157163.0</td>\n",
       "      <td>4286873.0</td>\n",
       "      <td>313853.0</td>\n",
       "    </tr>\n",
       "  </tbody>\n",
       "</table>\n",
       "</div>"
      ],
      "text/plain": [
       "            기간 국가명      수출건수       수출금액       수입건수       수입금액       무역수지\n",
       "188  2020년 03월  미국   97117.0  7292838.0  1368345.0  5388338.0  1904500.0\n",
       "191  2020년 04월  미국  105360.0  5946782.0  1141118.0  5038739.0        NaN\n",
       "194  2020년 05월  미국  126598.0  4600726.0  1157163.0  4286873.0   313853.0"
      ]
     },
     "execution_count": 93,
     "metadata": {},
     "output_type": "execute_result"
    }
   ],
   "source": [
    "# data.loc[191]['수출금액']\n",
    "data.loc[191, '수출금액'] = (data.loc[188, '수출금액'] + data.loc[194, '수출금액']) / 2\n",
    "data.loc[[188,191,194]]"
   ]
  },
  {
   "cell_type": "code",
   "execution_count": 94,
   "metadata": {},
   "outputs": [],
   "source": [
    "data.loc[191,'무역수지'] = data.loc[191, '수출금액'] - data.loc[191, '수입금액']"
   ]
  },
  {
   "cell_type": "markdown",
   "metadata": {},
   "source": [
    "데이터가 범주형인 경우 결측치 처리?"
   ]
  },
  {
   "cell_type": "markdown",
   "metadata": {},
   "source": [
    "1. 특정 값을 지정해 줄 수 있다.\n",
    "    - '기타', '결측'과 같이 새로운 범주를 만들어 결측치를 채울 수 있다.\n",
    "2. 최빈값 등으로 대체한다.\n",
    "    - 결측치가 많은 경우 최빈값이 지나치게 많아질 수 있으므로 결측치가 많을 때는 다른 방법을 사용한다.\n",
    "3. 다른 데이터를 이용해 예측값으로 대체할 수 있다.\n",
    "4. 시계열 특성을 가진 데이터의 경우 앞뒤 데이터를 통해 결측치를 대체할 수 있다.\n",
    "    - 예를들어 특정인의 2019년 직업이 결측치이고, 2018년 2020년 직업이 일치한다면 그 값으로 보완할 수 있다. 만약 다르다면 둘 중 하나로 보완하도록 한다."
   ]
  },
  {
   "cell_type": "markdown",
   "metadata": {},
   "source": [
    "## 중복 데이터 처리"
   ]
  },
  {
   "cell_type": "markdown",
   "metadata": {},
   "source": [
    "데이터를 수집하는 과정에서 중복된 데이터가 생길 수 있다. 같은 값을 가진 데이터 없이 행(row)별로 값이 유일해야 한다면 중복된 데이터를 제거해야 한다.\n",
    "\n",
    "DataFrame.duplicated()는 중복된 데이터 여부를 불리언 값으로 변환해준다."
   ]
  },
  {
   "cell_type": "code",
   "execution_count": 95,
   "metadata": {},
   "outputs": [
    {
     "data": {
      "text/plain": [
       "0      False\n",
       "1      False\n",
       "2      False\n",
       "3      False\n",
       "4      False\n",
       "       ...  \n",
       "191    False\n",
       "192    False\n",
       "193    False\n",
       "194    False\n",
       "195    False\n",
       "Length: 196, dtype: bool"
      ]
     },
     "execution_count": 95,
     "metadata": {},
     "output_type": "execute_result"
    }
   ],
   "source": [
    "data.duplicated()"
   ]
  },
  {
   "cell_type": "code",
   "execution_count": 96,
   "metadata": {},
   "outputs": [
    {
     "data": {
      "text/html": [
       "<div>\n",
       "<style scoped>\n",
       "    .dataframe tbody tr th:only-of-type {\n",
       "        vertical-align: middle;\n",
       "    }\n",
       "\n",
       "    .dataframe tbody tr th {\n",
       "        vertical-align: top;\n",
       "    }\n",
       "\n",
       "    .dataframe thead th {\n",
       "        text-align: right;\n",
       "    }\n",
       "</style>\n",
       "<table border=\"1\" class=\"dataframe\">\n",
       "  <thead>\n",
       "    <tr style=\"text-align: right;\">\n",
       "      <th></th>\n",
       "      <th>기간</th>\n",
       "      <th>국가명</th>\n",
       "      <th>수출건수</th>\n",
       "      <th>수출금액</th>\n",
       "      <th>수입건수</th>\n",
       "      <th>수입금액</th>\n",
       "      <th>무역수지</th>\n",
       "    </tr>\n",
       "  </thead>\n",
       "  <tbody>\n",
       "    <tr>\n",
       "      <th>187</th>\n",
       "      <td>2020년 03월</td>\n",
       "      <td>중국</td>\n",
       "      <td>248059.0</td>\n",
       "      <td>10658599.0</td>\n",
       "      <td>358234.0</td>\n",
       "      <td>8948918.0</td>\n",
       "      <td>1709682.0</td>\n",
       "    </tr>\n",
       "  </tbody>\n",
       "</table>\n",
       "</div>"
      ],
      "text/plain": [
       "            기간 국가명      수출건수        수출금액      수입건수       수입금액       무역수지\n",
       "187  2020년 03월  중국  248059.0  10658599.0  358234.0  8948918.0  1709682.0"
      ]
     },
     "execution_count": 96,
     "metadata": {},
     "output_type": "execute_result"
    }
   ],
   "source": [
    "data[data.duplicated()]"
   ]
  },
  {
   "cell_type": "code",
   "execution_count": 97,
   "metadata": {},
   "outputs": [
    {
     "data": {
      "text/html": [
       "<div>\n",
       "<style scoped>\n",
       "    .dataframe tbody tr th:only-of-type {\n",
       "        vertical-align: middle;\n",
       "    }\n",
       "\n",
       "    .dataframe tbody tr th {\n",
       "        vertical-align: top;\n",
       "    }\n",
       "\n",
       "    .dataframe thead th {\n",
       "        text-align: right;\n",
       "    }\n",
       "</style>\n",
       "<table border=\"1\" class=\"dataframe\">\n",
       "  <thead>\n",
       "    <tr style=\"text-align: right;\">\n",
       "      <th></th>\n",
       "      <th>기간</th>\n",
       "      <th>국가명</th>\n",
       "      <th>수출건수</th>\n",
       "      <th>수출금액</th>\n",
       "      <th>수입건수</th>\n",
       "      <th>수입금액</th>\n",
       "      <th>무역수지</th>\n",
       "    </tr>\n",
       "  </thead>\n",
       "  <tbody>\n",
       "    <tr>\n",
       "      <th>186</th>\n",
       "      <td>2020년 03월</td>\n",
       "      <td>중국</td>\n",
       "      <td>248059.0</td>\n",
       "      <td>10658599.0</td>\n",
       "      <td>358234.0</td>\n",
       "      <td>8948918.0</td>\n",
       "      <td>1709682.0</td>\n",
       "    </tr>\n",
       "    <tr>\n",
       "      <th>187</th>\n",
       "      <td>2020년 03월</td>\n",
       "      <td>중국</td>\n",
       "      <td>248059.0</td>\n",
       "      <td>10658599.0</td>\n",
       "      <td>358234.0</td>\n",
       "      <td>8948918.0</td>\n",
       "      <td>1709682.0</td>\n",
       "    </tr>\n",
       "  </tbody>\n",
       "</table>\n",
       "</div>"
      ],
      "text/plain": [
       "            기간 국가명      수출건수        수출금액      수입건수       수입금액       무역수지\n",
       "186  2020년 03월  중국  248059.0  10658599.0  358234.0  8948918.0  1709682.0\n",
       "187  2020년 03월  중국  248059.0  10658599.0  358234.0  8948918.0  1709682.0"
      ]
     },
     "execution_count": 97,
     "metadata": {},
     "output_type": "execute_result"
    }
   ],
   "source": [
    "data[(data['기간']=='2020년 03월') & (data['국가명']=='중국')]"
   ]
  },
  {
   "cell_type": "markdown",
   "metadata": {},
   "source": [
    "drop_duplicates() 메서드 사용하여 중복 데이터를 삭제"
   ]
  },
  {
   "cell_type": "code",
   "execution_count": 98,
   "metadata": {},
   "outputs": [],
   "source": [
    "data.drop_duplicates(inplace=True)"
   ]
  },
  {
   "cell_type": "code",
   "execution_count": 99,
   "metadata": {},
   "outputs": [
    {
     "data": {
      "text/html": [
       "<div>\n",
       "<style scoped>\n",
       "    .dataframe tbody tr th:only-of-type {\n",
       "        vertical-align: middle;\n",
       "    }\n",
       "\n",
       "    .dataframe tbody tr th {\n",
       "        vertical-align: top;\n",
       "    }\n",
       "\n",
       "    .dataframe thead th {\n",
       "        text-align: right;\n",
       "    }\n",
       "</style>\n",
       "<table border=\"1\" class=\"dataframe\">\n",
       "  <thead>\n",
       "    <tr style=\"text-align: right;\">\n",
       "      <th></th>\n",
       "      <th>id</th>\n",
       "      <th>name</th>\n",
       "    </tr>\n",
       "  </thead>\n",
       "  <tbody>\n",
       "    <tr>\n",
       "      <th>0</th>\n",
       "      <td>001</td>\n",
       "      <td>Park Yun</td>\n",
       "    </tr>\n",
       "    <tr>\n",
       "      <th>1</th>\n",
       "      <td>002</td>\n",
       "      <td>Kim Sung</td>\n",
       "    </tr>\n",
       "    <tr>\n",
       "      <th>2</th>\n",
       "      <td>003</td>\n",
       "      <td>Park Jin</td>\n",
       "    </tr>\n",
       "    <tr>\n",
       "      <th>3</th>\n",
       "      <td>004</td>\n",
       "      <td>Lee Han</td>\n",
       "    </tr>\n",
       "    <tr>\n",
       "      <th>4</th>\n",
       "      <td>002</td>\n",
       "      <td>Kim Min</td>\n",
       "    </tr>\n",
       "  </tbody>\n",
       "</table>\n",
       "</div>"
      ],
      "text/plain": [
       "    id      name\n",
       "0  001  Park Yun\n",
       "1  002  Kim Sung\n",
       "2  003  Park Jin\n",
       "3  004   Lee Han\n",
       "4  002   Kim Min"
      ]
     },
     "execution_count": 99,
     "metadata": {},
     "output_type": "execute_result"
    }
   ],
   "source": [
    "df = pd.DataFrame({'id':['001', '002', '003', '004', '002'], \n",
    "                   'name':['Park Yun', 'Kim Sung', 'Park Jin', 'Lee Han', 'Kim Min']})\n",
    "df"
   ]
  },
  {
   "cell_type": "code",
   "execution_count": 100,
   "metadata": {},
   "outputs": [
    {
     "data": {
      "text/html": [
       "<div>\n",
       "<style scoped>\n",
       "    .dataframe tbody tr th:only-of-type {\n",
       "        vertical-align: middle;\n",
       "    }\n",
       "\n",
       "    .dataframe tbody tr th {\n",
       "        vertical-align: top;\n",
       "    }\n",
       "\n",
       "    .dataframe thead th {\n",
       "        text-align: right;\n",
       "    }\n",
       "</style>\n",
       "<table border=\"1\" class=\"dataframe\">\n",
       "  <thead>\n",
       "    <tr style=\"text-align: right;\">\n",
       "      <th></th>\n",
       "      <th>id</th>\n",
       "      <th>name</th>\n",
       "    </tr>\n",
       "  </thead>\n",
       "  <tbody>\n",
       "    <tr>\n",
       "      <th>4</th>\n",
       "      <td>002</td>\n",
       "      <td>Kim Min</td>\n",
       "    </tr>\n",
       "  </tbody>\n",
       "</table>\n",
       "</div>"
      ],
      "text/plain": [
       "    id     name\n",
       "4  002  Kim Min"
      ]
     },
     "execution_count": 100,
     "metadata": {},
     "output_type": "execute_result"
    }
   ],
   "source": [
    "df[df['id'].duplicated()]"
   ]
  },
  {
   "cell_type": "code",
   "execution_count": 101,
   "metadata": {},
   "outputs": [
    {
     "data": {
      "text/html": [
       "<div>\n",
       "<style scoped>\n",
       "    .dataframe tbody tr th:only-of-type {\n",
       "        vertical-align: middle;\n",
       "    }\n",
       "\n",
       "    .dataframe tbody tr th {\n",
       "        vertical-align: top;\n",
       "    }\n",
       "\n",
       "    .dataframe thead th {\n",
       "        text-align: right;\n",
       "    }\n",
       "</style>\n",
       "<table border=\"1\" class=\"dataframe\">\n",
       "  <thead>\n",
       "    <tr style=\"text-align: right;\">\n",
       "      <th></th>\n",
       "      <th>id</th>\n",
       "      <th>name</th>\n",
       "    </tr>\n",
       "  </thead>\n",
       "  <tbody>\n",
       "    <tr>\n",
       "      <th>0</th>\n",
       "      <td>001</td>\n",
       "      <td>Park Yun</td>\n",
       "    </tr>\n",
       "    <tr>\n",
       "      <th>2</th>\n",
       "      <td>003</td>\n",
       "      <td>Park Jin</td>\n",
       "    </tr>\n",
       "    <tr>\n",
       "      <th>3</th>\n",
       "      <td>004</td>\n",
       "      <td>Lee Han</td>\n",
       "    </tr>\n",
       "    <tr>\n",
       "      <th>4</th>\n",
       "      <td>002</td>\n",
       "      <td>Kim Min</td>\n",
       "    </tr>\n",
       "  </tbody>\n",
       "</table>\n",
       "</div>"
      ],
      "text/plain": [
       "    id      name\n",
       "0  001  Park Yun\n",
       "2  003  Park Jin\n",
       "3  004   Lee Han\n",
       "4  002   Kim Min"
      ]
     },
     "execution_count": 101,
     "metadata": {},
     "output_type": "execute_result"
    }
   ],
   "source": [
    "# id가 중복된 경우 맨 나중에 들어온 값만 남긴다.\n",
    "df.drop_duplicates(subset=['id'], keep='last')"
   ]
  },
  {
   "cell_type": "markdown",
   "metadata": {},
   "source": [
    "## 이상치"
   ]
  },
  {
   "cell_type": "markdown",
   "metadata": {},
   "source": [
    "Min-Max Scaling 해보면 대부분의 값은 0에 가깝고 이상치만 1에 가까운 값을 가지게 될 것입니다. 이렇게 몇 개의 이상치 때문에 대부분 값의 차이는 의미가 거의 없어지게 됩니다.\n",
    "극단적인 값이 생기는 경우를 제외하고 데이터를 고려하고 싶은 경우 이상치를 제거하고 분석합니다.\n",
    "\n",
    "그렇다면 이상치를 어떻게 찾아내야 할까요?\n",
    "\n",
    "현실에서 이상치를 찾는 것(anomaly detection) 자체가 큰 분야입니다.\n",
    "가장 먼저 생각해 볼 수 있는 간단하고 자주 사용되는 방법은 평균과 표준편차를 이용하는 z score 방법입니다.\n",
    "평균을 빼주고 표준편차로 나눠 z score({\\frac {X-\\mu }{\\sigma }})( \n",
    "σ\n",
    "X−μ\n",
    "​\n",
    " )를 계산합니다. 그리고 z score가 특정 기준을 넘어서는 데이터에 대해 이상치라고 판단합니다. 기준을 작게 하면 이상치라고 판단하는 데이터가 많아지고, 기준을 크게 하면 이상치라고 판단하는 데이터가 적어집니다.\n",
    "\n"
   ]
  },
  {
   "cell_type": "markdown",
   "metadata": {},
   "source": [
    "가장 간단한 방법으로 이상치를 삭제할 수 있습니다. 이상치를 원래 데이터에서 삭제하고, 이상치끼리 따로 분석하는 방안도 있습니다.\n",
    "\n",
    "이상치를 다른 값으로 대체할 수 있습니다. 데이터가 적으면 이상치를 삭제하기보다 다른 값으로 대체하는 것이 나을 수 있습니다. 예를 들어 최댓값, 최솟값을 설정해 데이터의 범위를 제한할 수 있습니다.\n",
    "\n",
    "혹은 결측치와 마찬가지로 다른 데이터를 활용하여 예측 모델을 만들어 예측값을 활용할 수도 있습니다.\n",
    "아니면 binning을 통해 수치형 데이터를 범주형으로 바꿀 수도 있습니다."
   ]
  },
  {
   "cell_type": "markdown",
   "metadata": {},
   "source": [
    "#### z-score method\n",
    "\n",
    "이상치인 데이터의 인덱스를 리턴하는 outlier 함수 생성\n",
    "인풋으로 df, col, z를 받음\n",
    "\n",
    "1. abs(df[col] - np.mean(df[col])) \n",
    "데이터에서 평균을 빼준 것에 절대값을 취함\n",
    "2. abs(df[col] - np.mean(df[col]))/np.std(df[col])\n",
    "위에 한 작업에 표준편차를 나눠줌\n",
    "3. df[abs(df[col] - np.mean(df[col]))/np.std(df[col])>z].index: 값이 z보다 큰 데이터의 인덱스를 추출합니다."
   ]
  },
  {
   "cell_type": "code",
   "execution_count": 102,
   "metadata": {},
   "outputs": [],
   "source": [
    "def outlier(df, col, z):\n",
    "    return df[abs(df[col] - np.mean(df[col]))/ np.std(df[col]) > z].index "
   ]
  },
  {
   "cell_type": "code",
   "execution_count": 103,
   "metadata": {},
   "outputs": [
    {
     "data": {
      "text/html": [
       "<div>\n",
       "<style scoped>\n",
       "    .dataframe tbody tr th:only-of-type {\n",
       "        vertical-align: middle;\n",
       "    }\n",
       "\n",
       "    .dataframe tbody tr th {\n",
       "        vertical-align: top;\n",
       "    }\n",
       "\n",
       "    .dataframe thead th {\n",
       "        text-align: right;\n",
       "    }\n",
       "</style>\n",
       "<table border=\"1\" class=\"dataframe\">\n",
       "  <thead>\n",
       "    <tr style=\"text-align: right;\">\n",
       "      <th></th>\n",
       "      <th>기간</th>\n",
       "      <th>국가명</th>\n",
       "      <th>수출건수</th>\n",
       "      <th>수출금액</th>\n",
       "      <th>수입건수</th>\n",
       "      <th>수입금액</th>\n",
       "      <th>무역수지</th>\n",
       "    </tr>\n",
       "  </thead>\n",
       "  <tbody>\n",
       "    <tr>\n",
       "      <th>6</th>\n",
       "      <td>2015년 03월</td>\n",
       "      <td>중국</td>\n",
       "      <td>117529.0</td>\n",
       "      <td>11868032.0</td>\n",
       "      <td>234321.0</td>\n",
       "      <td>7226911.0</td>\n",
       "      <td>4641121.0</td>\n",
       "    </tr>\n",
       "    <tr>\n",
       "      <th>75</th>\n",
       "      <td>2017년 02월</td>\n",
       "      <td>중국</td>\n",
       "      <td>159062.0</td>\n",
       "      <td>11118131.0</td>\n",
       "      <td>188555.0</td>\n",
       "      <td>6600637.0</td>\n",
       "      <td>4517495.0</td>\n",
       "    </tr>\n",
       "    <tr>\n",
       "      <th>80</th>\n",
       "      <td>2017년 03월</td>\n",
       "      <td>일본</td>\n",
       "      <td>65093.0</td>\n",
       "      <td>2395932.0</td>\n",
       "      <td>165734.0</td>\n",
       "      <td>5157589.0</td>\n",
       "      <td>-2761657.0</td>\n",
       "    </tr>\n",
       "    <tr>\n",
       "      <th>96</th>\n",
       "      <td>2017년 09월</td>\n",
       "      <td>중국</td>\n",
       "      <td>183442.0</td>\n",
       "      <td>13540683.0</td>\n",
       "      <td>295443.0</td>\n",
       "      <td>8443414.0</td>\n",
       "      <td>5097269.0</td>\n",
       "    </tr>\n",
       "    <tr>\n",
       "      <th>99</th>\n",
       "      <td>2017년 10월</td>\n",
       "      <td>중국</td>\n",
       "      <td>137873.0</td>\n",
       "      <td>12580474.0</td>\n",
       "      <td>244977.0</td>\n",
       "      <td>7932403.0</td>\n",
       "      <td>4648071.0</td>\n",
       "    </tr>\n",
       "    <tr>\n",
       "      <th>101</th>\n",
       "      <td>2017년 10월</td>\n",
       "      <td>일본</td>\n",
       "      <td>63510.0</td>\n",
       "      <td>1847999.0</td>\n",
       "      <td>127696.0</td>\n",
       "      <td>4418583.0</td>\n",
       "      <td>-2570584.0</td>\n",
       "    </tr>\n",
       "    <tr>\n",
       "      <th>102</th>\n",
       "      <td>2017년 11월</td>\n",
       "      <td>중국</td>\n",
       "      <td>421194.0</td>\n",
       "      <td>14000887.0</td>\n",
       "      <td>307790.0</td>\n",
       "      <td>9253318.0</td>\n",
       "      <td>4747569.0</td>\n",
       "    </tr>\n",
       "    <tr>\n",
       "      <th>105</th>\n",
       "      <td>2017년 12월</td>\n",
       "      <td>중국</td>\n",
       "      <td>218114.0</td>\n",
       "      <td>13848364.0</td>\n",
       "      <td>290347.0</td>\n",
       "      <td>8600132.0</td>\n",
       "      <td>5248232.0</td>\n",
       "    </tr>\n",
       "    <tr>\n",
       "      <th>114</th>\n",
       "      <td>2018년 03월</td>\n",
       "      <td>중국</td>\n",
       "      <td>232396.0</td>\n",
       "      <td>13576667.0</td>\n",
       "      <td>267249.0</td>\n",
       "      <td>8412516.0</td>\n",
       "      <td>5164151.0</td>\n",
       "    </tr>\n",
       "    <tr>\n",
       "      <th>116</th>\n",
       "      <td>2018년 03월</td>\n",
       "      <td>일본</td>\n",
       "      <td>80142.0</td>\n",
       "      <td>2603450.0</td>\n",
       "      <td>159601.0</td>\n",
       "      <td>5226141.0</td>\n",
       "      <td>-2622691.0</td>\n",
       "    </tr>\n",
       "    <tr>\n",
       "      <th>120</th>\n",
       "      <td>2018년 05월</td>\n",
       "      <td>중국</td>\n",
       "      <td>214145.0</td>\n",
       "      <td>13851900.0</td>\n",
       "      <td>307183.0</td>\n",
       "      <td>9279720.0</td>\n",
       "      <td>4572180.0</td>\n",
       "    </tr>\n",
       "    <tr>\n",
       "      <th>123</th>\n",
       "      <td>2018년 06월</td>\n",
       "      <td>중국</td>\n",
       "      <td>257130.0</td>\n",
       "      <td>13814241.0</td>\n",
       "      <td>279023.0</td>\n",
       "      <td>8713018.0</td>\n",
       "      <td>5101223.0</td>\n",
       "    </tr>\n",
       "    <tr>\n",
       "      <th>126</th>\n",
       "      <td>2018년 07월</td>\n",
       "      <td>중국</td>\n",
       "      <td>181772.0</td>\n",
       "      <td>13721233.0</td>\n",
       "      <td>293164.0</td>\n",
       "      <td>8869278.0</td>\n",
       "      <td>4851955.0</td>\n",
       "    </tr>\n",
       "    <tr>\n",
       "      <th>129</th>\n",
       "      <td>2018년 08월</td>\n",
       "      <td>중국</td>\n",
       "      <td>199010.0</td>\n",
       "      <td>14401521.0</td>\n",
       "      <td>280033.0</td>\n",
       "      <td>8525532.0</td>\n",
       "      <td>5875989.0</td>\n",
       "    </tr>\n",
       "    <tr>\n",
       "      <th>132</th>\n",
       "      <td>2018년 09월</td>\n",
       "      <td>중국</td>\n",
       "      <td>171328.0</td>\n",
       "      <td>14590529.0</td>\n",
       "      <td>280337.0</td>\n",
       "      <td>7889890.0</td>\n",
       "      <td>6700639.0</td>\n",
       "    </tr>\n",
       "    <tr>\n",
       "      <th>135</th>\n",
       "      <td>2018년 10월</td>\n",
       "      <td>중국</td>\n",
       "      <td>169809.0</td>\n",
       "      <td>14767041.0</td>\n",
       "      <td>319876.0</td>\n",
       "      <td>9963108.0</td>\n",
       "      <td>4803932.0</td>\n",
       "    </tr>\n",
       "  </tbody>\n",
       "</table>\n",
       "</div>"
      ],
      "text/plain": [
       "            기간 국가명      수출건수        수출금액      수입건수       수입금액       무역수지\n",
       "6    2015년 03월  중국  117529.0  11868032.0  234321.0  7226911.0  4641121.0\n",
       "75   2017년 02월  중국  159062.0  11118131.0  188555.0  6600637.0  4517495.0\n",
       "80   2017년 03월  일본   65093.0   2395932.0  165734.0  5157589.0 -2761657.0\n",
       "96   2017년 09월  중국  183442.0  13540683.0  295443.0  8443414.0  5097269.0\n",
       "99   2017년 10월  중국  137873.0  12580474.0  244977.0  7932403.0  4648071.0\n",
       "101  2017년 10월  일본   63510.0   1847999.0  127696.0  4418583.0 -2570584.0\n",
       "102  2017년 11월  중국  421194.0  14000887.0  307790.0  9253318.0  4747569.0\n",
       "105  2017년 12월  중국  218114.0  13848364.0  290347.0  8600132.0  5248232.0\n",
       "114  2018년 03월  중국  232396.0  13576667.0  267249.0  8412516.0  5164151.0\n",
       "116  2018년 03월  일본   80142.0   2603450.0  159601.0  5226141.0 -2622691.0\n",
       "120  2018년 05월  중국  214145.0  13851900.0  307183.0  9279720.0  4572180.0\n",
       "123  2018년 06월  중국  257130.0  13814241.0  279023.0  8713018.0  5101223.0\n",
       "126  2018년 07월  중국  181772.0  13721233.0  293164.0  8869278.0  4851955.0\n",
       "129  2018년 08월  중국  199010.0  14401521.0  280033.0  8525532.0  5875989.0\n",
       "132  2018년 09월  중국  171328.0  14590529.0  280337.0  7889890.0  6700639.0\n",
       "135  2018년 10월  중국  169809.0  14767041.0  319876.0  9963108.0  4803932.0"
      ]
     },
     "execution_count": 103,
     "metadata": {},
     "output_type": "execute_result"
    }
   ],
   "source": [
    "data.loc[outlier(data, '무역수지', 1.5)]"
   ]
  },
  {
   "cell_type": "code",
   "execution_count": 104,
   "metadata": {},
   "outputs": [
    {
     "data": {
      "text/html": [
       "<div>\n",
       "<style scoped>\n",
       "    .dataframe tbody tr th:only-of-type {\n",
       "        vertical-align: middle;\n",
       "    }\n",
       "\n",
       "    .dataframe tbody tr th {\n",
       "        vertical-align: top;\n",
       "    }\n",
       "\n",
       "    .dataframe thead th {\n",
       "        text-align: right;\n",
       "    }\n",
       "</style>\n",
       "<table border=\"1\" class=\"dataframe\">\n",
       "  <thead>\n",
       "    <tr style=\"text-align: right;\">\n",
       "      <th></th>\n",
       "      <th>기간</th>\n",
       "      <th>국가명</th>\n",
       "      <th>수출건수</th>\n",
       "      <th>수출금액</th>\n",
       "      <th>수입건수</th>\n",
       "      <th>수입금액</th>\n",
       "      <th>무역수지</th>\n",
       "    </tr>\n",
       "  </thead>\n",
       "  <tbody>\n",
       "    <tr>\n",
       "      <th>129</th>\n",
       "      <td>2018년 08월</td>\n",
       "      <td>중국</td>\n",
       "      <td>199010.0</td>\n",
       "      <td>14401521.0</td>\n",
       "      <td>280033.0</td>\n",
       "      <td>8525532.0</td>\n",
       "      <td>5875989.0</td>\n",
       "    </tr>\n",
       "    <tr>\n",
       "      <th>132</th>\n",
       "      <td>2018년 09월</td>\n",
       "      <td>중국</td>\n",
       "      <td>171328.0</td>\n",
       "      <td>14590529.0</td>\n",
       "      <td>280337.0</td>\n",
       "      <td>7889890.0</td>\n",
       "      <td>6700639.0</td>\n",
       "    </tr>\n",
       "  </tbody>\n",
       "</table>\n",
       "</div>"
      ],
      "text/plain": [
       "            기간 국가명      수출건수        수출금액      수입건수       수입금액       무역수지\n",
       "129  2018년 08월  중국  199010.0  14401521.0  280033.0  8525532.0  5875989.0\n",
       "132  2018년 09월  중국  171328.0  14590529.0  280337.0  7889890.0  6700639.0"
      ]
     },
     "execution_count": 104,
     "metadata": {},
     "output_type": "execute_result"
    }
   ],
   "source": [
    "data.loc[outlier(data, '무역수지', 2)]"
   ]
  },
  {
   "cell_type": "code",
   "execution_count": 105,
   "metadata": {},
   "outputs": [
    {
     "data": {
      "text/html": [
       "<div>\n",
       "<style scoped>\n",
       "    .dataframe tbody tr th:only-of-type {\n",
       "        vertical-align: middle;\n",
       "    }\n",
       "\n",
       "    .dataframe tbody tr th {\n",
       "        vertical-align: top;\n",
       "    }\n",
       "\n",
       "    .dataframe thead th {\n",
       "        text-align: right;\n",
       "    }\n",
       "</style>\n",
       "<table border=\"1\" class=\"dataframe\">\n",
       "  <thead>\n",
       "    <tr style=\"text-align: right;\">\n",
       "      <th></th>\n",
       "      <th>기간</th>\n",
       "      <th>국가명</th>\n",
       "      <th>수출건수</th>\n",
       "      <th>수출금액</th>\n",
       "      <th>수입건수</th>\n",
       "      <th>수입금액</th>\n",
       "      <th>무역수지</th>\n",
       "    </tr>\n",
       "  </thead>\n",
       "  <tbody>\n",
       "  </tbody>\n",
       "</table>\n",
       "</div>"
      ],
      "text/plain": [
       "Empty DataFrame\n",
       "Columns: [기간, 국가명, 수출건수, 수출금액, 수입건수, 수입금액, 무역수지]\n",
       "Index: []"
      ]
     },
     "execution_count": 105,
     "metadata": {},
     "output_type": "execute_result"
    }
   ],
   "source": [
    "data.loc[outlier(data, '무역수지', 3)]"
   ]
  },
  {
   "cell_type": "code",
   "execution_count": 106,
   "metadata": {},
   "outputs": [],
   "source": [
    "def not_outlier(df, col, z):\n",
    "    return df[abs(df[col] - np.mean(df[col]))/np.std(df[col]) <= z].index"
   ]
  },
  {
   "cell_type": "code",
   "execution_count": 107,
   "metadata": {},
   "outputs": [
    {
     "data": {
      "text/html": [
       "<div>\n",
       "<style scoped>\n",
       "    .dataframe tbody tr th:only-of-type {\n",
       "        vertical-align: middle;\n",
       "    }\n",
       "\n",
       "    .dataframe tbody tr th {\n",
       "        vertical-align: top;\n",
       "    }\n",
       "\n",
       "    .dataframe thead th {\n",
       "        text-align: right;\n",
       "    }\n",
       "</style>\n",
       "<table border=\"1\" class=\"dataframe\">\n",
       "  <thead>\n",
       "    <tr style=\"text-align: right;\">\n",
       "      <th></th>\n",
       "      <th>기간</th>\n",
       "      <th>국가명</th>\n",
       "      <th>수출건수</th>\n",
       "      <th>수출금액</th>\n",
       "      <th>수입건수</th>\n",
       "      <th>수입금액</th>\n",
       "      <th>무역수지</th>\n",
       "    </tr>\n",
       "  </thead>\n",
       "  <tbody>\n",
       "    <tr>\n",
       "      <th>0</th>\n",
       "      <td>2015년 01월</td>\n",
       "      <td>중국</td>\n",
       "      <td>116932.0</td>\n",
       "      <td>12083947.0</td>\n",
       "      <td>334522.0</td>\n",
       "      <td>8143271.0</td>\n",
       "      <td>3940676.0</td>\n",
       "    </tr>\n",
       "    <tr>\n",
       "      <th>1</th>\n",
       "      <td>2015년 01월</td>\n",
       "      <td>미국</td>\n",
       "      <td>65888.0</td>\n",
       "      <td>5561545.0</td>\n",
       "      <td>509564.0</td>\n",
       "      <td>3625062.0</td>\n",
       "      <td>1936484.0</td>\n",
       "    </tr>\n",
       "    <tr>\n",
       "      <th>2</th>\n",
       "      <td>2015년 01월</td>\n",
       "      <td>일본</td>\n",
       "      <td>54017.0</td>\n",
       "      <td>2251307.0</td>\n",
       "      <td>82480.0</td>\n",
       "      <td>3827247.0</td>\n",
       "      <td>-1575940.0</td>\n",
       "    </tr>\n",
       "    <tr>\n",
       "      <th>3</th>\n",
       "      <td>2015년 02월</td>\n",
       "      <td>중국</td>\n",
       "      <td>86228.0</td>\n",
       "      <td>9927642.0</td>\n",
       "      <td>209100.0</td>\n",
       "      <td>6980874.0</td>\n",
       "      <td>2946768.0</td>\n",
       "    </tr>\n",
       "    <tr>\n",
       "      <th>4</th>\n",
       "      <td>2015년 02월</td>\n",
       "      <td>미국</td>\n",
       "      <td>60225.0</td>\n",
       "      <td>5021264.0</td>\n",
       "      <td>428678.0</td>\n",
       "      <td>2998216.0</td>\n",
       "      <td>2023048.0</td>\n",
       "    </tr>\n",
       "    <tr>\n",
       "      <th>...</th>\n",
       "      <td>...</td>\n",
       "      <td>...</td>\n",
       "      <td>...</td>\n",
       "      <td>...</td>\n",
       "      <td>...</td>\n",
       "      <td>...</td>\n",
       "      <td>...</td>\n",
       "    </tr>\n",
       "    <tr>\n",
       "      <th>191</th>\n",
       "      <td>2020년 04월</td>\n",
       "      <td>미국</td>\n",
       "      <td>105360.0</td>\n",
       "      <td>5946782.0</td>\n",
       "      <td>1141118.0</td>\n",
       "      <td>5038739.0</td>\n",
       "      <td>908043.0</td>\n",
       "    </tr>\n",
       "    <tr>\n",
       "      <th>192</th>\n",
       "      <td>2020년 04월</td>\n",
       "      <td>일본</td>\n",
       "      <td>134118.0</td>\n",
       "      <td>1989323.0</td>\n",
       "      <td>141207.0</td>\n",
       "      <td>3989562.0</td>\n",
       "      <td>-2000239.0</td>\n",
       "    </tr>\n",
       "    <tr>\n",
       "      <th>193</th>\n",
       "      <td>2020년 05월</td>\n",
       "      <td>중국</td>\n",
       "      <td>185320.0</td>\n",
       "      <td>10746069.0</td>\n",
       "      <td>349007.0</td>\n",
       "      <td>8989920.0</td>\n",
       "      <td>1756149.0</td>\n",
       "    </tr>\n",
       "    <tr>\n",
       "      <th>194</th>\n",
       "      <td>2020년 05월</td>\n",
       "      <td>미국</td>\n",
       "      <td>126598.0</td>\n",
       "      <td>4600726.0</td>\n",
       "      <td>1157163.0</td>\n",
       "      <td>4286873.0</td>\n",
       "      <td>313853.0</td>\n",
       "    </tr>\n",
       "    <tr>\n",
       "      <th>195</th>\n",
       "      <td>2020년 05월</td>\n",
       "      <td>일본</td>\n",
       "      <td>166568.0</td>\n",
       "      <td>1798128.0</td>\n",
       "      <td>133763.0</td>\n",
       "      <td>3102734.0</td>\n",
       "      <td>-1304606.0</td>\n",
       "    </tr>\n",
       "  </tbody>\n",
       "</table>\n",
       "<p>179 rows × 7 columns</p>\n",
       "</div>"
      ],
      "text/plain": [
       "            기간 국가명      수출건수        수출금액       수입건수       수입금액       무역수지\n",
       "0    2015년 01월  중국  116932.0  12083947.0   334522.0  8143271.0  3940676.0\n",
       "1    2015년 01월  미국   65888.0   5561545.0   509564.0  3625062.0  1936484.0\n",
       "2    2015년 01월  일본   54017.0   2251307.0    82480.0  3827247.0 -1575940.0\n",
       "3    2015년 02월  중국   86228.0   9927642.0   209100.0  6980874.0  2946768.0\n",
       "4    2015년 02월  미국   60225.0   5021264.0   428678.0  2998216.0  2023048.0\n",
       "..         ...  ..       ...         ...        ...        ...        ...\n",
       "191  2020년 04월  미국  105360.0   5946782.0  1141118.0  5038739.0   908043.0\n",
       "192  2020년 04월  일본  134118.0   1989323.0   141207.0  3989562.0 -2000239.0\n",
       "193  2020년 05월  중국  185320.0  10746069.0   349007.0  8989920.0  1756149.0\n",
       "194  2020년 05월  미국  126598.0   4600726.0  1157163.0  4286873.0   313853.0\n",
       "195  2020년 05월  일본  166568.0   1798128.0   133763.0  3102734.0 -1304606.0\n",
       "\n",
       "[179 rows x 7 columns]"
      ]
     },
     "execution_count": 107,
     "metadata": {},
     "output_type": "execute_result"
    }
   ],
   "source": [
    "data.loc[not_outlier(data, '무역수지', 1.5)]"
   ]
  },
  {
   "cell_type": "markdown",
   "metadata": {},
   "source": [
    "IQR method\n",
    "\n",
    "z-score의 한계점?\n",
    "\n",
    "사분위수로 이상치를 알아내는 방법"
   ]
  },
  {
   "cell_type": "code",
   "execution_count": 63,
   "metadata": {},
   "outputs": [
    {
     "data": {
      "text/plain": [
       "array([ -1.76884571,   0.07555227,  -1.1306297 ,  -0.65143017,\n",
       "        -0.89311563,  -1.27410098,  -0.06115443,   0.06451384,\n",
       "         0.41011295,  -0.57288249,  -0.80133362,   1.31203519,\n",
       "         1.27469887,  -1.2143576 ,   0.31371941,  -1.44482142,\n",
       "        -0.3689613 ,  -0.76922658,   0.3926161 ,   0.05729383,\n",
       "         2.08997884,   0.04197131,  -0.04834072,  -0.51315392,\n",
       "        -0.08458928,  -1.21545008,  -1.41293073,  -1.48691055,\n",
       "         0.38222486,   0.937673  ,   1.77267804,   0.87882801,\n",
       "         0.33171912,  -0.30603567,   1.24026615,  -0.21562684,\n",
       "         0.15592948,   0.09805553,   0.83209585,   2.04520542,\n",
       "        -0.31681392,  -1.31283291,  -1.75445746,   0.10209408,\n",
       "        -1.36150208,   0.48178488,  -0.20832874,  -0.09186351,\n",
       "         0.70268816,   0.10365506,   0.62123638,   0.95411497,\n",
       "         2.03781352,  -0.48445122,   0.2071549 ,   1.64424216,\n",
       "        -0.4882074 ,  -0.01782826,   0.46891556,   0.27987266,\n",
       "        -0.64664972,  -0.54406002,  -0.16008985,   0.03781172,\n",
       "         1.03383296,  -1.23096117,  -1.24673665,   0.29572055,\n",
       "         2.1409624 ,  -0.92020227,  -0.06000238,   0.27978391,\n",
       "        -1.53126966,  -0.30293101,  -0.14601413,   0.27746159,\n",
       "        -0.13952066,   0.69515966,  -0.11338746,  -1.233267  ,\n",
       "        -0.79614131,  -0.46739138,   0.65890607,  -0.41063115,\n",
       "         0.17344356,   0.28946174,   1.03451736,   1.22661712,\n",
       "         1.71998252,   0.40806834,   0.32256894,   1.04722748,\n",
       "        -1.8196003 ,  -0.42582157,   0.12454883,   2.31256634,\n",
       "        -0.96557586,  -0.34627486,   0.96668378,  -0.92550192,\n",
       "         8.        , -10.        ,  -3.        ,  -5.        ])"
      ]
     },
     "execution_count": 63,
     "metadata": {},
     "output_type": "execute_result"
    }
   ],
   "source": [
    "np.random.seed(2020)\n",
    "data = np.random.randn(100) #평균 0, 표준편차 1의 분포에서 100개 숫자를 샘플링\n",
    "data = np.concatenate((data, np.array([8, -10, -3, -5])))\n",
    "data"
   ]
  },
  {
   "cell_type": "code",
   "execution_count": 66,
   "metadata": {},
   "outputs": [
    {
     "data": {
      "image/png": "[encoded data removed]",
      "text/plain": [
       "<Figure size 432x288 with 1 Axes>"
      ]
     },
     "metadata": {
      "needs_background": "light"
     },
     "output_type": "display_data"
    }
   ],
   "source": [
    "fig, ax = plt.subplots()\n",
    "ax.boxplot(data)\n",
    "plt.show()"
   ]
  },
  {
   "attachments": {
    "image.png": {
     "image/png": "[encoded data removed]"
    }
   },
   "cell_type": "markdown",
   "metadata": {},
   "source": [
    "![image.png](attachment:image.png)"
   ]
  },
  {
   "cell_type": "code",
   "execution_count": 67,
   "metadata": {},
   "outputs": [],
   "source": [
    "Q3, Q1 = np.percentile(data, [75, 25])"
   ]
  },
  {
   "cell_type": "code",
   "execution_count": 68,
   "metadata": {},
   "outputs": [
    {
     "data": {
      "text/plain": [
       "0.47213288953757365"
      ]
     },
     "execution_count": 68,
     "metadata": {},
     "output_type": "execute_result"
    }
   ],
   "source": [
    "Q3"
   ]
  },
  {
   "cell_type": "code",
   "execution_count": 69,
   "metadata": {},
   "outputs": [
    {
     "data": {
      "text/plain": [
       "-0.6808792693386205"
      ]
     },
     "execution_count": 69,
     "metadata": {},
     "output_type": "execute_result"
    }
   ],
   "source": [
    "Q1"
   ]
  },
  {
   "cell_type": "code",
   "execution_count": 73,
   "metadata": {},
   "outputs": [],
   "source": [
    "IQR = Q3-Q1"
   ]
  },
  {
   "cell_type": "code",
   "execution_count": 74,
   "metadata": {},
   "outputs": [
    {
     "data": {
      "text/plain": [
       "1.1530121588761941"
      ]
     },
     "execution_count": 74,
     "metadata": {},
     "output_type": "execute_result"
    }
   ],
   "source": [
    "IQR"
   ]
  },
  {
   "cell_type": "code",
   "execution_count": 76,
   "metadata": {},
   "outputs": [
    {
     "data": {
      "text/plain": [
       "array([  2.31256634,   8.        , -10.        ,  -3.        ,\n",
       "        -5.        ])"
      ]
     },
     "execution_count": 76,
     "metadata": {},
     "output_type": "execute_result"
    }
   ],
   "source": [
    "data[(Q1 - 1.5 * IQR > data) | (Q3 + 1.5 * IQR < data)]"
   ]
  },
  {
   "cell_type": "markdown",
   "metadata": {},
   "source": [
    "Z 스코어는 이상치에 의해 평균과 분산이 크게 영향을 받는다. 이느 robust하지 \n",
    "않다는 의미이다. "
   ]
  },
  {
   "cell_type": "markdown",
   "metadata": {},
   "source": [
    "Modified Z-score method\n",
    "Another drawback of the Z-score method is that it behaves strangely in small datasets – in fact, the Z-score method will never detect an outlier if the dataset has fewer than 12 items in it. This motivated the development of a modified Z-score method, which does not suffer from the same limitation.2\n",
    "\n",
    "```\n",
    "import numpy as np\n",
    "\n",
    "def outliers_modified_z_score(ys):\n",
    "    threshold = 3.5\n",
    "\n",
    "    median_y = np.median(ys)\n",
    "    median_absolute_deviation_y = np.median([np.abs(y - median_y) for y in ys])\n",
    "    modified_z_scores = [0.6745 * (y - median_y) / median_absolute_deviation_y\n",
    "                         for y in ys]\n",
    "    return np.where(np.abs(modified_z_scores) > threshold)\n",
    "```\n",
    "A further benefit of the modified Z-score method is that it uses the median and MAD rather than the mean and standard deviation. The median and MAD are robust measures of central tendency and dispersion, respectively."
   ]
  },
  {
   "cell_type": "code",
   "execution_count": 113,
   "metadata": {},
   "outputs": [],
   "source": [
    "def outlier(df, col, z):\n",
    "    return df[abs(df[col] - np.mean(df[col]))/ np.std(df[col]) > z].index \n",
    "\n",
    "def outlier2(df, col, threshold):\n",
    "    #중앙값\n",
    "    median = np.median(df[col])\n",
    "    #중앙값 절대편차\n",
    "    mad = np.median(abs(df[col] - median))\n",
    "    modified_z_scores = 0.6745 * (df[col] - median) / mad\n",
    "    return df[np.abs(modified_z_scores) > threshold].index"
   ]
  },
  {
   "cell_type": "code",
   "execution_count": 127,
   "metadata": {},
   "outputs": [
    {
     "data": {
      "text/html": [
       "<div>\n",
       "<style scoped>\n",
       "    .dataframe tbody tr th:only-of-type {\n",
       "        vertical-align: middle;\n",
       "    }\n",
       "\n",
       "    .dataframe tbody tr th {\n",
       "        vertical-align: top;\n",
       "    }\n",
       "\n",
       "    .dataframe thead th {\n",
       "        text-align: right;\n",
       "    }\n",
       "</style>\n",
       "<table border=\"1\" class=\"dataframe\">\n",
       "  <thead>\n",
       "    <tr style=\"text-align: right;\">\n",
       "      <th></th>\n",
       "      <th>기간</th>\n",
       "      <th>국가명</th>\n",
       "      <th>수출건수</th>\n",
       "      <th>수출금액</th>\n",
       "      <th>수입건수</th>\n",
       "      <th>수입금액</th>\n",
       "      <th>무역수지</th>\n",
       "    </tr>\n",
       "  </thead>\n",
       "  <tbody>\n",
       "  </tbody>\n",
       "</table>\n",
       "</div>"
      ],
      "text/plain": [
       "Empty DataFrame\n",
       "Columns: [기간, 국가명, 수출건수, 수출금액, 수입건수, 수입금액, 무역수지]\n",
       "Index: []"
      ]
     },
     "execution_count": 127,
     "metadata": {},
     "output_type": "execute_result"
    }
   ],
   "source": [
    "def outlier3(df, col):\n",
    "    q1 = df[col].quantile(0.25)\n",
    "    q3 = df[col].quantile(0.75)\n",
    "    iqr = q3 - q1\n",
    "    return df[(df[col] < q1-1.5*iqr)|(df[col] > q3+1.5*iqr)]\n",
    "\n",
    "outlier3(data, '무역수지')"
   ]
  },
  {
   "cell_type": "code",
   "execution_count": 130,
   "metadata": {},
   "outputs": [
    {
     "data": {
      "text/plain": [
       "Int64Index([6, 75, 80, 96, 99, 101, 102, 105, 114, 116, 120, 123, 126, 129,\n",
       "            132, 135],\n",
       "           dtype='int64')"
      ]
     },
     "execution_count": 130,
     "metadata": {},
     "output_type": "execute_result"
    }
   ],
   "source": [
    "outlier(data, '무역수지', 1.5)"
   ]
  },
  {
   "cell_type": "code",
   "execution_count": 131,
   "metadata": {},
   "outputs": [
    {
     "data": {
      "text/plain": [
       "Int64Index([129, 132], dtype='int64')"
      ]
     },
     "execution_count": 131,
     "metadata": {},
     "output_type": "execute_result"
    }
   ],
   "source": [
    "outlier2(data, '무역수지', 1.5)"
   ]
  },
  {
   "cell_type": "code",
   "execution_count": 124,
   "metadata": {},
   "outputs": [
    {
     "data": {
      "text/html": [
       "<div>\n",
       "<style scoped>\n",
       "    .dataframe tbody tr th:only-of-type {\n",
       "        vertical-align: middle;\n",
       "    }\n",
       "\n",
       "    .dataframe tbody tr th {\n",
       "        vertical-align: top;\n",
       "    }\n",
       "\n",
       "    .dataframe thead th {\n",
       "        text-align: right;\n",
       "    }\n",
       "</style>\n",
       "<table border=\"1\" class=\"dataframe\">\n",
       "  <thead>\n",
       "    <tr style=\"text-align: right;\">\n",
       "      <th></th>\n",
       "      <th>기간</th>\n",
       "      <th>국가명</th>\n",
       "      <th>수출건수</th>\n",
       "      <th>수출금액</th>\n",
       "      <th>수입건수</th>\n",
       "      <th>수입금액</th>\n",
       "      <th>무역수지</th>\n",
       "    </tr>\n",
       "  </thead>\n",
       "  <tbody>\n",
       "    <tr>\n",
       "      <th>129</th>\n",
       "      <td>2018년 08월</td>\n",
       "      <td>중국</td>\n",
       "      <td>199010.0</td>\n",
       "      <td>14401521.0</td>\n",
       "      <td>280033.0</td>\n",
       "      <td>8525532.0</td>\n",
       "      <td>5875989.0</td>\n",
       "    </tr>\n",
       "    <tr>\n",
       "      <th>132</th>\n",
       "      <td>2018년 09월</td>\n",
       "      <td>중국</td>\n",
       "      <td>171328.0</td>\n",
       "      <td>14590529.0</td>\n",
       "      <td>280337.0</td>\n",
       "      <td>7889890.0</td>\n",
       "      <td>6700639.0</td>\n",
       "    </tr>\n",
       "  </tbody>\n",
       "</table>\n",
       "</div>"
      ],
      "text/plain": [
       "            기간 국가명      수출건수        수출금액      수입건수       수입금액       무역수지\n",
       "129  2018년 08월  중국  199010.0  14401521.0  280033.0  8525532.0  5875989.0\n",
       "132  2018년 09월  중국  171328.0  14590529.0  280337.0  7889890.0  6700639.0"
      ]
     },
     "execution_count": 124,
     "metadata": {},
     "output_type": "execute_result"
    }
   ],
   "source": [
    "data.loc[outlier(data, '무역수지', 2)]"
   ]
  },
  {
   "cell_type": "code",
   "execution_count": 126,
   "metadata": {},
   "outputs": [
    {
     "data": {
      "text/html": [
       "<div>\n",
       "<style scoped>\n",
       "    .dataframe tbody tr th:only-of-type {\n",
       "        vertical-align: middle;\n",
       "    }\n",
       "\n",
       "    .dataframe tbody tr th {\n",
       "        vertical-align: top;\n",
       "    }\n",
       "\n",
       "    .dataframe thead th {\n",
       "        text-align: right;\n",
       "    }\n",
       "</style>\n",
       "<table border=\"1\" class=\"dataframe\">\n",
       "  <thead>\n",
       "    <tr style=\"text-align: right;\">\n",
       "      <th></th>\n",
       "      <th>기간</th>\n",
       "      <th>국가명</th>\n",
       "      <th>수출건수</th>\n",
       "      <th>수출금액</th>\n",
       "      <th>수입건수</th>\n",
       "      <th>수입금액</th>\n",
       "      <th>무역수지</th>\n",
       "    </tr>\n",
       "  </thead>\n",
       "  <tbody>\n",
       "  </tbody>\n",
       "</table>\n",
       "</div>"
      ],
      "text/plain": [
       "Empty DataFrame\n",
       "Columns: [기간, 국가명, 수출건수, 수출금액, 수입건수, 수입금액, 무역수지]\n",
       "Index: []"
      ]
     },
     "execution_count": 126,
     "metadata": {},
     "output_type": "execute_result"
    }
   ],
   "source": [
    "data.loc[outlier2(data, '무역수지', 2)]"
   ]
  },
  {
   "cell_type": "markdown",
   "metadata": {},
   "source": [
    "데이터 단위 변환\n",
    "\n",
    "Scaling: 평균이 0, 분산이 1인 분포로 변환\n",
    "MinMax Scaling: 특정 범위 (예, 0~1)로 모든 데이터를 변환\n",
    "Box-Cox: 여러 k 값중 가장 작은 SSE 선택\n",
    "Robust_scale: median, interquartile range 사용(outlier 영향 최소화)\n",
    "\n",
    "\n",
    "from scipy.stats import boxcox\n",
    "\n",
    "# 변수별 scaling 적용\n",
    "df['X_scale'] = preprocessing.scale(df['X']) \n",
    "df['X_minmax_scale'] = preprocessing.MinMaxScaler(df['X']\n",
    "df['X_boxcox'] = preprocessing.scale(boxcox(df['X']+1)[0])\n",
    "df['X_robust_scale'] = preprocessing.robust_scale(df['X'])\n",
    "\n",
    "# 데이터 프레임 전체에 scaling 적용\n",
    "from sklearn.preprocessing import StandardScaler\n",
    "from sklearn.preprocessing import MinMaxScaler\n",
    "\n",
    "# StandardScaler\n",
    "for c in df:\n",
    "    df_sc[c] = StandardScaler().fit_transform(df[c].reshape(-1,1)).round(4)\n",
    "\n",
    "# MinMaxScaler\n",
    "for c in df:\n",
    "    df_minmax[c] = MinMaxScaler().fit_transform(df[c].reshape(-1,1).round(4))"
   ]
  },
  {
   "cell_type": "markdown",
   "metadata": {},
   "source": [
    "### 정규화\n",
    "\n",
    "trade 데이터를 보면 수입건수, 수출건수와 수입금액, 수출금액, 무역수지는 단위가 다르다는 것을 알 수 있습니다.\n",
    "\n",
    "이처럼 컬럼마다 스케일이 크게 차이가 나는 데이터를 입력하면 머신러닝 모델 학습에 문제가 발생할 수 있습니다.\n",
    "예를 들어 데이터의 범위가 0에서 1 사이인 컬럼 A과 1000에서 10000 사이인 컬럼 B가 있다고 생각해봅시다. 이런 데이터를 클러스터링 한다고 가정해봅시다. 데이터 간의 거리를 잴 때, 범위가 큰 컬럼 B의 값에만 영향을 크게 받을 것입니다.\n",
    "다른 예시로 간단한 linear regression을 한다고 가정해봅시다. 모델의 파라미터를 업데이트하는 과정에서 범위가 큰 컬럼 B의 파라메터만 집중적으로 업데이트하는 문제가 생길 수 있습니다.\n",
    "\n",
    "그래서 일반적으로 컬럼간에 범위가 크게 다를 경우 전처리 과정에서 데이터를 정규화합니다."
   ]
  },
  {
   "attachments": {
    "image.png": {
     "image/png": "[encoded data removed]"
    }
   },
   "cell_type": "markdown",
   "metadata": {},
   "source": [
    "![image.png](attachment:image.png)"
   ]
  },
  {
   "cell_type": "code",
   "execution_count": 132,
   "metadata": {},
   "outputs": [
    {
     "data": {
      "text/html": [
       "<div>\n",
       "<style scoped>\n",
       "    .dataframe tbody tr th:only-of-type {\n",
       "        vertical-align: middle;\n",
       "    }\n",
       "\n",
       "    .dataframe tbody tr th {\n",
       "        vertical-align: top;\n",
       "    }\n",
       "\n",
       "    .dataframe thead th {\n",
       "        text-align: right;\n",
       "    }\n",
       "</style>\n",
       "<table border=\"1\" class=\"dataframe\">\n",
       "  <thead>\n",
       "    <tr style=\"text-align: right;\">\n",
       "      <th></th>\n",
       "      <th>A</th>\n",
       "      <th>B</th>\n",
       "    </tr>\n",
       "  </thead>\n",
       "  <tbody>\n",
       "    <tr>\n",
       "      <th>0</th>\n",
       "      <td>-3.075383</td>\n",
       "      <td>-0.448552</td>\n",
       "    </tr>\n",
       "    <tr>\n",
       "      <th>1</th>\n",
       "      <td>4.302209</td>\n",
       "      <td>-2.151012</td>\n",
       "    </tr>\n",
       "    <tr>\n",
       "      <th>2</th>\n",
       "      <td>-0.522519</td>\n",
       "      <td>-1.245304</td>\n",
       "    </tr>\n",
       "    <tr>\n",
       "      <th>3</th>\n",
       "      <td>1.394279</td>\n",
       "      <td>-1.169169</td>\n",
       "    </tr>\n",
       "    <tr>\n",
       "      <th>4</th>\n",
       "      <td>0.427537</td>\n",
       "      <td>-0.458080</td>\n",
       "    </tr>\n",
       "    <tr>\n",
       "      <th>...</th>\n",
       "      <td>...</td>\n",
       "      <td>...</td>\n",
       "    </tr>\n",
       "    <tr>\n",
       "      <th>95</th>\n",
       "      <td>13.250265</td>\n",
       "      <td>-0.734271</td>\n",
       "    </tr>\n",
       "    <tr>\n",
       "      <th>96</th>\n",
       "      <td>0.137697</td>\n",
       "      <td>-2.041710</td>\n",
       "    </tr>\n",
       "    <tr>\n",
       "      <th>97</th>\n",
       "      <td>2.614901</td>\n",
       "      <td>-3.057545</td>\n",
       "    </tr>\n",
       "    <tr>\n",
       "      <th>98</th>\n",
       "      <td>7.866735</td>\n",
       "      <td>-2.140529</td>\n",
       "    </tr>\n",
       "    <tr>\n",
       "      <th>99</th>\n",
       "      <td>0.297992</td>\n",
       "      <td>-0.503868</td>\n",
       "    </tr>\n",
       "  </tbody>\n",
       "</table>\n",
       "<p>100 rows × 2 columns</p>\n",
       "</div>"
      ],
      "text/plain": [
       "            A         B\n",
       "0   -3.075383 -0.448552\n",
       "1    4.302209 -2.151012\n",
       "2   -0.522519 -1.245304\n",
       "3    1.394279 -1.169169\n",
       "4    0.427537 -0.458080\n",
       "..        ...       ...\n",
       "95  13.250265 -0.734271\n",
       "96   0.137697 -2.041710\n",
       "97   2.614901 -3.057545\n",
       "98   7.866735 -2.140529\n",
       "99   0.297992 -0.503868\n",
       "\n",
       "[100 rows x 2 columns]"
      ]
     },
     "execution_count": 132,
     "metadata": {},
     "output_type": "execute_result"
    }
   ],
   "source": [
    "# 정규분포를 따라 랜덤하게 데이터 x를 생성합니다. \n",
    "np.random.seed(2020)\n",
    "x = pd.DataFrame({'A': np.random.randn(100)*4+4,\n",
    "                 'B': np.random.randn(100)-1})\n",
    "x"
   ]
  },
  {
   "cell_type": "code",
   "execution_count": 133,
   "metadata": {},
   "outputs": [
    {
     "data": {
      "text/html": [
       "<div>\n",
       "<style scoped>\n",
       "    .dataframe tbody tr th:only-of-type {\n",
       "        vertical-align: middle;\n",
       "    }\n",
       "\n",
       "    .dataframe tbody tr th {\n",
       "        vertical-align: top;\n",
       "    }\n",
       "\n",
       "    .dataframe thead th {\n",
       "        text-align: right;\n",
       "    }\n",
       "</style>\n",
       "<table border=\"1\" class=\"dataframe\">\n",
       "  <thead>\n",
       "    <tr style=\"text-align: right;\">\n",
       "      <th></th>\n",
       "      <th>A</th>\n",
       "      <th>B</th>\n",
       "    </tr>\n",
       "  </thead>\n",
       "  <tbody>\n",
       "    <tr>\n",
       "      <th>0</th>\n",
       "      <td>-1.862058</td>\n",
       "      <td>0.559307</td>\n",
       "    </tr>\n",
       "    <tr>\n",
       "      <th>1</th>\n",
       "      <td>0.072383</td>\n",
       "      <td>-1.132240</td>\n",
       "    </tr>\n",
       "    <tr>\n",
       "      <th>2</th>\n",
       "      <td>-1.192684</td>\n",
       "      <td>-0.232338</td>\n",
       "    </tr>\n",
       "    <tr>\n",
       "      <th>3</th>\n",
       "      <td>-0.690090</td>\n",
       "      <td>-0.156691</td>\n",
       "    </tr>\n",
       "    <tr>\n",
       "      <th>4</th>\n",
       "      <td>-0.943575</td>\n",
       "      <td>0.549839</td>\n",
       "    </tr>\n",
       "    <tr>\n",
       "      <th>...</th>\n",
       "      <td>...</td>\n",
       "      <td>...</td>\n",
       "    </tr>\n",
       "    <tr>\n",
       "      <th>95</th>\n",
       "      <td>2.418607</td>\n",
       "      <td>0.275419</td>\n",
       "    </tr>\n",
       "    <tr>\n",
       "      <th>96</th>\n",
       "      <td>-1.019573</td>\n",
       "      <td>-1.023639</td>\n",
       "    </tr>\n",
       "    <tr>\n",
       "      <th>97</th>\n",
       "      <td>-0.370038</td>\n",
       "      <td>-2.032961</td>\n",
       "    </tr>\n",
       "    <tr>\n",
       "      <th>98</th>\n",
       "      <td>1.007019</td>\n",
       "      <td>-1.121824</td>\n",
       "    </tr>\n",
       "    <tr>\n",
       "      <th>99</th>\n",
       "      <td>-0.977542</td>\n",
       "      <td>0.504345</td>\n",
       "    </tr>\n",
       "  </tbody>\n",
       "</table>\n",
       "<p>100 rows × 2 columns</p>\n",
       "</div>"
      ],
      "text/plain": [
       "           A         B\n",
       "0  -1.862058  0.559307\n",
       "1   0.072383 -1.132240\n",
       "2  -1.192684 -0.232338\n",
       "3  -0.690090 -0.156691\n",
       "4  -0.943575  0.549839\n",
       "..       ...       ...\n",
       "95  2.418607  0.275419\n",
       "96 -1.019573 -1.023639\n",
       "97 -0.370038 -2.032961\n",
       "98  1.007019 -1.121824\n",
       "99 -0.977542  0.504345\n",
       "\n",
       "[100 rows x 2 columns]"
      ]
     },
     "execution_count": 133,
     "metadata": {},
     "output_type": "execute_result"
    }
   ],
   "source": [
    "# 데이터 x를 Standardization 기법으로 정규화합니다. \n",
    "x_standardization = (x - x.mean())/x.std()\n",
    "x_standardization"
   ]
  },
  {
   "cell_type": "code",
   "execution_count": 134,
   "metadata": {},
   "outputs": [
    {
     "data": {
      "text/html": [
       "<div>\n",
       "<style scoped>\n",
       "    .dataframe tbody tr th:only-of-type {\n",
       "        vertical-align: middle;\n",
       "    }\n",
       "\n",
       "    .dataframe tbody tr th {\n",
       "        vertical-align: top;\n",
       "    }\n",
       "\n",
       "    .dataframe thead th {\n",
       "        text-align: right;\n",
       "    }\n",
       "</style>\n",
       "<table border=\"1\" class=\"dataframe\">\n",
       "  <thead>\n",
       "    <tr style=\"text-align: right;\">\n",
       "      <th></th>\n",
       "      <th>A</th>\n",
       "      <th>B</th>\n",
       "    </tr>\n",
       "  </thead>\n",
       "  <tbody>\n",
       "    <tr>\n",
       "      <th>0</th>\n",
       "      <td>0.012283</td>\n",
       "      <td>0.607216</td>\n",
       "    </tr>\n",
       "    <tr>\n",
       "      <th>1</th>\n",
       "      <td>0.458634</td>\n",
       "      <td>0.267692</td>\n",
       "    </tr>\n",
       "    <tr>\n",
       "      <th>2</th>\n",
       "      <td>0.166733</td>\n",
       "      <td>0.448318</td>\n",
       "    </tr>\n",
       "    <tr>\n",
       "      <th>3</th>\n",
       "      <td>0.282702</td>\n",
       "      <td>0.463502</td>\n",
       "    </tr>\n",
       "    <tr>\n",
       "      <th>4</th>\n",
       "      <td>0.224213</td>\n",
       "      <td>0.605316</td>\n",
       "    </tr>\n",
       "    <tr>\n",
       "      <th>...</th>\n",
       "      <td>...</td>\n",
       "      <td>...</td>\n",
       "    </tr>\n",
       "    <tr>\n",
       "      <th>95</th>\n",
       "      <td>1.000000</td>\n",
       "      <td>0.550235</td>\n",
       "    </tr>\n",
       "    <tr>\n",
       "      <th>96</th>\n",
       "      <td>0.206677</td>\n",
       "      <td>0.289490</td>\n",
       "    </tr>\n",
       "    <tr>\n",
       "      <th>97</th>\n",
       "      <td>0.356550</td>\n",
       "      <td>0.086901</td>\n",
       "    </tr>\n",
       "    <tr>\n",
       "      <th>98</th>\n",
       "      <td>0.674291</td>\n",
       "      <td>0.269782</td>\n",
       "    </tr>\n",
       "    <tr>\n",
       "      <th>99</th>\n",
       "      <td>0.216375</td>\n",
       "      <td>0.596184</td>\n",
       "    </tr>\n",
       "  </tbody>\n",
       "</table>\n",
       "<p>100 rows × 2 columns</p>\n",
       "</div>"
      ],
      "text/plain": [
       "           A         B\n",
       "0   0.012283  0.607216\n",
       "1   0.458634  0.267692\n",
       "2   0.166733  0.448318\n",
       "3   0.282702  0.463502\n",
       "4   0.224213  0.605316\n",
       "..       ...       ...\n",
       "95  1.000000  0.550235\n",
       "96  0.206677  0.289490\n",
       "97  0.356550  0.086901\n",
       "98  0.674291  0.269782\n",
       "99  0.216375  0.596184\n",
       "\n",
       "[100 rows x 2 columns]"
      ]
     },
     "execution_count": 134,
     "metadata": {},
     "output_type": "execute_result"
    }
   ],
   "source": [
    "# 데이터 x를 min-max scaling 기법으로 정규화합니다. \n",
    "x_min_max = (x-x.min())/(x.max()-x.min())\n",
    "x_min_max"
   ]
  },
  {
   "cell_type": "markdown",
   "metadata": {},
   "source": [
    "데이터를 Standardization 기법으로 정규화를 했을 때 분포가 어떻게 바뀌는지 보여줍니다. 즉, 각 컬럼의 평균은 0으로, 분산은 1로 데이터를 바꿔줍니다.\n",
    "\n"
   ]
  },
  {
   "cell_type": "code",
   "execution_count": 135,
   "metadata": {},
   "outputs": [
    {
     "data": {
      "image/png": "[encoded data removed]",
      "text/plain": [
       "<Figure size 864x288 with 2 Axes>"
      ]
     },
     "metadata": {
      "needs_background": "light"
     },
     "output_type": "display_data"
    }
   ],
   "source": [
    "fig, axs = plt.subplots(1,2, figsize=(12, 4),\n",
    "                        gridspec_kw={'width_ratios': [2, 1]})\n",
    "\n",
    "axs[0].scatter(x['A'], x['B'])\n",
    "axs[0].set_xlim(-5, 15)\n",
    "axs[0].set_ylim(-5, 5)\n",
    "axs[0].axvline(c='grey', lw=1)\n",
    "axs[0].axhline(c='grey', lw=1)\n",
    "axs[0].set_title('Original Data')\n",
    "\n",
    "axs[1].scatter(x_standardization['A'], x_standardization['B'])\n",
    "axs[1].set_xlim(-5, 5)\n",
    "axs[1].set_ylim(-5, 5)\n",
    "axs[1].axvline(c='grey', lw=1)\n",
    "axs[1].axhline(c='grey', lw=1)\n",
    "axs[1].set_title('Data after standardization')\n",
    "\n",
    "plt.show()"
   ]
  },
  {
   "cell_type": "markdown",
   "metadata": {},
   "source": [
    "다음 이미지는 동일한 데이터를 min-max scaling 기법으로 정규화를 했을 때 분포가 어떻게 바뀌는지 보여줍니다. 즉, 각 컬럼의 최솟값은 0, 최댓값은 1로 바꿔줍니다."
   ]
  },
  {
   "cell_type": "code",
   "execution_count": 136,
   "metadata": {},
   "outputs": [
    {
     "data": {
      "image/png": "[encoded data removed]",
      "text/plain": [
       "<Figure size 864x288 with 2 Axes>"
      ]
     },
     "metadata": {
      "needs_background": "light"
     },
     "output_type": "display_data"
    }
   ],
   "source": [
    "fig, axs = plt.subplots(1,2, figsize=(12, 4),\n",
    "                        gridspec_kw={'width_ratios': [2, 1]})\n",
    "\n",
    "axs[0].scatter(x['A'], x['B'])\n",
    "axs[0].set_xlim(-5, 15)\n",
    "axs[0].set_ylim(-5, 5)\n",
    "axs[0].axvline(c='grey', lw=1)\n",
    "axs[0].axhline(c='grey', lw=1)\n",
    "axs[0].set_title('Original Data')\n",
    "\n",
    "axs[1].scatter(x_min_max['A'], x_min_max['B'])\n",
    "axs[1].set_xlim(-5, 5)\n",
    "axs[1].set_ylim(-5, 5)\n",
    "axs[1].axvline(c='grey', lw=1)\n",
    "axs[1].axhline(c='grey', lw=1)\n",
    "axs[1].set_title('Data after min-max scaling')\n",
    "\n",
    "plt.show()"
   ]
  },
  {
   "cell_type": "code",
   "execution_count": 138,
   "metadata": {},
   "outputs": [
    {
     "data": {
      "text/html": [
       "<div>\n",
       "<style scoped>\n",
       "    .dataframe tbody tr th:only-of-type {\n",
       "        vertical-align: middle;\n",
       "    }\n",
       "\n",
       "    .dataframe tbody tr th {\n",
       "        vertical-align: top;\n",
       "    }\n",
       "\n",
       "    .dataframe thead th {\n",
       "        text-align: right;\n",
       "    }\n",
       "</style>\n",
       "<table border=\"1\" class=\"dataframe\">\n",
       "  <thead>\n",
       "    <tr style=\"text-align: right;\">\n",
       "      <th></th>\n",
       "      <th>수출건수</th>\n",
       "      <th>수출금액</th>\n",
       "      <th>수입건수</th>\n",
       "      <th>수입금액</th>\n",
       "      <th>무역수지</th>\n",
       "    </tr>\n",
       "  </thead>\n",
       "  <tbody>\n",
       "    <tr>\n",
       "      <th>0</th>\n",
       "      <td>-0.007488</td>\n",
       "      <td>1.398931</td>\n",
       "      <td>-0.163593</td>\n",
       "      <td>1.283660</td>\n",
       "      <td>1.256342</td>\n",
       "    </tr>\n",
       "    <tr>\n",
       "      <th>1</th>\n",
       "      <td>-0.689278</td>\n",
       "      <td>-0.252848</td>\n",
       "      <td>0.412529</td>\n",
       "      <td>-0.964444</td>\n",
       "      <td>0.401088</td>\n",
       "    </tr>\n",
       "    <tr>\n",
       "      <th>2</th>\n",
       "      <td>-0.847838</td>\n",
       "      <td>-1.091156</td>\n",
       "      <td>-0.993148</td>\n",
       "      <td>-0.863844</td>\n",
       "      <td>-1.097779</td>\n",
       "    </tr>\n",
       "    <tr>\n",
       "      <th>3</th>\n",
       "      <td>-0.417598</td>\n",
       "      <td>0.852853</td>\n",
       "      <td>-0.576399</td>\n",
       "      <td>0.705292</td>\n",
       "      <td>0.832209</td>\n",
       "    </tr>\n",
       "    <tr>\n",
       "      <th>4</th>\n",
       "      <td>-0.764918</td>\n",
       "      <td>-0.389673</td>\n",
       "      <td>0.146306</td>\n",
       "      <td>-1.276341</td>\n",
       "      <td>0.438027</td>\n",
       "    </tr>\n",
       "  </tbody>\n",
       "</table>\n",
       "</div>"
      ],
      "text/plain": [
       "       수출건수      수출금액      수입건수      수입금액      무역수지\n",
       "0 -0.007488  1.398931 -0.163593  1.283660  1.256342\n",
       "1 -0.689278 -0.252848  0.412529 -0.964444  0.401088\n",
       "2 -0.847838 -1.091156 -0.993148 -0.863844 -1.097779\n",
       "3 -0.417598  0.852853 -0.576399  0.705292  0.832209\n",
       "4 -0.764918 -0.389673  0.146306 -1.276341  0.438027"
      ]
     },
     "execution_count": 138,
     "metadata": {},
     "output_type": "execute_result"
    }
   ],
   "source": [
    "# trade 데이터를 Standardization 기법으로 정규화합니다. \n",
    "cols = ['수출건수', '수출금액', '수입건수', '수입금액', '무역수지']\n",
    "data_Standardization= (data[cols]-data[cols].mean())/data[cols].std()\n",
    "data_Standardization.head()"
   ]
  },
  {
   "cell_type": "code",
   "execution_count": 139,
   "metadata": {},
   "outputs": [
    {
     "data": {
      "text/html": [
       "<div>\n",
       "<style scoped>\n",
       "    .dataframe tbody tr th:only-of-type {\n",
       "        vertical-align: middle;\n",
       "    }\n",
       "\n",
       "    .dataframe tbody tr th {\n",
       "        vertical-align: top;\n",
       "    }\n",
       "\n",
       "    .dataframe thead th {\n",
       "        text-align: right;\n",
       "    }\n",
       "</style>\n",
       "<table border=\"1\" class=\"dataframe\">\n",
       "  <thead>\n",
       "    <tr style=\"text-align: right;\">\n",
       "      <th></th>\n",
       "      <th>수출건수</th>\n",
       "      <th>수출금액</th>\n",
       "      <th>수입건수</th>\n",
       "      <th>수입금액</th>\n",
       "      <th>무역수지</th>\n",
       "    </tr>\n",
       "  </thead>\n",
       "  <tbody>\n",
       "    <tr>\n",
       "      <th>count</th>\n",
       "      <td>1.950000e+02</td>\n",
       "      <td>1.950000e+02</td>\n",
       "      <td>1.950000e+02</td>\n",
       "      <td>1.950000e+02</td>\n",
       "      <td>1.950000e+02</td>\n",
       "    </tr>\n",
       "    <tr>\n",
       "      <th>mean</th>\n",
       "      <td>-1.019128e-16</td>\n",
       "      <td>5.921189e-17</td>\n",
       "      <td>6.091993e-17</td>\n",
       "      <td>-8.312439e-17</td>\n",
       "      <td>3.074464e-17</td>\n",
       "    </tr>\n",
       "    <tr>\n",
       "      <th>std</th>\n",
       "      <td>1.000000e+00</td>\n",
       "      <td>1.000000e+00</td>\n",
       "      <td>1.000000e+00</td>\n",
       "      <td>1.000000e+00</td>\n",
       "      <td>1.000000e+00</td>\n",
       "    </tr>\n",
       "    <tr>\n",
       "      <th>min</th>\n",
       "      <td>-9.194976e-01</td>\n",
       "      <td>-1.231761e+00</td>\n",
       "      <td>-9.984408e-01</td>\n",
       "      <td>-1.276341e+00</td>\n",
       "      <td>-1.603764e+00</td>\n",
       "    </tr>\n",
       "    <tr>\n",
       "      <th>25%</th>\n",
       "      <td>-5.937426e-01</td>\n",
       "      <td>-1.041338e+00</td>\n",
       "      <td>-7.673625e-01</td>\n",
       "      <td>-7.911669e-01</td>\n",
       "      <td>-1.116765e+00</td>\n",
       "    </tr>\n",
       "    <tr>\n",
       "      <th>50%</th>\n",
       "      <td>-4.373265e-01</td>\n",
       "      <td>-1.564700e-01</td>\n",
       "      <td>-3.429346e-01</td>\n",
       "      <td>-4.137392e-01</td>\n",
       "      <td>1.426824e-01</td>\n",
       "    </tr>\n",
       "    <tr>\n",
       "      <th>75%</th>\n",
       "      <td>4.420459e-01</td>\n",
       "      <td>1.037200e+00</td>\n",
       "      <td>3.927781e-01</td>\n",
       "      <td>8.827841e-01</td>\n",
       "      <td>7.461637e-01</td>\n",
       "    </tr>\n",
       "    <tr>\n",
       "      <th>max</th>\n",
       "      <td>5.486317e+00</td>\n",
       "      <td>2.078416e+00</td>\n",
       "      <td>3.239068e+00</td>\n",
       "      <td>2.376092e+00</td>\n",
       "      <td>2.434109e+00</td>\n",
       "    </tr>\n",
       "  </tbody>\n",
       "</table>\n",
       "</div>"
      ],
      "text/plain": [
       "               수출건수          수출금액          수입건수          수입금액          무역수지\n",
       "count  1.950000e+02  1.950000e+02  1.950000e+02  1.950000e+02  1.950000e+02\n",
       "mean  -1.019128e-16  5.921189e-17  6.091993e-17 -8.312439e-17  3.074464e-17\n",
       "std    1.000000e+00  1.000000e+00  1.000000e+00  1.000000e+00  1.000000e+00\n",
       "min   -9.194976e-01 -1.231761e+00 -9.984408e-01 -1.276341e+00 -1.603764e+00\n",
       "25%   -5.937426e-01 -1.041338e+00 -7.673625e-01 -7.911669e-01 -1.116765e+00\n",
       "50%   -4.373265e-01 -1.564700e-01 -3.429346e-01 -4.137392e-01  1.426824e-01\n",
       "75%    4.420459e-01  1.037200e+00  3.927781e-01  8.827841e-01  7.461637e-01\n",
       "max    5.486317e+00  2.078416e+00  3.239068e+00  2.376092e+00  2.434109e+00"
      ]
     },
     "execution_count": 139,
     "metadata": {},
     "output_type": "execute_result"
    }
   ],
   "source": [
    "data_Standardization.describe()"
   ]
  },
  {
   "cell_type": "code",
   "execution_count": 140,
   "metadata": {},
   "outputs": [],
   "source": [
    "data[cols] = (data[cols] - data[cols].min())/(data[cols].max() - data[cols].min())"
   ]
  },
  {
   "cell_type": "code",
   "execution_count": 142,
   "metadata": {},
   "outputs": [
    {
     "data": {
      "text/html": [
       "<div>\n",
       "<style scoped>\n",
       "    .dataframe tbody tr th:only-of-type {\n",
       "        vertical-align: middle;\n",
       "    }\n",
       "\n",
       "    .dataframe tbody tr th {\n",
       "        vertical-align: top;\n",
       "    }\n",
       "\n",
       "    .dataframe thead th {\n",
       "        text-align: right;\n",
       "    }\n",
       "</style>\n",
       "<table border=\"1\" class=\"dataframe\">\n",
       "  <thead>\n",
       "    <tr style=\"text-align: right;\">\n",
       "      <th></th>\n",
       "      <th>수출건수</th>\n",
       "      <th>수출금액</th>\n",
       "      <th>수입건수</th>\n",
       "      <th>수입금액</th>\n",
       "      <th>무역수지</th>\n",
       "    </tr>\n",
       "  </thead>\n",
       "  <tbody>\n",
       "    <tr>\n",
       "      <th>0</th>\n",
       "      <td>0.142372</td>\n",
       "      <td>0.794728</td>\n",
       "      <td>0.197014</td>\n",
       "      <td>0.700903</td>\n",
       "      <td>0.708320</td>\n",
       "    </tr>\n",
       "    <tr>\n",
       "      <th>1</th>\n",
       "      <td>0.035939</td>\n",
       "      <td>0.295728</td>\n",
       "      <td>0.332972</td>\n",
       "      <td>0.085394</td>\n",
       "      <td>0.496512</td>\n",
       "    </tr>\n",
       "    <tr>\n",
       "      <th>2</th>\n",
       "      <td>0.011187</td>\n",
       "      <td>0.042477</td>\n",
       "      <td>0.001249</td>\n",
       "      <td>0.112938</td>\n",
       "      <td>0.125310</td>\n",
       "    </tr>\n",
       "    <tr>\n",
       "      <th>3</th>\n",
       "      <td>0.078351</td>\n",
       "      <td>0.629759</td>\n",
       "      <td>0.099597</td>\n",
       "      <td>0.542551</td>\n",
       "      <td>0.603281</td>\n",
       "    </tr>\n",
       "    <tr>\n",
       "      <th>4</th>\n",
       "      <td>0.024131</td>\n",
       "      <td>0.254394</td>\n",
       "      <td>0.270146</td>\n",
       "      <td>0.000000</td>\n",
       "      <td>0.505660</td>\n",
       "    </tr>\n",
       "  </tbody>\n",
       "</table>\n",
       "</div>"
      ],
      "text/plain": [
       "       수출건수      수출금액      수입건수      수입금액      무역수지\n",
       "0  0.142372  0.794728  0.197014  0.700903  0.708320\n",
       "1  0.035939  0.295728  0.332972  0.085394  0.496512\n",
       "2  0.011187  0.042477  0.001249  0.112938  0.125310\n",
       "3  0.078351  0.629759  0.099597  0.542551  0.603281\n",
       "4  0.024131  0.254394  0.270146  0.000000  0.505660"
      ]
     },
     "execution_count": 142,
     "metadata": {},
     "output_type": "execute_result"
    }
   ],
   "source": [
    "data[cols].head()"
   ]
  },
  {
   "cell_type": "code",
   "execution_count": 143,
   "metadata": {},
   "outputs": [
    {
     "data": {
      "text/html": [
       "<div>\n",
       "<style scoped>\n",
       "    .dataframe tbody tr th:only-of-type {\n",
       "        vertical-align: middle;\n",
       "    }\n",
       "\n",
       "    .dataframe tbody tr th {\n",
       "        vertical-align: top;\n",
       "    }\n",
       "\n",
       "    .dataframe thead th {\n",
       "        text-align: right;\n",
       "    }\n",
       "</style>\n",
       "<table border=\"1\" class=\"dataframe\">\n",
       "  <thead>\n",
       "    <tr style=\"text-align: right;\">\n",
       "      <th></th>\n",
       "      <th>수출건수</th>\n",
       "      <th>수출금액</th>\n",
       "      <th>수입건수</th>\n",
       "      <th>수입금액</th>\n",
       "      <th>무역수지</th>\n",
       "    </tr>\n",
       "  </thead>\n",
       "  <tbody>\n",
       "    <tr>\n",
       "      <th>count</th>\n",
       "      <td>195.000000</td>\n",
       "      <td>195.000000</td>\n",
       "      <td>195.000000</td>\n",
       "      <td>195.000000</td>\n",
       "      <td>195.000000</td>\n",
       "    </tr>\n",
       "    <tr>\n",
       "      <th>mean</th>\n",
       "      <td>0.143541</td>\n",
       "      <td>0.372113</td>\n",
       "      <td>0.235620</td>\n",
       "      <td>0.349450</td>\n",
       "      <td>0.397180</td>\n",
       "    </tr>\n",
       "    <tr>\n",
       "      <th>std</th>\n",
       "      <td>0.156108</td>\n",
       "      <td>0.302099</td>\n",
       "      <td>0.235988</td>\n",
       "      <td>0.273790</td>\n",
       "      <td>0.247655</td>\n",
       "    </tr>\n",
       "    <tr>\n",
       "      <th>min</th>\n",
       "      <td>0.000000</td>\n",
       "      <td>0.000000</td>\n",
       "      <td>0.000000</td>\n",
       "      <td>0.000000</td>\n",
       "      <td>0.000000</td>\n",
       "    </tr>\n",
       "    <tr>\n",
       "      <th>25%</th>\n",
       "      <td>0.050853</td>\n",
       "      <td>0.057527</td>\n",
       "      <td>0.054532</td>\n",
       "      <td>0.132836</td>\n",
       "      <td>0.120608</td>\n",
       "    </tr>\n",
       "    <tr>\n",
       "      <th>50%</th>\n",
       "      <td>0.075271</td>\n",
       "      <td>0.324844</td>\n",
       "      <td>0.154691</td>\n",
       "      <td>0.236172</td>\n",
       "      <td>0.432516</td>\n",
       "    </tr>\n",
       "    <tr>\n",
       "      <th>75%</th>\n",
       "      <td>0.212548</td>\n",
       "      <td>0.685450</td>\n",
       "      <td>0.328311</td>\n",
       "      <td>0.591147</td>\n",
       "      <td>0.581972</td>\n",
       "    </tr>\n",
       "    <tr>\n",
       "      <th>max</th>\n",
       "      <td>1.000000</td>\n",
       "      <td>1.000000</td>\n",
       "      <td>1.000000</td>\n",
       "      <td>1.000000</td>\n",
       "      <td>1.000000</td>\n",
       "    </tr>\n",
       "  </tbody>\n",
       "</table>\n",
       "</div>"
      ],
      "text/plain": [
       "             수출건수        수출금액        수입건수        수입금액        무역수지\n",
       "count  195.000000  195.000000  195.000000  195.000000  195.000000\n",
       "mean     0.143541    0.372113    0.235620    0.349450    0.397180\n",
       "std      0.156108    0.302099    0.235988    0.273790    0.247655\n",
       "min      0.000000    0.000000    0.000000    0.000000    0.000000\n",
       "25%      0.050853    0.057527    0.054532    0.132836    0.120608\n",
       "50%      0.075271    0.324844    0.154691    0.236172    0.432516\n",
       "75%      0.212548    0.685450    0.328311    0.591147    0.581972\n",
       "max      1.000000    1.000000    1.000000    1.000000    1.000000"
      ]
     },
     "execution_count": 143,
     "metadata": {},
     "output_type": "execute_result"
    }
   ],
   "source": [
    "data.describe()"
   ]
  },
  {
   "cell_type": "markdown",
   "metadata": {},
   "source": [
    "주의!!\n",
    "train 데이터와 test 데이터가 나눠져 있는 경우 train 데이터를 정규화시켰던 기준 그대로 test 데이터도 정규화 시켜줘야 합니다."
   ]
  },
  {
   "cell_type": "code",
   "execution_count": 145,
   "metadata": {},
   "outputs": [],
   "source": [
    "train = pd.DataFrame([[10, -10], [30, 10], [50, 0]])\n",
    "test = pd.DataFrame([[0, 1], [10, 10]])"
   ]
  },
  {
   "cell_type": "code",
   "execution_count": 146,
   "metadata": {},
   "outputs": [],
   "source": [
    "train_min = train.min()\n",
    "train_max = train.max()\n",
    "\n",
    "train_min_max = (train - train_min)/(train_max - train_min)\n",
    "test_min_max =  (test - train_min)/(train_max - train_min)    # test를 min-max scaling할 때도 train 정규화 기준으로 수행"
   ]
  },
  {
   "cell_type": "code",
   "execution_count": 147,
   "metadata": {},
   "outputs": [
    {
     "data": {
      "text/html": [
       "<div>\n",
       "<style scoped>\n",
       "    .dataframe tbody tr th:only-of-type {\n",
       "        vertical-align: middle;\n",
       "    }\n",
       "\n",
       "    .dataframe tbody tr th {\n",
       "        vertical-align: top;\n",
       "    }\n",
       "\n",
       "    .dataframe thead th {\n",
       "        text-align: right;\n",
       "    }\n",
       "</style>\n",
       "<table border=\"1\" class=\"dataframe\">\n",
       "  <thead>\n",
       "    <tr style=\"text-align: right;\">\n",
       "      <th></th>\n",
       "      <th>0</th>\n",
       "      <th>1</th>\n",
       "    </tr>\n",
       "  </thead>\n",
       "  <tbody>\n",
       "    <tr>\n",
       "      <th>0</th>\n",
       "      <td>-0.25</td>\n",
       "      <td>0.55</td>\n",
       "    </tr>\n",
       "    <tr>\n",
       "      <th>1</th>\n",
       "      <td>0.00</td>\n",
       "      <td>1.00</td>\n",
       "    </tr>\n",
       "  </tbody>\n",
       "</table>\n",
       "</div>"
      ],
      "text/plain": [
       "      0     1\n",
       "0 -0.25  0.55\n",
       "1  0.00  1.00"
      ]
     },
     "execution_count": 147,
     "metadata": {},
     "output_type": "execute_result"
    }
   ],
   "source": [
    "test_min_max"
   ]
  },
  {
   "cell_type": "code",
   "execution_count": 148,
   "metadata": {},
   "outputs": [
    {
     "data": {
      "text/html": [
       "<div>\n",
       "<style scoped>\n",
       "    .dataframe tbody tr th:only-of-type {\n",
       "        vertical-align: middle;\n",
       "    }\n",
       "\n",
       "    .dataframe tbody tr th {\n",
       "        vertical-align: top;\n",
       "    }\n",
       "\n",
       "    .dataframe thead th {\n",
       "        text-align: right;\n",
       "    }\n",
       "</style>\n",
       "<table border=\"1\" class=\"dataframe\">\n",
       "  <thead>\n",
       "    <tr style=\"text-align: right;\">\n",
       "      <th></th>\n",
       "      <th>0</th>\n",
       "      <th>1</th>\n",
       "    </tr>\n",
       "  </thead>\n",
       "  <tbody>\n",
       "    <tr>\n",
       "      <th>0</th>\n",
       "      <td>0.0</td>\n",
       "      <td>0.0</td>\n",
       "    </tr>\n",
       "    <tr>\n",
       "      <th>1</th>\n",
       "      <td>0.5</td>\n",
       "      <td>1.0</td>\n",
       "    </tr>\n",
       "    <tr>\n",
       "      <th>2</th>\n",
       "      <td>1.0</td>\n",
       "      <td>0.5</td>\n",
       "    </tr>\n",
       "  </tbody>\n",
       "</table>\n",
       "</div>"
      ],
      "text/plain": [
       "     0    1\n",
       "0  0.0  0.0\n",
       "1  0.5  1.0\n",
       "2  1.0  0.5"
      ]
     },
     "execution_count": 148,
     "metadata": {},
     "output_type": "execute_result"
    }
   ],
   "source": [
    "train_min_max"
   ]
  },
  {
   "cell_type": "code",
   "execution_count": 154,
   "metadata": {},
   "outputs": [],
   "source": [
    "from sklearn.preprocessing import MinMaxScaler\n",
    "train = [[10, -10], [30, 10], [50, 0]]\n",
    "test = [[0, 1]]\n",
    "scaler = MinMaxScaler()"
   ]
  },
  {
   "cell_type": "code",
   "execution_count": 155,
   "metadata": {},
   "outputs": [
    {
     "data": {
      "text/plain": [
       "array([[0. , 0. ],\n",
       "       [0.5, 1. ],\n",
       "       [1. , 0.5]])"
      ]
     },
     "execution_count": 155,
     "metadata": {},
     "output_type": "execute_result"
    }
   ],
   "source": [
    "scaler.fit_transform(train)"
   ]
  },
  {
   "cell_type": "code",
   "execution_count": 156,
   "metadata": {},
   "outputs": [
    {
     "data": {
      "text/plain": [
       "array([[0., 0.]])"
      ]
     },
     "execution_count": 156,
     "metadata": {},
     "output_type": "execute_result"
    }
   ],
   "source": [
    "scaler.fit_transform(test)"
   ]
  },
  {
   "cell_type": "markdown",
   "metadata": {},
   "source": [
    "## 원핫 인코딩\n",
    "\n",
    "카테고리별 이진 특성을 만들어 해당하는 특성만 1, 나머지는 0으로 만드는 방법입니다. 그럼, pandas로 국가명 컬럼을 원-핫 인코딩을 해보겠습니다.\n",
    "\n",
    "pandas에서 get_dummies 함수를 통해 손쉽게 원-핫 인코딩을 할 수 있습니다."
   ]
  },
  {
   "cell_type": "code",
   "execution_count": 158,
   "metadata": {},
   "outputs": [
    {
     "data": {
      "text/plain": [
       "Index(['기간', '국가명', '수출건수', '수출금액', '수입건수', '수입금액', '무역수지'], dtype='object')"
      ]
     },
     "execution_count": 158,
     "metadata": {},
     "output_type": "execute_result"
    }
   ],
   "source": [
    "data.columns"
   ]
  },
  {
   "cell_type": "code",
   "execution_count": 159,
   "metadata": {},
   "outputs": [
    {
     "data": {
      "text/html": [
       "<div>\n",
       "<style scoped>\n",
       "    .dataframe tbody tr th:only-of-type {\n",
       "        vertical-align: middle;\n",
       "    }\n",
       "\n",
       "    .dataframe tbody tr th {\n",
       "        vertical-align: top;\n",
       "    }\n",
       "\n",
       "    .dataframe thead th {\n",
       "        text-align: right;\n",
       "    }\n",
       "</style>\n",
       "<table border=\"1\" class=\"dataframe\">\n",
       "  <thead>\n",
       "    <tr style=\"text-align: right;\">\n",
       "      <th></th>\n",
       "      <th>기간</th>\n",
       "      <th>국가명</th>\n",
       "      <th>수출건수</th>\n",
       "      <th>수출금액</th>\n",
       "      <th>수입건수</th>\n",
       "      <th>수입금액</th>\n",
       "      <th>무역수지</th>\n",
       "    </tr>\n",
       "  </thead>\n",
       "  <tbody>\n",
       "    <tr>\n",
       "      <th>0</th>\n",
       "      <td>2015년 01월</td>\n",
       "      <td>중국</td>\n",
       "      <td>0.142372</td>\n",
       "      <td>0.794728</td>\n",
       "      <td>0.197014</td>\n",
       "      <td>0.700903</td>\n",
       "      <td>0.708320</td>\n",
       "    </tr>\n",
       "    <tr>\n",
       "      <th>1</th>\n",
       "      <td>2015년 01월</td>\n",
       "      <td>미국</td>\n",
       "      <td>0.035939</td>\n",
       "      <td>0.295728</td>\n",
       "      <td>0.332972</td>\n",
       "      <td>0.085394</td>\n",
       "      <td>0.496512</td>\n",
       "    </tr>\n",
       "    <tr>\n",
       "      <th>2</th>\n",
       "      <td>2015년 01월</td>\n",
       "      <td>일본</td>\n",
       "      <td>0.011187</td>\n",
       "      <td>0.042477</td>\n",
       "      <td>0.001249</td>\n",
       "      <td>0.112938</td>\n",
       "      <td>0.125310</td>\n",
       "    </tr>\n",
       "    <tr>\n",
       "      <th>3</th>\n",
       "      <td>2015년 02월</td>\n",
       "      <td>중국</td>\n",
       "      <td>0.078351</td>\n",
       "      <td>0.629759</td>\n",
       "      <td>0.099597</td>\n",
       "      <td>0.542551</td>\n",
       "      <td>0.603281</td>\n",
       "    </tr>\n",
       "    <tr>\n",
       "      <th>4</th>\n",
       "      <td>2015년 02월</td>\n",
       "      <td>미국</td>\n",
       "      <td>0.024131</td>\n",
       "      <td>0.254394</td>\n",
       "      <td>0.270146</td>\n",
       "      <td>0.000000</td>\n",
       "      <td>0.505660</td>\n",
       "    </tr>\n",
       "  </tbody>\n",
       "</table>\n",
       "</div>"
      ],
      "text/plain": [
       "          기간 국가명      수출건수      수출금액      수입건수      수입금액      무역수지\n",
       "0  2015년 01월  중국  0.142372  0.794728  0.197014  0.700903  0.708320\n",
       "1  2015년 01월  미국  0.035939  0.295728  0.332972  0.085394  0.496512\n",
       "2  2015년 01월  일본  0.011187  0.042477  0.001249  0.112938  0.125310\n",
       "3  2015년 02월  중국  0.078351  0.629759  0.099597  0.542551  0.603281\n",
       "4  2015년 02월  미국  0.024131  0.254394  0.270146  0.000000  0.505660"
      ]
     },
     "execution_count": 159,
     "metadata": {},
     "output_type": "execute_result"
    }
   ],
   "source": [
    "data.head()"
   ]
  },
  {
   "cell_type": "code",
   "execution_count": 162,
   "metadata": {},
   "outputs": [
    {
     "data": {
      "text/plain": [
       "중국    65\n",
       "일본    65\n",
       "미국    65\n",
       "Name: 국가명, dtype: int64"
      ]
     },
     "execution_count": 162,
     "metadata": {},
     "output_type": "execute_result"
    }
   ],
   "source": [
    "data['국가명'].value_counts()"
   ]
  },
  {
   "cell_type": "code",
   "execution_count": 163,
   "metadata": {},
   "outputs": [],
   "source": [
    "country = pd.get_dummies(data['국가명'])"
   ]
  },
  {
   "cell_type": "code",
   "execution_count": 164,
   "metadata": {},
   "outputs": [
    {
     "data": {
      "text/html": [
       "<div>\n",
       "<style scoped>\n",
       "    .dataframe tbody tr th:only-of-type {\n",
       "        vertical-align: middle;\n",
       "    }\n",
       "\n",
       "    .dataframe tbody tr th {\n",
       "        vertical-align: top;\n",
       "    }\n",
       "\n",
       "    .dataframe thead th {\n",
       "        text-align: right;\n",
       "    }\n",
       "</style>\n",
       "<table border=\"1\" class=\"dataframe\">\n",
       "  <thead>\n",
       "    <tr style=\"text-align: right;\">\n",
       "      <th></th>\n",
       "      <th>미국</th>\n",
       "      <th>일본</th>\n",
       "      <th>중국</th>\n",
       "    </tr>\n",
       "  </thead>\n",
       "  <tbody>\n",
       "    <tr>\n",
       "      <th>0</th>\n",
       "      <td>0</td>\n",
       "      <td>0</td>\n",
       "      <td>1</td>\n",
       "    </tr>\n",
       "    <tr>\n",
       "      <th>1</th>\n",
       "      <td>1</td>\n",
       "      <td>0</td>\n",
       "      <td>0</td>\n",
       "    </tr>\n",
       "    <tr>\n",
       "      <th>2</th>\n",
       "      <td>0</td>\n",
       "      <td>1</td>\n",
       "      <td>0</td>\n",
       "    </tr>\n",
       "    <tr>\n",
       "      <th>3</th>\n",
       "      <td>0</td>\n",
       "      <td>0</td>\n",
       "      <td>1</td>\n",
       "    </tr>\n",
       "    <tr>\n",
       "      <th>4</th>\n",
       "      <td>1</td>\n",
       "      <td>0</td>\n",
       "      <td>0</td>\n",
       "    </tr>\n",
       "  </tbody>\n",
       "</table>\n",
       "</div>"
      ],
      "text/plain": [
       "   미국  일본  중국\n",
       "0   0   0   1\n",
       "1   1   0   0\n",
       "2   0   1   0\n",
       "3   0   0   1\n",
       "4   1   0   0"
      ]
     },
     "execution_count": 164,
     "metadata": {},
     "output_type": "execute_result"
    }
   ],
   "source": [
    "country.head()"
   ]
  },
  {
   "cell_type": "code",
   "execution_count": 169,
   "metadata": {},
   "outputs": [
    {
     "data": {
      "text/html": [
       "<div>\n",
       "<style scoped>\n",
       "    .dataframe tbody tr th:only-of-type {\n",
       "        vertical-align: middle;\n",
       "    }\n",
       "\n",
       "    .dataframe tbody tr th {\n",
       "        vertical-align: top;\n",
       "    }\n",
       "\n",
       "    .dataframe thead th {\n",
       "        text-align: right;\n",
       "    }\n",
       "</style>\n",
       "<table border=\"1\" class=\"dataframe\">\n",
       "  <thead>\n",
       "    <tr style=\"text-align: right;\">\n",
       "      <th></th>\n",
       "      <th>기간</th>\n",
       "      <th>수출건수</th>\n",
       "      <th>수출금액</th>\n",
       "      <th>수입건수</th>\n",
       "      <th>수입금액</th>\n",
       "      <th>무역수지</th>\n",
       "    </tr>\n",
       "  </thead>\n",
       "  <tbody>\n",
       "    <tr>\n",
       "      <th>0</th>\n",
       "      <td>2015년 01월</td>\n",
       "      <td>0.142372</td>\n",
       "      <td>0.794728</td>\n",
       "      <td>0.197014</td>\n",
       "      <td>0.700903</td>\n",
       "      <td>0.708320</td>\n",
       "    </tr>\n",
       "    <tr>\n",
       "      <th>1</th>\n",
       "      <td>2015년 01월</td>\n",
       "      <td>0.035939</td>\n",
       "      <td>0.295728</td>\n",
       "      <td>0.332972</td>\n",
       "      <td>0.085394</td>\n",
       "      <td>0.496512</td>\n",
       "    </tr>\n",
       "    <tr>\n",
       "      <th>2</th>\n",
       "      <td>2015년 01월</td>\n",
       "      <td>0.011187</td>\n",
       "      <td>0.042477</td>\n",
       "      <td>0.001249</td>\n",
       "      <td>0.112938</td>\n",
       "      <td>0.125310</td>\n",
       "    </tr>\n",
       "    <tr>\n",
       "      <th>3</th>\n",
       "      <td>2015년 02월</td>\n",
       "      <td>0.078351</td>\n",
       "      <td>0.629759</td>\n",
       "      <td>0.099597</td>\n",
       "      <td>0.542551</td>\n",
       "      <td>0.603281</td>\n",
       "    </tr>\n",
       "    <tr>\n",
       "      <th>4</th>\n",
       "      <td>2015년 02월</td>\n",
       "      <td>0.024131</td>\n",
       "      <td>0.254394</td>\n",
       "      <td>0.270146</td>\n",
       "      <td>0.000000</td>\n",
       "      <td>0.505660</td>\n",
       "    </tr>\n",
       "    <tr>\n",
       "      <th>...</th>\n",
       "      <td>...</td>\n",
       "      <td>...</td>\n",
       "      <td>...</td>\n",
       "      <td>...</td>\n",
       "      <td>...</td>\n",
       "      <td>...</td>\n",
       "    </tr>\n",
       "    <tr>\n",
       "      <th>191</th>\n",
       "      <td>2020년 04월</td>\n",
       "      <td>0.118243</td>\n",
       "      <td>0.325201</td>\n",
       "      <td>0.823509</td>\n",
       "      <td>0.277977</td>\n",
       "      <td>0.387823</td>\n",
       "    </tr>\n",
       "    <tr>\n",
       "      <th>192</th>\n",
       "      <td>2020년 04월</td>\n",
       "      <td>0.178207</td>\n",
       "      <td>0.022433</td>\n",
       "      <td>0.046863</td>\n",
       "      <td>0.135050</td>\n",
       "      <td>0.080469</td>\n",
       "    </tr>\n",
       "    <tr>\n",
       "      <th>193</th>\n",
       "      <td>2020년 05월</td>\n",
       "      <td>0.284970</td>\n",
       "      <td>0.692373</td>\n",
       "      <td>0.208265</td>\n",
       "      <td>0.816241</td>\n",
       "      <td>0.477453</td>\n",
       "    </tr>\n",
       "    <tr>\n",
       "      <th>194</th>\n",
       "      <td>2020년 05월</td>\n",
       "      <td>0.162527</td>\n",
       "      <td>0.222220</td>\n",
       "      <td>0.835972</td>\n",
       "      <td>0.175552</td>\n",
       "      <td>0.325028</td>\n",
       "    </tr>\n",
       "    <tr>\n",
       "      <th>195</th>\n",
       "      <td>2020년 05월</td>\n",
       "      <td>0.245869</td>\n",
       "      <td>0.007806</td>\n",
       "      <td>0.041081</td>\n",
       "      <td>0.014238</td>\n",
       "      <td>0.153985</td>\n",
       "    </tr>\n",
       "  </tbody>\n",
       "</table>\n",
       "<p>195 rows × 6 columns</p>\n",
       "</div>"
      ],
      "text/plain": [
       "            기간      수출건수      수출금액      수입건수      수입금액      무역수지\n",
       "0    2015년 01월  0.142372  0.794728  0.197014  0.700903  0.708320\n",
       "1    2015년 01월  0.035939  0.295728  0.332972  0.085394  0.496512\n",
       "2    2015년 01월  0.011187  0.042477  0.001249  0.112938  0.125310\n",
       "3    2015년 02월  0.078351  0.629759  0.099597  0.542551  0.603281\n",
       "4    2015년 02월  0.024131  0.254394  0.270146  0.000000  0.505660\n",
       "..         ...       ...       ...       ...       ...       ...\n",
       "191  2020년 04월  0.118243  0.325201  0.823509  0.277977  0.387823\n",
       "192  2020년 04월  0.178207  0.022433  0.046863  0.135050  0.080469\n",
       "193  2020년 05월  0.284970  0.692373  0.208265  0.816241  0.477453\n",
       "194  2020년 05월  0.162527  0.222220  0.835972  0.175552  0.325028\n",
       "195  2020년 05월  0.245869  0.007806  0.041081  0.014238  0.153985\n",
       "\n",
       "[195 rows x 6 columns]"
      ]
     },
     "execution_count": 169,
     "metadata": {},
     "output_type": "execute_result"
    }
   ],
   "source": [
    "data"
   ]
  },
  {
   "cell_type": "code",
   "execution_count": 170,
   "metadata": {},
   "outputs": [
    {
     "data": {
      "text/html": [
       "<div>\n",
       "<style scoped>\n",
       "    .dataframe tbody tr th:only-of-type {\n",
       "        vertical-align: middle;\n",
       "    }\n",
       "\n",
       "    .dataframe tbody tr th {\n",
       "        vertical-align: top;\n",
       "    }\n",
       "\n",
       "    .dataframe thead th {\n",
       "        text-align: right;\n",
       "    }\n",
       "</style>\n",
       "<table border=\"1\" class=\"dataframe\">\n",
       "  <thead>\n",
       "    <tr style=\"text-align: right;\">\n",
       "      <th></th>\n",
       "      <th>기간</th>\n",
       "      <th>수출건수</th>\n",
       "      <th>수출금액</th>\n",
       "      <th>수입건수</th>\n",
       "      <th>수입금액</th>\n",
       "      <th>무역수지</th>\n",
       "      <th>미국</th>\n",
       "      <th>일본</th>\n",
       "      <th>중국</th>\n",
       "    </tr>\n",
       "  </thead>\n",
       "  <tbody>\n",
       "    <tr>\n",
       "      <th>0</th>\n",
       "      <td>2015년 01월</td>\n",
       "      <td>0.142372</td>\n",
       "      <td>0.794728</td>\n",
       "      <td>0.197014</td>\n",
       "      <td>0.700903</td>\n",
       "      <td>0.708320</td>\n",
       "      <td>0</td>\n",
       "      <td>0</td>\n",
       "      <td>1</td>\n",
       "    </tr>\n",
       "    <tr>\n",
       "      <th>1</th>\n",
       "      <td>2015년 01월</td>\n",
       "      <td>0.035939</td>\n",
       "      <td>0.295728</td>\n",
       "      <td>0.332972</td>\n",
       "      <td>0.085394</td>\n",
       "      <td>0.496512</td>\n",
       "      <td>1</td>\n",
       "      <td>0</td>\n",
       "      <td>0</td>\n",
       "    </tr>\n",
       "    <tr>\n",
       "      <th>2</th>\n",
       "      <td>2015년 01월</td>\n",
       "      <td>0.011187</td>\n",
       "      <td>0.042477</td>\n",
       "      <td>0.001249</td>\n",
       "      <td>0.112938</td>\n",
       "      <td>0.125310</td>\n",
       "      <td>0</td>\n",
       "      <td>1</td>\n",
       "      <td>0</td>\n",
       "    </tr>\n",
       "    <tr>\n",
       "      <th>3</th>\n",
       "      <td>2015년 02월</td>\n",
       "      <td>0.078351</td>\n",
       "      <td>0.629759</td>\n",
       "      <td>0.099597</td>\n",
       "      <td>0.542551</td>\n",
       "      <td>0.603281</td>\n",
       "      <td>0</td>\n",
       "      <td>0</td>\n",
       "      <td>1</td>\n",
       "    </tr>\n",
       "    <tr>\n",
       "      <th>4</th>\n",
       "      <td>2015년 02월</td>\n",
       "      <td>0.024131</td>\n",
       "      <td>0.254394</td>\n",
       "      <td>0.270146</td>\n",
       "      <td>0.000000</td>\n",
       "      <td>0.505660</td>\n",
       "      <td>1</td>\n",
       "      <td>0</td>\n",
       "      <td>0</td>\n",
       "    </tr>\n",
       "  </tbody>\n",
       "</table>\n",
       "</div>"
      ],
      "text/plain": [
       "          기간      수출건수      수출금액      수입건수      수입금액      무역수지  미국  일본  중국\n",
       "0  2015년 01월  0.142372  0.794728  0.197014  0.700903  0.708320   0   0   1\n",
       "1  2015년 01월  0.035939  0.295728  0.332972  0.085394  0.496512   1   0   0\n",
       "2  2015년 01월  0.011187  0.042477  0.001249  0.112938  0.125310   0   1   0\n",
       "3  2015년 02월  0.078351  0.629759  0.099597  0.542551  0.603281   0   0   1\n",
       "4  2015년 02월  0.024131  0.254394  0.270146  0.000000  0.505660   1   0   0"
      ]
     },
     "execution_count": 170,
     "metadata": {},
     "output_type": "execute_result"
    }
   ],
   "source": [
    "data = data.drop(['국가명'], axis=1, inplace=True)\n",
    "data = pd.concat([data, country], axis=1)\n",
    "data.head()"
   ]
  },
  {
   "cell_type": "markdown",
   "metadata": {},
   "source": [
    "### 구간화"
   ]
  },
  {
   "cell_type": "code",
   "execution_count": 171,
   "metadata": {},
   "outputs": [
    {
     "name": "stdout",
     "output_type": "stream",
     "text": [
      "👽 Almost there..\n"
     ]
    }
   ],
   "source": [
    "salary = pd.Series([4300, 8370, 1750, 3830, 1840, 4220, 3020, 2290, 4740, 4600, \n",
    "                    2860, 3400, 4800, 4470, 2440, 4530, 4850, 4850, 4760, 4500, \n",
    "                    4640, 3000, 1880, 4880, 2240, 4750, 2750, 2810, 3100, 4290, \n",
    "                    1540, 2870, 1780, 4670, 4150, 2010, 3580, 1610, 2930, 4300, \n",
    "                    2740, 1680, 3490, 4350, 1680, 6420, 8740, 8980, 9080, 3990, \n",
    "                    4960, 3700, 9600, 9330, 5600, 4100, 1770, 8280, 3120, 1950, \n",
    "                    4210, 2020, 3820, 3170, 6330, 2570, 6940, 8610, 5060, 6370,\n",
    "                    9080, 3760, 8060, 2500, 4660, 1770, 9220, 3380, 2490, 3450, \n",
    "                    1960, 7210, 5810, 9450, 8910, 3470, 7350, 8410, 7520, 9610, \n",
    "                    5150, 2630, 5610, 2750, 7050, 3350, 9450, 7140, 4170, 3090])\n",
    "print(\"👽 Almost there..\")"
   ]
  },
  {
   "cell_type": "code",
   "execution_count": 172,
   "metadata": {},
   "outputs": [
    {
     "data": {
      "text/plain": [
       "<AxesSubplot:>"
      ]
     },
     "execution_count": 172,
     "metadata": {},
     "output_type": "execute_result"
    },
    {
     "data": {
      "image/png": "[encoded data removed]",
      "text/plain": [
       "<Figure size 432x288 with 1 Axes>"
      ]
     },
     "metadata": {
      "needs_background": "light"
     },
     "output_type": "display_data"
    }
   ],
   "source": [
    "salary.hist()"
   ]
  },
  {
   "cell_type": "markdown",
   "metadata": {},
   "source": [
    "pandas의 cut과 qcut을 이용해 수치형 데이터를 범주형 데이터로 변형"
   ]
  },
  {
   "cell_type": "code",
   "execution_count": 173,
   "metadata": {},
   "outputs": [],
   "source": [
    "bins = [0, 2000, 4000, 6000, 8000, 10000]"
   ]
  },
  {
   "cell_type": "code",
   "execution_count": 176,
   "metadata": {},
   "outputs": [
    {
     "data": {
      "text/plain": [
       "0      (4000, 6000]\n",
       "1     (8000, 10000]\n",
       "2         (0, 2000]\n",
       "3      (2000, 4000]\n",
       "4         (0, 2000]\n",
       "          ...      \n",
       "95     (2000, 4000]\n",
       "96    (8000, 10000]\n",
       "97     (6000, 8000]\n",
       "98     (4000, 6000]\n",
       "99     (2000, 4000]\n",
       "Length: 100, dtype: category\n",
       "Categories (5, interval[int64]): [(0, 2000] < (2000, 4000] < (4000, 6000] < (6000, 8000] < (8000, 10000]]"
      ]
     },
     "execution_count": 176,
     "metadata": {},
     "output_type": "execute_result"
    }
   ],
   "source": [
    "ctg = pd.cut(salary, bins)\n",
    "ctg"
   ]
  },
  {
   "cell_type": "code",
   "execution_count": 177,
   "metadata": {},
   "outputs": [
    {
     "name": "stdout",
     "output_type": "stream",
     "text": [
      "salary[0]: 4300\n",
      "salary[0]가 속한 카테고리: (4000, 6000]\n"
     ]
    }
   ],
   "source": [
    "print('salary[0]:', salary[0])\n",
    "print('salary[0]가 속한 카테고리:', ctg[0])"
   ]
  },
  {
   "cell_type": "code",
   "execution_count": 178,
   "metadata": {},
   "outputs": [
    {
     "data": {
      "text/plain": [
       "(0, 2000]        12\n",
       "(2000, 4000]     34\n",
       "(4000, 6000]     29\n",
       "(6000, 8000]      9\n",
       "(8000, 10000]    16\n",
       "dtype: int64"
      ]
     },
     "execution_count": 178,
     "metadata": {},
     "output_type": "execute_result"
    }
   ],
   "source": [
    "ctg.value_counts().sort_index()"
   ]
  },
  {
   "cell_type": "markdown",
   "metadata": {},
   "source": [
    "이렇게 특정 구간을 지정해줘도 되고, 구간의 개수를 지정해줄 수도 있습니다. bins 옵션에 정수를 입력하면 데이터의 최솟값에서 최댓값을 균등하게 bins 개수만큼 나눠줍니다.\n",
    "\n"
   ]
  },
  {
   "cell_type": "code",
   "execution_count": 179,
   "metadata": {},
   "outputs": [
    {
     "data": {
      "text/plain": [
       "0      (4230.0, 5575.0]\n",
       "1      (8265.0, 9610.0]\n",
       "2     (1531.93, 2885.0]\n",
       "3      (2885.0, 4230.0]\n",
       "4     (1531.93, 2885.0]\n",
       "            ...        \n",
       "95     (2885.0, 4230.0]\n",
       "96     (8265.0, 9610.0]\n",
       "97     (6920.0, 8265.0]\n",
       "98     (2885.0, 4230.0]\n",
       "99     (2885.0, 4230.0]\n",
       "Length: 100, dtype: category\n",
       "Categories (6, interval[float64]): [(1531.93, 2885.0] < (2885.0, 4230.0] < (4230.0, 5575.0] < (5575.0, 6920.0] < (6920.0, 8265.0] < (8265.0, 9610.0]]"
      ]
     },
     "execution_count": 179,
     "metadata": {},
     "output_type": "execute_result"
    }
   ],
   "source": [
    "ctg = pd.cut(salary, bins=6)\n",
    "ctg"
   ]
  },
  {
   "cell_type": "code",
   "execution_count": 180,
   "metadata": {},
   "outputs": [
    {
     "data": {
      "text/plain": [
       "(1531.93, 2885.0]    27\n",
       "(2885.0, 4230.0]     24\n",
       "(4230.0, 5575.0]     21\n",
       "(5575.0, 6920.0]      6\n",
       "(6920.0, 8265.0]      7\n",
       "(8265.0, 9610.0]     15\n",
       "dtype: int64"
      ]
     },
     "execution_count": 180,
     "metadata": {},
     "output_type": "execute_result"
    }
   ],
   "source": [
    "ctg.value_counts().sort_index()"
   ]
  },
  {
   "cell_type": "markdown",
   "metadata": {},
   "source": [
    "qcut은 구간을 일정하게 나누는 것이 아니라 데이터의 분포를 비슷한 크기의 그룹으로 나눠줍니다."
   ]
  },
  {
   "cell_type": "code",
   "execution_count": 182,
   "metadata": {},
   "outputs": [
    {
     "data": {
      "text/plain": [
       "0       (3544.0, 4648.0]\n",
       "1       (7068.0, 9610.0]\n",
       "2     (1539.999, 2618.0]\n",
       "3       (3544.0, 4648.0]\n",
       "4     (1539.999, 2618.0]\n",
       "             ...        \n",
       "95      (2618.0, 3544.0]\n",
       "96      (7068.0, 9610.0]\n",
       "97      (7068.0, 9610.0]\n",
       "98      (3544.0, 4648.0]\n",
       "99      (2618.0, 3544.0]\n",
       "Length: 100, dtype: category\n",
       "Categories (5, interval[float64]): [(1539.999, 2618.0] < (2618.0, 3544.0] < (3544.0, 4648.0] < (4648.0, 7068.0] < (7068.0, 9610.0]]"
      ]
     },
     "execution_count": 182,
     "metadata": {},
     "output_type": "execute_result"
    }
   ],
   "source": [
    "ctg = pd.qcut(salary, q=5)\n",
    "ctg"
   ]
  },
  {
   "cell_type": "code",
   "execution_count": 183,
   "metadata": {},
   "outputs": [
    {
     "name": "stdout",
     "output_type": "stream",
     "text": [
      "(1539.999, 2618.0]    20\n",
      "(2618.0, 3544.0]      20\n",
      "(3544.0, 4648.0]      20\n",
      "(4648.0, 7068.0]      20\n",
      "(7068.0, 9610.0]      20\n",
      "dtype: int64\n"
     ]
    }
   ],
   "source": [
    "print(ctg.value_counts().sort_index())"
   ]
  },
  {
   "cell_type": "markdown",
   "metadata": {},
   "source": [
    "현실에서 여러분이 만날 데이터는 깨끗하지 않은 경우가 많습니다. 그래서 오늘은 표 데이터 전처리하는 방법을 배웠습니다.\n",
    "어떤 내용을 다뤘는지 키워드로 살펴보겠습니다.\n",
    "\n",
    "결측치(Missing Data)\n",
    "중복된 데이터\n",
    "이상치(Outlier)\n",
    "정규화(Normalization)\n",
    "원-핫 인코딩(One-Hot Encoding)\n",
    "구간화(Binning)\n",
    "위의 내용을 배웠지만 모든 데이터에 일괄적으로 적용해야 하는 것은 아닙니다.\n",
    "데이터 전처리는 데이터의 특성을 파악해서 해야 합니다.\n",
    "\n",
    "그래서 다소 번거롭게 느껴질 수 있지만 꼭 해야 하는 과정인 만큼 복습해보시기를 권합니다. 남는 시간 동안 아래 데이터셋의 전처리 과정을 진행해 보세요.\n",
    "\n",
    "vgsales.csv"
   ]
  },
  {
   "cell_type": "markdown",
   "metadata": {},
   "source": [
    "[Video Game Sales](https://www.kaggle.com/gregorut/videogamesales)"
   ]
  },
  {
   "cell_type": "markdown",
   "metadata": {},
   "source": [
    "위 데이터의 출처는 캐글의 Video Game Sales 데이터셋입니다. 16,500개 이상의 비디오 게임에 대한 매출 정보 등이 담겨 있습니다. 혹시 게임을 좋아하시는 분께는 아주 흥미로운 데이터셋이 될지도 모르겠습니다. 위에 언급된 전처리 기법 중 다수를 시도해 볼 수 있는 데이터셋이므로, 오늘 배운 기법들이 본인의 것이 될 수 있도록 복습을 통해 다시 한번 개념을 다져보시기를 권합니다.\n",
    "\n",
    "이외에도 여러분이 가진 표 데이터를 직접 전처리해 보시면 더욱 흥미롭게 하실 수 있습니다. 데이터가 없다면 공공데이터포털, 캐글에서 관심 있는 분야의 데이터를 찾아보시기 바랍니다."
   ]
  }
 ],
 "metadata": {
  "kernelspec": {
   "display_name": "Python 3",
   "language": "python",
   "name": "python3"
  },
  "language_info": {
   "codemirror_mode": {
    "name": "ipython",
    "version": 3
   },
   "file_extension": ".py",
   "mimetype": "text/x-python",
   "name": "python",
   "nbconvert_exporter": "python",
   "pygments_lexer": "ipython3",
   "version": "3.8.5"
  }
 },
 "nbformat": 4,
 "nbformat_minor": 4
}
