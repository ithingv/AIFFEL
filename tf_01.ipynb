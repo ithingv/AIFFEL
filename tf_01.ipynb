{
  "nbformat": 4,
  "nbformat_minor": 0,
  "metadata": {
    "colab": {
      "name": "tf_01.ipynb",
      "private_outputs": true,
      "provenance": [],
      "authorship_tag": "ABX9TyPU/wCn0vaTAHbukVwnPGOR",
      "include_colab_link": true
    },
    "kernelspec": {
      "name": "python3",
      "display_name": "Python 3"
    },
    "language_info": {
      "name": "python"
    }
  },
  "cells": [
    {
      "cell_type": "markdown",
      "metadata": {
        "id": "view-in-github",
        "colab_type": "text"
      },
      "source": [
        "<a href=\"https://colab.research.google.com/github/ithingv/study_ai/blob/main/tf_01.ipynb\" target=\"_parent\"><img src=\"https://colab.research.google.com/assets/colab-badge.svg\" alt=\"Open In Colab\"/></a>"
      ]
    },
    {
      "cell_type": "code",
      "metadata": {
        "id": "aVpph5QKJkQ0"
      },
      "source": [
        "from google.colab import drive\n",
        "\n",
        "drive.mount('/content/gdrive')"
      ],
      "execution_count": null,
      "outputs": []
    },
    {
      "cell_type": "code",
      "metadata": {
        "id": "Z1dppumOJpVJ"
      },
      "source": [
        "import tensorflow as tf\n",
        "import numpy as np\n",
        "import matplotlib.pyplot as plt\n",
        "\n",
        "%matplotlib inline"
      ],
      "execution_count": null,
      "outputs": []
    },
    {
      "cell_type": "code",
      "metadata": {
        "id": "rFT2v81uJ0Ga"
      },
      "source": [
        "print(tf.__version__)"
      ],
      "execution_count": null,
      "outputs": []
    },
    {
      "cell_type": "code",
      "metadata": {
        "id": "wRZlcZSQKOOt"
      },
      "source": [
        "# 파라미터 설정\n",
        "input_dim = 2\n",
        "hidden_units = 1\n",
        "# learning_rate\n",
        "lr = 1e-2"
      ],
      "execution_count": null,
      "outputs": []
    },
    {
      "cell_type": "code",
      "metadata": {
        "id": "SNrCNpihL2du"
      },
      "source": [
        "w = tf.Variable(tf.random.uniform(shape=(input_dim, hidden_units)))"
      ],
      "execution_count": null,
      "outputs": []
    },
    {
      "cell_type": "code",
      "metadata": {
        "id": "cstrzPKBJ0hx"
      },
      "source": [
        "b = tf.Variable(tf.zeros(shape=(hidden_units,)))"
      ],
      "execution_count": null,
      "outputs": []
    },
    {
      "cell_type": "code",
      "metadata": {
        "id": "hS6TgW_VJ0qm"
      },
      "source": [
        "w"
      ],
      "execution_count": null,
      "outputs": []
    },
    {
      "cell_type": "code",
      "metadata": {
        "id": "tZH103gcJ00j"
      },
      "source": [
        "b"
      ],
      "execution_count": null,
      "outputs": []
    },
    {
      "cell_type": "code",
      "metadata": {
        "id": "da2bsel2J083"
      },
      "source": [
        "# 퍼셉트론의 수학 모델 f(w*x + b)\n",
        "# 내적 -> 활성화함수\n",
        "def predict(input):\n",
        "    x = tf.matmul(input, w) + b\n",
        "    x = tf.maximum(0,x)\n",
        "    return x"
      ],
      "execution_count": null,
      "outputs": []
    },
    {
      "cell_type": "code",
      "metadata": {
        "id": "6kxKn-PLJ1EV"
      },
      "source": [
        "# 손실함수 mse\n",
        "def mse_loss(labels, predictions):\n",
        "    return tf.reduce_mean(tf.square(labels - predictions))"
      ],
      "execution_count": null,
      "outputs": []
    },
    {
      "cell_type": "code",
      "metadata": {
        "id": "Fl1rPoSQJ1Lh"
      },
      "source": [
        "def train(inputs, labels):\n",
        "    with tf.GradientTape() as tape:\n",
        "        predictions = predict(inputs)\n",
        "        loss = mse_loss(labels, predictions)\n",
        "        gradient_lw, gradient_lb = tape.gradient(loss, [w, b])\n",
        "    w.assign(w - lr * gradient_lw)\n",
        "    b.assign(b - lr * gradient_lb)\n",
        "    return loss"
      ],
      "execution_count": null,
      "outputs": []
    },
    {
      "cell_type": "code",
      "metadata": {
        "id": "MgfBJsfzJ2JG"
      },
      "source": [
        "inputs = np.array([[0, 0],\n",
        "                   [0, 1],\n",
        "                   [1, 0],\n",
        "                   [1, 1]], dtype=np.float32)"
      ],
      "execution_count": null,
      "outputs": []
    },
    {
      "cell_type": "code",
      "metadata": {
        "id": "S9e27hOeJ2aY"
      },
      "source": [
        "labels = np.array([0, 0, 0, 1], dtype=np.float32)"
      ],
      "execution_count": null,
      "outputs": []
    },
    {
      "cell_type": "code",
      "metadata": {
        "id": "fz4QyVoOJ2hY"
      },
      "source": [
        "plt.scatter(inputs[:,0], inputs[:,1], c=labels[:])"
      ],
      "execution_count": null,
      "outputs": []
    },
    {
      "cell_type": "markdown",
      "metadata": {
        "id": "ZhWvdXhoJ2pJ"
      },
      "source": [
        "#### train 함수를 반복적으로 실행하여 퍼셉트론 모델을 학습"
      ]
    },
    {
      "cell_type": "code",
      "metadata": {
        "id": "ULW7o_2OJ2za"
      },
      "source": [
        "for epoch in range(100):\n",
        "    for input, label in zip(inputs, labels):\n",
        "        loss = train([input], [label])\n",
        "    print(f\"epoch : {epoch + 1}, loss : {loss}\")"
      ],
      "execution_count": null,
      "outputs": []
    },
    {
      "cell_type": "code",
      "metadata": {
        "id": "oEj0yxpSOVmg"
      },
      "source": [
        "test_inputs = np.random.uniform(0,1, (5000, 2)).astype(np.float32)"
      ],
      "execution_count": null,
      "outputs": []
    },
    {
      "cell_type": "code",
      "metadata": {
        "id": "VZ3_rVHUOt6S"
      },
      "source": [
        "test_inputs"
      ],
      "execution_count": null,
      "outputs": []
    },
    {
      "cell_type": "code",
      "metadata": {
        "id": "yfIDy3XtOusS"
      },
      "source": [
        "predictions = predict(test_inputs)\n",
        "plt.scatter(test_inputs[:,0], test_inputs[:,1], c = predictions[:] > 0.5)"
      ],
      "execution_count": null,
      "outputs": []
    },
    {
      "cell_type": "code",
      "metadata": {
        "id": "8dYv71O9O_YT"
      },
      "source": [
        "w"
      ],
      "execution_count": null,
      "outputs": []
    },
    {
      "cell_type": "code",
      "metadata": {
        "id": "kTETsB_4PCHz"
      },
      "source": [
        "b"
      ],
      "execution_count": null,
      "outputs": []
    },
    {
      "cell_type": "code",
      "metadata": {
        "id": "YmjYmv2oPCpJ"
      },
      "source": [
        ""
      ],
      "execution_count": null,
      "outputs": []
    }
  ]
}