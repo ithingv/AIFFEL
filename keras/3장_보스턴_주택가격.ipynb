{
  "nbformat": 4,
  "nbformat_minor": 0,
  "metadata": {
    "colab": {
      "name": "3장_보스턴_주택가격.ipynb",
      "provenance": [],
      "collapsed_sections": [
        "ljUbcV10lcGp"
      ]
    },
    "kernelspec": {
      "name": "python3",
      "display_name": "Python 3"
    },
    "language_info": {
      "name": "python"
    },
    "accelerator": "GPU"
  },
  "cells": [
    {
      "cell_type": "code",
      "metadata": {
        "id": "ghzYIbV2lOhs"
      },
      "source": [
        "import numpy as np\n",
        "import matplotlib.pyplot as plt"
      ],
      "execution_count": 4,
      "outputs": []
    },
    {
      "cell_type": "code",
      "metadata": {
        "id": "uH1oPBuelVBp"
      },
      "source": [
        "from keras.datasets import boston_housing"
      ],
      "execution_count": 5,
      "outputs": []
    },
    {
      "cell_type": "code",
      "metadata": {
        "colab": {
          "base_uri": "https://localhost:8080/"
        },
        "id": "YA8Rocd9lbcL",
        "outputId": "0a9cbc2a-7c21-48e8-9540-699218d34ad7"
      },
      "source": [
        "(train_data, train_targets), (test_data, test_targets) = boston_housing.load_data()"
      ],
      "execution_count": 6,
      "outputs": [
        {
          "output_type": "stream",
          "text": [
            "Downloading data from https://storage.googleapis.com/tensorflow/tf-keras-datasets/boston_housing.npz\n",
            "57344/57026 [==============================] - 0s 0us/step\n",
            "65536/57026 [==================================] - 0s 0us/step\n"
          ],
          "name": "stdout"
        }
      ]
    },
    {
      "cell_type": "code",
      "metadata": {
        "colab": {
          "base_uri": "https://localhost:8080/"
        },
        "id": "BHmXWI2wlcXM",
        "outputId": "53eef587-a99b-4007-8437-365d30f2f7e8"
      },
      "source": [
        "print(train_data.shape, test_data.shape)"
      ],
      "execution_count": 7,
      "outputs": [
        {
          "output_type": "stream",
          "text": [
            "(404, 13) (102, 13)\n"
          ],
          "name": "stdout"
        }
      ]
    },
    {
      "cell_type": "code",
      "metadata": {
        "colab": {
          "base_uri": "https://localhost:8080/"
        },
        "id": "vs2kvSOulcTz",
        "outputId": "2561d104-306f-4799-cdf8-b95693ccf031"
      },
      "source": [
        "print(train_targets.shape, test_targets.shape)"
      ],
      "execution_count": 8,
      "outputs": [
        {
          "output_type": "stream",
          "text": [
            "(404,) (102,)\n"
          ],
          "name": "stdout"
        }
      ]
    },
    {
      "cell_type": "markdown",
      "metadata": {
        "id": "jl9omkKKlcR1"
      },
      "source": [
        "404개의 훈련 샘플, 13개의 수치 특성이 있다. 이 특성들은 1인당 범죄율, 주택당 평균 방의 개수, 고속도로 접근성 등이다. \n",
        "\n",
        "타깃은 주택의 중간 가격으로 천 달러 단위이다.\n",
        "\n",
        "일반적으로 1만에서 5만 달러 사이이다."
      ]
    },
    {
      "cell_type": "code",
      "metadata": {
        "colab": {
          "base_uri": "https://localhost:8080/"
        },
        "id": "U322I5DSlcPa",
        "outputId": "e81afc6a-0cbc-4cb9-fefd-f081c16769b4"
      },
      "source": [
        "print(train_targets)"
      ],
      "execution_count": 9,
      "outputs": [
        {
          "output_type": "stream",
          "text": [
            "[15.2 42.3 50.  21.1 17.7 18.5 11.3 15.6 15.6 14.4 12.1 17.9 23.1 19.9\n",
            " 15.7  8.8 50.  22.5 24.1 27.5 10.9 30.8 32.9 24.  18.5 13.3 22.9 34.7\n",
            " 16.6 17.5 22.3 16.1 14.9 23.1 34.9 25.  13.9 13.1 20.4 20.  15.2 24.7\n",
            " 22.2 16.7 12.7 15.6 18.4 21.  30.1 15.1 18.7  9.6 31.5 24.8 19.1 22.\n",
            " 14.5 11.  32.  29.4 20.3 24.4 14.6 19.5 14.1 14.3 15.6 10.5  6.3 19.3\n",
            " 19.3 13.4 36.4 17.8 13.5 16.5  8.3 14.3 16.  13.4 28.6 43.5 20.2 22.\n",
            " 23.  20.7 12.5 48.5 14.6 13.4 23.7 50.  21.7 39.8 38.7 22.2 34.9 22.5\n",
            " 31.1 28.7 46.  41.7 21.  26.6 15.  24.4 13.3 21.2 11.7 21.7 19.4 50.\n",
            " 22.8 19.7 24.7 36.2 14.2 18.9 18.3 20.6 24.6 18.2  8.7 44.  10.4 13.2\n",
            " 21.2 37.  30.7 22.9 20.  19.3 31.7 32.  23.1 18.8 10.9 50.  19.6  5.\n",
            " 14.4 19.8 13.8 19.6 23.9 24.5 25.  19.9 17.2 24.6 13.5 26.6 21.4 11.9\n",
            " 22.6 19.6  8.5 23.7 23.1 22.4 20.5 23.6 18.4 35.2 23.1 27.9 20.6 23.7\n",
            " 28.  13.6 27.1 23.6 20.6 18.2 21.7 17.1  8.4 25.3 13.8 22.2 18.4 20.7\n",
            " 31.6 30.5 20.3  8.8 19.2 19.4 23.1 23.  14.8 48.8 22.6 33.4 21.1 13.6\n",
            " 32.2 13.1 23.4 18.9 23.9 11.8 23.3 22.8 19.6 16.7 13.4 22.2 20.4 21.8\n",
            " 26.4 14.9 24.1 23.8 12.3 29.1 21.  19.5 23.3 23.8 17.8 11.5 21.7 19.9\n",
            " 25.  33.4 28.5 21.4 24.3 27.5 33.1 16.2 23.3 48.3 22.9 22.8 13.1 12.7\n",
            " 22.6 15.  15.3 10.5 24.  18.5 21.7 19.5 33.2 23.2  5.  19.1 12.7 22.3\n",
            " 10.2 13.9 16.3 17.  20.1 29.9 17.2 37.3 45.4 17.8 23.2 29.  22.  18.\n",
            " 17.4 34.6 20.1 25.  15.6 24.8 28.2 21.2 21.4 23.8 31.  26.2 17.4 37.9\n",
            " 17.5 20.   8.3 23.9  8.4 13.8  7.2 11.7 17.1 21.6 50.  16.1 20.4 20.6\n",
            " 21.4 20.6 36.5  8.5 24.8 10.8 21.9 17.3 18.9 36.2 14.9 18.2 33.3 21.8\n",
            " 19.7 31.6 24.8 19.4 22.8  7.5 44.8 16.8 18.7 50.  50.  19.5 20.1 50.\n",
            " 17.2 20.8 19.3 41.3 20.4 20.5 13.8 16.5 23.9 20.6 31.5 23.3 16.8 14.\n",
            " 33.8 36.1 12.8 18.3 18.7 19.1 29.  30.1 50.  50.  22.  11.9 37.6 50.\n",
            " 22.7 20.8 23.5 27.9 50.  19.3 23.9 22.6 15.2 21.7 19.2 43.8 20.3 33.2\n",
            " 19.9 22.5 32.7 22.  17.1 19.  15.  16.1 25.1 23.7 28.7 37.2 22.6 16.4\n",
            " 25.  29.8 22.1 17.4 18.1 30.3 17.5 24.7 12.6 26.5 28.7 13.3 10.4 24.4\n",
            " 23.  20.  17.8  7.  11.8 24.4 13.8 19.4 25.2 19.4 19.4 29.1]\n"
          ],
          "name": "stdout"
        }
      ]
    },
    {
      "cell_type": "code",
      "metadata": {
        "colab": {
          "base_uri": "https://localhost:8080/",
          "height": 265
        },
        "id": "6nzFbAm_lcNZ",
        "outputId": "9adf5a90-5577-4c4b-ca45-a645eae3bbd7"
      },
      "source": [
        "x = np.arange(1,len(train_targets) + 1)\n",
        "plt.scatter(x, train_targets)\n",
        "plt.ylabel(\"housing price\")\n",
        "plt.show()"
      ],
      "execution_count": 10,
      "outputs": [
        {
          "output_type": "display_data",
          "data": {
            "image/png": "[encoded data removed]",
            "text/plain": [
              "<Figure size 432x288 with 1 Axes>"
            ]
          },
          "metadata": {
            "tags": [],
            "needs_background": "light"
          }
        }
      ]
    },
    {
      "cell_type": "markdown",
      "metadata": {
        "id": "jsMN-LmnlcLL"
      },
      "source": [
        "### 데이터 준비\n",
        "\n",
        "상이한 스케일을 가진 값을 신경망에 주입하면 문제가 된다. 네트워크가 이런 다양한 데이터에 자동으로 맞추려고 할 수 있지만 이는 학습을 어렵게 만든다. 이런 데이터를 다룰 때 대표적인 방법은 특성별로 정규화를 하는 것이다. 입력 데이터에 있는 각 특성(입력 데이터 행렬의 열)에 대해서 특성의 평균을 빼고 표준 편차로 나눈다. 특성의 중앙이 0 근처에 맞추어지고 표준 편차가 1이 된다. 넘파이를 사용하면 간단하게 할 수 있다."
      ]
    },
    {
      "cell_type": "code",
      "metadata": {
        "id": "-o-u_sZ3lcI_"
      },
      "source": [
        "# 데이터 정규화 <- z-score, adjusted z-score, IQR\n",
        "\n",
        "mean = train_data.mean(axis=0)\n",
        "train_data -= mean\n",
        "std = train_data.std(axis=0)\n",
        "train_data /= std\n",
        "\n",
        "test_data -= mean\n",
        "test_data /= std"
      ],
      "execution_count": 11,
      "outputs": []
    },
    {
      "cell_type": "markdown",
      "metadata": {
        "id": "ljUbcV10lcGp"
      },
      "source": [
        "#### 테스트 데이터를 정규화할 때 사용한 값이 훈련 데이터에서 계산한(mean, std)임을 주목한다. 머신 러닝 작업 과정에서 절대로 테스트 데이터에서 계산한 어떤 값도 사용해서는 안된다."
      ]
    },
    {
      "cell_type": "markdown",
      "metadata": {
        "id": "9b7WfsO_lcEO"
      },
      "source": [
        "### 모델 구성\n",
        "샘플 개수가 적기 떄문에 64개의 유닛을 가진 은닉 층으로 작은 네트워크를 구성한다.\n",
        "\n",
        "일반적으로 훈련데이터의 개수가 작을 수록 과대 적합이 더 쉽게 일어나므로 작은 모델을 사용하는 것이 과대적합을 피하는 한 방법이다."
      ]
    },
    {
      "cell_type": "code",
      "metadata": {
        "id": "Fqzs0xWKlcB0"
      },
      "source": [
        "from keras import models\n",
        "from keras import layers\n",
        "\n",
        "def build_model():\n",
        "    model = models.Sequential()\n",
        "    model.add(layers.Dense(64, activation='relu', input_shape=(13,)))\n",
        "    model.add(layers.Dense(64, activation='relu'))\n",
        "    model.add(layers.Dense(1))\n",
        "    model.compile(optimizer='rmsprop', loss='mse', metrics=['mae'])\n",
        "    return model"
      ],
      "execution_count": 44,
      "outputs": []
    },
    {
      "cell_type": "markdown",
      "metadata": {
        "id": "e4LCs9R0ouRR"
      },
      "source": [
        "이 네트워크의 마지막 층은 하나의 유닛을 가지고 있고 활성화 함수가 없다(선형층이라 부른다). 이것이 전형적인 스칼라 회귀를 위한 구성이다. 활성화 함수를 적용하면 출력 값의 범위를 제한하게 된다. \n",
        "\n",
        "이 모델은 mse 손실 함수를 사용하여 컴파일한다. 이 함수는 평균 제곱 오차로 예측과 타깃 사이의 거리의 제곱이다. \n",
        "\n",
        "훈련하는 동안 모니터링을 위해 새로운 지표인 평균 절대 오차(MAE)를 측정한다. 이는 예측과 타깃 사이 거리의 절대값이다 예를 들어 이 예제에서 MAE가 0.5면 예측이 평균적으로 500달러 정도 차이가 난다는 뜻이다."
      ]
    },
    {
      "cell_type": "markdown",
      "metadata": {
        "id": "emC5xWgdouNt"
      },
      "source": [
        "### K겹 검증을 사용한 훈련 검증"
      ]
    },
    {
      "cell_type": "markdown",
      "metadata": {
        "id": "aHnSAMhqouLl"
      },
      "source": [
        "(훈련에 사용할 에포크 수 같은) 매개변수들을 조정하면서 모델을 평가하기 위해 데이터를 훈련 세트와 검증 세트로 나눈다. 데이터 포인트가 많지 않기 때문에 검증 세트도 매우 작아진다(약 100개), 결국 검증 세트와 훈련 세트로 어떤 데이터 포인트가 선택되었는지에 따라 검증 점수가 크게 달라진다. 검증 세트의 분할에 대한 검증 점수의 분산이 높다면 신뢰 있는 모델 평가를 할 수 없다.\n",
        "\n",
        "이런 상황에서 가장 좋은 방법은 K겹 교차 검증을 사용하는 것이다.\n",
        "\n",
        "데이터를 K분할(일반적으로 K=4,5) K개의 모델을 각각 만들어 K - 1개의 분할에서 훈련하고 나머지 분할에서 평가하는 방법이다. 모델의 검증 점수는 K개의 검증 점수의 평균이 된다."
      ]
    },
    {
      "cell_type": "code",
      "metadata": {
        "colab": {
          "base_uri": "https://localhost:8080/"
        },
        "id": "5nltjk_LouH4",
        "outputId": "e43ac3b6-5836-4e38-f504-ff0274eb432c"
      },
      "source": [
        "# K겹 검증\n",
        "\n",
        "import numpy as np\n",
        "\n",
        "k = 4\n",
        "num_val_samples = len(train_data) // k # 404//4 = 101\n",
        "num_epochs = 100\n",
        "all_scores = []\n",
        "for i in range(k):\n",
        "    print(\"처리중인 fold #\", i)\n",
        "    val_data = train_data[i * num_val_samples : (i + 1) * num_val_samples] # (0~1, 1~2, 2~3, 3~4)\n",
        "    val_targets = train_targets[i * num_val_samples : (i + 1) * num_val_samples]\n",
        "    partial_train_data = np.concatenate(\n",
        "        [train_data[:i * num_val_samples],\n",
        "         train_data[(i + 1) * num_val_samples:]],\n",
        "         axis=0)\n",
        "    partial_train_targets = np.concatenate(\n",
        "        [train_targets[:i * num_val_samples],\n",
        "         train_targets[(i + 1) * num_val_samples:]],\n",
        "         axis=0)\n",
        "    \n",
        "    model = build_model()\n",
        "    model.fit(partial_train_data, partial_train_targets, epochs=num_val_samples, batch_size=1, verbose=0)\n",
        "    val_mse, val_mae = model.evaluate(val_data, val_targets, verbose=0)\n",
        "    all_scores.append(val_mae)"
      ],
      "execution_count": 15,
      "outputs": [
        {
          "output_type": "stream",
          "text": [
            "처리중인 fold # 0\n",
            "처리중인 fold # 1\n",
            "처리중인 fold # 2\n",
            "처리중인 fold # 3\n"
          ],
          "name": "stdout"
        }
      ]
    },
    {
      "cell_type": "code",
      "metadata": {
        "colab": {
          "base_uri": "https://localhost:8080/"
        },
        "id": "UUL4X4poouGH",
        "outputId": "d45296b4-3e67-44db-ba41-914ded346b29"
      },
      "source": [
        "all_scores"
      ],
      "execution_count": 18,
      "outputs": [
        {
          "output_type": "execute_result",
          "data": {
            "text/plain": [
              "[2.110275983810425, 2.6614418029785156, 2.535376787185669, 2.468261957168579]"
            ]
          },
          "metadata": {
            "tags": []
          },
          "execution_count": 18
        }
      ]
    },
    {
      "cell_type": "code",
      "metadata": {
        "colab": {
          "base_uri": "https://localhost:8080/"
        },
        "id": "cEgerIb2ouDR",
        "outputId": "0780b993-1255-4560-abae-acceeaa97b79"
      },
      "source": [
        "np.mean(all_scores)"
      ],
      "execution_count": 19,
      "outputs": [
        {
          "output_type": "execute_result",
          "data": {
            "text/plain": [
              "2.443839132785797"
            ]
          },
          "metadata": {
            "tags": []
          },
          "execution_count": 19
        }
      ]
    },
    {
      "cell_type": "markdown",
      "metadata": {
        "id": "TXAo5ultouAq"
      },
      "source": [
        "평균적으로 2,475달러 정도 차이가 난다. 주택 가격의 범위가 1만 달러에서 5만 달러 사이인 것을 감안하면 비교적 큰 값이다"
      ]
    },
    {
      "cell_type": "markdown",
      "metadata": {
        "id": "XQc_7DJ1ot26"
      },
      "source": [
        "에폭을 500으로 늘려 신경망을 학습해본다"
      ]
    },
    {
      "cell_type": "code",
      "metadata": {
        "colab": {
          "base_uri": "https://localhost:8080/"
        },
        "id": "r7-QUOgoy9Zc",
        "outputId": "4018ad87-7e7a-4229-fefa-b578eb643a54"
      },
      "source": [
        "k = 4\n",
        "epochs = 500\n",
        "all_mae_histories = []\n",
        "for i in range(k):\n",
        "    print(\"처리중인 fold #\", i)\n",
        "    val_data = train_data[i * num_val_samples : (i + 1) * num_val_samples] # (0~1, 1~2, 2~3, 3~4)\n",
        "    val_targets = train_targets[i * num_val_samples : (i + 1) * num_val_samples]\n",
        "    partial_train_data = np.concatenate(\n",
        "        [train_data[:i * num_val_samples],\n",
        "         train_data[(i + 1) * num_val_samples:]],\n",
        "         axis=0)\n",
        "    partial_train_targets = np.concatenate(\n",
        "        [train_targets[:i * num_val_samples],\n",
        "         train_targets[(i + 1) * num_val_samples:]],\n",
        "         axis=0)\n",
        "    \n",
        "    model = build_model()\n",
        "    history = model.fit(partial_train_data, \n",
        "                        partial_train_targets, \n",
        "                        epochs=epochs,\n",
        "                        batch_size=1,\n",
        "                        validation_data=(val_data, val_targets),\n",
        "                        verbose=0)\n",
        "    mae_history = history.history['val_mae']\n",
        "    all_mae_histories.append(mae_history)"
      ],
      "execution_count": 26,
      "outputs": [
        {
          "output_type": "stream",
          "text": [
            "처리중인 fold # 0\n",
            "처리중인 fold # 1\n",
            "처리중인 fold # 2\n",
            "처리중인 fold # 3\n"
          ],
          "name": "stdout"
        }
      ]
    },
    {
      "cell_type": "code",
      "metadata": {
        "id": "unDrZPyTy9WH"
      },
      "source": [
        "# k fold 점수 평균\n",
        "\n",
        "average_mae_history = [\n",
        "                       np.mean([x[i] for x in all_mae_histories]) for i in range(num_epochs)\n",
        "]"
      ],
      "execution_count": 38,
      "outputs": []
    },
    {
      "cell_type": "code",
      "metadata": {
        "colab": {
          "base_uri": "https://localhost:8080/",
          "height": 279
        },
        "id": "69bwp6Qny9T-",
        "outputId": "38b785b3-a262-4863-8d10-050e27e9a8da"
      },
      "source": [
        "plt.plot(range(1, len(average_mae_history) + 1), average_mae_history)\n",
        "plt.xlabel(\"Epochs\")\n",
        "plt.ylabel(\"val_mae\")\n",
        "plt.show()"
      ],
      "execution_count": 39,
      "outputs": [
        {
          "output_type": "display_data",
          "data": {
            "image/png": "[encoded data removed]",
            "text/plain": [
              "<Figure size 432x288 with 1 Axes>"
            ]
          },
          "metadata": {
            "tags": [],
            "needs_background": "light"
          }
        }
      ]
    },
    {
      "cell_type": "markdown",
      "metadata": {
        "id": "Ig8p8ELMy9SM"
      },
      "source": [
        "이 그래프는 범위가 크고 변동이 심하기 때문에 보기가 어렵다.\n",
        "- 곡선의 다른 부분과 스케일이 많이 다른 첫 10개의 데이터 포인트를 제외시킨다.\n",
        "- 부드러운 곡선을 얻기 위해 각 포인트를 이전 포인트의 지수이동평균(exponentioal moving average)로 대체한다."
      ]
    },
    {
      "cell_type": "code",
      "metadata": {
        "colab": {
          "base_uri": "https://localhost:8080/",
          "height": 279
        },
        "id": "DRJxqfpdy9QK",
        "outputId": "1c7fd347-8b0e-4c38-9433-575b45a6724d"
      },
      "source": [
        "# 처음 10개의 데이터 포인트를 제외한 검증 점수 그리기\n",
        "\n",
        "def smooth_curve(points, factor=0.9):\n",
        "    smoothed_points = []\n",
        "    for point in points:\n",
        "        if smoothed_points:\n",
        "            previous = smoothed_points[-1]\n",
        "            smoothed_points.append(previous * factor + point * (1 - factor))\n",
        "        else:\n",
        "            smoothed_points.append(point)\n",
        "    return smoothed_points\n",
        "\n",
        "smooth_mae_history = smooth_curve(average_mae_history[10:])\n",
        "\n",
        "plt.plot(range(1, len(smooth_mae_history) +1), smooth_mae_history)\n",
        "plt.xlabel(\"Epochs\")\n",
        "plt.ylabel(\"val_mae\")\n",
        "plt.show()"
      ],
      "execution_count": 42,
      "outputs": [
        {
          "output_type": "display_data",
          "data": {
            "image/png": "[encoded data removed]",
            "text/plain": [
              "<Figure size 432x288 with 1 Axes>"
            ]
          },
          "metadata": {
            "tags": [],
            "needs_background": "light"
          }
        }
      ]
    },
    {
      "cell_type": "markdown",
      "metadata": {
        "id": "-679jl9ny9OC"
      },
      "source": [
        ""
      ]
    },
    {
      "cell_type": "code",
      "metadata": {
        "colab": {
          "base_uri": "https://localhost:8080/"
        },
        "id": "k9gBccFKy9L1",
        "outputId": "37705c1d-edc6-4be6-e248-4666842368d0"
      },
      "source": [
        "# 최종 모델 훈련하기\n",
        "model = build_model()\n",
        "model.fit(train_data, train_targets,\n",
        "          epochs=80, batch_size=16, verbose=0)\n",
        "\n",
        "test_mse_score, test_mae_score = model.evaluate(test_data, test_targets)"
      ],
      "execution_count": 48,
      "outputs": [
        {
          "output_type": "stream",
          "text": [
            "4/4 [==============================] - 0s 3ms/step - loss: 18.1212 - mae: 2.7024\n"
          ],
          "name": "stdout"
        }
      ]
    },
    {
      "cell_type": "code",
      "metadata": {
        "colab": {
          "base_uri": "https://localhost:8080/"
        },
        "id": "CLVbyycOy9Jp",
        "outputId": "c39c8459-3c9f-432d-dac3-cd73d0172462"
      },
      "source": [
        "test_mae_score"
      ],
      "execution_count": 49,
      "outputs": [
        {
          "output_type": "execute_result",
          "data": {
            "text/plain": [
              "2.7024004459381104"
            ]
          },
          "metadata": {
            "tags": []
          },
          "execution_count": 49
        }
      ]
    },
    {
      "cell_type": "code",
      "metadata": {
        "id": "EWoeZlasy9HQ"
      },
      "source": [
        ""
      ],
      "execution_count": null,
      "outputs": []
    }
  ]
}