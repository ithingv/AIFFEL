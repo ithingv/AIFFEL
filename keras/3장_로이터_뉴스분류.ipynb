{
  "nbformat": 4,
  "nbformat_minor": 0,
  "metadata": {
    "colab": {
      "name": "3장 로이터 뉴스분류.ipynb",
      "provenance": [],
      "collapsed_sections": []
    },
    "kernelspec": {
      "name": "python3",
      "display_name": "Python 3"
    },
    "language_info": {
      "name": "python"
    }
  },
  "cells": [
    {
      "cell_type": "code",
      "metadata": {
        "id": "qYiwwxQPUjBn"
      },
      "source": [
        "import numpy as np\n",
        "import matplotlib.pyplot as plt"
      ],
      "execution_count": 1,
      "outputs": []
    },
    {
      "cell_type": "code",
      "metadata": {
        "id": "uC_buO6gUnoJ"
      },
      "source": [
        "from keras.datasets.reuters import load_data\n",
        "from keras.datasets.reuters import get_word_index"
      ],
      "execution_count": 17,
      "outputs": []
    },
    {
      "cell_type": "code",
      "metadata": {
        "colab": {
          "base_uri": "https://localhost:8080/"
        },
        "id": "tU_qM2WoUqoU",
        "outputId": "2091eae9-9256-4445-a40c-18ccf638aa18"
      },
      "source": [
        "(train_data, train_labels), (test_data, test_labels) = load_data(num_words=10000)"
      ],
      "execution_count": 5,
      "outputs": [
        {
          "output_type": "stream",
          "text": [
            "Downloading data from https://storage.googleapis.com/tensorflow/tf-keras-datasets/reuters.npz\n",
            "2113536/2110848 [==============================] - 0s 0us/step\n",
            "2121728/2110848 [==============================] - 0s 0us/step\n"
          ],
          "name": "stdout"
        },
        {
          "output_type": "stream",
          "text": [
            "/usr/local/lib/python3.7/dist-packages/keras/datasets/reuters.py:143: VisibleDeprecationWarning: Creating an ndarray from ragged nested sequences (which is a list-or-tuple of lists-or-tuples-or ndarrays with different lengths or shapes) is deprecated. If you meant to do this, you must specify 'dtype=object' when creating the ndarray\n",
            "  x_train, y_train = np.array(xs[:idx]), np.array(labels[:idx])\n",
            "/usr/local/lib/python3.7/dist-packages/keras/datasets/reuters.py:144: VisibleDeprecationWarning: Creating an ndarray from ragged nested sequences (which is a list-or-tuple of lists-or-tuples-or ndarrays with different lengths or shapes) is deprecated. If you meant to do this, you must specify 'dtype=object' when creating the ndarray\n",
            "  x_test, y_test = np.array(xs[idx:]), np.array(labels[idx:])\n"
          ],
          "name": "stderr"
        }
      ]
    },
    {
      "cell_type": "code",
      "metadata": {
        "colab": {
          "base_uri": "https://localhost:8080/"
        },
        "id": "E5TlA5yPU35A",
        "outputId": "38f4c1b5-cec0-4d66-80be-cda27b324741"
      },
      "source": [
        "print(train_data.shape, train_labels.shape, test_data.shape, test_labels.shape)"
      ],
      "execution_count": 8,
      "outputs": [
        {
          "output_type": "stream",
          "text": [
            "(8982,) (8982,) (2246,) (2246,)\n"
          ],
          "name": "stdout"
        }
      ]
    },
    {
      "cell_type": "code",
      "metadata": {
        "id": "WDtW9oHTU8f8"
      },
      "source": [
        "# max([max(sequence) for sequence in train_data])"
      ],
      "execution_count": 15,
      "outputs": []
    },
    {
      "cell_type": "code",
      "metadata": {
        "id": "n-LtwMX7VLCA"
      },
      "source": [
        "word_index = get_word_index()\n",
        "reversed_word_index = dict(\n",
        "    [(value, word) for (word, value) in word_index.items()]\n",
        ")\n",
        "decoded_review = ' '.join(\n",
        "    [ reversed_word_index.get(i - 3, '?') for i in train_data[0]] # 0, 1, 2는 패딩, 문서 시작, 사전에 없는 인덱스로 3을 뺀다.\n",
        ")"
      ],
      "execution_count": 24,
      "outputs": []
    },
    {
      "cell_type": "code",
      "metadata": {
        "colab": {
          "base_uri": "https://localhost:8080/",
          "height": 70
        },
        "id": "f9VJxIDgWUJ9",
        "outputId": "1e83c70d-82a6-4ccf-893a-c11599b38753"
      },
      "source": [
        "decoded_review"
      ],
      "execution_count": 25,
      "outputs": [
        {
          "output_type": "execute_result",
          "data": {
            "application/vnd.google.colaboratory.intrinsic+json": {
              "type": "string"
            },
            "text/plain": [
              "'? ? ? said as a result of its december acquisition of space co it expects earnings per share in 1987 of 1 15 to 1 30 dlrs per share up from 70 cts in 1986 the company said pretax net should rise to nine to 10 mln dlrs from six mln dlrs in 1986 and rental operation revenues to 19 to 22 mln dlrs from 12 5 mln dlrs it said cash flow per share this year should be 2 50 to three dlrs reuter 3'"
            ]
          },
          "metadata": {
            "tags": []
          },
          "execution_count": 25
        }
      ]
    },
    {
      "cell_type": "code",
      "metadata": {
        "colab": {
          "base_uri": "https://localhost:8080/"
        },
        "id": "fKa2fbPmXhxp",
        "outputId": "3d0d9876-3f28-4ad4-f01b-7b4b761dab5e"
      },
      "source": [
        "# 샘플에 연결된 레이블은 토픽의 인덱스로 0 ~ 45 사이의 정수이다\n",
        "# 분류할 뉴스 기사 클래스가 46개\n",
        "print(min(train_labels), max(train_labels))"
      ],
      "execution_count": 27,
      "outputs": [
        {
          "output_type": "stream",
          "text": [
            "0 45\n"
          ],
          "name": "stdout"
        }
      ]
    },
    {
      "cell_type": "code",
      "metadata": {
        "id": "hmiGVa1eYM1y"
      },
      "source": [
        "def vectorize_sequences(sequences, dimension=10000):\n",
        "    results = np.zeros((len(sequences), dimension))\n",
        "    for i, sequence in enumerate(sequences):\n",
        "        results[i, sequence] = 1.\n",
        "    return results\n",
        "\n",
        "x_train = vectorize_sequences(train_data)\n",
        "x_test = vectorize_sequences(test_data)"
      ],
      "execution_count": 31,
      "outputs": []
    },
    {
      "cell_type": "code",
      "metadata": {
        "colab": {
          "base_uri": "https://localhost:8080/"
        },
        "id": "g0HXfj5hYSIG",
        "outputId": "d4715ab6-729d-4f37-f22e-2cc075ea5b4b"
      },
      "source": [
        "print(x_train.shape, x_test.shape)"
      ],
      "execution_count": 32,
      "outputs": [
        {
          "output_type": "stream",
          "text": [
            "(8982, 10000) (2246, 10000)\n"
          ],
          "name": "stdout"
        }
      ]
    },
    {
      "cell_type": "markdown",
      "metadata": {
        "id": "-jZC67uVYSEm"
      },
      "source": [
        "## 레이블을 벡터로 변환하는 방법\n",
        "1. 레이블의 리스트를 정수 텐서로 변환하는 것\n",
        "2. one-hot encoding, 범주형 데이터에 널리 사용되기 때문에 범주형 인코딩이라고도 부른다.\n",
        "\n",
        "케라스에는 이를 위한 내장함수가 있다.\n",
        "\n",
        "from keras.utils.np_utils import to_categorical\n",
        "\n",
        "to_categorical(labels)"
      ]
    },
    {
      "cell_type": "code",
      "metadata": {
        "id": "MY_OokPVYR-z"
      },
      "source": [
        "def to_one_hot(labels, dimension=46):\n",
        "    results = np.zeros((len(labels), dimension))\n",
        "    for i, label in enumerate(labels):\n",
        "        results[i, label] = 1.\n",
        "    return results"
      ],
      "execution_count": 33,
      "outputs": []
    },
    {
      "cell_type": "code",
      "metadata": {
        "id": "mvxS_ioyYR7a"
      },
      "source": [
        "y_train = to_one_hot(train_labels)\n",
        "y_test = to_one_hot(test_labels)"
      ],
      "execution_count": 34,
      "outputs": []
    },
    {
      "cell_type": "code",
      "metadata": {
        "colab": {
          "base_uri": "https://localhost:8080/"
        },
        "id": "kAPQXTrHYR4i",
        "outputId": "41d87ba3-3650-43cb-aeeb-6958aa35bb2c"
      },
      "source": [
        "print(y_train.shape, y_test.shape)"
      ],
      "execution_count": 35,
      "outputs": [
        {
          "output_type": "stream",
          "text": [
            "(8982, 46) (2246, 46)\n"
          ],
          "name": "stdout"
        }
      ]
    },
    {
      "cell_type": "markdown",
      "metadata": {
        "id": "ExoeWocLYR1y"
      },
      "source": [
        "## 모델 구성"
      ]
    },
    {
      "cell_type": "code",
      "metadata": {
        "id": "t4dtGTTXYRzY"
      },
      "source": [
        "from keras import layers\n",
        "from keras import models\n",
        "\n",
        "model = models.Sequential()\n",
        "model.add(layers.Dense(64, activation='relu', input_shape=(10000,)))\n",
        "model.add(layers.Dense(64, activation='relu'))\n",
        "model.add(layers.Dense(46, activation='softmax'))"
      ],
      "execution_count": 36,
      "outputs": []
    },
    {
      "cell_type": "code",
      "metadata": {
        "id": "_WdnitjZYRxK"
      },
      "source": [
        "model.compile(optimizer='rmsprop',\n",
        "              loss='categorical_crossentropy',\n",
        "              metrics=['acc'])"
      ],
      "execution_count": 37,
      "outputs": []
    },
    {
      "cell_type": "code",
      "metadata": {
        "id": "ejgd8x7xYRuO"
      },
      "source": [
        "x_val = x_train[:1000]\n",
        "partial_x_train = x_train[1000:] \n",
        "y_val = y_train[:1000]\n",
        "partial_y_train = y_train[1000:]"
      ],
      "execution_count": 40,
      "outputs": []
    },
    {
      "cell_type": "code",
      "metadata": {
        "colab": {
          "base_uri": "https://localhost:8080/"
        },
        "id": "YgCLmnUhYRrl",
        "outputId": "aa73c405-42ea-4499-dbf4-cc15d8f98d75"
      },
      "source": [
        "model.fit(\n",
        "    partial_x_train,\n",
        "    partial_y_train,\n",
        "    batch_size=512,\n",
        "    epochs=20,\n",
        "    validation_data=(x_val, y_val)\n",
        ")"
      ],
      "execution_count": 41,
      "outputs": [
        {
          "output_type": "stream",
          "text": [
            "Epoch 1/20\n",
            "16/16 [==============================] - 15s 80ms/step - loss: 3.2563 - acc: 0.3582 - val_loss: 1.8392 - val_acc: 0.6260\n",
            "Epoch 2/20\n",
            "16/16 [==============================] - 1s 48ms/step - loss: 1.5854 - acc: 0.6771 - val_loss: 1.3346 - val_acc: 0.7190\n",
            "Epoch 3/20\n",
            "16/16 [==============================] - 1s 48ms/step - loss: 1.1122 - acc: 0.7716 - val_loss: 1.1472 - val_acc: 0.7480\n",
            "Epoch 4/20\n",
            "16/16 [==============================] - 1s 48ms/step - loss: 0.8531 - acc: 0.8188 - val_loss: 1.0465 - val_acc: 0.7740\n",
            "Epoch 5/20\n",
            "16/16 [==============================] - 1s 47ms/step - loss: 0.6877 - acc: 0.8586 - val_loss: 0.9836 - val_acc: 0.7910\n",
            "Epoch 6/20\n",
            "16/16 [==============================] - 1s 50ms/step - loss: 0.5543 - acc: 0.8865 - val_loss: 0.9227 - val_acc: 0.8160\n",
            "Epoch 7/20\n",
            "16/16 [==============================] - 1s 48ms/step - loss: 0.4256 - acc: 0.9159 - val_loss: 0.9184 - val_acc: 0.8130\n",
            "Epoch 8/20\n",
            "16/16 [==============================] - 1s 49ms/step - loss: 0.3502 - acc: 0.9291 - val_loss: 0.9113 - val_acc: 0.8130\n",
            "Epoch 9/20\n",
            "16/16 [==============================] - 1s 47ms/step - loss: 0.2934 - acc: 0.9380 - val_loss: 0.8947 - val_acc: 0.8180\n",
            "Epoch 10/20\n",
            "16/16 [==============================] - 1s 47ms/step - loss: 0.2479 - acc: 0.9442 - val_loss: 0.9001 - val_acc: 0.8200\n",
            "Epoch 11/20\n",
            "16/16 [==============================] - 1s 47ms/step - loss: 0.2067 - acc: 0.9528 - val_loss: 0.9339 - val_acc: 0.8160\n",
            "Epoch 12/20\n",
            "16/16 [==============================] - 1s 48ms/step - loss: 0.1785 - acc: 0.9543 - val_loss: 0.9596 - val_acc: 0.8120\n",
            "Epoch 13/20\n",
            "16/16 [==============================] - 1s 47ms/step - loss: 0.1573 - acc: 0.9560 - val_loss: 0.9442 - val_acc: 0.8180\n",
            "Epoch 14/20\n",
            "16/16 [==============================] - 1s 48ms/step - loss: 0.1411 - acc: 0.9614 - val_loss: 0.9925 - val_acc: 0.8100\n",
            "Epoch 15/20\n",
            "16/16 [==============================] - 1s 48ms/step - loss: 0.1293 - acc: 0.9594 - val_loss: 0.9736 - val_acc: 0.8140\n",
            "Epoch 16/20\n",
            "16/16 [==============================] - 1s 48ms/step - loss: 0.1209 - acc: 0.9593 - val_loss: 1.0293 - val_acc: 0.8020\n",
            "Epoch 17/20\n",
            "16/16 [==============================] - 1s 47ms/step - loss: 0.1187 - acc: 0.9584 - val_loss: 1.0102 - val_acc: 0.8140\n",
            "Epoch 18/20\n",
            "16/16 [==============================] - 1s 47ms/step - loss: 0.1111 - acc: 0.9592 - val_loss: 1.0424 - val_acc: 0.8000\n",
            "Epoch 19/20\n",
            "16/16 [==============================] - 1s 50ms/step - loss: 0.1040 - acc: 0.9630 - val_loss: 1.0739 - val_acc: 0.8010\n",
            "Epoch 20/20\n",
            "16/16 [==============================] - 1s 48ms/step - loss: 0.1016 - acc: 0.9627 - val_loss: 1.0761 - val_acc: 0.7990\n"
          ],
          "name": "stdout"
        },
        {
          "output_type": "execute_result",
          "data": {
            "text/plain": [
              "<keras.callbacks.History at 0x7efd76e8c810>"
            ]
          },
          "metadata": {
            "tags": []
          },
          "execution_count": 41
        }
      ]
    },
    {
      "cell_type": "code",
      "metadata": {
        "id": "4RbtB503YRo-"
      },
      "source": [
        "history = model.history.history"
      ],
      "execution_count": 51,
      "outputs": []
    },
    {
      "cell_type": "code",
      "metadata": {
        "colab": {
          "base_uri": "https://localhost:8080/"
        },
        "id": "3b-X_KA3YRmc",
        "outputId": "32ec6b7a-65f3-4527-e70c-5384ad4a68ee"
      },
      "source": [
        "history.keys()"
      ],
      "execution_count": 52,
      "outputs": [
        {
          "output_type": "execute_result",
          "data": {
            "text/plain": [
              "dict_keys(['loss', 'acc', 'val_loss', 'val_acc'])"
            ]
          },
          "metadata": {
            "tags": []
          },
          "execution_count": 52
        }
      ]
    },
    {
      "cell_type": "code",
      "metadata": {
        "colab": {
          "base_uri": "https://localhost:8080/",
          "height": 295
        },
        "id": "PyMW6xhyYRje",
        "outputId": "fa3768be-b07d-436b-a15a-9694b4fd6f8a"
      },
      "source": [
        "val_loss = history['val_loss']\n",
        "loss = history['loss']\n",
        "epochs = range(1, 21)\n",
        "\n",
        "plt.plot(epochs, val_loss, 'b-', label='Validation_loss')\n",
        "plt.plot(epochs, loss, 'bo', label='Traninig_loss')\n",
        "plt.title(\"Training and Validation Loss\")\n",
        "plt.xlabel(\"Epochs\")\n",
        "plt.ylabel(\"Loss\")\n",
        "plt.legend()\n",
        "plt.show()"
      ],
      "execution_count": 57,
      "outputs": [
        {
          "output_type": "display_data",
          "data": {
            "image/png": "[encoded data removed]",
            "text/plain": [
              "<Figure size 432x288 with 1 Axes>"
            ]
          },
          "metadata": {
            "tags": [],
            "needs_background": "light"
          }
        }
      ]
    },
    {
      "cell_type": "code",
      "metadata": {
        "colab": {
          "base_uri": "https://localhost:8080/",
          "height": 295
        },
        "id": "5GR0i4xMYRhG",
        "outputId": "23a66864-0ebb-4224-b74b-bf76c7cf87bf"
      },
      "source": [
        "val_acc = history['val_acc']\n",
        "acc = history['acc']\n",
        "epochs = range(1, 21)\n",
        "\n",
        "plt.plot(epochs, val_acc, 'b-', label='Validation_Accuracy')\n",
        "plt.plot(epochs, acc, 'bo', label='Traninig_Accuracy')\n",
        "plt.title(\"Training and Validation Accuracy\")\n",
        "plt.xlabel(\"Epochs\")\n",
        "plt.ylabel(\"accuracy\")\n",
        "plt.legend()\n",
        "plt.show()"
      ],
      "execution_count": 58,
      "outputs": [
        {
          "output_type": "display_data",
          "data": {
            "image/png": "[encoded data removed]",
            "text/plain": [
              "<Figure size 432x288 with 1 Axes>"
            ]
          },
          "metadata": {
            "tags": [],
            "needs_background": "light"
          }
        }
      ]
    },
    {
      "cell_type": "code",
      "metadata": {
        "colab": {
          "base_uri": "https://localhost:8080/"
        },
        "id": "lbSQRPGhYRe7",
        "outputId": "15295854-fdd2-47df-befe-1b2b097f802f"
      },
      "source": [
        "from keras import layers\n",
        "from keras import models\n",
        "\n",
        "model = models.Sequential()\n",
        "model.add(layers.Dense(64, activation='relu', input_shape=(10000,)))\n",
        "model.add(layers.Dense(64, activation='relu'))\n",
        "model.add(layers.Dense(46, activation='softmax'))\n",
        "\n",
        "model.compile(optimizer='rmsprop',\n",
        "              loss='categorical_crossentropy',\n",
        "              metrics=['acc'])\n",
        "\n",
        "model.fit(\n",
        "    partial_x_train,\n",
        "    partial_y_train,\n",
        "    batch_size=512,\n",
        "    epochs=9,\n",
        "    validation_data=(x_val, y_val)\n",
        ")\n"
      ],
      "execution_count": 59,
      "outputs": [
        {
          "output_type": "stream",
          "text": [
            "Epoch 1/9\n",
            "16/16 [==============================] - 2s 65ms/step - loss: 3.1583 - acc: 0.2971 - val_loss: 1.7780 - val_acc: 0.6210\n",
            "Epoch 2/9\n",
            "16/16 [==============================] - 1s 47ms/step - loss: 1.5509 - acc: 0.6847 - val_loss: 1.2999 - val_acc: 0.7070\n",
            "Epoch 3/9\n",
            "16/16 [==============================] - 1s 47ms/step - loss: 1.0595 - acc: 0.7740 - val_loss: 1.1197 - val_acc: 0.7580\n",
            "Epoch 4/9\n",
            "16/16 [==============================] - 1s 46ms/step - loss: 0.8302 - acc: 0.8197 - val_loss: 1.0160 - val_acc: 0.7740\n",
            "Epoch 5/9\n",
            "16/16 [==============================] - 1s 46ms/step - loss: 0.6514 - acc: 0.8599 - val_loss: 0.9469 - val_acc: 0.8030\n",
            "Epoch 6/9\n",
            "16/16 [==============================] - 1s 48ms/step - loss: 0.4970 - acc: 0.8963 - val_loss: 0.9072 - val_acc: 0.8060\n",
            "Epoch 7/9\n",
            "16/16 [==============================] - 1s 46ms/step - loss: 0.4126 - acc: 0.9126 - val_loss: 0.9000 - val_acc: 0.7970\n",
            "Epoch 8/9\n",
            "16/16 [==============================] - 1s 46ms/step - loss: 0.3442 - acc: 0.9283 - val_loss: 0.9284 - val_acc: 0.8050\n",
            "Epoch 9/9\n",
            "16/16 [==============================] - 1s 47ms/step - loss: 0.2817 - acc: 0.9392 - val_loss: 0.9034 - val_acc: 0.8120\n"
          ],
          "name": "stdout"
        },
        {
          "output_type": "execute_result",
          "data": {
            "text/plain": [
              "<keras.callbacks.History at 0x7efd6991cd90>"
            ]
          },
          "metadata": {
            "tags": []
          },
          "execution_count": 59
        }
      ]
    },
    {
      "cell_type": "code",
      "metadata": {
        "colab": {
          "base_uri": "https://localhost:8080/"
        },
        "id": "79t2dCn_YRco",
        "outputId": "5c146499-d621-42cf-a51e-007ed6851b13"
      },
      "source": [
        "results = model.evaluate(x_test, y_test)"
      ],
      "execution_count": 62,
      "outputs": [
        {
          "output_type": "stream",
          "text": [
            "71/71 [==============================] - 0s 2ms/step - loss: 0.9941 - acc: 0.7872\n"
          ],
          "name": "stdout"
        }
      ]
    },
    {
      "cell_type": "markdown",
      "metadata": {
        "id": "CV6vBFnbYRaZ"
      },
      "source": [
        "대략 78%의 정확도를 달성하였다. 균형 잡힌 이진 분류 문제에서 완전히 무작위로 분류하면 50%의 정확도를 달성한다. 이 문제는 불균형한 데이터셋을 사용하므로 무작위로 분류하면 18% 정도를 달성하는데 결과는 꽤 좋은 편이다."
      ]
    },
    {
      "cell_type": "code",
      "metadata": {
        "colab": {
          "base_uri": "https://localhost:8080/"
        },
        "id": "jXQYg0ugYRYf",
        "outputId": "e8e88d5c-dedb-40ec-e6e6-ad7f9bb7fe57"
      },
      "source": [
        "import copy\n",
        "test_labels_copy = copy.copy(test_labels)\n",
        "np.random.shuffle(test_labels_copy)\n",
        "hits_array = np.array(test_labels) == np.array(test_labels_copy)\n",
        "float(np.sum(hits_array)/len(test_labels))"
      ],
      "execution_count": 64,
      "outputs": [
        {
          "output_type": "execute_result",
          "data": {
            "text/plain": [
              "0.19991095280498664"
            ]
          },
          "metadata": {
            "tags": []
          },
          "execution_count": 64
        }
      ]
    },
    {
      "cell_type": "markdown",
      "metadata": {
        "id": "jRPpFKOBYRWA"
      },
      "source": [
        "## 새로운 데이터에 대해 예측하기"
      ]
    },
    {
      "cell_type": "code",
      "metadata": {
        "id": "_vfr0ggHYRTX"
      },
      "source": [
        "predictions = model.predict(x_test)"
      ],
      "execution_count": 66,
      "outputs": []
    },
    {
      "cell_type": "code",
      "metadata": {
        "colab": {
          "base_uri": "https://localhost:8080/"
        },
        "id": "7x6pgsBAYRQ2",
        "outputId": "f037f1c2-b3b6-4979-a83b-83fadc08f021"
      },
      "source": [
        "# predications[0].shape\n",
        "# sum(predication[0])\n",
        "np.argmax(predictions[0])"
      ],
      "execution_count": 69,
      "outputs": [
        {
          "output_type": "execute_result",
          "data": {
            "text/plain": [
              "3"
            ]
          },
          "metadata": {
            "tags": []
          },
          "execution_count": 69
        }
      ]
    },
    {
      "cell_type": "markdown",
      "metadata": {
        "id": "F8VO1DTqYRLa"
      },
      "source": [
        "### 레이블과 손실을 다루는 방법\n",
        "\n",
        "레이블을 정수 인코딩 하는 경우 정수 텐서로 변환이 필요한데\n",
        "\n",
        "y_train = np.array(train_labels)\n",
        "y_test = np.array(test_labels)\n",
        "\n",
        "이 방식을 사용하기 위해서 손실함수를 sparse_categorical_crossentropy를 사용해야한다.\n",
        "\n",
        "model.compile(optimizer='rmsprop',loss='sparse_categorical_crossentropy',metrics=['acc'])\n",
        "\n",
        "이 손실 함수는 인터페이스만 다르고 수학적으로는 categorical_crossentropy와 동일하다"
      ]
    },
    {
      "cell_type": "markdown",
      "metadata": {
        "id": "h0xCdL58hOxb"
      },
      "source": [
        "### 충분히 큰 중간층을 두어야 하는 이유\n",
        "\n",
        "마지막 출력이 46차원이기 때문에 히든 유닛이 46개보다 많이 적어서는 안된다. 46차원보다 훨씬 작은 중간층을 두면 병목이 발생한다.\n",
        "\n",
        "많은 정보(클래스 46개의 분할 초평면을 복원하기에 충분한 정보)를 중간층의 저차원 표현 공간으로 압축하려고 했기 때문이다. 필요한 정보를 저차원에서 모두 표현하지 못할 수 있다."
      ]
    },
    {
      "cell_type": "code",
      "metadata": {
        "id": "3hjIhZK7hOtz"
      },
      "source": [
        ""
      ],
      "execution_count": null,
      "outputs": []
    },
    {
      "cell_type": "code",
      "metadata": {
        "id": "kzsvDlM6hOrs"
      },
      "source": [
        ""
      ],
      "execution_count": null,
      "outputs": []
    },
    {
      "cell_type": "code",
      "metadata": {
        "id": "oAHkFSwDhOpf"
      },
      "source": [
        ""
      ],
      "execution_count": null,
      "outputs": []
    },
    {
      "cell_type": "code",
      "metadata": {
        "id": "HmaKU1lnhOnT"
      },
      "source": [
        ""
      ],
      "execution_count": null,
      "outputs": []
    },
    {
      "cell_type": "code",
      "metadata": {
        "id": "GwMPOrD8hOk5"
      },
      "source": [
        ""
      ],
      "execution_count": null,
      "outputs": []
    },
    {
      "cell_type": "code",
      "metadata": {
        "id": "G73Ob_gdhOiq"
      },
      "source": [
        ""
      ],
      "execution_count": null,
      "outputs": []
    },
    {
      "cell_type": "code",
      "metadata": {
        "id": "e6mAuI5hhOf3"
      },
      "source": [
        ""
      ],
      "execution_count": null,
      "outputs": []
    },
    {
      "cell_type": "code",
      "metadata": {
        "id": "54iuzvq7hOdN"
      },
      "source": [
        ""
      ],
      "execution_count": null,
      "outputs": []
    }
  ]
}